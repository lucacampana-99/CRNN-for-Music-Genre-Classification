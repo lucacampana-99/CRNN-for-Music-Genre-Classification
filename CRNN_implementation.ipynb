{
  "nbformat": 4,
  "nbformat_minor": 0,
  "metadata": {
    "colab": {
      "name": "ultimate.ipynb",
      "provenance": [],
      "collapsed_sections": [
        "slVQJpVe0Gdt",
        "n3MBMVUY7Zb_",
        "fKhFtKqk7uSk",
        "ps90K3DW8YX5",
        "QH0sh8U39Gxq",
        "OhmpHC8t9Dwd",
        "YhZUAZbU9wPJ",
        "5S2s55vt94ML",
        "2Y7t_KUe-IbT",
        "Kkw6qyjy-fpu",
        "umipE7Ge_G7P",
        "UOe9D1lD_XMf",
        "0KguBxbw_kO5",
        "InynayRW_xPY",
        "UDvlGDYa_8Yw"
      ]
    },
    "kernelspec": {
      "name": "python3",
      "display_name": "Python 3"
    },
    "language_info": {
      "name": "python"
    },
    "accelerator": "GPU"
  },
  "cells": [
    {
      "cell_type": "markdown",
      "metadata": {
        "id": "slVQJpVe0Gdt"
      },
      "source": [
        "# **NEEDED LIBRARIES IMPORT**"
      ]
    },
    {
      "cell_type": "code",
      "metadata": {
        "id": "HUqFo9gd4AiF",
        "colab": {
          "base_uri": "https://localhost:8080/"
        },
        "outputId": "c0ad8c3b-85a8-4909-a000-dc6f53138477"
      },
      "source": [
        "!pip install pytube\n",
        " \n",
        "from pytube import YouTube\n",
        "import os\n",
        "import dill\n",
        "import random\n",
        "import itertools\n",
        "import math\n",
        " \n",
        "from scipy import stats\n",
        "import numpy as np\n",
        "from numpy.random import RandomState\n",
        "import pandas as pd\n",
        "import matplotlib.pyplot as plt\n",
        " \n",
        "import librosa\n",
        "import librosa.display\n",
        " \n",
        "from sklearn.model_selection import train_test_split\n",
        "from sklearn import preprocessing\n",
        "from sklearn.metrics import confusion_matrix, classification_report, f1_score\n",
        "from sklearn.utils import shuffle\n",
        " \n",
        "import torch.nn as nn \n",
        "import torch\n",
        "from torch.utils.data import DataLoader, TensorDataset, Dataset\n",
        " \n",
        "from google.colab import drive\n",
        " \n",
        "from tqdm import tqdm"
      ],
      "execution_count": null,
      "outputs": [
        {
          "output_type": "stream",
          "text": [
            "Requirement already satisfied: pytube in /usr/local/lib/python3.7/dist-packages (10.9.2)\n"
          ],
          "name": "stdout"
        }
      ]
    },
    {
      "cell_type": "markdown",
      "metadata": {
        "id": "aI7fLtDE7FdQ"
      },
      "source": [
        "# **DECLARATION OF USEFUL CLASSES/METHODS**"
      ]
    },
    {
      "cell_type": "markdown",
      "metadata": {
        "id": "n3MBMVUY7Zb_"
      },
      "source": [
        "## **DATASET IMPORT/UNZIP**"
      ]
    },
    {
      "cell_type": "code",
      "metadata": {
        "id": "hN71CFscHzcP"
      },
      "source": [
        "import os\n",
        "import tarfile\n",
        "import zipfile\n",
        "\n",
        "def extract_file(path, to_directory='.'):\n",
        "    opener, mode = tarfile.open, 'r:gz'\n",
        "    cwd = os.getcwd()\n",
        "    os.chdir(to_directory)\n",
        "\n",
        "    try:\n",
        "        file = opener(path, mode)\n",
        "        try: file.extractall()\n",
        "        finally: file.close()\n",
        "    finally:\n",
        "        os.chdir(cwd)"
      ],
      "execution_count": null,
      "outputs": []
    },
    {
      "cell_type": "markdown",
      "metadata": {
        "id": "fKhFtKqk7uSk"
      },
      "source": [
        "## **AUDIO CONVERSION INTO SPECTROGRAMS AND DATA AUGMENTATION**"
      ]
    },
    {
      "cell_type": "code",
      "metadata": {
        "id": "owRfNfpObhlF"
      },
      "source": [
        "def create_dataset_gtzan(genre_folder='artists', save_folder='song_data',\n",
        "                        sr=22050, n_mels=128,\n",
        "                        n_fft=2048, hop_length=512,pitch_v=[1],noise_v=[1]):\n",
        "    \"\"\"This function creates the dataset given a folder\n",
        "     with the correct structure (genres/*.mp3)\n",
        "    and saves it to a specified folder.\n",
        "    Moreover, it also generates augmented data.\"\"\"\n",
        "    def manipulate(data, sampling_rate, pitch_factor):\n",
        "      return librosa.effects.pitch_shift(data, sampling_rate, pitch_factor)\n",
        "    \n",
        "    def manipulite(data, noise_factor):\n",
        "      noise = np.random.randn(len(data))\n",
        "      augmented_data = data + noise_factor * noise\n",
        "      # Cast back to same data type\n",
        "      augmented_data = augmented_data.astype(type(data[0]))\n",
        "      return augmented_data\n",
        "\n",
        "    # get list of all genres\n",
        "    os.makedirs(save_folder, exist_ok=True)\n",
        "    genres = [path for path in os.listdir(genre_folder) if\n",
        "              not path.endswith('.mf')]\n",
        "    \n",
        "    # iterate through all genres, songs and find mel spectrogram\n",
        "    for genre in genres:\n",
        "        print(genre)\n",
        "        genre_path = os.path.join(genre_folder, genre)\n",
        "        genre_songs = os.listdir(genre_path)\n",
        "\n",
        "        for song in genre_songs:\n",
        "          song_path = os.path.join(genre_path, song)\n",
        "          augmentation = False\n",
        "          # Create mel spectrogram and convert it to the log scale\n",
        "          y, sr = librosa.load(song_path, sr=sr)\n",
        "          S = librosa.feature.melspectrogram(y, sr=sr, n_mels=n_mels,\n",
        "                                                   n_fft=n_fft,\n",
        "                                                   hop_length=hop_length)\n",
        "          log_S = librosa.amplitude_to_db(S)\n",
        "          data = (genre, log_S, song, augmentation)\n",
        "\n",
        "          # Save each song, plus its augmented forms\n",
        "          save_name = genre + '_%%-%%_' + song\n",
        "          with open(os.path.join(save_folder, save_name), 'wb') as fp:\n",
        "              dill.dump(data, fp)\n",
        "            \n",
        "          for d in pitch_v:\n",
        "            y_pitch = manipulate(y, sampling_rate=sr, pitch_factor=d)\n",
        "            S = librosa.feature.melspectrogram(y_pitch, sr=sr, n_mels=n_mels,\n",
        "                                             n_fft=n_fft,\n",
        "                                             hop_length=hop_length)\n",
        "            log_S = librosa.amplitude_to_db(S)\n",
        "            augmentation = True\n",
        "            data = (genre, log_S, song, augmentation)\n",
        "            save_name = genre + '_%%-%%_' + song +\"aug_pitch_\"+ str(d)\n",
        "            with open(os.path.join(save_folder, save_name), 'wb') as fp:\n",
        "              dill.dump(data, fp)\n",
        "\n",
        "          for d in noise_v:\n",
        "            y_noise = manipulite(y,noise_factor=d)\n",
        "            S = librosa.feature.melspectrogram(y_noise, sr=sr, n_mels=n_mels,\n",
        "                                             n_fft=n_fft,\n",
        "                                             hop_length=hop_length)\n",
        "            log_S = librosa.amplitude_to_db(S)\n",
        "            augmentation = True\n",
        "            data = (genre, log_S, song, augmentation)\n",
        "            save_name = genre + '_%%-%%_' + song +\"aug_noise_\"+str(d)\n",
        "            with open(os.path.join(save_folder, save_name), 'wb') as fp:\n",
        "              dill.dump(data, fp)\n"
      ],
      "execution_count": null,
      "outputs": []
    },
    {
      "cell_type": "code",
      "metadata": {
        "id": "x2nMW_klB6MN"
      },
      "source": [
        "def load_ds_gtzan(song_folder_name='/content/song_data'):\n",
        "\n",
        "  \"\"\"Import spectrograms into in-ambient variables\"\"\"\n",
        "  \n",
        "  song_list = os.listdir(song_folder_name)\n",
        "  genres, spectros, song_names, augmentation = [], [], [], []\n",
        "  pbar = tqdm(total=len(song_list), desc=\"Loading from the folder\")\n",
        "  for i,song in enumerate(song_list):\n",
        "    \n",
        "    with open(os.path.join(song_folder_name, song), 'rb') as fp:\n",
        "      loaded_song = dill.load(fp)\n",
        "      genres.append(loaded_song[0])\n",
        "      spectros.append(loaded_song[1])\n",
        "      song_names.append(loaded_song[2])\n",
        "      augmentation.append(loaded_song[3])\n",
        "    pbar.update(1)\n",
        "  pbar.close()\n",
        "\n",
        "\n",
        "  return genres, spectros, song_names, augmentation"
      ],
      "execution_count": null,
      "outputs": []
    },
    {
      "cell_type": "markdown",
      "metadata": {
        "id": "ps90K3DW8YX5"
      },
      "source": [
        "##**DATA PREPARATION: SLICE INTO TIME INTERVALS, SPLIT INTO TRAIN/TEST/VAL**"
      ]
    },
    {
      "cell_type": "code",
      "metadata": {
        "id": "tU8y0jdxEyj7"
      },
      "source": [
        "def slice_songs_gtzan(X, Y, S, length=911):\n",
        "    \"\"\"Slices the spectrogram into sub-spectrograms according to length\"\"\"\n",
        "\n",
        "    # Create empty lists for train and test sets\n",
        "    genre = []\n",
        "    spectrogram = []\n",
        "    song_name = []\n",
        "\n",
        "    # Slice up songs using the length specified\n",
        "    for i, song in enumerate(X):\n",
        "      \n",
        "      if song.shape[1]>938:\n",
        "        song = song[:, :938]\n",
        "\n",
        "      slices = int(song.shape[1] / length)\n",
        "      if slices>1:\n",
        "        for j in range(slices):\n",
        "            spectrogram.append(song[:, length * j:length * (j + 1)])\n",
        "            genre.append(Y[i])\n",
        "            song_name.append(S[i])\n",
        "      else:\n",
        "        spectrogram.append(song[:, 0:length])\n",
        "        genre.append(Y[i])\n",
        "        song_name.append(S[i])\n",
        "      \n",
        "    return np.array(spectrogram), np.array(genre), np.array(song_name)"
      ],
      "execution_count": null,
      "outputs": []
    },
    {
      "cell_type": "code",
      "metadata": {
        "id": "bOeD4i7tUPZm"
      },
      "source": [
        "def remove_augmented(X,Y,S,D):\n",
        "\n",
        "  spectros, genres, names, augm = [], [], [], []\n",
        "\n",
        "  for x,y,s,d in zip(X,Y,S,D):\n",
        "    if not d:\n",
        "      spectros.append(x)\n",
        "      genres.append(y)\n",
        "      names.append(s)\n",
        "      augm.append(d)\n",
        "\n",
        "  return spectros,genres,names,augm\n"
      ],
      "execution_count": null,
      "outputs": []
    },
    {
      "cell_type": "code",
      "metadata": {
        "id": "d09WQz5OrW52"
      },
      "source": [
        "def split_ds(Y,X,S,D,test_split_size,random_state=42,all_train=False):\n",
        "  \n",
        "  XnoAug,YnoAug,SnoAug,DnoAug = remove_augmented(X, Y, S, D)\n",
        "  X_train,X_test,Y_train,Y_test,S_train,S_test, D_train, D_test = train_test_split(XnoAug,YnoAug,SnoAug,DnoAug, test_size=test_split_size, random_state = random_state, stratify=YnoAug)\n",
        "  if(all_train):\n",
        "\n",
        "    X_val,Y_val,S_val, D_val=X_test,Y_test,S_test,D_test\n",
        "\n",
        "  else:\n",
        "    X_train,X_val,Y_train,Y_val,S_train,S_val, D_train, D_val = train_test_split(X_train, Y_train, S_train, D_train, test_size=test_split_size, random_state = random_state, stratify=Y_train)\n",
        "  \n",
        "  X_tr, Y_tr, S_tr, D_tr = [], [], [], []\n",
        "\n",
        "  for x,y,s,d in zip(X, Y, S, D):\n",
        "    if s in S_train:\n",
        "      X_tr.append(x)\n",
        "      Y_tr.append(y)\n",
        "      S_tr.append(s)\n",
        "      D_tr.append(d)\n",
        "  \n",
        "  X_tr, Y_tr, S_tr, D_tr = shuffle(X_tr, Y_tr, S_tr, D_tr, random_state=42)\n",
        "\n",
        "  return X_tr,Y_tr,S_tr,D_tr,X_test,Y_test,S_test,D_test,X_val,Y_val,S_val,D_val,S\n",
        "\n",
        "def encode_labels_linear(Y, le=None):\n",
        "  \"\"\"Encodes target variables into numbers\"\"\"\n",
        "  if le is None:\n",
        "      le = preprocessing.LabelEncoder()\n",
        "      Y_le = le.fit_transform(Y)\n",
        "  else:\n",
        "      Y_le = le.transform(Y)\n",
        "  return Y_le, le"
      ],
      "execution_count": null,
      "outputs": []
    },
    {
      "cell_type": "markdown",
      "metadata": {
        "id": "QTiqItsK8uJv"
      },
      "source": [
        "## **MODEL DECLARATION**"
      ]
    },
    {
      "cell_type": "markdown",
      "metadata": {
        "id": "QH0sh8U39Gxq"
      },
      "source": [
        "### **ARCHITECTURE**"
      ]
    },
    {
      "cell_type": "code",
      "metadata": {
        "id": "zfu9cMIaPxMD"
      },
      "source": [
        "class CRNN(nn.Module):\n",
        "\n",
        "    def __init__(self, img_channel, img_height, img_width, num_class,\n",
        "                 map_to_seq_hidden=64, rnn_hidden=256, leaky_relu=False):\n",
        "        super(CRNN, self).__init__()\n",
        "\n",
        "\n",
        "        self.cnn, (output_channel, output_height, output_width) = \\\n",
        "            self._cnn_backbone(img_channel, img_height, img_width)\n",
        "\n",
        "        self.rec1 = nn.GRU(output_channel*output_height*output_width,10, bidirectional=True)\n",
        "        self.rec2 = nn.GRU(20,num_class, bidirectional=False)\n",
        "        self.drop_final = nn.Dropout(.3)\n",
        "        self.dense = nn.Linear(10,10)\n",
        "\n",
        "    def _cnn_backbone(self, img_channel, img_height, img_width):\n",
        "\n",
        "        channels = [img_channel, 64, 128, 128, 128, 128]\n",
        "        kernel_sizes = (3,3) \n",
        "        pool_sizes = [(2, 2), (4, 2), (4, 2), (4, 2), (1, 2)]  # size of pooling area\n",
        "\n",
        "\n",
        "        cnn = nn.Sequential()\n",
        "\n",
        "        def conv_elu(i):\n",
        "            # shape of input: (batch, input_channel, height, width)\n",
        "            input_channel = channels[i]\n",
        "            output_channel = channels[i+1]\n",
        "\n",
        "            cnn.add_module(\n",
        "                f'conv{i}',\n",
        "                nn.Conv2d(input_channel, output_channel, kernel_sizes, padding=1)\n",
        "            )\n",
        "\n",
        "            elu = nn.ELU() \n",
        "            cnn.add_module(f'elu{i}', elu)\n",
        "\n",
        "            cnn.add_module(f'batchnorm{i}', nn.BatchNorm2d(output_channel))\n",
        "\n",
        "            cnn.add_module(f'pooling{i}', nn.MaxPool2d(kernel_size=pool_sizes[i]))\n",
        "\n",
        "            cnn.add_module(f'dropout{i}', nn.Dropout(0.1))\n",
        "\n",
        "\n",
        "        # size of image: (channel, height, width) = (img_channel, img_height, img_width)\n",
        "        cnn.add_module(f'batchnorm_initial', nn.BatchNorm2d(img_channel))\n",
        "\n",
        "        conv_elu(0)\n",
        "\n",
        "        conv_elu(1)\n",
        "\n",
        "        conv_elu(2)\n",
        "\n",
        "        conv_elu(3)\n",
        "\n",
        "        conv_elu(4)\n",
        "\n",
        "\n",
        "        def compute_dims(dim_in, kernel_dim):\n",
        "          h_old = dim_in[0]\n",
        "          w_old = dim_in[1]\n",
        "\n",
        "          h_new = math.floor((h_old-(kernel_dim[0]-1)-1)/kernel_dim[0] + 1)\n",
        "          w_new = math.floor((w_old-(kernel_dim[1]-1)-1)/kernel_dim[1] + 1)\n",
        "\n",
        "          return (h_new, w_new)\n",
        "        \n",
        "        output_channel = channels[-1]\n",
        "        output_height, output_width = compute_dims(compute_dims(compute_dims(compute_dims(compute_dims((img_height, img_width), pool_sizes[0]), pool_sizes[1]), pool_sizes[2]), pool_sizes[3]), pool_sizes[4])\n",
        "        return cnn, (output_channel, output_height, output_width)\n",
        "\n",
        "\n",
        "\n",
        "    def forward(self, images):\n",
        "        # shape of images: (batch, channel, height, width)\n",
        "        torch.cuda.empty_cache()\n",
        "        \n",
        "        conv = self.cnn(images)\n",
        "        \n",
        "        batch, channel, height, width = conv.size()\n",
        "        conv = conv.reshape(batch, channel * width,height ).permute(0,2,1)\n",
        "        \n",
        "        conv, _ = self.rec1(conv)\n",
        "        \n",
        "        conv, _ = self.rec2(conv)\n",
        "  \n",
        "        conv = self.drop_final(conv)\n",
        "        \n",
        "    \n",
        "        conv = self.dense(conv)\n",
        "        \n",
        "        return conv\n",
        "        del conv"
      ],
      "execution_count": null,
      "outputs": []
    },
    {
      "cell_type": "markdown",
      "metadata": {
        "id": "OhmpHC8t9Dwd"
      },
      "source": [
        "### **DATASET IMPLEMENTATION (SUITED FOR BATCH DIVISION)**"
      ]
    },
    {
      "cell_type": "code",
      "metadata": {
        "id": "V2Mo-rR1mi9q"
      },
      "source": [
        "class GTZANDataset(Dataset):\n",
        "\n",
        "    CHARS = ['country','jazz','blues','reggae','disco','pop','classical','rock','metal','hiphop']\n",
        "    CHAR2LABEL = {char: i + 1 for i, char in enumerate(CHARS)}\n",
        "    LABEL2CHAR = {label: char for char, label in CHAR2LABEL.items()}\n",
        "\n",
        "    def __init__(self, X,Y,S, root_dir=None, mode=None, paths=None):\n",
        "\n",
        "        self.paths = S\n",
        "        self.labels = Y\n",
        "        self.texts = X\n",
        "        self.img_height = X.shape[2]\n",
        "        self.img_width = X.shape[3]\n",
        "\n",
        "    def __len__(self):\n",
        "        return len(self.paths)\n",
        "\n",
        "    def __getitem__(self, index):\n",
        "\n",
        "      return self.texts[index], self.labels[index]\n"
      ],
      "execution_count": null,
      "outputs": []
    },
    {
      "cell_type": "markdown",
      "metadata": {
        "id": "YhZUAZbU9wPJ"
      },
      "source": [
        "### **EARLY STOPPING**"
      ]
    },
    {
      "cell_type": "code",
      "metadata": {
        "id": "b6WlPNq3D01f"
      },
      "source": [
        "class EarlyStopping:\n",
        "    \"\"\"Early stops the training if validation loss doesn't improve after a given patience.\"\"\"\n",
        "    def __init__(self, patience=10, verbose=True, delta=0, path='checkpoints/last.pt', trace_func=print):\n",
        "        \"\"\"\n",
        "        Args:\n",
        "            patience (int): How long to wait after last time validation loss improved.\n",
        "                            Default: 7\n",
        "            verbose (bool): If True, prints a message for each validation loss improvement. \n",
        "                            Default: False\n",
        "            delta (float): Minimum change in the monitored quantity to qualify as an improvement.\n",
        "                            Default: 0\n",
        "            path (str): Path for the checkpoint to be saved to.\n",
        "                            Default: 'checkpoint.pt'\n",
        "            trace_func (function): trace print function.\n",
        "                            Default: print            \n",
        "        \"\"\"\n",
        "        self.patience = patience\n",
        "        self.verbose = verbose\n",
        "        self.counter = 0\n",
        "        self.best_score = None\n",
        "        self.early_stop = False\n",
        "        self.val_loss_min = np.Inf\n",
        "        self.delta = delta\n",
        "        self.path = path\n",
        "        self.trace_func = trace_func\n",
        "    def __call__(self, val_loss, model):\n",
        "\n",
        "        score = -val_loss\n",
        "\n",
        "        if self.best_score is None:\n",
        "            self.best_score = score\n",
        "            self.save_checkpoint(val_loss, model)\n",
        "        elif score < self.best_score + self.delta:\n",
        "            self.counter += 1\n",
        "            self.trace_func(f'EarlyStopping counter: {self.counter} out of {self.patience}')\n",
        "            if self.counter >= self.patience:\n",
        "                self.early_stop = True\n",
        "        else:\n",
        "            self.best_score = score\n",
        "            self.save_checkpoint(val_loss, model)\n",
        "            self.counter = 0\n",
        "\n",
        "    def save_checkpoint(self, val_loss, model):\n",
        "        '''Saves model when validation loss decrease.'''\n",
        "        if self.verbose:\n",
        "            self.trace_func(f'Validation loss decreased ({self.val_loss_min:.6f} --> {val_loss:.6f}).  Saving model ...')\n",
        "        torch.save(model.state_dict(), self.path)\n",
        "        self.val_loss_min = val_loss"
      ],
      "execution_count": null,
      "outputs": []
    },
    {
      "cell_type": "markdown",
      "metadata": {
        "id": "5S2s55vt94ML"
      },
      "source": [
        "### **USEFUL NETWORK METHODS**"
      ]
    },
    {
      "cell_type": "code",
      "metadata": {
        "id": "UR3qWLuEM1PQ"
      },
      "source": [
        "def train_batch(crnn, data, optimizer, criterion, device):\n",
        "    crnn.train()\n",
        "    images, targets= [d.to(device) for d in data]\n",
        "    \n",
        "    logits = torch.cuda.FloatTensor(crnn(images)).requires_grad_().to(device)\n",
        "\n",
        "    reshaped_l = torch.as_tensor(logits.reshape(logits.shape[0],(logits.shape[1]*logits.shape[2])))\n",
        "    \n",
        "    loss = criterion(reshaped_l.to(device), targets.reshape(targets.shape[0]*targets.shape[1]).to(device))\n",
        "\n",
        "    optimizer.zero_grad()\n",
        "    loss.backward()\n",
        "    optimizer.step()\n",
        "    return loss.item()\n",
        "\n",
        "def evaluate(crnn, dataloader, criterion,\n",
        "             max_iter=None):\n",
        "    crnn.eval()\n",
        "\n",
        "    tot_count = 0\n",
        "    tot_loss = 0\n",
        "    tot_correct = 0\n",
        "    wrong_cases = []\n",
        "    all_reals, all_preds = [],[]\n",
        "\n",
        "    pbar_total = max_iter if max_iter else len(dataloader)\n",
        "    pbar = tqdm(total=pbar_total, desc=\"Evaluate\")\n",
        "\n",
        "    with torch.no_grad():\n",
        "        for i, data in enumerate(dataloader):\n",
        "            if max_iter and i >= max_iter:\n",
        "                break\n",
        "            device = 'cuda' if next(crnn.parameters()).is_cuda else 'cpu'\n",
        "\n",
        "            images, targets = [d.to(device) for d in data]\n",
        "\n",
        "            logits = torch.cuda.FloatTensor(crnn(images)).requires_grad_().to(device)\n",
        "\n",
        "            reshaped_l = torch.as_tensor(logits.reshape(logits.shape[0],(logits.shape[1]*logits.shape[2])))\n",
        "            \n",
        "            loss = criterion(reshaped_l.to(device), targets.reshape(targets.shape[0]*targets.shape[1]).to(device))\n",
        "\n",
        "            preds = [np.argmax(log.cpu()) for log in logits]\n",
        "            reals = targets.cpu().numpy().tolist()\n",
        "\n",
        "            batch_size = targets.shape[0]\n",
        "            tot_count += batch_size\n",
        "            tot_loss += loss.item()\n",
        "            all_reals += reals\n",
        "            all_preds += preds\n",
        "\n",
        "\n",
        "            pbar.update(1)\n",
        "        pbar.close()\n",
        "    acc = f1_score(all_reals, all_preds, average='weighted')    \n",
        "    evaluation = {\n",
        "        'loss': tot_loss / tot_count,\n",
        "        'acc': acc,\n",
        "        'wrong_cases': wrong_cases\n",
        "    }\n",
        "    return evaluation"
      ],
      "execution_count": null,
      "outputs": []
    },
    {
      "cell_type": "code",
      "metadata": {
        "id": "CMrNvmnAd9Hx"
      },
      "source": [
        "def predict(crnn, dataloader):\n",
        "    crnn.eval()\n",
        "    pbar = tqdm(total=len(dataloader), desc=\"Predict\")\n",
        "\n",
        "    all_preds = []\n",
        "    all_targets=[]\n",
        "    with torch.no_grad():\n",
        "        for data in dataloader:\n",
        "            device = 'cuda' if next(crnn.parameters()).is_cuda else 'cpu'\n",
        "\n",
        "            images, target = [f.to(device) for f in data]\n",
        "\n",
        "            logits = crnn(images)\n",
        "            preds=[np.argmax(log.cpu()) for log in logits]\n",
        "\n",
        "            all_preds += preds\n",
        "            all_targets += target.cpu()\n",
        "            \n",
        "\n",
        "            pbar.update(1)\n",
        "        pbar.close()\n",
        "\n",
        "    return all_preds, all_targets"
      ],
      "execution_count": null,
      "outputs": []
    },
    {
      "cell_type": "markdown",
      "metadata": {
        "id": "2Y7t_KUe-IbT"
      },
      "source": [
        "## **FULL TRAIN/EVALUATION FUNCTION**"
      ]
    },
    {
      "cell_type": "code",
      "metadata": {
        "id": "b6CDgbImx4mk"
      },
      "source": [
        "def train_model(slice_len, random_state, X, Y, S, D, final=False):\n",
        "\n",
        "  def train_actual():\n",
        "\n",
        "    assert save_interval % valid_interval == 0\n",
        "    i = 1\n",
        "    early_stopping = EarlyStopping(patience=patience, verbose=True)\n",
        "    for epoch in range(1, epochs + 1):\n",
        "        print(f'epoch: {epoch}')\n",
        "        tot_train_loss = 0.\n",
        "        tot_train_count = 0\n",
        "        for train_data in train_loader:\n",
        "            loss = train_batch(crnn, train_data, optimizer, criterion, device)\n",
        "            train_size = train_data[0].size(0)\n",
        "            tot_train_loss += loss\n",
        "            tot_train_count += train_size\n",
        "            if i % show_interval == 0:\n",
        "                    print('train_batch_loss[', i, ']: ', loss / train_size)\n",
        "\n",
        "            if i % valid_interval == 0:\n",
        "                evaluation = evaluate(crnn, valid_loader, criterion)\n",
        "                print('valid_evaluation: loss = {loss}, acc = {acc}'.format(**evaluation))\n",
        "                loss_val = evaluation['loss']\n",
        "\n",
        "                if i % save_interval == 0:\n",
        "                  prefix = 'crnn'\n",
        "                  save_model_path = os.path.join(checkpoints_dir, f'{prefix}_{i:06}_acc{evaluation[\"acc\"]}.pt')\n",
        "                  torch.save(crnn.state_dict(), save_model_path)\n",
        "                  print('save model at ', save_model_path)\n",
        "\n",
        "                early_stopping(loss_val, crnn)\n",
        "            i += 1\n",
        "        print('train_loss: ', tot_train_loss / tot_train_count)\n",
        "\n",
        "        if early_stopping.early_stop:\n",
        "          print(\"Early stopping\")\n",
        "          break\n",
        "\n",
        "  print(f'Current trial: slice_length = {slice_len}; random_state = {random_state}')\n",
        "\n",
        "  Xa,Ya,Sa,Da,Xb,Yb,Sb,Db,Xc,Yc,Sc,Dc,Name_song = split_ds(Y,X,S,D , 0.1,all_train=False, random_state = random_state)\n",
        "  \n",
        "  X_sliced_training, Y_sliced_training, S_sliced_training = slice_songs_gtzan(Xa,Ya,Sa,slice_len)\n",
        "  X_sliced_test, Y_sliced_test, S_sliced_test = slice_songs_gtzan(Xb,Yb,Sb,slice_len)\n",
        "  X_sliced_val, Y_sliced_val, S_sliced_val = slice_songs_gtzan(Xc,Yc,Sc,slice_len)\n",
        "\n",
        "  X_sliced_training = X_sliced_training.reshape(X_sliced_training.shape + (1,))\n",
        "  X_sliced_test = X_sliced_test.reshape(X_sliced_test.shape + (1,))\n",
        "  X_sliced_val = X_sliced_val.reshape(X_sliced_val.shape + (1,))\n",
        "\n",
        "  X_sliced_training = torch.from_numpy(X_sliced_training).permute(0,3,1,2).cuda()\n",
        "  X_sliced_test = torch.from_numpy(X_sliced_test).permute(0,3,1,2).cuda()\n",
        "  X_sliced_val = torch.from_numpy(X_sliced_val).permute(0,3,1,2).cuda()\n",
        "\n",
        "  Y_sliced_enc_training, le = encode_labels_linear(Y_sliced_training)\n",
        "  Y_sliced_enc_test, le = encode_labels_linear(Y_sliced_test, le)\n",
        "  Y_sliced_enc_val, le = encode_labels_linear(Y_sliced_val, le)\n",
        "\n",
        "  Y_sliced_enc_training = torch.from_numpy(Y_sliced_enc_training).reshape(Y_sliced_enc_training.shape + (1,))\n",
        "  Y_sliced_enc_test = torch.from_numpy(Y_sliced_enc_test).reshape(Y_sliced_enc_test.shape + (1,))\n",
        "  Y_sliced_enc_val = torch.from_numpy(Y_sliced_enc_val).reshape(Y_sliced_enc_val.shape + (1,))\n",
        "\n",
        "  S_sliced_training = np.asarray(S_sliced_training).reshape((S_sliced_training.shape[0],1))\n",
        "  S_sliced_test = np.asarray(S_sliced_test).reshape((S_sliced_test.shape[0],1))\n",
        "  S_sliced_val = np.asarray(S_sliced_val).reshape((S_sliced_val.shape[0],1))\n",
        "\n",
        "  !rm -r checkpoints/\n",
        "  !mkdir checkpoints/\n",
        "\n",
        "  epochs = 10000\n",
        "  train_batch_size = 32\n",
        "  eval_batch_size = 32\n",
        "  predict_batch_size = 32\n",
        "  lr = .0001\n",
        "  show_interval = 100\n",
        "  valid_interval = math.ceil(Y_sliced_training.shape[0]/train_batch_size)\n",
        "  save_interval = valid_interval\n",
        "  cpu_workers = 0\n",
        "  reload_checkpoint = None\n",
        "  valid_max_iter = 100\n",
        "  checkpoints_dir = 'checkpoints/'\n",
        "  img_width = X_sliced_training.shape[3]\n",
        "  img_height = X_sliced_training.shape[2]\n",
        "  img_channel = X_sliced_training.shape[1]\n",
        "  patience=10\n",
        "  device = torch.device('cuda' if torch.cuda.is_available() else 'cpu')\n",
        "  # device = torch.device('cpu')\n",
        "  print(f'device: {device}')\n",
        "\n",
        "  train_dataset = GTZANDataset(X_sliced_training,Y_sliced_enc_training,S_sliced_training)\n",
        "  valid_dataset = GTZANDataset(X_sliced_test,Y_sliced_enc_test,S_sliced_test)\n",
        "  train_loader = DataLoader(\n",
        "      dataset=train_dataset,\n",
        "      batch_size=train_batch_size,\n",
        "      shuffle=True,\n",
        "      num_workers=cpu_workers)\n",
        "  valid_loader = DataLoader(\n",
        "      dataset=valid_dataset,\n",
        "      batch_size=eval_batch_size,\n",
        "      shuffle=True,\n",
        "      num_workers=cpu_workers)\n",
        "  num_class = 10\n",
        "\n",
        "  crnn = CRNN(img_channel,img_height,img_width,num_class)\n",
        "  # if reload_checkpoint:\n",
        "  #     crnn.load_state_dict(torch.load(reload_checkpoint, map_location=device))\n",
        "  crnn.to(device)\n",
        "  optimizer = torch.optim.Adam(crnn.parameters(), lr=lr)\n",
        "  criterion = nn.CrossEntropyLoss(reduction='sum')\n",
        "  criterion.to(device)\n",
        "\n",
        "  train_actual()\n",
        "\n",
        "  predict_dataset = GTZANDataset(X_sliced_val,Y_sliced_enc_val,S_sliced_val)\n",
        "  predict_loader = DataLoader( dataset=predict_dataset,\n",
        "      batch_size=predict_batch_size,\n",
        "      shuffle=False)\n",
        "\n",
        "  crnn.load_state_dict(torch.load(\"checkpoints/last.pt\", map_location=device))\n",
        "  preds, targets = [], []\n",
        "  preds,targets = predict(crnn, predict_loader)\n",
        "  preds= [int(pred) for pred in preds]\n",
        "  targets= [int(target) for target in targets]\n",
        "\n",
        "  score = f1_score(targets, preds, average='weighted')\n",
        "\n",
        "  print(f'F1 without majority = {score}')\n",
        "  for name in np.unique(S_sliced_val):\n",
        "    listadinumeri=[p for p, n in zip(preds,S_sliced_val)if n==name ]\n",
        "    moda=int(stats.mode(listadinumeri)[0])\n",
        "    i=0\n",
        "    for pr, na in zip(preds,S_sliced_val):\n",
        "      if na==name:\n",
        "        preds[i]=moda\n",
        "      i=i+1\n",
        "  \n",
        "  score2 = f1_score(targets, preds, average='weighted')\n",
        "  print(f'F1 with majority = {score2}')\n",
        "\n",
        "  if final:\n",
        "    return crnn, preds, targets, le, X_sliced_val, Y_sliced_enc_val, S_sliced_val\n",
        "\n",
        "  else:\n",
        "    return (slice_len, (score, score2))\n",
        "\n"
      ],
      "execution_count": null,
      "outputs": []
    },
    {
      "cell_type": "markdown",
      "metadata": {
        "id": "Kkw6qyjy-fpu"
      },
      "source": [
        "## **VISUALIZATION FUNCTIONS**"
      ]
    },
    {
      "cell_type": "code",
      "metadata": {
        "id": "fhX_A9WWEsIx"
      },
      "source": [
        "def compute_top2(X,Y,S,model):\n",
        "  predict_dataset = GTZANDataset(X,Y,S)\n",
        "  predict_loader = DataLoader(dataset=predict_dataset,\n",
        "      batch_size=32,\n",
        "      shuffle=False)\n",
        "\n",
        "  preds, targets = [], []\n",
        "  preds,targets = predict(model, predict_loader)\n",
        "  preds= [int(pred) for pred in preds]\n",
        "  targets= [int(target) for target in targets]\n",
        "\n",
        "  for name in np.unique(S):\n",
        "    listadinumeri=[p for p, n in zip(preds,S) if n==name]\n",
        "    uni,e= np.unique(np.array(listadinumeri),return_counts=True)\n",
        "\n",
        "    Z = [x for _,x in sorted(zip(e,uni),reverse=True)]\n",
        "    dimension=len(Z)\n",
        "    if(dimension>=2):\n",
        "      top=Z[:2]\n",
        "    else:\n",
        "      top=Z\n",
        "\n",
        "    i=0\n",
        "    for pr, na in zip(preds,S):\n",
        "      if na==name:\n",
        "        preds[i]=top\n",
        "      i=i+1\n",
        "\n",
        "  i=0\n",
        "  for pr,gt in zip(preds,targets):\n",
        "    if (gt in pr):\n",
        "      preds[i]=targets[i]\n",
        "    else:\n",
        "      preds[i]=preds[i][0]\n",
        "    i=i+1\n",
        "  return f1_score(targets, preds, average='weighted')\n",
        "\n",
        "\n",
        "  \n",
        "def compute_top3(X,Y,S,model):\n",
        "  predict_dataset = GTZANDataset(X,Y,S)\n",
        "  predict_loader = DataLoader(dataset=predict_dataset,\n",
        "      batch_size=32,\n",
        "      shuffle=False)\n",
        "\n",
        "  preds, targets = [], []\n",
        "  preds,targets = predict(model, predict_loader)\n",
        "  preds= [int(pred) for pred in preds]\n",
        "  targets= [int(target) for target in targets]\n",
        "\n",
        "  for name in np.unique(S_sliced_val):\n",
        "    listadinumeri=[p for p, n in zip(preds,S_sliced_val)if n==name ]\n",
        "    uni,e= np.unique(np.array(listadinumeri),return_counts=True)\n",
        "\n",
        "    Z = [x for _,x in sorted(zip(e,uni),reverse=True)]\n",
        "\n",
        "    dimension=len(Z)\n",
        "    if(dimension>=3):\n",
        "      top=Z[:3]\n",
        "    if(dimension==2):\n",
        "      top=Z[:2]\n",
        "    if(dimension==1):\n",
        "      top=Z\n",
        "   \n",
        "\n",
        "    #moda=int(stats.mode(listadinumeri)[0])\n",
        "    i=0\n",
        "    for pr, na in zip(preds,S_sliced_val):\n",
        "      if na==name:\n",
        "        preds[i]=top\n",
        "      i=i+1\n",
        "  \n",
        "  i=0\n",
        "  for pr,gt in zip(preds,targets):\n",
        "    if (gt in pr):\n",
        "      preds[i]=targets[i]\n",
        "    else:\n",
        "      preds[i]=preds[i][0]\n",
        "    i=i+1\n",
        "\n",
        "  return f1_score(targets, preds, average='weighted')"
      ],
      "execution_count": null,
      "outputs": []
    },
    {
      "cell_type": "code",
      "metadata": {
        "id": "mzRo90ZGWgTT"
      },
      "source": [
        "def create_spectrogram_plots(X,Y, encoder, num_class = 10):\n",
        "\n",
        "    X = X.cpu().numpy()\n",
        "    Y = Y.cpu().numpy()\n",
        "    X,Y = shuffle(X,Y)\n",
        "    fig, ax = plt.subplots(nrows=2, ncols=5, figsize=(11, 7), sharex=True,\n",
        "                           sharey=True)\n",
        "\n",
        "    row = 0\n",
        "    col = 0\n",
        "\n",
        "    for i in range(num_class):\n",
        "\n",
        "        for x,y in zip(X, Y):\n",
        "\n",
        "          if y == i:\n",
        "            plt.axes(ax[row, col])\n",
        "            x_new = librosa.core.power_to_db(librosa.db_to_amplitude(x))\n",
        "            librosa.display.specshow(x_new.reshape((x_new.shape[1],x_new.shape[2])), sr=16000)\n",
        "            plt.title(encoder.inverse_transform([i])[0])\n",
        "            col += 1\n",
        "            if col == 5:\n",
        "                row += 1\n",
        "                col = 0\n",
        "            break\n",
        "\n",
        "    fig.tight_layout()\n",
        "    # plt.savefig('gdrive/MyDrive/Music_genre_class/pics/pic.svg', format='svg')"
      ],
      "execution_count": null,
      "outputs": []
    },
    {
      "cell_type": "code",
      "metadata": {
        "id": "rJ8FKGXqIRek"
      },
      "source": [
        "def plot_confusion_matrix(cm,\n",
        "                          target_names,\n",
        "                          title='Confusion matrix',\n",
        "                          cmap=None,\n",
        "                          normalize=True):\n",
        "    \"\"\"\n",
        "    given a sklearn confusion matrix (cm), make a nice plot\n",
        "\n",
        "    Arguments\n",
        "    ---------\n",
        "    cm:           confusion matrix from sklearn.metrics.confusion_matrix\n",
        "\n",
        "    target_names: given classification classes such as [0, 1, 2]\n",
        "                  the class names, for example: ['high', 'medium', 'low']\n",
        "\n",
        "    title:        the text to display at the top of the matrix\n",
        "\n",
        "    cmap:         the gradient of the values displayed from matplotlib.pyplot.cm\n",
        "                  see http://matplotlib.org/examples/color/colormaps_reference.html\n",
        "                  plt.get_cmap('jet') or plt.cm.Blues\n",
        "\n",
        "    normalize:    If False, plot the raw numbers\n",
        "                  If True, plot the proportions\n",
        "\n",
        "    Usage\n",
        "    -----\n",
        "    plot_confusion_matrix(cm           = cm,                  # confusion matrix created by\n",
        "                                                              # sklearn.metrics.confusion_matrix\n",
        "                          normalize    = True,                # show proportions\n",
        "                          target_names = y_labels_vals,       # list of names of the classes\n",
        "                          title        = best_estimator_name) # title of graph\n",
        "\n",
        "    Citiation\n",
        "    ---------\n",
        "    http://scikit-learn.org/stable/auto_examples/model_selection/plot_confusion_matrix.html\n",
        "\n",
        "    \"\"\"\n",
        "   \n",
        "\n",
        "    accuracy = np.trace(cm) / np.sum(cm).astype('float')\n",
        "    misclass = 1 - accuracy\n",
        "\n",
        "    if cmap is None:\n",
        "        cmap = plt.get_cmap('Wistia')\n",
        "\n",
        "    plt.figure(figsize=(8, 6))\n",
        "    plt.imshow(cm, interpolation='nearest', cmap=cmap)\n",
        "    plt.title(title)\n",
        "\n",
        "    plt.colorbar()\n",
        "\n",
        "    if target_names is not None:\n",
        "        tick_marks = np.arange(len(target_names))\n",
        "        plt.xticks(tick_marks, target_names, rotation=45)\n",
        "        plt.yticks(tick_marks, target_names)\n",
        "\n",
        "    if normalize:\n",
        "        cm = cm.astype('float') / cm.sum(axis=1)[:, np.newaxis]\n",
        "\n",
        "\n",
        "    thresh = cm.max() / 1.5 if normalize else cm.max() / 2\n",
        "    for i, j in itertools.product(range(cm.shape[0]), range(cm.shape[1])):\n",
        "        if normalize:\n",
        "            plt.text(j, i, \"{:0.3f}\".format(cm[i, j]),\n",
        "                     horizontalalignment=\"center\",\n",
        "                     color=\"white\" if cm[i, j] > thresh else \"black\")\n",
        "        else:\n",
        "            plt.text(j, i, \"{:,}\".format(cm[i, j]),\n",
        "                     horizontalalignment=\"center\",\n",
        "                     color=\"white\" if cm[i, j] > thresh else \"black\")\n",
        "\n",
        "\n",
        "    plt.tight_layout()\n",
        "    plt.ylabel('True label')\n",
        "    plt.xlabel('Predicted label\\naccuracy={:0.4f}; misclass={:0.4f}'.format(accuracy, misclass))\n",
        "    plt.tight_layout()\n",
        "    # plt.savefig('/content/gdrive/MyDrive/Music_genre_class/pics/cm.svg', format='svg')\n",
        "    plt.show()"
      ],
      "execution_count": null,
      "outputs": []
    },
    {
      "cell_type": "code",
      "metadata": {
        "id": "KsTfryFOjlEY"
      },
      "source": [
        "def slice_song_user(song, length=911):\n",
        "\n",
        "  spectrogram = []\n",
        "  slices = int(song.shape[1] / length)\n",
        "  if slices>1:\n",
        "    for j in range(slices):\n",
        "        spectrogram.append(song[:, length * j:length * (j + 1)])\n",
        "        \n",
        "  else:\n",
        "    spectrogram.append(song[:, 0:length])\n",
        "\n",
        "  \n",
        "  return torch.from_numpy(np.array(spectrogram))"
      ],
      "execution_count": null,
      "outputs": []
    },
    {
      "cell_type": "code",
      "metadata": {
        "id": "VCt3MAwToQu9"
      },
      "source": [
        "def predict_yt(url, network, encoder, slice_len = 94):  \n",
        "  sr = 22050\n",
        "  song = YouTube(url)\n",
        "  path = song.streams.filter(only_audio=True).filter(abr=\"160kbps\")[0].download()\n",
        "  canzone, sr = librosa.load(path, sr=sr)\n",
        "  S_canzone = librosa.feature.melspectrogram(canzone, sr=sr, n_mels=128,n_fft=2048,hop_length=512)\n",
        "  log_S_canzone = librosa.amplitude_to_db(S_canzone)\n",
        "  y_canzone = slice_song_user(log_S_canzone, length=slice_len)\n",
        "  with torch.no_grad():\n",
        "    prediction = network(y_canzone.reshape(y_canzone.shape + (1,)).permute(0,3,1,2).cuda())\n",
        "    preds=[np.argmax(log.cpu()) for log in prediction]\n",
        "    final = int(stats.mode(preds)[0]) \n",
        "  genre = encoder.inverse_transform([final])[0]\n",
        "  title = path.replace('/content/','').replace('.webm', '')\n",
        "  print(f'The genre of the song \"{title}\" is: {genre}.')\n"
      ],
      "execution_count": null,
      "outputs": []
    },
    {
      "cell_type": "markdown",
      "metadata": {
        "id": "4TCXU2MK-6II"
      },
      "source": [
        "# **MAIN**"
      ]
    },
    {
      "cell_type": "markdown",
      "metadata": {
        "id": "umipE7Ge_G7P"
      },
      "source": [
        "##**DATA ACQUISITION AND PREPROCESSING**"
      ]
    },
    {
      "cell_type": "code",
      "metadata": {
        "id": "S2T_ZZloZIKT",
        "colab": {
          "base_uri": "https://localhost:8080/"
        },
        "outputId": "06510d7b-349c-404e-b9e2-7a1e5176bd34"
      },
      "source": [
        "!wget 'http://opihi.cs.uvic.ca/sound/genres.tar.gz'"
      ],
      "execution_count": null,
      "outputs": [
        {
          "output_type": "stream",
          "text": [
            "--2021-07-04 15:52:54--  http://opihi.cs.uvic.ca/sound/genres.tar.gz\n",
            "Resolving opihi.cs.uvic.ca (opihi.cs.uvic.ca)... 142.104.68.135\n",
            "Connecting to opihi.cs.uvic.ca (opihi.cs.uvic.ca)|142.104.68.135|:80... connected.\n",
            "HTTP request sent, awaiting response... 200 OK\n",
            "Length: 1225571541 (1.1G) [application/x-gzip]\n",
            "Saving to: ‘genres.tar.gz’\n",
            "\n",
            "genres.tar.gz       100%[===================>]   1.14G  1.78MB/s    in 10m 58s \n",
            "\n",
            "2021-07-04 16:03:53 (1.78 MB/s) - ‘genres.tar.gz’ saved [1225571541/1225571541]\n",
            "\n"
          ],
          "name": "stdout"
        }
      ]
    },
    {
      "cell_type": "code",
      "metadata": {
        "id": "7dPaxQzaZVDd"
      },
      "source": [
        "extract_file('/content/genres.tar.gz', to_directory='.')\n",
        "!rm genres.tar.gz"
      ],
      "execution_count": null,
      "outputs": []
    },
    {
      "cell_type": "code",
      "metadata": {
        "colab": {
          "base_uri": "https://localhost:8080/"
        },
        "id": "P9_-1BBqRKYe",
        "outputId": "21c68cbb-ac23-4da3-c011-39a8e38db5a5"
      },
      "source": [
        "# connection to Google Drive to import/export results\n",
        "\n",
        "drive.mount('/content/gdrive')"
      ],
      "execution_count": null,
      "outputs": [
        {
          "output_type": "stream",
          "text": [
            "Drive already mounted at /content/gdrive; to attempt to forcibly remount, call drive.mount(\"/content/gdrive\", force_remount=True).\n"
          ],
          "name": "stdout"
        }
      ]
    },
    {
      "cell_type": "code",
      "metadata": {
        "id": "EjAeZiYQdjvl",
        "colab": {
          "base_uri": "https://localhost:8080/"
        },
        "outputId": "0dc47982-b556-48e7-d4ba-6a070f9f800f"
      },
      "source": [
        "create_dataset_gtzan('genres')"
      ],
      "execution_count": null,
      "outputs": [
        {
          "output_type": "stream",
          "text": [
            "metal\n",
            "blues\n",
            "rock\n",
            "reggae\n",
            "classical\n",
            "hiphop\n",
            "disco\n",
            "pop\n",
            "country\n",
            "jazz\n"
          ],
          "name": "stdout"
        }
      ]
    },
    {
      "cell_type": "code",
      "metadata": {
        "id": "b_atGM3ksVu7"
      },
      "source": [
        "!cp -r song_data/ '/content/gdrive/My Drive/Music_genre_class/song_data2/'"
      ],
      "execution_count": null,
      "outputs": []
    },
    {
      "cell_type": "code",
      "metadata": {
        "id": "ti94Oy3xcFyq"
      },
      "source": [
        "Y,X,S,D = load_ds_gtzan('gdrive/MyDrive/Music_genre_class/song_data2')\n",
        "\n",
        "# if data is not stored on Drive, simply invoke Y,X,S,D = load_ds_gtzan()"
      ],
      "execution_count": null,
      "outputs": []
    },
    {
      "cell_type": "markdown",
      "metadata": {
        "id": "UOe9D1lD_XMf"
      },
      "source": [
        "##**GRID SEARCH FOR (SLICE_LENGTH, RANDOM_STATE)**"
      ]
    },
    {
      "cell_type": "code",
      "metadata": {
        "colab": {
          "base_uri": "https://localhost:8080/"
        },
        "id": "Uc5JuthjN32H",
        "outputId": "9980d759-174d-48a7-881f-a2a9bb8ffac8"
      },
      "source": [
        "scores = []\n",
        "slice_lengths = [911,465,312,157,94,32]\n",
        "random_states = [0,21,42]\n",
        "for l in slice_lengths:\n",
        "  for r in random_states:\n",
        "    score = train_model(l, r, X, Y, S, D)\n",
        "    scores.append(score)"
      ],
      "execution_count": null,
      "outputs": [
        {
          "output_type": "stream",
          "text": [
            "Current trial: slice_length = 94; random_state = 0\n",
            "rm: cannot remove 'checkpoints/': No such file or directory\n",
            "device: cuda\n",
            "epoch: 1\n"
          ],
          "name": "stdout"
        },
        {
          "output_type": "stream",
          "text": [
            "/usr/local/lib/python3.7/dist-packages/torch/nn/functional.py:718: UserWarning: Named tensors and all their associated APIs are an experimental feature and subject to change. Please do not use them for anything important until they are released as stable. (Triggered internally at  /pytorch/c10/core/TensorImpl.h:1156.)\n",
            "  return torch.max_pool2d(input, kernel_size, stride, padding, dilation, ceil_mode)\n"
          ],
          "name": "stderr"
        },
        {
          "output_type": "stream",
          "text": [
            "train_batch_loss[ 100 ]:  2.3066604137420654\n",
            "train_batch_loss[ 200 ]:  2.285207509994507\n",
            "train_batch_loss[ 300 ]:  2.285740375518799\n",
            "train_batch_loss[ 400 ]:  2.2029974460601807\n",
            "train_batch_loss[ 500 ]:  2.2213938236236572\n",
            "train_batch_loss[ 600 ]:  2.1402902603149414\n"
          ],
          "name": "stdout"
        },
        {
          "output_type": "stream",
          "text": [
            "Evaluate: 100%|██████████| 29/29 [00:00<00:00, 48.31it/s]\n"
          ],
          "name": "stderr"
        },
        {
          "output_type": "stream",
          "text": [
            "valid_evaluation: loss = 2.242044855753581, acc = 0.060394389580495804\n",
            "save model at  checkpoints/crnn_000684_acc0.060394389580495804.pt\n",
            "Validation loss decreased (inf --> 2.242045).  Saving model ...\n",
            "train_loss:  2.2694700172190587\n",
            "epoch: 2\n",
            "train_batch_loss[ 700 ]:  2.1339969635009766\n",
            "train_batch_loss[ 800 ]:  2.2392799854278564\n",
            "train_batch_loss[ 900 ]:  2.12300443649292\n",
            "train_batch_loss[ 1000 ]:  2.211937427520752\n",
            "train_batch_loss[ 1100 ]:  2.207064628601074\n",
            "train_batch_loss[ 1200 ]:  2.123060703277588\n",
            "train_batch_loss[ 1300 ]:  2.254106283187866\n"
          ],
          "name": "stdout"
        },
        {
          "output_type": "stream",
          "text": [
            "Evaluate: 100%|██████████| 29/29 [00:00<00:00, 48.66it/s]\n"
          ],
          "name": "stderr"
        },
        {
          "output_type": "stream",
          "text": [
            "valid_evaluation: loss = 2.0507205401526556, acc = 0.30220765568579583\n",
            "save model at  checkpoints/crnn_001368_acc0.30220765568579583.pt\n",
            "Validation loss decreased (2.242045 --> 2.050721).  Saving model ...\n",
            "train_loss:  2.179707706993881\n",
            "epoch: 3\n",
            "train_batch_loss[ 1400 ]:  2.1372950077056885\n",
            "train_batch_loss[ 1500 ]:  2.231621265411377\n",
            "train_batch_loss[ 1600 ]:  2.104457378387451\n",
            "train_batch_loss[ 1700 ]:  2.078792095184326\n",
            "train_batch_loss[ 1800 ]:  2.232386827468872\n",
            "train_batch_loss[ 1900 ]:  2.218879222869873\n",
            "train_batch_loss[ 2000 ]:  2.0554275512695312\n"
          ],
          "name": "stdout"
        },
        {
          "output_type": "stream",
          "text": [
            "Evaluate: 100%|██████████| 29/29 [00:00<00:00, 48.47it/s]\n"
          ],
          "name": "stderr"
        },
        {
          "output_type": "stream",
          "text": [
            "valid_evaluation: loss = 1.978599591255188, acc = 0.30360167271784894\n",
            "save model at  checkpoints/crnn_002052_acc0.30360167271784894.pt\n",
            "Validation loss decreased (2.050721 --> 1.978600).  Saving model ...\n",
            "train_loss:  2.086625353408067\n",
            "epoch: 4\n",
            "train_batch_loss[ 2100 ]:  2.0604875087738037\n",
            "train_batch_loss[ 2200 ]:  1.920040488243103\n",
            "train_batch_loss[ 2300 ]:  1.9658111333847046\n",
            "train_batch_loss[ 2400 ]:  2.09104585647583\n",
            "train_batch_loss[ 2500 ]:  2.0184342861175537\n",
            "train_batch_loss[ 2600 ]:  2.189678192138672\n",
            "train_batch_loss[ 2700 ]:  1.8384164571762085\n"
          ],
          "name": "stdout"
        },
        {
          "output_type": "stream",
          "text": [
            "Evaluate: 100%|██████████| 29/29 [00:00<00:00, 48.21it/s]\n"
          ],
          "name": "stderr"
        },
        {
          "output_type": "stream",
          "text": [
            "valid_evaluation: loss = 1.8603877777523465, acc = 0.33575991007255374\n",
            "save model at  checkpoints/crnn_002736_acc0.33575991007255374.pt\n",
            "Validation loss decreased (1.978600 --> 1.860388).  Saving model ...\n",
            "train_loss:  1.9917822787682107\n",
            "epoch: 5\n",
            "train_batch_loss[ 2800 ]:  1.9974637031555176\n",
            "train_batch_loss[ 2900 ]:  2.077155113220215\n",
            "train_batch_loss[ 3000 ]:  1.9852534532546997\n",
            "train_batch_loss[ 3100 ]:  1.8662718534469604\n",
            "train_batch_loss[ 3200 ]:  1.7915542125701904\n",
            "train_batch_loss[ 3300 ]:  1.9111196994781494\n",
            "train_batch_loss[ 3400 ]:  1.9735380411148071\n"
          ],
          "name": "stdout"
        },
        {
          "output_type": "stream",
          "text": [
            "Evaluate: 100%|██████████| 29/29 [00:00<00:00, 49.04it/s]\n"
          ],
          "name": "stderr"
        },
        {
          "output_type": "stream",
          "text": [
            "valid_evaluation: loss = 1.8436122428046333, acc = 0.3800211753990829\n",
            "save model at  checkpoints/crnn_003420_acc0.3800211753990829.pt\n",
            "Validation loss decreased (1.860388 --> 1.843612).  Saving model ...\n",
            "train_loss:  1.9023500337849266\n",
            "epoch: 6\n",
            "train_batch_loss[ 3500 ]:  1.7621963024139404\n",
            "train_batch_loss[ 3600 ]:  1.8422257900238037\n",
            "train_batch_loss[ 3700 ]:  1.9085174798965454\n",
            "train_batch_loss[ 3800 ]:  1.782971978187561\n",
            "train_batch_loss[ 3900 ]:  1.8731499910354614\n",
            "train_batch_loss[ 4000 ]:  1.8609378337860107\n"
          ],
          "name": "stdout"
        },
        {
          "output_type": "stream",
          "text": [
            "\rEvaluate:   0%|          | 0/29 [00:00<?, ?it/s]"
          ],
          "name": "stderr"
        },
        {
          "output_type": "stream",
          "text": [
            "train_batch_loss[ 4100 ]:  1.702713966369629\n"
          ],
          "name": "stdout"
        },
        {
          "output_type": "stream",
          "text": [
            "Evaluate: 100%|██████████| 29/29 [00:00<00:00, 48.29it/s]\n"
          ],
          "name": "stderr"
        },
        {
          "output_type": "stream",
          "text": [
            "valid_evaluation: loss = 1.5930002133051555, acc = 0.5116511584849048\n",
            "save model at  checkpoints/crnn_004104_acc0.5116511584849048.pt\n",
            "Validation loss decreased (1.843612 --> 1.593000).  Saving model ...\n",
            "train_loss:  1.815966194233068\n",
            "epoch: 7\n",
            "train_batch_loss[ 4200 ]:  1.8261678218841553\n",
            "train_batch_loss[ 4300 ]:  1.7145081758499146\n",
            "train_batch_loss[ 4400 ]:  1.7215948104858398\n",
            "train_batch_loss[ 4500 ]:  1.7613415718078613\n",
            "train_batch_loss[ 4600 ]:  1.986519694328308\n",
            "train_batch_loss[ 4700 ]:  1.639017939567566\n"
          ],
          "name": "stdout"
        },
        {
          "output_type": "stream",
          "text": [
            "Evaluate: 100%|██████████| 29/29 [00:00<00:00, 49.07it/s]\n"
          ],
          "name": "stderr"
        },
        {
          "output_type": "stream",
          "text": [
            "valid_evaluation: loss = 1.542195413907369, acc = 0.5323509983494332\n",
            "save model at  checkpoints/crnn_004788_acc0.5323509983494332.pt\n",
            "Validation loss decreased (1.593000 --> 1.542195).  Saving model ...\n",
            "train_loss:  1.7446741568971345\n",
            "epoch: 8\n",
            "train_batch_loss[ 4800 ]:  1.7595770359039307\n",
            "train_batch_loss[ 4900 ]:  1.9150748252868652\n",
            "train_batch_loss[ 5000 ]:  1.5850874185562134\n",
            "train_batch_loss[ 5100 ]:  1.8257660865783691\n",
            "train_batch_loss[ 5200 ]:  1.5747466087341309\n",
            "train_batch_loss[ 5300 ]:  1.5045678615570068\n",
            "train_batch_loss[ 5400 ]:  1.8464537858963013\n"
          ],
          "name": "stdout"
        },
        {
          "output_type": "stream",
          "text": [
            "Evaluate: 100%|██████████| 29/29 [00:00<00:00, 49.49it/s]\n"
          ],
          "name": "stderr"
        },
        {
          "output_type": "stream",
          "text": [
            "valid_evaluation: loss = 1.4955268658532037, acc = 0.5396848809136425\n",
            "save model at  checkpoints/crnn_005472_acc0.5396848809136425.pt\n",
            "Validation loss decreased (1.542195 --> 1.495527).  Saving model ...\n",
            "train_loss:  1.6805752848837547\n",
            "epoch: 9\n",
            "train_batch_loss[ 5500 ]:  1.7475699186325073\n",
            "train_batch_loss[ 5600 ]:  1.6165039539337158\n",
            "train_batch_loss[ 5700 ]:  1.6532812118530273\n",
            "train_batch_loss[ 5800 ]:  1.498336911201477\n",
            "train_batch_loss[ 5900 ]:  1.9078119993209839\n",
            "train_batch_loss[ 6000 ]:  1.6763805150985718\n",
            "train_batch_loss[ 6100 ]:  1.8031015396118164\n"
          ],
          "name": "stdout"
        },
        {
          "output_type": "stream",
          "text": [
            "Evaluate: 100%|██████████| 29/29 [00:00<00:00, 48.40it/s]\n"
          ],
          "name": "stderr"
        },
        {
          "output_type": "stream",
          "text": [
            "valid_evaluation: loss = 1.3697059286965265, acc = 0.6257466141911017\n",
            "save model at  checkpoints/crnn_006156_acc0.6257466141911017.pt\n",
            "Validation loss decreased (1.495527 --> 1.369706).  Saving model ...\n",
            "train_loss:  1.629322542139096\n",
            "epoch: 10\n",
            "train_batch_loss[ 6200 ]:  1.603450059890747\n",
            "train_batch_loss[ 6300 ]:  1.412047028541565\n",
            "train_batch_loss[ 6400 ]:  1.5523656606674194\n",
            "train_batch_loss[ 6500 ]:  1.5918296575546265\n",
            "train_batch_loss[ 6600 ]:  1.5310345888137817\n",
            "train_batch_loss[ 6700 ]:  1.4383081197738647\n",
            "train_batch_loss[ 6800 ]:  1.4934377670288086\n"
          ],
          "name": "stdout"
        },
        {
          "output_type": "stream",
          "text": [
            "Evaluate: 100%|██████████| 29/29 [00:00<00:00, 48.89it/s]\n"
          ],
          "name": "stderr"
        },
        {
          "output_type": "stream",
          "text": [
            "valid_evaluation: loss = 1.358933129840427, acc = 0.5998198391483026\n",
            "save model at  checkpoints/crnn_006840_acc0.5998198391483026.pt\n",
            "Validation loss decreased (1.369706 --> 1.358933).  Saving model ...\n",
            "train_loss:  1.57590498660436\n",
            "epoch: 11\n",
            "train_batch_loss[ 6900 ]:  1.2919362783432007\n",
            "train_batch_loss[ 7000 ]:  1.620180606842041\n",
            "train_batch_loss[ 7100 ]:  1.3283778429031372\n",
            "train_batch_loss[ 7200 ]:  1.6090881824493408\n",
            "train_batch_loss[ 7300 ]:  1.6347514390945435\n",
            "train_batch_loss[ 7400 ]:  1.86697256565094\n",
            "train_batch_loss[ 7500 ]:  1.4494128227233887\n"
          ],
          "name": "stdout"
        },
        {
          "output_type": "stream",
          "text": [
            "Evaluate: 100%|██████████| 29/29 [00:00<00:00, 48.34it/s]\n"
          ],
          "name": "stderr"
        },
        {
          "output_type": "stream",
          "text": [
            "valid_evaluation: loss = 1.2326506810718112, acc = 0.6713234239259933\n",
            "save model at  checkpoints/crnn_007524_acc0.6713234239259933.pt\n",
            "Validation loss decreased (1.358933 --> 1.232651).  Saving model ...\n",
            "train_loss:  1.5238673783569614\n",
            "epoch: 12\n",
            "train_batch_loss[ 7600 ]:  1.5339246988296509\n",
            "train_batch_loss[ 7700 ]:  1.604063868522644\n",
            "train_batch_loss[ 7800 ]:  1.481359839439392\n",
            "train_batch_loss[ 7900 ]:  1.3753068447113037\n",
            "train_batch_loss[ 8000 ]:  1.4503095149993896\n",
            "train_batch_loss[ 8100 ]:  1.371486783027649\n",
            "train_batch_loss[ 8200 ]:  1.7391250133514404\n"
          ],
          "name": "stdout"
        },
        {
          "output_type": "stream",
          "text": [
            "Evaluate: 100%|██████████| 29/29 [00:00<00:00, 48.34it/s]\n"
          ],
          "name": "stderr"
        },
        {
          "output_type": "stream",
          "text": [
            "valid_evaluation: loss = 1.2478175693088107, acc = 0.6519422719037887\n",
            "save model at  checkpoints/crnn_008208_acc0.6519422719037887.pt\n",
            "EarlyStopping counter: 1 out of 10\n",
            "train_loss:  1.4819348721183703\n",
            "epoch: 13\n",
            "train_batch_loss[ 8300 ]:  1.344767451286316\n",
            "train_batch_loss[ 8400 ]:  1.657751441001892\n",
            "train_batch_loss[ 8500 ]:  1.3947534561157227\n",
            "train_batch_loss[ 8600 ]:  1.662650227546692\n",
            "train_batch_loss[ 8700 ]:  1.1623504161834717\n",
            "train_batch_loss[ 8800 ]:  1.4697951078414917\n"
          ],
          "name": "stdout"
        },
        {
          "output_type": "stream",
          "text": [
            "Evaluate: 100%|██████████| 29/29 [00:00<00:00, 48.69it/s]\n"
          ],
          "name": "stderr"
        },
        {
          "output_type": "stream",
          "text": [
            "valid_evaluation: loss = 1.1670097340477839, acc = 0.6835249866336643\n",
            "save model at  checkpoints/crnn_008892_acc0.6835249866336643.pt\n",
            "Validation loss decreased (1.232651 --> 1.167010).  Saving model ...\n",
            "train_loss:  1.440268171961906\n",
            "epoch: 14\n",
            "train_batch_loss[ 8900 ]:  1.3185157775878906\n",
            "train_batch_loss[ 9000 ]:  1.3753494024276733\n",
            "train_batch_loss[ 9100 ]:  1.1479727029800415\n",
            "train_batch_loss[ 9200 ]:  1.6043487787246704\n",
            "train_batch_loss[ 9300 ]:  1.151567816734314\n",
            "train_batch_loss[ 9400 ]:  1.2942687273025513\n",
            "train_batch_loss[ 9500 ]:  1.4678564071655273\n"
          ],
          "name": "stdout"
        },
        {
          "output_type": "stream",
          "text": [
            "Evaluate: 100%|██████████| 29/29 [00:00<00:00, 47.64it/s]\n"
          ],
          "name": "stderr"
        },
        {
          "output_type": "stream",
          "text": [
            "valid_evaluation: loss = 1.08841522137324, acc = 0.7001339689489436\n",
            "save model at  checkpoints/crnn_009576_acc0.7001339689489436.pt\n",
            "Validation loss decreased (1.167010 --> 1.088415).  Saving model ...\n",
            "train_loss:  1.4005764517764496\n",
            "epoch: 15\n",
            "train_batch_loss[ 9600 ]:  1.4396401643753052\n",
            "train_batch_loss[ 9700 ]:  1.2143012285232544\n",
            "train_batch_loss[ 9800 ]:  1.2450065612792969\n",
            "train_batch_loss[ 9900 ]:  1.4380474090576172\n",
            "train_batch_loss[ 10000 ]:  1.1948268413543701\n",
            "train_batch_loss[ 10100 ]:  1.2443441152572632\n",
            "train_batch_loss[ 10200 ]:  1.2615395784378052\n"
          ],
          "name": "stdout"
        },
        {
          "output_type": "stream",
          "text": [
            "Evaluate: 100%|██████████| 29/29 [00:00<00:00, 49.02it/s]\n"
          ],
          "name": "stderr"
        },
        {
          "output_type": "stream",
          "text": [
            "valid_evaluation: loss = 1.1128066492080688, acc = 0.6794882013139982\n",
            "save model at  checkpoints/crnn_010260_acc0.6794882013139982.pt\n",
            "EarlyStopping counter: 1 out of 10\n",
            "train_loss:  1.3645939837866958\n",
            "epoch: 16\n",
            "train_batch_loss[ 10300 ]:  1.201427936553955\n",
            "train_batch_loss[ 10400 ]:  1.3412524461746216\n",
            "train_batch_loss[ 10500 ]:  1.345941424369812\n",
            "train_batch_loss[ 10600 ]:  0.9896550178527832\n",
            "train_batch_loss[ 10700 ]:  1.4101266860961914\n",
            "train_batch_loss[ 10800 ]:  1.3675206899642944\n",
            "train_batch_loss[ 10900 ]:  0.9380576014518738\n"
          ],
          "name": "stdout"
        },
        {
          "output_type": "stream",
          "text": [
            "Evaluate: 100%|██████████| 29/29 [00:00<00:00, 48.83it/s]\n"
          ],
          "name": "stderr"
        },
        {
          "output_type": "stream",
          "text": [
            "valid_evaluation: loss = 1.1489635229110717, acc = 0.6298358160871581\n",
            "save model at  checkpoints/crnn_010944_acc0.6298358160871581.pt\n",
            "EarlyStopping counter: 2 out of 10\n",
            "train_loss:  1.3247708216398124\n",
            "epoch: 17\n",
            "train_batch_loss[ 11000 ]:  1.1868157386779785\n",
            "train_batch_loss[ 11100 ]:  1.0149388313293457\n",
            "train_batch_loss[ 11200 ]:  0.9441583752632141\n",
            "train_batch_loss[ 11300 ]:  1.2441428899765015\n",
            "train_batch_loss[ 11400 ]:  1.4451504945755005\n",
            "train_batch_loss[ 11500 ]:  1.5983421802520752\n",
            "train_batch_loss[ 11600 ]:  1.4966317415237427\n"
          ],
          "name": "stdout"
        },
        {
          "output_type": "stream",
          "text": [
            "Evaluate: 100%|██████████| 29/29 [00:00<00:00, 48.56it/s]\n"
          ],
          "name": "stderr"
        },
        {
          "output_type": "stream",
          "text": [
            "valid_evaluation: loss = 1.1443922037548488, acc = 0.6363520318534255\n",
            "save model at  checkpoints/crnn_011628_acc0.6363520318534255.pt\n",
            "EarlyStopping counter: 3 out of 10\n",
            "train_loss:  1.2951885199405093\n",
            "epoch: 18\n",
            "train_batch_loss[ 11700 ]:  1.4806041717529297\n",
            "train_batch_loss[ 11800 ]:  1.1378998756408691\n",
            "train_batch_loss[ 11900 ]:  1.2557435035705566\n",
            "train_batch_loss[ 12000 ]:  1.3588770627975464\n",
            "train_batch_loss[ 12100 ]:  1.308579444885254\n",
            "train_batch_loss[ 12200 ]:  1.4551231861114502\n",
            "train_batch_loss[ 12300 ]:  1.2013925313949585\n"
          ],
          "name": "stdout"
        },
        {
          "output_type": "stream",
          "text": [
            "Evaluate: 100%|██████████| 29/29 [00:00<00:00, 49.02it/s]\n"
          ],
          "name": "stderr"
        },
        {
          "output_type": "stream",
          "text": [
            "valid_evaluation: loss = 1.0085998723242018, acc = 0.706464814555088\n",
            "save model at  checkpoints/crnn_012312_acc0.706464814555088.pt\n",
            "Validation loss decreased (1.088415 --> 1.008600).  Saving model ...\n",
            "train_loss:  1.2625089888710053\n",
            "epoch: 19\n",
            "train_batch_loss[ 12400 ]:  1.129021406173706\n",
            "train_batch_loss[ 12500 ]:  1.064483880996704\n",
            "train_batch_loss[ 12600 ]:  1.4419758319854736\n",
            "train_batch_loss[ 12700 ]:  1.644528865814209\n",
            "train_batch_loss[ 12800 ]:  1.3894771337509155\n",
            "train_batch_loss[ 12900 ]:  1.0870537757873535\n"
          ],
          "name": "stdout"
        },
        {
          "output_type": "stream",
          "text": [
            "Evaluate: 100%|██████████| 29/29 [00:00<00:00, 48.93it/s]\n"
          ],
          "name": "stderr"
        },
        {
          "output_type": "stream",
          "text": [
            "valid_evaluation: loss = 1.0384382976426019, acc = 0.6825452058550293\n",
            "save model at  checkpoints/crnn_012996_acc0.6825452058550293.pt\n",
            "EarlyStopping counter: 1 out of 10\n",
            "train_loss:  1.2275247681996677\n",
            "epoch: 20\n",
            "train_batch_loss[ 13000 ]:  1.2604265213012695\n",
            "train_batch_loss[ 13100 ]:  0.9496346712112427\n",
            "train_batch_loss[ 13200 ]:  1.4633785486221313\n",
            "train_batch_loss[ 13300 ]:  0.9101592302322388\n",
            "train_batch_loss[ 13400 ]:  1.194812297821045\n",
            "train_batch_loss[ 13500 ]:  1.119888424873352\n",
            "train_batch_loss[ 13600 ]:  1.0972238779067993\n"
          ],
          "name": "stdout"
        },
        {
          "output_type": "stream",
          "text": [
            "Evaluate: 100%|██████████| 29/29 [00:00<00:00, 48.46it/s]\n"
          ],
          "name": "stderr"
        },
        {
          "output_type": "stream",
          "text": [
            "valid_evaluation: loss = 1.0007549850145976, acc = 0.7081760855216919\n",
            "save model at  checkpoints/crnn_013680_acc0.7081760855216919.pt\n",
            "Validation loss decreased (1.008600 --> 1.000755).  Saving model ...\n",
            "train_loss:  1.1959098153971186\n",
            "epoch: 21\n",
            "train_batch_loss[ 13700 ]:  1.3994102478027344\n",
            "train_batch_loss[ 13800 ]:  1.2202852964401245\n",
            "train_batch_loss[ 13900 ]:  0.7712234854698181\n",
            "train_batch_loss[ 14000 ]:  1.1394507884979248\n",
            "train_batch_loss[ 14100 ]:  1.0435030460357666\n",
            "train_batch_loss[ 14200 ]:  1.3545681238174438\n",
            "train_batch_loss[ 14300 ]:  1.0837699174880981\n"
          ],
          "name": "stdout"
        },
        {
          "output_type": "stream",
          "text": [
            "Evaluate: 100%|██████████| 29/29 [00:00<00:00, 48.87it/s]\n"
          ],
          "name": "stderr"
        },
        {
          "output_type": "stream",
          "text": [
            "valid_evaluation: loss = 0.9563579564624363, acc = 0.7331873016897599\n",
            "save model at  checkpoints/crnn_014364_acc0.7331873016897599.pt\n",
            "Validation loss decreased (1.000755 --> 0.956358).  Saving model ...\n",
            "train_loss:  1.1649706164178206\n",
            "epoch: 22\n",
            "train_batch_loss[ 14400 ]:  1.1721796989440918\n",
            "train_batch_loss[ 14500 ]:  1.4687302112579346\n",
            "train_batch_loss[ 14600 ]:  1.0588396787643433\n",
            "train_batch_loss[ 14700 ]:  1.1622427701950073\n",
            "train_batch_loss[ 14800 ]:  1.2900015115737915\n",
            "train_batch_loss[ 14900 ]:  0.9622592329978943\n",
            "train_batch_loss[ 15000 ]:  1.2290349006652832\n"
          ],
          "name": "stdout"
        },
        {
          "output_type": "stream",
          "text": [
            "Evaluate: 100%|██████████| 29/29 [00:00<00:00, 49.13it/s]\n"
          ],
          "name": "stderr"
        },
        {
          "output_type": "stream",
          "text": [
            "valid_evaluation: loss = 0.971399049229092, acc = 0.7143224932161311\n",
            "save model at  checkpoints/crnn_015048_acc0.7143224932161311.pt\n",
            "EarlyStopping counter: 1 out of 10\n",
            "train_loss:  1.141176514348648\n",
            "epoch: 23\n",
            "train_batch_loss[ 15100 ]:  0.9588618874549866\n",
            "train_batch_loss[ 15200 ]:  0.9729702472686768\n",
            "train_batch_loss[ 15300 ]:  1.1102986335754395\n",
            "train_batch_loss[ 15400 ]:  1.3760915994644165\n",
            "train_batch_loss[ 15500 ]:  1.066834807395935\n",
            "train_batch_loss[ 15600 ]:  0.9029157757759094\n",
            "train_batch_loss[ 15700 ]:  0.8503550291061401\n"
          ],
          "name": "stdout"
        },
        {
          "output_type": "stream",
          "text": [
            "Evaluate: 100%|██████████| 29/29 [00:00<00:00, 48.58it/s]\n"
          ],
          "name": "stderr"
        },
        {
          "output_type": "stream",
          "text": [
            "valid_evaluation: loss = 0.9785652134153578, acc = 0.7036226188670698\n",
            "save model at  checkpoints/crnn_015732_acc0.7036226188670698.pt\n",
            "EarlyStopping counter: 2 out of 10\n",
            "train_loss:  1.0985806035188763\n",
            "epoch: 24\n",
            "train_batch_loss[ 15800 ]:  1.0888874530792236\n",
            "train_batch_loss[ 15900 ]:  1.0071965456008911\n",
            "train_batch_loss[ 16000 ]:  0.9721601009368896\n",
            "train_batch_loss[ 16100 ]:  1.0648895502090454\n",
            "train_batch_loss[ 16200 ]:  1.1554359197616577\n",
            "train_batch_loss[ 16300 ]:  1.1880106925964355\n",
            "train_batch_loss[ 16400 ]:  1.135204553604126\n"
          ],
          "name": "stdout"
        },
        {
          "output_type": "stream",
          "text": [
            "Evaluate: 100%|██████████| 29/29 [00:00<00:00, 48.96it/s]\n"
          ],
          "name": "stderr"
        },
        {
          "output_type": "stream",
          "text": [
            "valid_evaluation: loss = 0.8982718928654989, acc = 0.7523531168038355\n",
            "save model at  checkpoints/crnn_016416_acc0.7523531168038355.pt\n",
            "Validation loss decreased (0.956358 --> 0.898272).  Saving model ...\n",
            "train_loss:  1.0836461362851828\n",
            "epoch: 25\n",
            "train_batch_loss[ 16500 ]:  1.2607532739639282\n",
            "train_batch_loss[ 16600 ]:  1.358497142791748\n",
            "train_batch_loss[ 16700 ]:  1.0865929126739502\n",
            "train_batch_loss[ 16800 ]:  0.9694792032241821\n",
            "train_batch_loss[ 16900 ]:  0.9859636425971985\n",
            "train_batch_loss[ 17000 ]:  0.8045247793197632\n"
          ],
          "name": "stdout"
        },
        {
          "output_type": "stream",
          "text": [
            "Evaluate:  17%|█▋        | 5/29 [00:00<00:00, 46.26it/s]"
          ],
          "name": "stderr"
        },
        {
          "output_type": "stream",
          "text": [
            "train_batch_loss[ 17100 ]:  1.0656910623822893\n"
          ],
          "name": "stdout"
        },
        {
          "output_type": "stream",
          "text": [
            "Evaluate: 100%|██████████| 29/29 [00:00<00:00, 48.55it/s]\n"
          ],
          "name": "stderr"
        },
        {
          "output_type": "stream",
          "text": [
            "valid_evaluation: loss = 0.9035744126637777, acc = 0.7420038240284337\n",
            "save model at  checkpoints/crnn_017100_acc0.7420038240284337.pt\n",
            "EarlyStopping counter: 1 out of 10\n",
            "train_loss:  1.0555279530288424\n",
            "epoch: 26\n",
            "train_batch_loss[ 17200 ]:  1.213944435119629\n",
            "train_batch_loss[ 17300 ]:  0.9378722906112671\n",
            "train_batch_loss[ 17400 ]:  1.0647921562194824\n",
            "train_batch_loss[ 17500 ]:  1.4596185684204102\n",
            "train_batch_loss[ 17600 ]:  0.8512666821479797\n",
            "train_batch_loss[ 17700 ]:  1.2607696056365967\n"
          ],
          "name": "stdout"
        },
        {
          "output_type": "stream",
          "text": [
            "Evaluate: 100%|██████████| 29/29 [00:00<00:00, 48.89it/s]\n"
          ],
          "name": "stderr"
        },
        {
          "output_type": "stream",
          "text": [
            "valid_evaluation: loss = 0.8881582135624356, acc = 0.7594543882186267\n",
            "save model at  checkpoints/crnn_017784_acc0.7594543882186267.pt\n",
            "Validation loss decreased (0.898272 --> 0.888158).  Saving model ...\n",
            "train_loss:  1.032590345252743\n",
            "epoch: 27\n",
            "train_batch_loss[ 17800 ]:  1.0943533182144165\n",
            "train_batch_loss[ 17900 ]:  1.0227408409118652\n",
            "train_batch_loss[ 18000 ]:  0.8842426538467407\n",
            "train_batch_loss[ 18100 ]:  0.8640408515930176\n",
            "train_batch_loss[ 18200 ]:  1.1228446960449219\n",
            "train_batch_loss[ 18300 ]:  0.9240766167640686\n",
            "train_batch_loss[ 18400 ]:  1.083139181137085\n"
          ],
          "name": "stdout"
        },
        {
          "output_type": "stream",
          "text": [
            "Evaluate: 100%|██████████| 29/29 [00:00<00:00, 48.87it/s]\n"
          ],
          "name": "stderr"
        },
        {
          "output_type": "stream",
          "text": [
            "valid_evaluation: loss = 0.9007665488455031, acc = 0.7285405403803312\n",
            "save model at  checkpoints/crnn_018468_acc0.7285405403803312.pt\n",
            "EarlyStopping counter: 1 out of 10\n",
            "train_loss:  1.0108473032535785\n",
            "epoch: 28\n",
            "train_batch_loss[ 18500 ]:  1.147933006286621\n",
            "train_batch_loss[ 18600 ]:  1.277814507484436\n",
            "train_batch_loss[ 18700 ]:  0.8704000115394592\n",
            "train_batch_loss[ 18800 ]:  0.8986495733261108\n",
            "train_batch_loss[ 18900 ]:  0.7790242433547974\n",
            "train_batch_loss[ 19000 ]:  1.4552158117294312\n",
            "train_batch_loss[ 19100 ]:  1.16187584400177\n"
          ],
          "name": "stdout"
        },
        {
          "output_type": "stream",
          "text": [
            "Evaluate: 100%|██████████| 29/29 [00:00<00:00, 49.02it/s]\n"
          ],
          "name": "stderr"
        },
        {
          "output_type": "stream",
          "text": [
            "valid_evaluation: loss = 0.9228991678025987, acc = 0.7238505937710359\n",
            "save model at  checkpoints/crnn_019152_acc0.7238505937710359.pt\n",
            "EarlyStopping counter: 2 out of 10\n",
            "train_loss:  1.005967459920666\n",
            "epoch: 29\n",
            "train_batch_loss[ 19200 ]:  0.9391311407089233\n",
            "train_batch_loss[ 19300 ]:  1.124144196510315\n",
            "train_batch_loss[ 19400 ]:  0.8742580413818359\n",
            "train_batch_loss[ 19500 ]:  1.2693120241165161\n",
            "train_batch_loss[ 19600 ]:  0.9698066711425781\n",
            "train_batch_loss[ 19700 ]:  1.01500403881073\n",
            "train_batch_loss[ 19800 ]:  0.9948446750640869\n"
          ],
          "name": "stdout"
        },
        {
          "output_type": "stream",
          "text": [
            "Evaluate: 100%|██████████| 29/29 [00:00<00:00, 48.37it/s]\n"
          ],
          "name": "stderr"
        },
        {
          "output_type": "stream",
          "text": [
            "valid_evaluation: loss = 0.8536508447594113, acc = 0.7430548041719421\n",
            "save model at  checkpoints/crnn_019836_acc0.7430548041719421.pt\n",
            "Validation loss decreased (0.888158 --> 0.853651).  Saving model ...\n",
            "train_loss:  0.9702116165196017\n",
            "epoch: 30\n",
            "train_batch_loss[ 19900 ]:  1.3963913917541504\n",
            "train_batch_loss[ 20000 ]:  1.042983055114746\n",
            "train_batch_loss[ 20100 ]:  0.9648281335830688\n",
            "train_batch_loss[ 20200 ]:  0.6400432586669922\n",
            "train_batch_loss[ 20300 ]:  0.6789681315422058\n",
            "train_batch_loss[ 20400 ]:  0.8508082628250122\n",
            "train_batch_loss[ 20500 ]:  0.9517955780029297\n"
          ],
          "name": "stdout"
        },
        {
          "output_type": "stream",
          "text": [
            "Evaluate: 100%|██████████| 29/29 [00:00<00:00, 48.54it/s]\n"
          ],
          "name": "stderr"
        },
        {
          "output_type": "stream",
          "text": [
            "valid_evaluation: loss = 0.8397742467456394, acc = 0.7602126970711683\n",
            "save model at  checkpoints/crnn_020520_acc0.7602126970711683.pt\n",
            "Validation loss decreased (0.853651 --> 0.839774).  Saving model ...\n",
            "train_loss:  0.9465421815304436\n",
            "epoch: 31\n",
            "train_batch_loss[ 20600 ]:  1.0313341617584229\n",
            "train_batch_loss[ 20700 ]:  0.9195134043693542\n",
            "train_batch_loss[ 20800 ]:  0.7218055725097656\n",
            "train_batch_loss[ 20900 ]:  0.7959251999855042\n",
            "train_batch_loss[ 21000 ]:  1.0701004266738892\n",
            "train_batch_loss[ 21100 ]:  1.048985242843628\n"
          ],
          "name": "stdout"
        },
        {
          "output_type": "stream",
          "text": [
            "\rEvaluate:   0%|          | 0/29 [00:00<?, ?it/s]"
          ],
          "name": "stderr"
        },
        {
          "output_type": "stream",
          "text": [
            "train_batch_loss[ 21200 ]:  0.8872206211090088\n"
          ],
          "name": "stdout"
        },
        {
          "output_type": "stream",
          "text": [
            "Evaluate: 100%|██████████| 29/29 [00:00<00:00, 48.54it/s]\n"
          ],
          "name": "stderr"
        },
        {
          "output_type": "stream",
          "text": [
            "valid_evaluation: loss = 0.9002608267466227, acc = 0.743691295264795\n",
            "save model at  checkpoints/crnn_021204_acc0.743691295264795.pt\n",
            "EarlyStopping counter: 1 out of 10\n",
            "train_loss:  0.9471507506333479\n",
            "epoch: 32\n",
            "train_batch_loss[ 21300 ]:  1.1489810943603516\n",
            "train_batch_loss[ 21400 ]:  1.1489566564559937\n",
            "train_batch_loss[ 21500 ]:  1.0091397762298584\n",
            "train_batch_loss[ 21600 ]:  0.8819578289985657\n",
            "train_batch_loss[ 21700 ]:  0.8080266118049622\n",
            "train_batch_loss[ 21800 ]:  1.2847301959991455\n"
          ],
          "name": "stdout"
        },
        {
          "output_type": "stream",
          "text": [
            "Evaluate: 100%|██████████| 29/29 [00:00<00:00, 48.75it/s]\n"
          ],
          "name": "stderr"
        },
        {
          "output_type": "stream",
          "text": [
            "valid_evaluation: loss = 0.8951463919215732, acc = 0.7397134931236719\n",
            "save model at  checkpoints/crnn_021888_acc0.7397134931236719.pt\n",
            "EarlyStopping counter: 2 out of 10\n",
            "train_loss:  0.928473446823769\n",
            "epoch: 33\n",
            "train_batch_loss[ 21900 ]:  0.7694588899612427\n",
            "train_batch_loss[ 22000 ]:  1.0202418565750122\n",
            "train_batch_loss[ 22100 ]:  0.7872639298439026\n",
            "train_batch_loss[ 22200 ]:  0.9778643250465393\n",
            "train_batch_loss[ 22300 ]:  1.1337110996246338\n",
            "train_batch_loss[ 22400 ]:  0.9036450982093811\n",
            "train_batch_loss[ 22500 ]:  0.7172990441322327\n"
          ],
          "name": "stdout"
        },
        {
          "output_type": "stream",
          "text": [
            "Evaluate: 100%|██████████| 29/29 [00:00<00:00, 49.20it/s]\n"
          ],
          "name": "stderr"
        },
        {
          "output_type": "stream",
          "text": [
            "valid_evaluation: loss = 0.8518172629674275, acc = 0.7589927199322463\n",
            "save model at  checkpoints/crnn_022572_acc0.7589927199322463.pt\n",
            "EarlyStopping counter: 3 out of 10\n",
            "train_loss:  0.9098688636242553\n",
            "epoch: 34\n",
            "train_batch_loss[ 22600 ]:  0.6323115825653076\n",
            "train_batch_loss[ 22700 ]:  0.8047974705696106\n",
            "train_batch_loss[ 22800 ]:  0.5943002104759216\n",
            "train_batch_loss[ 22900 ]:  0.9614301919937134\n",
            "train_batch_loss[ 23000 ]:  0.9175488948822021\n",
            "train_batch_loss[ 23100 ]:  1.1571117639541626\n",
            "train_batch_loss[ 23200 ]:  1.0450632572174072\n"
          ],
          "name": "stdout"
        },
        {
          "output_type": "stream",
          "text": [
            "Evaluate: 100%|██████████| 29/29 [00:00<00:00, 48.77it/s]\n"
          ],
          "name": "stderr"
        },
        {
          "output_type": "stream",
          "text": [
            "valid_evaluation: loss = 0.8724552647272745, acc = 0.7483480890935629\n",
            "save model at  checkpoints/crnn_023256_acc0.7483480890935629.pt\n",
            "EarlyStopping counter: 4 out of 10\n",
            "train_loss:  0.8945597680889421\n",
            "epoch: 35\n",
            "train_batch_loss[ 23300 ]:  1.309760570526123\n",
            "train_batch_loss[ 23400 ]:  0.90310138463974\n",
            "train_batch_loss[ 23500 ]:  0.6245847940444946\n",
            "train_batch_loss[ 23600 ]:  0.837090790271759\n",
            "train_batch_loss[ 23700 ]:  1.1341063976287842\n",
            "train_batch_loss[ 23800 ]:  0.6875781416893005\n",
            "train_batch_loss[ 23900 ]:  0.8647072911262512\n"
          ],
          "name": "stdout"
        },
        {
          "output_type": "stream",
          "text": [
            "Evaluate: 100%|██████████| 29/29 [00:00<00:00, 49.17it/s]\n"
          ],
          "name": "stderr"
        },
        {
          "output_type": "stream",
          "text": [
            "valid_evaluation: loss = 0.890165958404541, acc = 0.7424175670653492\n",
            "save model at  checkpoints/crnn_023940_acc0.7424175670653492.pt\n",
            "EarlyStopping counter: 5 out of 10\n",
            "train_loss:  0.882778230866832\n",
            "epoch: 36\n",
            "train_batch_loss[ 24000 ]:  0.6151589751243591\n",
            "train_batch_loss[ 24100 ]:  0.7909151315689087\n",
            "train_batch_loss[ 24200 ]:  0.7950913310050964\n",
            "train_batch_loss[ 24300 ]:  1.026710033416748\n",
            "train_batch_loss[ 24400 ]:  1.0260084867477417\n",
            "train_batch_loss[ 24500 ]:  0.5107356309890747\n",
            "train_batch_loss[ 24600 ]:  0.742157518863678\n"
          ],
          "name": "stdout"
        },
        {
          "output_type": "stream",
          "text": [
            "Evaluate: 100%|██████████| 29/29 [00:00<00:00, 49.02it/s]\n"
          ],
          "name": "stderr"
        },
        {
          "output_type": "stream",
          "text": [
            "valid_evaluation: loss = 0.7910251516766018, acc = 0.7777676405540381\n",
            "save model at  checkpoints/crnn_024624_acc0.7777676405540381.pt\n",
            "Validation loss decreased (0.839774 --> 0.791025).  Saving model ...\n",
            "train_loss:  0.8667757271085093\n",
            "epoch: 37\n",
            "train_batch_loss[ 24700 ]:  0.8520901203155518\n",
            "train_batch_loss[ 24800 ]:  0.505654513835907\n",
            "train_batch_loss[ 24900 ]:  1.3091816902160645\n",
            "train_batch_loss[ 25000 ]:  1.0308924913406372\n",
            "train_batch_loss[ 25100 ]:  0.8645049929618835\n",
            "train_batch_loss[ 25200 ]:  0.5488958954811096\n",
            "train_batch_loss[ 25300 ]:  0.7269567251205444\n"
          ],
          "name": "stdout"
        },
        {
          "output_type": "stream",
          "text": [
            "Evaluate: 100%|██████████| 29/29 [00:00<00:00, 49.46it/s]\n"
          ],
          "name": "stderr"
        },
        {
          "output_type": "stream",
          "text": [
            "valid_evaluation: loss = 0.8575068420834011, acc = 0.7493118812803276\n",
            "save model at  checkpoints/crnn_025308_acc0.7493118812803276.pt\n",
            "EarlyStopping counter: 1 out of 10\n",
            "train_loss:  0.8567933927674679\n",
            "epoch: 38\n",
            "train_batch_loss[ 25400 ]:  1.0804697275161743\n",
            "train_batch_loss[ 25500 ]:  0.7552856802940369\n",
            "train_batch_loss[ 25600 ]:  0.8320629000663757\n",
            "train_batch_loss[ 25700 ]:  0.597136914730072\n",
            "train_batch_loss[ 25800 ]:  0.366128534078598\n",
            "train_batch_loss[ 25900 ]:  0.6869766712188721\n"
          ],
          "name": "stdout"
        },
        {
          "output_type": "stream",
          "text": [
            "Evaluate: 100%|██████████| 29/29 [00:00<00:00, 48.47it/s]\n"
          ],
          "name": "stderr"
        },
        {
          "output_type": "stream",
          "text": [
            "valid_evaluation: loss = 0.8207006907463074, acc = 0.7655249051074807\n",
            "save model at  checkpoints/crnn_025992_acc0.7655249051074807.pt\n",
            "EarlyStopping counter: 2 out of 10\n",
            "train_loss:  0.8426446683558363\n",
            "epoch: 39\n",
            "train_batch_loss[ 26000 ]:  1.017570972442627\n",
            "train_batch_loss[ 26100 ]:  0.8594755530357361\n",
            "train_batch_loss[ 26200 ]:  0.8572510480880737\n",
            "train_batch_loss[ 26300 ]:  0.6160465478897095\n",
            "train_batch_loss[ 26400 ]:  0.7268540263175964\n",
            "train_batch_loss[ 26500 ]:  0.8776070475578308\n",
            "train_batch_loss[ 26600 ]:  0.8357971906661987\n"
          ],
          "name": "stdout"
        },
        {
          "output_type": "stream",
          "text": [
            "Evaluate: 100%|██████████| 29/29 [00:00<00:00, 47.45it/s]\n"
          ],
          "name": "stderr"
        },
        {
          "output_type": "stream",
          "text": [
            "valid_evaluation: loss = 0.8114163523250156, acc = 0.7625593181194408\n",
            "save model at  checkpoints/crnn_026676_acc0.7625593181194408.pt\n",
            "EarlyStopping counter: 3 out of 10\n",
            "train_loss:  0.8260535741212109\n",
            "epoch: 40\n",
            "train_batch_loss[ 26700 ]:  0.685057520866394\n",
            "train_batch_loss[ 26800 ]:  0.9435925483703613\n",
            "train_batch_loss[ 26900 ]:  0.7025377154350281\n",
            "train_batch_loss[ 27000 ]:  0.6862762570381165\n",
            "train_batch_loss[ 27100 ]:  0.8899401426315308\n",
            "train_batch_loss[ 27200 ]:  1.079679012298584\n",
            "train_batch_loss[ 27300 ]:  1.0203282833099365\n"
          ],
          "name": "stdout"
        },
        {
          "output_type": "stream",
          "text": [
            "Evaluate: 100%|██████████| 29/29 [00:00<00:00, 47.05it/s]\n"
          ],
          "name": "stderr"
        },
        {
          "output_type": "stream",
          "text": [
            "valid_evaluation: loss = 0.7822827290826374, acc = 0.7683065942127145\n",
            "save model at  checkpoints/crnn_027360_acc0.7683065942127145.pt\n",
            "Validation loss decreased (0.791025 --> 0.782283).  Saving model ...\n",
            "train_loss:  0.8102143852362962\n",
            "epoch: 41\n",
            "train_batch_loss[ 27400 ]:  0.9541086554527283\n",
            "train_batch_loss[ 27500 ]:  0.7117648124694824\n",
            "train_batch_loss[ 27600 ]:  1.030285358428955\n",
            "train_batch_loss[ 27700 ]:  0.7719276547431946\n",
            "train_batch_loss[ 27800 ]:  0.8610550165176392\n",
            "train_batch_loss[ 27900 ]:  0.9350504279136658\n",
            "train_batch_loss[ 28000 ]:  0.6667896509170532\n"
          ],
          "name": "stdout"
        },
        {
          "output_type": "stream",
          "text": [
            "Evaluate: 100%|██████████| 29/29 [00:00<00:00, 48.57it/s]\n"
          ],
          "name": "stderr"
        },
        {
          "output_type": "stream",
          "text": [
            "valid_evaluation: loss = 0.8502874766455756, acc = 0.757967419759466\n",
            "save model at  checkpoints/crnn_028044_acc0.757967419759466.pt\n",
            "EarlyStopping counter: 1 out of 10\n",
            "train_loss:  0.8040873180419057\n",
            "epoch: 42\n",
            "train_batch_loss[ 28100 ]:  0.5474284291267395\n",
            "train_batch_loss[ 28200 ]:  0.7408088445663452\n",
            "train_batch_loss[ 28300 ]:  0.9662744998931885\n",
            "train_batch_loss[ 28400 ]:  0.6108388304710388\n",
            "train_batch_loss[ 28500 ]:  0.6572015881538391\n",
            "train_batch_loss[ 28600 ]:  0.7690912485122681\n",
            "train_batch_loss[ 28700 ]:  1.0373657941818237\n"
          ],
          "name": "stdout"
        },
        {
          "output_type": "stream",
          "text": [
            "Evaluate: 100%|██████████| 29/29 [00:00<00:00, 48.77it/s]\n"
          ],
          "name": "stderr"
        },
        {
          "output_type": "stream",
          "text": [
            "valid_evaluation: loss = 0.8631116517384847, acc = 0.7682768633490519\n",
            "save model at  checkpoints/crnn_028728_acc0.7682768633490519.pt\n",
            "EarlyStopping counter: 2 out of 10\n",
            "train_loss:  0.791608457735373\n",
            "epoch: 43\n",
            "train_batch_loss[ 28800 ]:  1.0258954763412476\n",
            "train_batch_loss[ 28900 ]:  0.6067562103271484\n",
            "train_batch_loss[ 29000 ]:  1.0897568464279175\n",
            "train_batch_loss[ 29100 ]:  0.5975837111473083\n",
            "train_batch_loss[ 29200 ]:  0.7358089685440063\n",
            "train_batch_loss[ 29300 ]:  0.8324577808380127\n",
            "train_batch_loss[ 29400 ]:  1.0064585208892822\n"
          ],
          "name": "stdout"
        },
        {
          "output_type": "stream",
          "text": [
            "Evaluate: 100%|██████████| 29/29 [00:00<00:00, 48.84it/s]\n"
          ],
          "name": "stderr"
        },
        {
          "output_type": "stream",
          "text": [
            "valid_evaluation: loss = 0.8938664637671576, acc = 0.746082098662228\n",
            "save model at  checkpoints/crnn_029412_acc0.746082098662228.pt\n",
            "EarlyStopping counter: 3 out of 10\n",
            "train_loss:  0.7808277144953165\n",
            "epoch: 44\n",
            "train_batch_loss[ 29500 ]:  0.9168161153793335\n",
            "train_batch_loss[ 29600 ]:  0.6840366721153259\n",
            "train_batch_loss[ 29700 ]:  0.826968252658844\n",
            "train_batch_loss[ 29800 ]:  0.7992410063743591\n",
            "train_batch_loss[ 29900 ]:  0.4498031437397003\n",
            "train_batch_loss[ 30000 ]:  0.7139579653739929\n"
          ],
          "name": "stdout"
        },
        {
          "output_type": "stream",
          "text": [
            "Evaluate: 100%|██████████| 29/29 [00:00<00:00, 49.33it/s]\n"
          ],
          "name": "stderr"
        },
        {
          "output_type": "stream",
          "text": [
            "valid_evaluation: loss = 0.8532546925544738, acc = 0.7660523490843375\n",
            "save model at  checkpoints/crnn_030096_acc0.7660523490843375.pt\n",
            "EarlyStopping counter: 4 out of 10\n",
            "train_loss:  0.7738016477392098\n",
            "epoch: 45\n",
            "train_batch_loss[ 30100 ]:  0.6325413584709167\n",
            "train_batch_loss[ 30200 ]:  0.6176424622535706\n",
            "train_batch_loss[ 30300 ]:  0.6516959071159363\n",
            "train_batch_loss[ 30400 ]:  0.7264223694801331\n",
            "train_batch_loss[ 30500 ]:  0.8358305096626282\n",
            "train_batch_loss[ 30600 ]:  0.6096628308296204\n",
            "train_batch_loss[ 30700 ]:  0.7729889750480652\n"
          ],
          "name": "stdout"
        },
        {
          "output_type": "stream",
          "text": [
            "Evaluate: 100%|██████████| 29/29 [00:00<00:00, 48.72it/s]\n"
          ],
          "name": "stderr"
        },
        {
          "output_type": "stream",
          "text": [
            "valid_evaluation: loss = 0.8729086573918661, acc = 0.7523372479057756\n",
            "save model at  checkpoints/crnn_030780_acc0.7523372479057756.pt\n",
            "EarlyStopping counter: 5 out of 10\n",
            "train_loss:  0.7586417287574493\n",
            "epoch: 46\n",
            "train_batch_loss[ 30800 ]:  0.7032009363174438\n",
            "train_batch_loss[ 30900 ]:  0.5825082659721375\n",
            "train_batch_loss[ 31000 ]:  0.6629422903060913\n",
            "train_batch_loss[ 31100 ]:  0.7415552139282227\n",
            "train_batch_loss[ 31200 ]:  0.7324984073638916\n",
            "train_batch_loss[ 31300 ]:  0.829189121723175\n",
            "train_batch_loss[ 31400 ]:  0.6420745849609375\n"
          ],
          "name": "stdout"
        },
        {
          "output_type": "stream",
          "text": [
            "Evaluate: 100%|██████████| 29/29 [00:00<00:00, 48.84it/s]\n"
          ],
          "name": "stderr"
        },
        {
          "output_type": "stream",
          "text": [
            "valid_evaluation: loss = 0.8654996135499742, acc = 0.7700268430237691\n",
            "save model at  checkpoints/crnn_031464_acc0.7700268430237691.pt\n",
            "EarlyStopping counter: 6 out of 10\n",
            "train_loss:  0.7375286661766411\n",
            "epoch: 47\n",
            "train_batch_loss[ 31500 ]:  0.5210912227630615\n",
            "train_batch_loss[ 31600 ]:  0.5333493947982788\n",
            "train_batch_loss[ 31700 ]:  0.6251315474510193\n",
            "train_batch_loss[ 31800 ]:  0.7151636481285095\n",
            "train_batch_loss[ 31900 ]:  0.8433881998062134\n",
            "train_batch_loss[ 32000 ]:  0.7674150466918945\n",
            "train_batch_loss[ 32100 ]:  0.6268510222434998\n"
          ],
          "name": "stdout"
        },
        {
          "output_type": "stream",
          "text": [
            "Evaluate: 100%|██████████| 29/29 [00:00<00:00, 49.24it/s]\n"
          ],
          "name": "stderr"
        },
        {
          "output_type": "stream",
          "text": [
            "valid_evaluation: loss = 0.878135610156589, acc = 0.7637430135601286\n",
            "save model at  checkpoints/crnn_032148_acc0.7637430135601286.pt\n",
            "EarlyStopping counter: 7 out of 10\n",
            "train_loss:  0.734456323716103\n",
            "epoch: 48\n",
            "train_batch_loss[ 32200 ]:  0.4038737416267395\n",
            "train_batch_loss[ 32300 ]:  0.7349547743797302\n",
            "train_batch_loss[ 32400 ]:  0.9458633065223694\n",
            "train_batch_loss[ 32500 ]:  0.6970990896224976\n",
            "train_batch_loss[ 32600 ]:  0.4229521155357361\n",
            "train_batch_loss[ 32700 ]:  0.6320050954818726\n",
            "train_batch_loss[ 32800 ]:  0.9151467680931091\n"
          ],
          "name": "stdout"
        },
        {
          "output_type": "stream",
          "text": [
            "Evaluate: 100%|██████████| 29/29 [00:00<00:00, 48.50it/s]\n"
          ],
          "name": "stderr"
        },
        {
          "output_type": "stream",
          "text": [
            "valid_evaluation: loss = 0.9198164811399248, acc = 0.7503918165999474\n",
            "save model at  checkpoints/crnn_032832_acc0.7503918165999474.pt\n",
            "EarlyStopping counter: 8 out of 10\n",
            "train_loss:  0.7306907475457979\n",
            "epoch: 49\n",
            "train_batch_loss[ 32900 ]:  0.8830077648162842\n",
            "train_batch_loss[ 33000 ]:  0.7380729913711548\n",
            "train_batch_loss[ 33100 ]:  0.7723124027252197\n",
            "train_batch_loss[ 33200 ]:  0.6156758069992065\n",
            "train_batch_loss[ 33300 ]:  0.852587103843689\n",
            "train_batch_loss[ 33400 ]:  0.6458860039710999\n",
            "train_batch_loss[ 33500 ]:  0.7735025882720947\n"
          ],
          "name": "stdout"
        },
        {
          "output_type": "stream",
          "text": [
            "Evaluate: 100%|██████████| 29/29 [00:00<00:00, 48.27it/s]\n"
          ],
          "name": "stderr"
        },
        {
          "output_type": "stream",
          "text": [
            "valid_evaluation: loss = 0.8880586920844185, acc = 0.7634912258959689\n",
            "save model at  checkpoints/crnn_033516_acc0.7634912258959689.pt\n",
            "EarlyStopping counter: 9 out of 10\n",
            "train_loss:  0.7306009218035412\n",
            "epoch: 50\n",
            "train_batch_loss[ 33600 ]:  0.6726452112197876\n",
            "train_batch_loss[ 33700 ]:  0.8898561000823975\n",
            "train_batch_loss[ 33800 ]:  0.7671752572059631\n",
            "train_batch_loss[ 33900 ]:  0.6946232318878174\n",
            "train_batch_loss[ 34000 ]:  0.536004900932312\n",
            "train_batch_loss[ 34100 ]:  0.8192394971847534\n"
          ],
          "name": "stdout"
        },
        {
          "output_type": "stream",
          "text": [
            "Evaluate:  17%|█▋        | 5/29 [00:00<00:00, 47.26it/s]"
          ],
          "name": "stderr"
        },
        {
          "output_type": "stream",
          "text": [
            "train_batch_loss[ 34200 ]:  0.6561823572431292\n"
          ],
          "name": "stdout"
        },
        {
          "output_type": "stream",
          "text": [
            "Evaluate: 100%|██████████| 29/29 [00:00<00:00, 48.73it/s]\n",
            "Predict:  19%|█▉        | 5/26 [00:00<00:00, 50.00it/s]"
          ],
          "name": "stderr"
        },
        {
          "output_type": "stream",
          "text": [
            "valid_evaluation: loss = 0.8921404634581672, acc = 0.7622027458799675\n",
            "save model at  checkpoints/crnn_034200_acc0.7622027458799675.pt\n",
            "EarlyStopping counter: 10 out of 10\n",
            "train_loss:  0.70588886459832\n",
            "Early stopping\n"
          ],
          "name": "stdout"
        },
        {
          "output_type": "stream",
          "text": [
            "Predict: 100%|██████████| 26/26 [00:00<00:00, 48.96it/s]\n"
          ],
          "name": "stderr"
        },
        {
          "output_type": "stream",
          "text": [
            "F1 without majority = 0.786740011192942\n",
            "F1 with majority = 0.8325954592363263\n",
            "Current trial: slice_length = 94; random_state = 21\n",
            "device: cuda\n",
            "epoch: 1\n",
            "train_batch_loss[ 100 ]:  2.3995132446289062\n",
            "train_batch_loss[ 200 ]:  2.294823169708252\n",
            "train_batch_loss[ 300 ]:  2.180870771408081\n",
            "train_batch_loss[ 400 ]:  2.2452330589294434\n",
            "train_batch_loss[ 500 ]:  2.255980968475342\n",
            "train_batch_loss[ 600 ]:  2.2380824089050293\n"
          ],
          "name": "stdout"
        },
        {
          "output_type": "stream",
          "text": [
            "Evaluate: 100%|██████████| 29/29 [00:00<00:00, 46.94it/s]\n"
          ],
          "name": "stderr"
        },
        {
          "output_type": "stream",
          "text": [
            "valid_evaluation: loss = 2.201249605814616, acc = 0.10831332152583954\n",
            "save model at  checkpoints/crnn_000684_acc0.10831332152583954.pt\n",
            "Validation loss decreased (inf --> 2.201250).  Saving model ...\n",
            "train_loss:  2.2656724969927557\n",
            "epoch: 2\n",
            "train_batch_loss[ 700 ]:  2.156614065170288\n",
            "train_batch_loss[ 800 ]:  2.217154026031494\n",
            "train_batch_loss[ 900 ]:  2.1831650733947754\n",
            "train_batch_loss[ 1000 ]:  2.218079090118408\n",
            "train_batch_loss[ 1100 ]:  2.0485401153564453\n",
            "train_batch_loss[ 1200 ]:  2.1648380756378174\n",
            "train_batch_loss[ 1300 ]:  2.0643951892852783\n"
          ],
          "name": "stdout"
        },
        {
          "output_type": "stream",
          "text": [
            "Evaluate: 100%|██████████| 29/29 [00:00<00:00, 46.85it/s]\n"
          ],
          "name": "stderr"
        },
        {
          "output_type": "stream",
          "text": [
            "valid_evaluation: loss = 2.083465814590454, acc = 0.17127186093143892\n",
            "save model at  checkpoints/crnn_001368_acc0.17127186093143892.pt\n",
            "Validation loss decreased (2.201250 --> 2.083466).  Saving model ...\n",
            "train_loss:  2.1700409709126314\n",
            "epoch: 3\n",
            "train_batch_loss[ 1400 ]:  2.023465633392334\n",
            "train_batch_loss[ 1500 ]:  2.0379068851470947\n",
            "train_batch_loss[ 1600 ]:  1.8986918926239014\n",
            "train_batch_loss[ 1700 ]:  2.0329513549804688\n",
            "train_batch_loss[ 1800 ]:  2.0160868167877197\n",
            "train_batch_loss[ 1900 ]:  1.9682502746582031\n",
            "train_batch_loss[ 2000 ]:  1.902824878692627\n"
          ],
          "name": "stdout"
        },
        {
          "output_type": "stream",
          "text": [
            "Evaluate: 100%|██████████| 29/29 [00:00<00:00, 46.99it/s]\n"
          ],
          "name": "stderr"
        },
        {
          "output_type": "stream",
          "text": [
            "valid_evaluation: loss = 1.912343790266249, acc = 0.2684497581800191\n",
            "save model at  checkpoints/crnn_002052_acc0.2684497581800191.pt\n",
            "Validation loss decreased (2.083466 --> 1.912344).  Saving model ...\n",
            "train_loss:  2.0660465652996076\n",
            "epoch: 4\n",
            "train_batch_loss[ 2100 ]:  1.946599006652832\n",
            "train_batch_loss[ 2200 ]:  2.0215866565704346\n",
            "train_batch_loss[ 2300 ]:  1.8451839685440063\n",
            "train_batch_loss[ 2400 ]:  1.962897777557373\n",
            "train_batch_loss[ 2500 ]:  2.042919874191284\n",
            "train_batch_loss[ 2600 ]:  1.9172195196151733\n",
            "train_batch_loss[ 2700 ]:  1.909673810005188\n"
          ],
          "name": "stdout"
        },
        {
          "output_type": "stream",
          "text": [
            "Evaluate: 100%|██████████| 29/29 [00:00<00:00, 47.18it/s]\n"
          ],
          "name": "stderr"
        },
        {
          "output_type": "stream",
          "text": [
            "valid_evaluation: loss = 1.7891851377487182, acc = 0.3117338973768246\n",
            "save model at  checkpoints/crnn_002736_acc0.3117338973768246.pt\n",
            "Validation loss decreased (1.912344 --> 1.789185).  Saving model ...\n",
            "train_loss:  1.9631730135031142\n",
            "epoch: 5\n",
            "train_batch_loss[ 2800 ]:  1.920558214187622\n",
            "train_batch_loss[ 2900 ]:  1.8347663879394531\n",
            "train_batch_loss[ 3000 ]:  1.8735777139663696\n",
            "train_batch_loss[ 3100 ]:  1.97154700756073\n",
            "train_batch_loss[ 3200 ]:  1.641933560371399\n",
            "train_batch_loss[ 3300 ]:  1.8528108596801758\n",
            "train_batch_loss[ 3400 ]:  1.5352861881256104\n"
          ],
          "name": "stdout"
        },
        {
          "output_type": "stream",
          "text": [
            "Evaluate: 100%|██████████| 29/29 [00:00<00:00, 47.22it/s]\n"
          ],
          "name": "stderr"
        },
        {
          "output_type": "stream",
          "text": [
            "valid_evaluation: loss = 1.6813394864400228, acc = 0.3617913361477666\n",
            "save model at  checkpoints/crnn_003420_acc0.3617913361477666.pt\n",
            "Validation loss decreased (1.789185 --> 1.681339).  Saving model ...\n",
            "train_loss:  1.8873030826933155\n",
            "epoch: 6\n",
            "train_batch_loss[ 3500 ]:  1.8930402994155884\n",
            "train_batch_loss[ 3600 ]:  1.838010311126709\n",
            "train_batch_loss[ 3700 ]:  1.8016160726547241\n",
            "train_batch_loss[ 3800 ]:  1.6721211671829224\n",
            "train_batch_loss[ 3900 ]:  1.8467127084732056\n",
            "train_batch_loss[ 4000 ]:  1.7219138145446777\n"
          ],
          "name": "stdout"
        },
        {
          "output_type": "stream",
          "text": [
            "\rEvaluate:   0%|          | 0/29 [00:00<?, ?it/s]"
          ],
          "name": "stderr"
        },
        {
          "output_type": "stream",
          "text": [
            "train_batch_loss[ 4100 ]:  1.8056632280349731\n"
          ],
          "name": "stdout"
        },
        {
          "output_type": "stream",
          "text": [
            "Evaluate: 100%|██████████| 29/29 [00:00<00:00, 45.94it/s]\n"
          ],
          "name": "stderr"
        },
        {
          "output_type": "stream",
          "text": [
            "valid_evaluation: loss = 1.608766902287801, acc = 0.393580834105248\n",
            "save model at  checkpoints/crnn_004104_acc0.393580834105248.pt\n",
            "Validation loss decreased (1.681339 --> 1.608767).  Saving model ...\n",
            "train_loss:  1.8232760713260687\n",
            "epoch: 7\n",
            "train_batch_loss[ 4200 ]:  1.9801703691482544\n",
            "train_batch_loss[ 4300 ]:  1.7162139415740967\n",
            "train_batch_loss[ 4400 ]:  1.5861371755599976\n",
            "train_batch_loss[ 4500 ]:  1.62941312789917\n",
            "train_batch_loss[ 4600 ]:  1.8505492210388184\n",
            "train_batch_loss[ 4700 ]:  1.6586041450500488\n"
          ],
          "name": "stdout"
        },
        {
          "output_type": "stream",
          "text": [
            "Evaluate: 100%|██████████| 29/29 [00:00<00:00, 46.82it/s]\n"
          ],
          "name": "stderr"
        },
        {
          "output_type": "stream",
          "text": [
            "valid_evaluation: loss = 1.5693603658676147, acc = 0.4264410274654629\n",
            "save model at  checkpoints/crnn_004788_acc0.4264410274654629.pt\n",
            "Validation loss decreased (1.608767 --> 1.569360).  Saving model ...\n",
            "train_loss:  1.761829209556632\n",
            "epoch: 8\n",
            "train_batch_loss[ 4800 ]:  1.701747179031372\n",
            "train_batch_loss[ 4900 ]:  1.679161548614502\n",
            "train_batch_loss[ 5000 ]:  1.6650714874267578\n",
            "train_batch_loss[ 5100 ]:  1.7822636365890503\n",
            "train_batch_loss[ 5200 ]:  1.7179102897644043\n",
            "train_batch_loss[ 5300 ]:  1.7562366724014282\n",
            "train_batch_loss[ 5400 ]:  1.5772322416305542\n"
          ],
          "name": "stdout"
        },
        {
          "output_type": "stream",
          "text": [
            "Evaluate: 100%|██████████| 29/29 [00:00<00:00, 46.95it/s]\n"
          ],
          "name": "stderr"
        },
        {
          "output_type": "stream",
          "text": [
            "valid_evaluation: loss = 1.3882309012942844, acc = 0.5528564982588765\n",
            "save model at  checkpoints/crnn_005472_acc0.5528564982588765.pt\n",
            "Validation loss decreased (1.569360 --> 1.388231).  Saving model ...\n",
            "train_loss:  1.7077856880156592\n",
            "epoch: 9\n",
            "train_batch_loss[ 5500 ]:  1.5743436813354492\n",
            "train_batch_loss[ 5600 ]:  1.6990841627120972\n",
            "train_batch_loss[ 5700 ]:  1.549450159072876\n",
            "train_batch_loss[ 5800 ]:  1.5697705745697021\n",
            "train_batch_loss[ 5900 ]:  1.604671835899353\n",
            "train_batch_loss[ 6000 ]:  1.541261911392212\n",
            "train_batch_loss[ 6100 ]:  1.7576876878738403\n"
          ],
          "name": "stdout"
        },
        {
          "output_type": "stream",
          "text": [
            "Evaluate: 100%|██████████| 29/29 [00:00<00:00, 46.81it/s]\n"
          ],
          "name": "stderr"
        },
        {
          "output_type": "stream",
          "text": [
            "valid_evaluation: loss = 1.3779376951853435, acc = 0.5386935384157425\n",
            "save model at  checkpoints/crnn_006156_acc0.5386935384157425.pt\n",
            "Validation loss decreased (1.388231 --> 1.377938).  Saving model ...\n",
            "train_loss:  1.6603585812290018\n",
            "epoch: 10\n",
            "train_batch_loss[ 6200 ]:  1.7393497228622437\n",
            "train_batch_loss[ 6300 ]:  1.612020492553711\n",
            "train_batch_loss[ 6400 ]:  1.4358125925064087\n",
            "train_batch_loss[ 6500 ]:  1.3250916004180908\n",
            "train_batch_loss[ 6600 ]:  1.7002428770065308\n",
            "train_batch_loss[ 6700 ]:  1.6860421895980835\n",
            "train_batch_loss[ 6800 ]:  1.9481033086776733\n"
          ],
          "name": "stdout"
        },
        {
          "output_type": "stream",
          "text": [
            "Evaluate: 100%|██████████| 29/29 [00:00<00:00, 47.56it/s]\n"
          ],
          "name": "stderr"
        },
        {
          "output_type": "stream",
          "text": [
            "valid_evaluation: loss = 1.423250126308865, acc = 0.5639142747901711\n",
            "save model at  checkpoints/crnn_006840_acc0.5639142747901711.pt\n",
            "EarlyStopping counter: 1 out of 10\n",
            "train_loss:  1.6055992147395968\n",
            "epoch: 11\n",
            "train_batch_loss[ 6900 ]:  1.366497278213501\n",
            "train_batch_loss[ 7000 ]:  1.7447768449783325\n",
            "train_batch_loss[ 7100 ]:  1.501055359840393\n",
            "train_batch_loss[ 7200 ]:  1.7061766386032104\n",
            "train_batch_loss[ 7300 ]:  1.3694874048233032\n",
            "train_batch_loss[ 7400 ]:  1.7234991788864136\n",
            "train_batch_loss[ 7500 ]:  1.4750696420669556\n"
          ],
          "name": "stdout"
        },
        {
          "output_type": "stream",
          "text": [
            "Evaluate: 100%|██████████| 29/29 [00:00<00:00, 47.08it/s]\n"
          ],
          "name": "stderr"
        },
        {
          "output_type": "stream",
          "text": [
            "valid_evaluation: loss = 1.2520420837402344, acc = 0.6286663346512477\n",
            "save model at  checkpoints/crnn_007524_acc0.6286663346512477.pt\n",
            "Validation loss decreased (1.377938 --> 1.252042).  Saving model ...\n",
            "train_loss:  1.5643125100608934\n",
            "epoch: 12\n",
            "train_batch_loss[ 7600 ]:  1.5064465999603271\n",
            "train_batch_loss[ 7700 ]:  1.5368824005126953\n",
            "train_batch_loss[ 7800 ]:  1.6881370544433594\n",
            "train_batch_loss[ 7900 ]:  1.5376514196395874\n",
            "train_batch_loss[ 8000 ]:  1.6166315078735352\n",
            "train_batch_loss[ 8100 ]:  1.6908068656921387\n",
            "train_batch_loss[ 8200 ]:  1.4595474004745483\n"
          ],
          "name": "stdout"
        },
        {
          "output_type": "stream",
          "text": [
            "Evaluate: 100%|██████████| 29/29 [00:00<00:00, 46.99it/s]\n"
          ],
          "name": "stderr"
        },
        {
          "output_type": "stream",
          "text": [
            "valid_evaluation: loss = 1.2734261147181194, acc = 0.6046373558016542\n",
            "save model at  checkpoints/crnn_008208_acc0.6046373558016542.pt\n",
            "EarlyStopping counter: 1 out of 10\n",
            "train_loss:  1.531084005375894\n",
            "epoch: 13\n",
            "train_batch_loss[ 8300 ]:  1.3876246213912964\n",
            "train_batch_loss[ 8400 ]:  1.6610451936721802\n",
            "train_batch_loss[ 8500 ]:  1.9341460466384888\n",
            "train_batch_loss[ 8600 ]:  1.4350825548171997\n",
            "train_batch_loss[ 8700 ]:  1.5771342515945435\n",
            "train_batch_loss[ 8800 ]:  1.454727053642273\n"
          ],
          "name": "stdout"
        },
        {
          "output_type": "stream",
          "text": [
            "Evaluate: 100%|██████████| 29/29 [00:00<00:00, 46.05it/s]\n"
          ],
          "name": "stderr"
        },
        {
          "output_type": "stream",
          "text": [
            "valid_evaluation: loss = 1.164344498316447, acc = 0.6275360367590366\n",
            "save model at  checkpoints/crnn_008892_acc0.6275360367590366.pt\n",
            "Validation loss decreased (1.252042 --> 1.164344).  Saving model ...\n",
            "train_loss:  1.4923287001384358\n",
            "epoch: 14\n",
            "train_batch_loss[ 8900 ]:  1.7040386199951172\n",
            "train_batch_loss[ 9000 ]:  1.5917116403579712\n",
            "train_batch_loss[ 9100 ]:  1.196000337600708\n",
            "train_batch_loss[ 9200 ]:  1.3793139457702637\n",
            "train_batch_loss[ 9300 ]:  1.4369856119155884\n",
            "train_batch_loss[ 9400 ]:  1.6004266738891602\n",
            "train_batch_loss[ 9500 ]:  1.4252053499221802\n"
          ],
          "name": "stdout"
        },
        {
          "output_type": "stream",
          "text": [
            "Evaluate: 100%|██████████| 29/29 [00:00<00:00, 47.28it/s]\n"
          ],
          "name": "stderr"
        },
        {
          "output_type": "stream",
          "text": [
            "valid_evaluation: loss = 1.1230848500463697, acc = 0.6671571725675889\n",
            "save model at  checkpoints/crnn_009576_acc0.6671571725675889.pt\n",
            "Validation loss decreased (1.164344 --> 1.123085).  Saving model ...\n",
            "train_loss:  1.455789714127738\n",
            "epoch: 15\n",
            "train_batch_loss[ 9600 ]:  1.3000330924987793\n",
            "train_batch_loss[ 9700 ]:  1.422078013420105\n",
            "train_batch_loss[ 9800 ]:  1.3475245237350464\n",
            "train_batch_loss[ 9900 ]:  1.1803786754608154\n",
            "train_batch_loss[ 10000 ]:  1.4776411056518555\n",
            "train_batch_loss[ 10100 ]:  1.5288445949554443\n",
            "train_batch_loss[ 10200 ]:  1.353143334388733\n"
          ],
          "name": "stdout"
        },
        {
          "output_type": "stream",
          "text": [
            "Evaluate: 100%|██████████| 29/29 [00:00<00:00, 47.49it/s]\n"
          ],
          "name": "stderr"
        },
        {
          "output_type": "stream",
          "text": [
            "valid_evaluation: loss = 1.1546175948778787, acc = 0.6554710059475557\n",
            "save model at  checkpoints/crnn_010260_acc0.6554710059475557.pt\n",
            "EarlyStopping counter: 1 out of 10\n",
            "train_loss:  1.414211015914966\n",
            "epoch: 16\n",
            "train_batch_loss[ 10300 ]:  1.5923936367034912\n",
            "train_batch_loss[ 10400 ]:  1.54573655128479\n",
            "train_batch_loss[ 10500 ]:  1.6735962629318237\n",
            "train_batch_loss[ 10600 ]:  1.2914683818817139\n",
            "train_batch_loss[ 10700 ]:  1.388871669769287\n",
            "train_batch_loss[ 10800 ]:  1.3342771530151367\n",
            "train_batch_loss[ 10900 ]:  1.4607354402542114\n"
          ],
          "name": "stdout"
        },
        {
          "output_type": "stream",
          "text": [
            "Evaluate: 100%|██████████| 29/29 [00:00<00:00, 45.75it/s]\n"
          ],
          "name": "stderr"
        },
        {
          "output_type": "stream",
          "text": [
            "valid_evaluation: loss = 1.0556845559014214, acc = 0.6792588528899126\n",
            "save model at  checkpoints/crnn_010944_acc0.6792588528899126.pt\n",
            "Validation loss decreased (1.123085 --> 1.055685).  Saving model ...\n",
            "train_loss:  1.3764613823526572\n",
            "epoch: 17\n",
            "train_batch_loss[ 11000 ]:  1.2594009637832642\n",
            "train_batch_loss[ 11100 ]:  1.3236497640609741\n",
            "train_batch_loss[ 11200 ]:  1.175950050354004\n",
            "train_batch_loss[ 11300 ]:  1.510105013847351\n",
            "train_batch_loss[ 11400 ]:  1.2886468172073364\n",
            "train_batch_loss[ 11500 ]:  1.1142500638961792\n",
            "train_batch_loss[ 11600 ]:  1.6499862670898438\n"
          ],
          "name": "stdout"
        },
        {
          "output_type": "stream",
          "text": [
            "Evaluate: 100%|██████████| 29/29 [00:00<00:00, 46.81it/s]\n"
          ],
          "name": "stderr"
        },
        {
          "output_type": "stream",
          "text": [
            "valid_evaluation: loss = 1.028828698264228, acc = 0.688671841102037\n",
            "save model at  checkpoints/crnn_011628_acc0.688671841102037.pt\n",
            "Validation loss decreased (1.055685 --> 1.028829).  Saving model ...\n",
            "train_loss:  1.3497551666420238\n",
            "epoch: 18\n",
            "train_batch_loss[ 11700 ]:  1.4656010866165161\n",
            "train_batch_loss[ 11800 ]:  1.2328749895095825\n",
            "train_batch_loss[ 11900 ]:  1.2053985595703125\n",
            "train_batch_loss[ 12000 ]:  1.532408595085144\n",
            "train_batch_loss[ 12100 ]:  1.28082275390625\n",
            "train_batch_loss[ 12200 ]:  1.531956672668457\n",
            "train_batch_loss[ 12300 ]:  1.1053370237350464\n"
          ],
          "name": "stdout"
        },
        {
          "output_type": "stream",
          "text": [
            "Evaluate: 100%|██████████| 29/29 [00:00<00:00, 46.91it/s]\n"
          ],
          "name": "stderr"
        },
        {
          "output_type": "stream",
          "text": [
            "valid_evaluation: loss = 1.0412831944889493, acc = 0.6496262947358058\n",
            "save model at  checkpoints/crnn_012312_acc0.6496262947358058.pt\n",
            "EarlyStopping counter: 1 out of 10\n",
            "train_loss:  1.323452560641093\n",
            "epoch: 19\n",
            "train_batch_loss[ 12400 ]:  1.4335066080093384\n",
            "train_batch_loss[ 12500 ]:  1.30936861038208\n",
            "train_batch_loss[ 12600 ]:  1.7176532745361328\n",
            "train_batch_loss[ 12700 ]:  1.1409173011779785\n",
            "train_batch_loss[ 12800 ]:  1.4153742790222168\n",
            "train_batch_loss[ 12900 ]:  1.2055703401565552\n"
          ],
          "name": "stdout"
        },
        {
          "output_type": "stream",
          "text": [
            "Evaluate: 100%|██████████| 29/29 [00:00<00:00, 46.94it/s]\n"
          ],
          "name": "stderr"
        },
        {
          "output_type": "stream",
          "text": [
            "valid_evaluation: loss = 1.0370537757873535, acc = 0.6636247273063544\n",
            "save model at  checkpoints/crnn_012996_acc0.6636247273063544.pt\n",
            "EarlyStopping counter: 2 out of 10\n",
            "train_loss:  1.2935474073499864\n",
            "epoch: 20\n",
            "train_batch_loss[ 13000 ]:  1.2588905096054077\n",
            "train_batch_loss[ 13100 ]:  1.1245858669281006\n",
            "train_batch_loss[ 13200 ]:  1.4668349027633667\n",
            "train_batch_loss[ 13300 ]:  1.2840031385421753\n",
            "train_batch_loss[ 13400 ]:  1.197066068649292\n",
            "train_batch_loss[ 13500 ]:  1.1762630939483643\n",
            "train_batch_loss[ 13600 ]:  1.0520009994506836\n"
          ],
          "name": "stdout"
        },
        {
          "output_type": "stream",
          "text": [
            "Evaluate: 100%|██████████| 29/29 [00:00<00:00, 46.53it/s]\n"
          ],
          "name": "stderr"
        },
        {
          "output_type": "stream",
          "text": [
            "valid_evaluation: loss = 0.9473150197664897, acc = 0.7037672380745615\n",
            "save model at  checkpoints/crnn_013680_acc0.7037672380745615.pt\n",
            "Validation loss decreased (1.028829 --> 0.947315).  Saving model ...\n",
            "train_loss:  1.2684829653481342\n",
            "epoch: 21\n",
            "train_batch_loss[ 13700 ]:  1.297269344329834\n",
            "train_batch_loss[ 13800 ]:  1.3115813732147217\n",
            "train_batch_loss[ 13900 ]:  1.0220903158187866\n",
            "train_batch_loss[ 14000 ]:  1.228806972503662\n",
            "train_batch_loss[ 14100 ]:  1.3003602027893066\n",
            "train_batch_loss[ 14200 ]:  1.1449378728866577\n",
            "train_batch_loss[ 14300 ]:  1.199694037437439\n"
          ],
          "name": "stdout"
        },
        {
          "output_type": "stream",
          "text": [
            "Evaluate: 100%|██████████| 29/29 [00:00<00:00, 46.77it/s]\n"
          ],
          "name": "stderr"
        },
        {
          "output_type": "stream",
          "text": [
            "valid_evaluation: loss = 0.9474522860844931, acc = 0.7071799628788181\n",
            "save model at  checkpoints/crnn_014364_acc0.7071799628788181.pt\n",
            "EarlyStopping counter: 1 out of 10\n",
            "train_loss:  1.238837857763136\n",
            "epoch: 22\n",
            "train_batch_loss[ 14400 ]:  1.121151089668274\n",
            "train_batch_loss[ 14500 ]:  1.1451570987701416\n",
            "train_batch_loss[ 14600 ]:  1.301162600517273\n",
            "train_batch_loss[ 14700 ]:  1.1018434762954712\n",
            "train_batch_loss[ 14800 ]:  1.5200469493865967\n",
            "train_batch_loss[ 14900 ]:  1.0481982231140137\n",
            "train_batch_loss[ 15000 ]:  1.6197682619094849\n"
          ],
          "name": "stdout"
        },
        {
          "output_type": "stream",
          "text": [
            "Evaluate: 100%|██████████| 29/29 [00:00<00:00, 46.76it/s]\n"
          ],
          "name": "stderr"
        },
        {
          "output_type": "stream",
          "text": [
            "valid_evaluation: loss = 0.923414273791843, acc = 0.7101479177873641\n",
            "save model at  checkpoints/crnn_015048_acc0.7101479177873641.pt\n",
            "Validation loss decreased (0.947315 --> 0.923414).  Saving model ...\n",
            "train_loss:  1.2178103524143968\n",
            "epoch: 23\n",
            "train_batch_loss[ 15100 ]:  0.8405547142028809\n",
            "train_batch_loss[ 15200 ]:  1.1096633672714233\n",
            "train_batch_loss[ 15300 ]:  1.2237706184387207\n",
            "train_batch_loss[ 15400 ]:  1.131442904472351\n",
            "train_batch_loss[ 15500 ]:  1.2013434171676636\n",
            "train_batch_loss[ 15600 ]:  0.9544004797935486\n",
            "train_batch_loss[ 15700 ]:  1.2046937942504883\n"
          ],
          "name": "stdout"
        },
        {
          "output_type": "stream",
          "text": [
            "Evaluate: 100%|██████████| 29/29 [00:00<00:00, 47.09it/s]\n"
          ],
          "name": "stderr"
        },
        {
          "output_type": "stream",
          "text": [
            "valid_evaluation: loss = 0.9228569914235009, acc = 0.7111463197477793\n",
            "save model at  checkpoints/crnn_015732_acc0.7111463197477793.pt\n",
            "Validation loss decreased (0.923414 --> 0.922857).  Saving model ...\n",
            "train_loss:  1.1934463776133624\n",
            "epoch: 24\n",
            "train_batch_loss[ 15800 ]:  1.3211696147918701\n",
            "train_batch_loss[ 15900 ]:  1.1596001386642456\n",
            "train_batch_loss[ 16000 ]:  1.0938432216644287\n",
            "train_batch_loss[ 16100 ]:  0.955286979675293\n",
            "train_batch_loss[ 16200 ]:  1.356513261795044\n",
            "train_batch_loss[ 16300 ]:  1.105895757675171\n",
            "train_batch_loss[ 16400 ]:  1.3054777383804321\n"
          ],
          "name": "stdout"
        },
        {
          "output_type": "stream",
          "text": [
            "Evaluate: 100%|██████████| 29/29 [00:00<00:00, 47.36it/s]\n"
          ],
          "name": "stderr"
        },
        {
          "output_type": "stream",
          "text": [
            "valid_evaluation: loss = 0.9100854910744561, acc = 0.7017637853706906\n",
            "save model at  checkpoints/crnn_016416_acc0.7017637853706906.pt\n",
            "Validation loss decreased (0.922857 --> 0.910085).  Saving model ...\n",
            "train_loss:  1.1694625786466035\n",
            "epoch: 25\n",
            "train_batch_loss[ 16500 ]:  0.9711852669715881\n",
            "train_batch_loss[ 16600 ]:  1.2200714349746704\n",
            "train_batch_loss[ 16700 ]:  1.0575984716415405\n",
            "train_batch_loss[ 16800 ]:  1.0412344932556152\n",
            "train_batch_loss[ 16900 ]:  1.0652343034744263\n",
            "train_batch_loss[ 17000 ]:  1.4554797410964966\n"
          ],
          "name": "stdout"
        },
        {
          "output_type": "stream",
          "text": [
            "Evaluate:  17%|█▋        | 5/29 [00:00<00:00, 45.35it/s]"
          ],
          "name": "stderr"
        },
        {
          "output_type": "stream",
          "text": [
            "train_batch_loss[ 17100 ]:  1.0424906185695104\n"
          ],
          "name": "stdout"
        },
        {
          "output_type": "stream",
          "text": [
            "Evaluate: 100%|██████████| 29/29 [00:00<00:00, 46.06it/s]\n"
          ],
          "name": "stderr"
        },
        {
          "output_type": "stream",
          "text": [
            "valid_evaluation: loss = 0.9057047891616822, acc = 0.6991638798534356\n",
            "save model at  checkpoints/crnn_017100_acc0.6991638798534356.pt\n",
            "Validation loss decreased (0.910085 --> 0.905705).  Saving model ...\n",
            "train_loss:  1.1479903301366345\n",
            "epoch: 26\n",
            "train_batch_loss[ 17200 ]:  1.2428154945373535\n",
            "train_batch_loss[ 17300 ]:  1.3300669193267822\n",
            "train_batch_loss[ 17400 ]:  1.137757658958435\n",
            "train_batch_loss[ 17500 ]:  1.064932942390442\n",
            "train_batch_loss[ 17600 ]:  1.1096668243408203\n",
            "train_batch_loss[ 17700 ]:  0.924733579158783\n"
          ],
          "name": "stdout"
        },
        {
          "output_type": "stream",
          "text": [
            "Evaluate: 100%|██████████| 29/29 [00:00<00:00, 47.30it/s]\n"
          ],
          "name": "stderr"
        },
        {
          "output_type": "stream",
          "text": [
            "valid_evaluation: loss = 0.8940452432632446, acc = 0.7152311258714847\n",
            "save model at  checkpoints/crnn_017784_acc0.7152311258714847.pt\n",
            "Validation loss decreased (0.905705 --> 0.894045).  Saving model ...\n",
            "train_loss:  1.1268582775323535\n",
            "epoch: 27\n",
            "train_batch_loss[ 17800 ]:  0.9907335638999939\n",
            "train_batch_loss[ 17900 ]:  1.3628392219543457\n",
            "train_batch_loss[ 18000 ]:  0.969920814037323\n",
            "train_batch_loss[ 18100 ]:  1.0696370601654053\n",
            "train_batch_loss[ 18200 ]:  0.6469929814338684\n",
            "train_batch_loss[ 18300 ]:  1.075430989265442\n",
            "train_batch_loss[ 18400 ]:  1.0685559511184692\n"
          ],
          "name": "stdout"
        },
        {
          "output_type": "stream",
          "text": [
            "Evaluate: 100%|██████████| 29/29 [00:00<00:00, 46.72it/s]\n"
          ],
          "name": "stderr"
        },
        {
          "output_type": "stream",
          "text": [
            "valid_evaluation: loss = 0.9358042208353679, acc = 0.6883197694864998\n",
            "save model at  checkpoints/crnn_018468_acc0.6883197694864998.pt\n",
            "EarlyStopping counter: 1 out of 10\n",
            "train_loss:  1.1112152971303457\n",
            "epoch: 28\n",
            "train_batch_loss[ 18500 ]:  1.0285606384277344\n",
            "train_batch_loss[ 18600 ]:  1.2751305103302002\n",
            "train_batch_loss[ 18700 ]:  0.9873086810112\n",
            "train_batch_loss[ 18800 ]:  0.7222837805747986\n",
            "train_batch_loss[ 18900 ]:  1.2507940530776978\n",
            "train_batch_loss[ 19000 ]:  1.0488622188568115\n",
            "train_batch_loss[ 19100 ]:  1.1844565868377686\n"
          ],
          "name": "stdout"
        },
        {
          "output_type": "stream",
          "text": [
            "Evaluate: 100%|██████████| 29/29 [00:00<00:00, 46.92it/s]\n"
          ],
          "name": "stderr"
        },
        {
          "output_type": "stream",
          "text": [
            "valid_evaluation: loss = 0.8499341334236993, acc = 0.7416651027951492\n",
            "save model at  checkpoints/crnn_019152_acc0.7416651027951492.pt\n",
            "Validation loss decreased (0.894045 --> 0.849934).  Saving model ...\n",
            "train_loss:  1.0867424871150795\n",
            "epoch: 29\n",
            "train_batch_loss[ 19200 ]:  1.237355351448059\n",
            "train_batch_loss[ 19300 ]:  1.0775429010391235\n",
            "train_batch_loss[ 19400 ]:  1.1557188034057617\n",
            "train_batch_loss[ 19500 ]:  0.791047215461731\n",
            "train_batch_loss[ 19600 ]:  0.8945515751838684\n",
            "train_batch_loss[ 19700 ]:  1.1121779680252075\n",
            "train_batch_loss[ 19800 ]:  1.1630839109420776\n"
          ],
          "name": "stdout"
        },
        {
          "output_type": "stream",
          "text": [
            "Evaluate: 100%|██████████| 29/29 [00:00<00:00, 46.43it/s]\n"
          ],
          "name": "stderr"
        },
        {
          "output_type": "stream",
          "text": [
            "valid_evaluation: loss = 0.818435099919637, acc = 0.7678645251630766\n",
            "save model at  checkpoints/crnn_019836_acc0.7678645251630766.pt\n",
            "Validation loss decreased (0.849934 --> 0.818435).  Saving model ...\n",
            "train_loss:  1.0661851971019716\n",
            "epoch: 30\n",
            "train_batch_loss[ 19900 ]:  1.125174880027771\n",
            "train_batch_loss[ 20000 ]:  1.241727590560913\n",
            "train_batch_loss[ 20100 ]:  0.9267851114273071\n",
            "train_batch_loss[ 20200 ]:  0.9935122132301331\n",
            "train_batch_loss[ 20300 ]:  1.316845417022705\n",
            "train_batch_loss[ 20400 ]:  0.9354932904243469\n",
            "train_batch_loss[ 20500 ]:  1.1449180841445923\n"
          ],
          "name": "stdout"
        },
        {
          "output_type": "stream",
          "text": [
            "Evaluate: 100%|██████████| 29/29 [00:00<00:00, 47.36it/s]\n"
          ],
          "name": "stderr"
        },
        {
          "output_type": "stream",
          "text": [
            "valid_evaluation: loss = 0.8641369639502632, acc = 0.7333046128988217\n",
            "save model at  checkpoints/crnn_020520_acc0.7333046128988217.pt\n",
            "EarlyStopping counter: 1 out of 10\n",
            "train_loss:  1.044550530006747\n",
            "epoch: 31\n",
            "train_batch_loss[ 20600 ]:  0.9309528470039368\n",
            "train_batch_loss[ 20700 ]:  1.1321853399276733\n",
            "train_batch_loss[ 20800 ]:  0.9394810795783997\n",
            "train_batch_loss[ 20900 ]:  1.0726125240325928\n",
            "train_batch_loss[ 21000 ]:  1.3087893724441528\n",
            "train_batch_loss[ 21100 ]:  1.0025506019592285\n"
          ],
          "name": "stdout"
        },
        {
          "output_type": "stream",
          "text": [
            "\rEvaluate:   0%|          | 0/29 [00:00<?, ?it/s]"
          ],
          "name": "stderr"
        },
        {
          "output_type": "stream",
          "text": [
            "train_batch_loss[ 21200 ]:  0.9905457496643066\n"
          ],
          "name": "stdout"
        },
        {
          "output_type": "stream",
          "text": [
            "Evaluate: 100%|██████████| 29/29 [00:00<00:00, 47.51it/s]\n"
          ],
          "name": "stderr"
        },
        {
          "output_type": "stream",
          "text": [
            "valid_evaluation: loss = 0.8488381661309137, acc = 0.7477010750675359\n",
            "save model at  checkpoints/crnn_021204_acc0.7477010750675359.pt\n",
            "EarlyStopping counter: 2 out of 10\n",
            "train_loss:  1.0371745577455929\n",
            "epoch: 32\n",
            "train_batch_loss[ 21300 ]:  1.1438795328140259\n",
            "train_batch_loss[ 21400 ]:  1.3399180173873901\n",
            "train_batch_loss[ 21500 ]:  1.3726332187652588\n",
            "train_batch_loss[ 21600 ]:  0.5105935335159302\n",
            "train_batch_loss[ 21700 ]:  1.107433557510376\n",
            "train_batch_loss[ 21800 ]:  0.9368875622749329\n"
          ],
          "name": "stdout"
        },
        {
          "output_type": "stream",
          "text": [
            "Evaluate: 100%|██████████| 29/29 [00:00<00:00, 47.25it/s]\n"
          ],
          "name": "stderr"
        },
        {
          "output_type": "stream",
          "text": [
            "valid_evaluation: loss = 0.873818613158332, acc = 0.7230890356879445\n",
            "save model at  checkpoints/crnn_021888_acc0.7230890356879445.pt\n",
            "EarlyStopping counter: 3 out of 10\n",
            "train_loss:  1.0241512759940832\n",
            "epoch: 33\n",
            "train_batch_loss[ 21900 ]:  0.8867335319519043\n",
            "train_batch_loss[ 22000 ]:  1.3410680294036865\n",
            "train_batch_loss[ 22100 ]:  0.9637566804885864\n",
            "train_batch_loss[ 22200 ]:  1.0272990465164185\n",
            "train_batch_loss[ 22300 ]:  1.1546350717544556\n",
            "train_batch_loss[ 22400 ]:  1.1521786451339722\n",
            "train_batch_loss[ 22500 ]:  0.9215347766876221\n"
          ],
          "name": "stdout"
        },
        {
          "output_type": "stream",
          "text": [
            "Evaluate: 100%|██████████| 29/29 [00:00<00:00, 46.78it/s]\n"
          ],
          "name": "stderr"
        },
        {
          "output_type": "stream",
          "text": [
            "valid_evaluation: loss = 0.8138137482272254, acc = 0.7547712542250061\n",
            "save model at  checkpoints/crnn_022572_acc0.7547712542250061.pt\n",
            "Validation loss decreased (0.818435 --> 0.813814).  Saving model ...\n",
            "train_loss:  1.020101139782006\n",
            "epoch: 34\n",
            "train_batch_loss[ 22600 ]:  0.8758336901664734\n",
            "train_batch_loss[ 22700 ]:  1.0073256492614746\n",
            "train_batch_loss[ 22800 ]:  0.9668164849281311\n",
            "train_batch_loss[ 22900 ]:  0.738213837146759\n",
            "train_batch_loss[ 23000 ]:  0.8953011631965637\n",
            "train_batch_loss[ 23100 ]:  0.7758438587188721\n",
            "train_batch_loss[ 23200 ]:  0.8265485167503357\n"
          ],
          "name": "stdout"
        },
        {
          "output_type": "stream",
          "text": [
            "Evaluate: 100%|██████████| 29/29 [00:00<00:00, 47.00it/s]\n"
          ],
          "name": "stderr"
        },
        {
          "output_type": "stream",
          "text": [
            "valid_evaluation: loss = 0.8890079356564415, acc = 0.7278039951026581\n",
            "save model at  checkpoints/crnn_023256_acc0.7278039951026581.pt\n",
            "EarlyStopping counter: 1 out of 10\n",
            "train_loss:  0.9993455962716143\n",
            "epoch: 35\n",
            "train_batch_loss[ 23300 ]:  0.8009379506111145\n",
            "train_batch_loss[ 23400 ]:  1.0382879972457886\n",
            "train_batch_loss[ 23500 ]:  1.2752882242202759\n",
            "train_batch_loss[ 23600 ]:  0.9920523166656494\n",
            "train_batch_loss[ 23700 ]:  1.1349446773529053\n",
            "train_batch_loss[ 23800 ]:  0.8102256655693054\n",
            "train_batch_loss[ 23900 ]:  0.9125372767448425\n"
          ],
          "name": "stdout"
        },
        {
          "output_type": "stream",
          "text": [
            "Evaluate: 100%|██████████| 29/29 [00:00<00:00, 46.84it/s]\n"
          ],
          "name": "stderr"
        },
        {
          "output_type": "stream",
          "text": [
            "valid_evaluation: loss = 0.7836497836642795, acc = 0.7657709463184432\n",
            "save model at  checkpoints/crnn_023940_acc0.7657709463184432.pt\n",
            "Validation loss decreased (0.813814 --> 0.783650).  Saving model ...\n",
            "train_loss:  0.9762509789486481\n",
            "epoch: 36\n",
            "train_batch_loss[ 24000 ]:  1.1247526407241821\n",
            "train_batch_loss[ 24100 ]:  0.8614553809165955\n",
            "train_batch_loss[ 24200 ]:  0.8386566042900085\n",
            "train_batch_loss[ 24300 ]:  0.8231920599937439\n",
            "train_batch_loss[ 24400 ]:  1.149993658065796\n",
            "train_batch_loss[ 24500 ]:  1.1283899545669556\n",
            "train_batch_loss[ 24600 ]:  0.7551270723342896\n"
          ],
          "name": "stdout"
        },
        {
          "output_type": "stream",
          "text": [
            "Evaluate: 100%|██████████| 29/29 [00:00<00:00, 46.70it/s]\n"
          ],
          "name": "stderr"
        },
        {
          "output_type": "stream",
          "text": [
            "valid_evaluation: loss = 0.8738468668195937, acc = 0.7125628605867602\n",
            "save model at  checkpoints/crnn_024624_acc0.7125628605867602.pt\n",
            "EarlyStopping counter: 1 out of 10\n",
            "train_loss:  0.9703385469953819\n",
            "epoch: 37\n",
            "train_batch_loss[ 24700 ]:  0.9716281890869141\n",
            "train_batch_loss[ 24800 ]:  0.9905955791473389\n",
            "train_batch_loss[ 24900 ]:  0.8798441886901855\n",
            "train_batch_loss[ 25000 ]:  1.1000401973724365\n",
            "train_batch_loss[ 25100 ]:  0.5760831832885742\n",
            "train_batch_loss[ 25200 ]:  0.7740452289581299\n",
            "train_batch_loss[ 25300 ]:  1.1083579063415527\n"
          ],
          "name": "stdout"
        },
        {
          "output_type": "stream",
          "text": [
            "Evaluate: 100%|██████████| 29/29 [00:00<00:00, 46.71it/s]\n"
          ],
          "name": "stderr"
        },
        {
          "output_type": "stream",
          "text": [
            "valid_evaluation: loss = 0.8239164601431953, acc = 0.7548264928213442\n",
            "save model at  checkpoints/crnn_025308_acc0.7548264928213442.pt\n",
            "EarlyStopping counter: 2 out of 10\n",
            "train_loss:  0.9607410726124258\n",
            "epoch: 38\n",
            "train_batch_loss[ 25400 ]:  0.6024099588394165\n",
            "train_batch_loss[ 25500 ]:  1.1791826486587524\n",
            "train_batch_loss[ 25600 ]:  0.8973835706710815\n",
            "train_batch_loss[ 25700 ]:  0.8806114196777344\n",
            "train_batch_loss[ 25800 ]:  0.8542882800102234\n",
            "train_batch_loss[ 25900 ]:  1.006400465965271\n"
          ],
          "name": "stdout"
        },
        {
          "output_type": "stream",
          "text": [
            "Evaluate: 100%|██████████| 29/29 [00:00<00:00, 47.18it/s]\n"
          ],
          "name": "stderr"
        },
        {
          "output_type": "stream",
          "text": [
            "valid_evaluation: loss = 0.7842627550495995, acc = 0.7713883133862637\n",
            "save model at  checkpoints/crnn_025992_acc0.7713883133862637.pt\n",
            "EarlyStopping counter: 3 out of 10\n",
            "train_loss:  0.9445496455359579\n",
            "epoch: 39\n",
            "train_batch_loss[ 26000 ]:  0.7148138284683228\n",
            "train_batch_loss[ 26100 ]:  1.0283628702163696\n",
            "train_batch_loss[ 26200 ]:  1.2652002573013306\n",
            "train_batch_loss[ 26300 ]:  1.0299335718154907\n",
            "train_batch_loss[ 26400 ]:  0.9513170123100281\n",
            "train_batch_loss[ 26500 ]:  0.7071568369865417\n",
            "train_batch_loss[ 26600 ]:  1.2891632318496704\n"
          ],
          "name": "stdout"
        },
        {
          "output_type": "stream",
          "text": [
            "Evaluate: 100%|██████████| 29/29 [00:00<00:00, 46.49it/s]\n"
          ],
          "name": "stderr"
        },
        {
          "output_type": "stream",
          "text": [
            "valid_evaluation: loss = 0.7951969379848904, acc = 0.7657308513147775\n",
            "save model at  checkpoints/crnn_026676_acc0.7657308513147775.pt\n",
            "EarlyStopping counter: 4 out of 10\n",
            "train_loss:  0.9285187061485984\n",
            "epoch: 40\n",
            "train_batch_loss[ 26700 ]:  1.3808517456054688\n",
            "train_batch_loss[ 26800 ]:  0.901928722858429\n",
            "train_batch_loss[ 26900 ]:  0.8027519583702087\n",
            "train_batch_loss[ 27000 ]:  0.8338821530342102\n",
            "train_batch_loss[ 27100 ]:  0.7349353432655334\n",
            "train_batch_loss[ 27200 ]:  0.9166712760925293\n",
            "train_batch_loss[ 27300 ]:  0.8562020659446716\n"
          ],
          "name": "stdout"
        },
        {
          "output_type": "stream",
          "text": [
            "Evaluate: 100%|██████████| 29/29 [00:00<00:00, 46.85it/s]\n"
          ],
          "name": "stderr"
        },
        {
          "output_type": "stream",
          "text": [
            "valid_evaluation: loss = 0.8710173400243123, acc = 0.7368908653617757\n",
            "save model at  checkpoints/crnn_027360_acc0.7368908653617757.pt\n",
            "EarlyStopping counter: 5 out of 10\n",
            "train_loss:  0.9246274932421774\n",
            "epoch: 41\n",
            "train_batch_loss[ 27400 ]:  0.8690289258956909\n",
            "train_batch_loss[ 27500 ]:  0.7893161177635193\n",
            "train_batch_loss[ 27600 ]:  0.7907216548919678\n",
            "train_batch_loss[ 27700 ]:  0.8494697213172913\n",
            "train_batch_loss[ 27800 ]:  1.133540391921997\n",
            "train_batch_loss[ 27900 ]:  0.8714845776557922\n",
            "train_batch_loss[ 28000 ]:  0.712405800819397\n"
          ],
          "name": "stdout"
        },
        {
          "output_type": "stream",
          "text": [
            "Evaluate: 100%|██████████| 29/29 [00:00<00:00, 46.71it/s]\n"
          ],
          "name": "stderr"
        },
        {
          "output_type": "stream",
          "text": [
            "valid_evaluation: loss = 0.7546156862046983, acc = 0.7906211450875388\n",
            "save model at  checkpoints/crnn_028044_acc0.7906211450875388.pt\n",
            "Validation loss decreased (0.783650 --> 0.754616).  Saving model ...\n",
            "train_loss:  0.9040716265018639\n",
            "epoch: 42\n",
            "train_batch_loss[ 28100 ]:  1.1442463397979736\n",
            "train_batch_loss[ 28200 ]:  0.620331883430481\n",
            "train_batch_loss[ 28300 ]:  0.9875462055206299\n",
            "train_batch_loss[ 28400 ]:  0.8410482406616211\n",
            "train_batch_loss[ 28500 ]:  0.7474492192268372\n",
            "train_batch_loss[ 28600 ]:  0.7949433326721191\n",
            "train_batch_loss[ 28700 ]:  0.7544639110565186\n"
          ],
          "name": "stdout"
        },
        {
          "output_type": "stream",
          "text": [
            "Evaluate: 100%|██████████| 29/29 [00:00<00:00, 45.79it/s]\n"
          ],
          "name": "stderr"
        },
        {
          "output_type": "stream",
          "text": [
            "valid_evaluation: loss = 0.7735024812486436, acc = 0.7586814270488924\n",
            "save model at  checkpoints/crnn_028728_acc0.7586814270488924.pt\n",
            "EarlyStopping counter: 1 out of 10\n",
            "train_loss:  0.8976637874284071\n",
            "epoch: 43\n",
            "train_batch_loss[ 28800 ]:  0.8974798321723938\n",
            "train_batch_loss[ 28900 ]:  0.8717740178108215\n",
            "train_batch_loss[ 29000 ]:  0.853714644908905\n",
            "train_batch_loss[ 29100 ]:  0.9795028567314148\n",
            "train_batch_loss[ 29200 ]:  0.9508739709854126\n",
            "train_batch_loss[ 29300 ]:  0.8309975862503052\n",
            "train_batch_loss[ 29400 ]:  0.7991149425506592\n"
          ],
          "name": "stdout"
        },
        {
          "output_type": "stream",
          "text": [
            "Evaluate: 100%|██████████| 29/29 [00:00<00:00, 46.25it/s]\n"
          ],
          "name": "stderr"
        },
        {
          "output_type": "stream",
          "text": [
            "valid_evaluation: loss = 0.7899794061316384, acc = 0.7727635737923697\n",
            "save model at  checkpoints/crnn_029412_acc0.7727635737923697.pt\n",
            "EarlyStopping counter: 2 out of 10\n",
            "train_loss:  0.8750011546567089\n",
            "epoch: 44\n",
            "train_batch_loss[ 29500 ]:  0.8283538222312927\n",
            "train_batch_loss[ 29600 ]:  0.8313729763031006\n",
            "train_batch_loss[ 29700 ]:  1.0725505352020264\n",
            "train_batch_loss[ 29800 ]:  0.8709338903427124\n",
            "train_batch_loss[ 29900 ]:  0.5830965042114258\n",
            "train_batch_loss[ 30000 ]:  0.8687271475791931\n"
          ],
          "name": "stdout"
        },
        {
          "output_type": "stream",
          "text": [
            "Evaluate: 100%|██████████| 29/29 [00:00<00:00, 47.38it/s]\n"
          ],
          "name": "stderr"
        },
        {
          "output_type": "stream",
          "text": [
            "valid_evaluation: loss = 0.8289740952187115, acc = 0.7695394683248609\n",
            "save model at  checkpoints/crnn_030096_acc0.7695394683248609.pt\n",
            "EarlyStopping counter: 3 out of 10\n",
            "train_loss:  0.8723424086027839\n",
            "epoch: 45\n",
            "train_batch_loss[ 30100 ]:  0.6908366084098816\n",
            "train_batch_loss[ 30200 ]:  0.8525325059890747\n",
            "train_batch_loss[ 30300 ]:  0.9623070955276489\n",
            "train_batch_loss[ 30400 ]:  0.7064509987831116\n",
            "train_batch_loss[ 30500 ]:  0.9826942086219788\n",
            "train_batch_loss[ 30600 ]:  0.6817120909690857\n",
            "train_batch_loss[ 30700 ]:  0.8812233805656433\n"
          ],
          "name": "stdout"
        },
        {
          "output_type": "stream",
          "text": [
            "Evaluate: 100%|██████████| 29/29 [00:00<00:00, 47.10it/s]\n"
          ],
          "name": "stderr"
        },
        {
          "output_type": "stream",
          "text": [
            "valid_evaluation: loss = 0.8091427622901068, acc = 0.780927185302715\n",
            "save model at  checkpoints/crnn_030780_acc0.780927185302715.pt\n",
            "EarlyStopping counter: 4 out of 10\n",
            "train_loss:  0.8659816537428839\n",
            "epoch: 46\n",
            "train_batch_loss[ 30800 ]:  0.4936646819114685\n",
            "train_batch_loss[ 30900 ]:  0.9339269995689392\n",
            "train_batch_loss[ 31000 ]:  0.8090983033180237\n",
            "train_batch_loss[ 31100 ]:  0.9703020453453064\n",
            "train_batch_loss[ 31200 ]:  1.0014042854309082\n",
            "train_batch_loss[ 31300 ]:  0.8033275604248047\n",
            "train_batch_loss[ 31400 ]:  0.9114997982978821\n"
          ],
          "name": "stdout"
        },
        {
          "output_type": "stream",
          "text": [
            "Evaluate: 100%|██████████| 29/29 [00:00<00:00, 47.15it/s]\n"
          ],
          "name": "stderr"
        },
        {
          "output_type": "stream",
          "text": [
            "valid_evaluation: loss = 0.8821019792556762, acc = 0.7503179959489713\n",
            "save model at  checkpoints/crnn_031464_acc0.7503179959489713.pt\n",
            "EarlyStopping counter: 5 out of 10\n",
            "train_loss:  0.8466785098190552\n",
            "epoch: 47\n",
            "train_batch_loss[ 31500 ]:  0.7083432674407959\n",
            "train_batch_loss[ 31600 ]:  0.8141112923622131\n",
            "train_batch_loss[ 31700 ]:  0.7026215195655823\n",
            "train_batch_loss[ 31800 ]:  0.5987083315849304\n",
            "train_batch_loss[ 31900 ]:  1.1126309633255005\n",
            "train_batch_loss[ 32000 ]:  0.7618050575256348\n",
            "train_batch_loss[ 32100 ]:  0.7901520729064941\n"
          ],
          "name": "stdout"
        },
        {
          "output_type": "stream",
          "text": [
            "Evaluate: 100%|██████████| 29/29 [00:00<00:00, 46.86it/s]\n"
          ],
          "name": "stderr"
        },
        {
          "output_type": "stream",
          "text": [
            "valid_evaluation: loss = 0.8356964513990615, acc = 0.7700931783891368\n",
            "save model at  checkpoints/crnn_032148_acc0.7700931783891368.pt\n",
            "EarlyStopping counter: 6 out of 10\n",
            "train_loss:  0.8412312220262511\n",
            "epoch: 48\n",
            "train_batch_loss[ 32200 ]:  0.7599982619285583\n",
            "train_batch_loss[ 32300 ]:  0.8242154717445374\n",
            "train_batch_loss[ 32400 ]:  1.1190235614776611\n",
            "train_batch_loss[ 32500 ]:  0.6622933745384216\n",
            "train_batch_loss[ 32600 ]:  0.5442615151405334\n",
            "train_batch_loss[ 32700 ]:  1.057474136352539\n",
            "train_batch_loss[ 32800 ]:  0.6900123953819275\n"
          ],
          "name": "stdout"
        },
        {
          "output_type": "stream",
          "text": [
            "Evaluate: 100%|██████████| 29/29 [00:00<00:00, 46.73it/s]\n"
          ],
          "name": "stderr"
        },
        {
          "output_type": "stream",
          "text": [
            "valid_evaluation: loss = 0.8121241712570191, acc = 0.781040952541717\n",
            "save model at  checkpoints/crnn_032832_acc0.781040952541717.pt\n",
            "EarlyStopping counter: 7 out of 10\n",
            "train_loss:  0.8285245372543719\n",
            "epoch: 49\n",
            "train_batch_loss[ 32900 ]:  0.6388488411903381\n",
            "train_batch_loss[ 33000 ]:  0.5577206611633301\n",
            "train_batch_loss[ 33100 ]:  0.7692325711250305\n",
            "train_batch_loss[ 33200 ]:  0.9196686744689941\n",
            "train_batch_loss[ 33300 ]:  0.9165710806846619\n",
            "train_batch_loss[ 33400 ]:  0.6371774077415466\n",
            "train_batch_loss[ 33500 ]:  1.071005940437317\n"
          ],
          "name": "stdout"
        },
        {
          "output_type": "stream",
          "text": [
            "Evaluate: 100%|██████████| 29/29 [00:00<00:00, 46.25it/s]\n"
          ],
          "name": "stderr"
        },
        {
          "output_type": "stream",
          "text": [
            "valid_evaluation: loss = 0.8692379649480184, acc = 0.7600737382407534\n",
            "save model at  checkpoints/crnn_033516_acc0.7600737382407534.pt\n",
            "EarlyStopping counter: 8 out of 10\n",
            "train_loss:  0.8182398853206068\n",
            "epoch: 50\n",
            "train_batch_loss[ 33600 ]:  0.8563991189002991\n",
            "train_batch_loss[ 33700 ]:  1.1188530921936035\n",
            "train_batch_loss[ 33800 ]:  0.6121371388435364\n",
            "train_batch_loss[ 33900 ]:  0.8273242712020874\n",
            "train_batch_loss[ 34000 ]:  0.6896159648895264\n",
            "train_batch_loss[ 34100 ]:  0.7847303152084351\n"
          ],
          "name": "stdout"
        },
        {
          "output_type": "stream",
          "text": [
            "Evaluate:  17%|█▋        | 5/29 [00:00<00:00, 44.57it/s]"
          ],
          "name": "stderr"
        },
        {
          "output_type": "stream",
          "text": [
            "train_batch_loss[ 34200 ]:  0.9504564830235073\n"
          ],
          "name": "stdout"
        },
        {
          "output_type": "stream",
          "text": [
            "Evaluate: 100%|██████████| 29/29 [00:00<00:00, 46.29it/s]\n"
          ],
          "name": "stderr"
        },
        {
          "output_type": "stream",
          "text": [
            "valid_evaluation: loss = 0.7849224683642387, acc = 0.7854828619656464\n",
            "save model at  checkpoints/crnn_034200_acc0.7854828619656464.pt\n",
            "EarlyStopping counter: 9 out of 10\n",
            "train_loss:  0.8031202864854042\n",
            "epoch: 51\n",
            "train_batch_loss[ 34300 ]:  0.9543681144714355\n",
            "train_batch_loss[ 34400 ]:  1.048671841621399\n",
            "train_batch_loss[ 34500 ]:  0.6476711630821228\n",
            "train_batch_loss[ 34600 ]:  0.7323347330093384\n",
            "train_batch_loss[ 34700 ]:  0.7185786366462708\n",
            "train_batch_loss[ 34800 ]:  1.0460209846496582\n"
          ],
          "name": "stdout"
        },
        {
          "output_type": "stream",
          "text": [
            "Evaluate: 100%|██████████| 29/29 [00:00<00:00, 46.62it/s]\n",
            "Predict:  19%|█▉        | 5/26 [00:00<00:00, 47.99it/s]"
          ],
          "name": "stderr"
        },
        {
          "output_type": "stream",
          "text": [
            "valid_evaluation: loss = 0.8886631075541178, acc = 0.7677984818981674\n",
            "save model at  checkpoints/crnn_034884_acc0.7677984818981674.pt\n",
            "EarlyStopping counter: 10 out of 10\n",
            "train_loss:  0.7912179522608097\n",
            "Early stopping\n"
          ],
          "name": "stdout"
        },
        {
          "output_type": "stream",
          "text": [
            "Predict: 100%|██████████| 26/26 [00:00<00:00, 46.93it/s]\n"
          ],
          "name": "stderr"
        },
        {
          "output_type": "stream",
          "text": [
            "F1 without majority = 0.7836453857726804\n",
            "F1 with majority = 0.8644635206554713\n",
            "Current trial: slice_length = 94; random_state = 42\n",
            "device: cuda\n",
            "epoch: 1\n",
            "train_batch_loss[ 100 ]:  2.3174784183502197\n",
            "train_batch_loss[ 200 ]:  2.312182664871216\n",
            "train_batch_loss[ 300 ]:  2.2807793617248535\n",
            "train_batch_loss[ 400 ]:  2.2959790229797363\n",
            "train_batch_loss[ 500 ]:  2.2569987773895264\n",
            "train_batch_loss[ 600 ]:  2.153590202331543\n"
          ],
          "name": "stdout"
        },
        {
          "output_type": "stream",
          "text": [
            "Evaluate: 100%|██████████| 29/29 [00:00<00:00, 48.51it/s]\n"
          ],
          "name": "stderr"
        },
        {
          "output_type": "stream",
          "text": [
            "valid_evaluation: loss = 2.161840044657389, acc = 0.21337077320934314\n",
            "save model at  checkpoints/crnn_000684_acc0.21337077320934314.pt\n",
            "Validation loss decreased (inf --> 2.161840).  Saving model ...\n",
            "train_loss:  2.273240379661417\n",
            "epoch: 2\n",
            "train_batch_loss[ 700 ]:  2.138580083847046\n",
            "train_batch_loss[ 800 ]:  2.279531955718994\n",
            "train_batch_loss[ 900 ]:  2.209235906600952\n",
            "train_batch_loss[ 1000 ]:  2.1959424018859863\n",
            "train_batch_loss[ 1100 ]:  2.165480613708496\n",
            "train_batch_loss[ 1200 ]:  2.1519806385040283\n",
            "train_batch_loss[ 1300 ]:  2.1807525157928467\n"
          ],
          "name": "stdout"
        },
        {
          "output_type": "stream",
          "text": [
            "Evaluate: 100%|██████████| 29/29 [00:00<00:00, 48.05it/s]\n"
          ],
          "name": "stderr"
        },
        {
          "output_type": "stream",
          "text": [
            "valid_evaluation: loss = 2.091895097096761, acc = 0.1989460524192079\n",
            "save model at  checkpoints/crnn_001368_acc0.1989460524192079.pt\n",
            "Validation loss decreased (2.161840 --> 2.091895).  Saving model ...\n",
            "train_loss:  2.176903075543941\n",
            "epoch: 3\n",
            "train_batch_loss[ 1400 ]:  2.0971522331237793\n",
            "train_batch_loss[ 1500 ]:  2.2299022674560547\n",
            "train_batch_loss[ 1600 ]:  2.2049314975738525\n",
            "train_batch_loss[ 1700 ]:  2.047593116760254\n",
            "train_batch_loss[ 1800 ]:  1.9763808250427246\n",
            "train_batch_loss[ 1900 ]:  2.080444574356079\n",
            "train_batch_loss[ 2000 ]:  2.138491630554199\n"
          ],
          "name": "stdout"
        },
        {
          "output_type": "stream",
          "text": [
            "Evaluate: 100%|██████████| 29/29 [00:00<00:00, 49.11it/s]\n"
          ],
          "name": "stderr"
        },
        {
          "output_type": "stream",
          "text": [
            "valid_evaluation: loss = 1.9277767441007827, acc = 0.22649472162568032\n",
            "save model at  checkpoints/crnn_002052_acc0.22649472162568032.pt\n",
            "Validation loss decreased (2.091895 --> 1.927777).  Saving model ...\n",
            "train_loss:  2.0774585905280025\n",
            "epoch: 4\n",
            "train_batch_loss[ 2100 ]:  2.0859227180480957\n",
            "train_batch_loss[ 2200 ]:  1.9561253786087036\n",
            "train_batch_loss[ 2300 ]:  2.155449151992798\n",
            "train_batch_loss[ 2400 ]:  1.9716031551361084\n",
            "train_batch_loss[ 2500 ]:  1.9246156215667725\n",
            "train_batch_loss[ 2600 ]:  1.9870740175247192\n",
            "train_batch_loss[ 2700 ]:  1.9066455364227295\n"
          ],
          "name": "stdout"
        },
        {
          "output_type": "stream",
          "text": [
            "Evaluate: 100%|██████████| 29/29 [00:00<00:00, 48.12it/s]\n"
          ],
          "name": "stderr"
        },
        {
          "output_type": "stream",
          "text": [
            "valid_evaluation: loss = 1.7669443051020304, acc = 0.33944049129028736\n",
            "save model at  checkpoints/crnn_002736_acc0.33944049129028736.pt\n",
            "Validation loss decreased (1.927777 --> 1.766944).  Saving model ...\n",
            "train_loss:  1.9765260132142928\n",
            "epoch: 5\n",
            "train_batch_loss[ 2800 ]:  1.9252350330352783\n",
            "train_batch_loss[ 2900 ]:  2.0558934211730957\n",
            "train_batch_loss[ 3000 ]:  1.7768772840499878\n",
            "train_batch_loss[ 3100 ]:  1.9900184869766235\n",
            "train_batch_loss[ 3200 ]:  2.0721189975738525\n",
            "train_batch_loss[ 3300 ]:  1.9004716873168945\n",
            "train_batch_loss[ 3400 ]:  1.7777519226074219\n"
          ],
          "name": "stdout"
        },
        {
          "output_type": "stream",
          "text": [
            "Evaluate: 100%|██████████| 29/29 [00:00<00:00, 48.60it/s]\n"
          ],
          "name": "stderr"
        },
        {
          "output_type": "stream",
          "text": [
            "valid_evaluation: loss = 1.7550095738304985, acc = 0.33847596412698056\n",
            "save model at  checkpoints/crnn_003420_acc0.33847596412698056.pt\n",
            "Validation loss decreased (1.766944 --> 1.755010).  Saving model ...\n",
            "train_loss:  1.8981221672166249\n",
            "epoch: 6\n",
            "train_batch_loss[ 3500 ]:  1.662279486656189\n",
            "train_batch_loss[ 3600 ]:  1.845603346824646\n",
            "train_batch_loss[ 3700 ]:  1.5909909009933472\n",
            "train_batch_loss[ 3800 ]:  1.7895125150680542\n",
            "train_batch_loss[ 3900 ]:  1.6777191162109375\n",
            "train_batch_loss[ 4000 ]:  1.6818881034851074\n"
          ],
          "name": "stdout"
        },
        {
          "output_type": "stream",
          "text": [
            "\rEvaluate:   0%|          | 0/29 [00:00<?, ?it/s]"
          ],
          "name": "stderr"
        },
        {
          "output_type": "stream",
          "text": [
            "train_batch_loss[ 4100 ]:  1.915917158126831\n"
          ],
          "name": "stdout"
        },
        {
          "output_type": "stream",
          "text": [
            "Evaluate: 100%|██████████| 29/29 [00:00<00:00, 49.36it/s]\n"
          ],
          "name": "stderr"
        },
        {
          "output_type": "stream",
          "text": [
            "valid_evaluation: loss = 1.5516415023803711, acc = 0.4560194260245079\n",
            "save model at  checkpoints/crnn_004104_acc0.4560194260245079.pt\n",
            "Validation loss decreased (1.755010 --> 1.551642).  Saving model ...\n",
            "train_loss:  1.8204352962736348\n",
            "epoch: 7\n",
            "train_batch_loss[ 4200 ]:  1.9120779037475586\n",
            "train_batch_loss[ 4300 ]:  1.8489123582839966\n",
            "train_batch_loss[ 4400 ]:  1.72267484664917\n",
            "train_batch_loss[ 4500 ]:  1.9664119482040405\n",
            "train_batch_loss[ 4600 ]:  1.8266502618789673\n",
            "train_batch_loss[ 4700 ]:  1.7523084878921509\n"
          ],
          "name": "stdout"
        },
        {
          "output_type": "stream",
          "text": [
            "Evaluate: 100%|██████████| 29/29 [00:00<00:00, 48.30it/s]\n"
          ],
          "name": "stderr"
        },
        {
          "output_type": "stream",
          "text": [
            "valid_evaluation: loss = 1.5636413388782078, acc = 0.45557621108877294\n",
            "save model at  checkpoints/crnn_004788_acc0.45557621108877294.pt\n",
            "EarlyStopping counter: 1 out of 10\n",
            "train_loss:  1.7481706486698914\n",
            "epoch: 8\n",
            "train_batch_loss[ 4800 ]:  1.787266492843628\n",
            "train_batch_loss[ 4900 ]:  1.5965882539749146\n",
            "train_batch_loss[ 5000 ]:  1.8144707679748535\n",
            "train_batch_loss[ 5100 ]:  1.6421217918395996\n",
            "train_batch_loss[ 5200 ]:  1.5468952655792236\n",
            "train_batch_loss[ 5300 ]:  1.4689077138900757\n",
            "train_batch_loss[ 5400 ]:  1.769206166267395\n"
          ],
          "name": "stdout"
        },
        {
          "output_type": "stream",
          "text": [
            "Evaluate: 100%|██████████| 29/29 [00:00<00:00, 48.05it/s]\n"
          ],
          "name": "stderr"
        },
        {
          "output_type": "stream",
          "text": [
            "valid_evaluation: loss = 1.4256434313456217, acc = 0.5602318774587158\n",
            "save model at  checkpoints/crnn_005472_acc0.5602318774587158.pt\n",
            "Validation loss decreased (1.551642 --> 1.425643).  Saving model ...\n",
            "train_loss:  1.6839984528376297\n",
            "epoch: 9\n",
            "train_batch_loss[ 5500 ]:  1.545981526374817\n",
            "train_batch_loss[ 5600 ]:  1.6938090324401855\n",
            "train_batch_loss[ 5700 ]:  1.4955849647521973\n",
            "train_batch_loss[ 5800 ]:  1.7060198783874512\n",
            "train_batch_loss[ 5900 ]:  1.4455262422561646\n",
            "train_batch_loss[ 6000 ]:  1.5609058141708374\n",
            "train_batch_loss[ 6100 ]:  1.8112791776657104\n"
          ],
          "name": "stdout"
        },
        {
          "output_type": "stream",
          "text": [
            "Evaluate: 100%|██████████| 29/29 [00:00<00:00, 48.92it/s]\n"
          ],
          "name": "stderr"
        },
        {
          "output_type": "stream",
          "text": [
            "valid_evaluation: loss = 1.3899683528476292, acc = 0.5712776306391801\n",
            "save model at  checkpoints/crnn_006156_acc0.5712776306391801.pt\n",
            "Validation loss decreased (1.425643 --> 1.389968).  Saving model ...\n",
            "train_loss:  1.632127931818986\n",
            "epoch: 10\n",
            "train_batch_loss[ 6200 ]:  1.469641923904419\n",
            "train_batch_loss[ 6300 ]:  1.5106862783432007\n",
            "train_batch_loss[ 6400 ]:  1.6132885217666626\n",
            "train_batch_loss[ 6500 ]:  1.8366810083389282\n",
            "train_batch_loss[ 6600 ]:  1.5492366552352905\n",
            "train_batch_loss[ 6700 ]:  1.5071191787719727\n",
            "train_batch_loss[ 6800 ]:  1.770094871520996\n"
          ],
          "name": "stdout"
        },
        {
          "output_type": "stream",
          "text": [
            "Evaluate: 100%|██████████| 29/29 [00:00<00:00, 48.30it/s]\n"
          ],
          "name": "stderr"
        },
        {
          "output_type": "stream",
          "text": [
            "valid_evaluation: loss = 1.352760639720493, acc = 0.5935767618735527\n",
            "save model at  checkpoints/crnn_006840_acc0.5935767618735527.pt\n",
            "Validation loss decreased (1.389968 --> 1.352761).  Saving model ...\n",
            "train_loss:  1.5707202739567314\n",
            "epoch: 11\n",
            "train_batch_loss[ 6900 ]:  1.4962048530578613\n",
            "train_batch_loss[ 7000 ]:  1.866438388824463\n",
            "train_batch_loss[ 7100 ]:  1.3375602960586548\n",
            "train_batch_loss[ 7200 ]:  1.5265237092971802\n",
            "train_batch_loss[ 7300 ]:  1.3636245727539062\n",
            "train_batch_loss[ 7400 ]:  1.416396975517273\n",
            "train_batch_loss[ 7500 ]:  1.4423737525939941\n"
          ],
          "name": "stdout"
        },
        {
          "output_type": "stream",
          "text": [
            "Evaluate: 100%|██████████| 29/29 [00:00<00:00, 48.52it/s]\n"
          ],
          "name": "stderr"
        },
        {
          "output_type": "stream",
          "text": [
            "valid_evaluation: loss = 1.254098916583591, acc = 0.6229590370224986\n",
            "save model at  checkpoints/crnn_007524_acc0.6229590370224986.pt\n",
            "Validation loss decreased (1.352761 --> 1.254099).  Saving model ...\n",
            "train_loss:  1.5188504617182588\n",
            "epoch: 12\n",
            "train_batch_loss[ 7600 ]:  1.391999363899231\n",
            "train_batch_loss[ 7700 ]:  1.3870277404785156\n",
            "train_batch_loss[ 7800 ]:  1.2922043800354004\n",
            "train_batch_loss[ 7900 ]:  1.3446413278579712\n",
            "train_batch_loss[ 8000 ]:  1.6705881357192993\n",
            "train_batch_loss[ 8100 ]:  1.7801809310913086\n",
            "train_batch_loss[ 8200 ]:  1.5280314683914185\n"
          ],
          "name": "stdout"
        },
        {
          "output_type": "stream",
          "text": [
            "Evaluate: 100%|██████████| 29/29 [00:00<00:00, 49.12it/s]\n"
          ],
          "name": "stderr"
        },
        {
          "output_type": "stream",
          "text": [
            "valid_evaluation: loss = 1.1756175390879313, acc = 0.6557006347635308\n",
            "save model at  checkpoints/crnn_008208_acc0.6557006347635308.pt\n",
            "Validation loss decreased (1.254099 --> 1.175618).  Saving model ...\n",
            "train_loss:  1.4755323802492746\n",
            "epoch: 13\n",
            "train_batch_loss[ 8300 ]:  1.0870219469070435\n",
            "train_batch_loss[ 8400 ]:  1.5367804765701294\n",
            "train_batch_loss[ 8500 ]:  1.3951530456542969\n",
            "train_batch_loss[ 8600 ]:  1.5028131008148193\n",
            "train_batch_loss[ 8700 ]:  1.437218189239502\n",
            "train_batch_loss[ 8800 ]:  1.2596099376678467\n"
          ],
          "name": "stdout"
        },
        {
          "output_type": "stream",
          "text": [
            "Evaluate: 100%|██████████| 29/29 [00:00<00:00, 48.74it/s]\n"
          ],
          "name": "stderr"
        },
        {
          "output_type": "stream",
          "text": [
            "valid_evaluation: loss = 1.2922760550181072, acc = 0.5848765416272972\n",
            "save model at  checkpoints/crnn_008892_acc0.5848765416272972.pt\n",
            "EarlyStopping counter: 1 out of 10\n",
            "train_loss:  1.4268632413483016\n",
            "epoch: 14\n",
            "train_batch_loss[ 8900 ]:  1.3607149124145508\n",
            "train_batch_loss[ 9000 ]:  1.3057284355163574\n",
            "train_batch_loss[ 9100 ]:  1.36246919631958\n",
            "train_batch_loss[ 9200 ]:  1.4783275127410889\n",
            "train_batch_loss[ 9300 ]:  1.5405513048171997\n",
            "train_batch_loss[ 9400 ]:  1.545482873916626\n",
            "train_batch_loss[ 9500 ]:  1.257759928703308\n"
          ],
          "name": "stdout"
        },
        {
          "output_type": "stream",
          "text": [
            "Evaluate: 100%|██████████| 29/29 [00:00<00:00, 49.08it/s]\n"
          ],
          "name": "stderr"
        },
        {
          "output_type": "stream",
          "text": [
            "valid_evaluation: loss = 1.1515416685740154, acc = 0.6631108008999382\n",
            "save model at  checkpoints/crnn_009576_acc0.6631108008999382.pt\n",
            "Validation loss decreased (1.175618 --> 1.151542).  Saving model ...\n",
            "train_loss:  1.3848020728014896\n",
            "epoch: 15\n",
            "train_batch_loss[ 9600 ]:  1.2664426565170288\n",
            "train_batch_loss[ 9700 ]:  1.3105531930923462\n",
            "train_batch_loss[ 9800 ]:  1.3150643110275269\n",
            "train_batch_loss[ 9900 ]:  1.5688928365707397\n",
            "train_batch_loss[ 10000 ]:  1.165226697921753\n",
            "train_batch_loss[ 10100 ]:  1.1371577978134155\n",
            "train_batch_loss[ 10200 ]:  1.497089147567749\n"
          ],
          "name": "stdout"
        },
        {
          "output_type": "stream",
          "text": [
            "Evaluate: 100%|██████████| 29/29 [00:00<00:00, 48.80it/s]\n"
          ],
          "name": "stderr"
        },
        {
          "output_type": "stream",
          "text": [
            "valid_evaluation: loss = 1.157664534250895, acc = 0.6442156389998092\n",
            "save model at  checkpoints/crnn_010260_acc0.6442156389998092.pt\n",
            "EarlyStopping counter: 1 out of 10\n",
            "train_loss:  1.3436627753859085\n",
            "epoch: 16\n",
            "train_batch_loss[ 10300 ]:  1.5338631868362427\n",
            "train_batch_loss[ 10400 ]:  1.4788843393325806\n",
            "train_batch_loss[ 10500 ]:  1.5475208759307861\n",
            "train_batch_loss[ 10600 ]:  1.3077964782714844\n",
            "train_batch_loss[ 10700 ]:  1.3113888502120972\n",
            "train_batch_loss[ 10800 ]:  0.9877910614013672\n",
            "train_batch_loss[ 10900 ]:  1.211421251296997\n"
          ],
          "name": "stdout"
        },
        {
          "output_type": "stream",
          "text": [
            "Evaluate: 100%|██████████| 29/29 [00:00<00:00, 49.55it/s]\n"
          ],
          "name": "stderr"
        },
        {
          "output_type": "stream",
          "text": [
            "valid_evaluation: loss = 1.2004264068603516, acc = 0.5901567499950381\n",
            "save model at  checkpoints/crnn_010944_acc0.5901567499950381.pt\n",
            "EarlyStopping counter: 2 out of 10\n",
            "train_loss:  1.306307400205008\n",
            "epoch: 17\n",
            "train_batch_loss[ 11000 ]:  1.1256661415100098\n",
            "train_batch_loss[ 11100 ]:  1.3347535133361816\n",
            "train_batch_loss[ 11200 ]:  1.217191219329834\n",
            "train_batch_loss[ 11300 ]:  1.1791579723358154\n",
            "train_batch_loss[ 11400 ]:  1.3249573707580566\n",
            "train_batch_loss[ 11500 ]:  1.1748290061950684\n",
            "train_batch_loss[ 11600 ]:  1.4340285062789917\n"
          ],
          "name": "stdout"
        },
        {
          "output_type": "stream",
          "text": [
            "Evaluate: 100%|██████████| 29/29 [00:00<00:00, 49.11it/s]\n"
          ],
          "name": "stderr"
        },
        {
          "output_type": "stream",
          "text": [
            "valid_evaluation: loss = 1.1570868937174479, acc = 0.6350549360080125\n",
            "save model at  checkpoints/crnn_011628_acc0.6350549360080125.pt\n",
            "EarlyStopping counter: 3 out of 10\n",
            "train_loss:  1.2783678091439037\n",
            "epoch: 18\n",
            "train_batch_loss[ 11700 ]:  1.0637986660003662\n",
            "train_batch_loss[ 11800 ]:  1.048525094985962\n",
            "train_batch_loss[ 11900 ]:  1.1320040225982666\n",
            "train_batch_loss[ 12000 ]:  1.2705518007278442\n",
            "train_batch_loss[ 12100 ]:  0.9848881363868713\n",
            "train_batch_loss[ 12200 ]:  1.0399161577224731\n",
            "train_batch_loss[ 12300 ]:  0.9876605868339539\n"
          ],
          "name": "stdout"
        },
        {
          "output_type": "stream",
          "text": [
            "Evaluate: 100%|██████████| 29/29 [00:00<00:00, 48.40it/s]\n"
          ],
          "name": "stderr"
        },
        {
          "output_type": "stream",
          "text": [
            "valid_evaluation: loss = 1.0946446424060399, acc = 0.6364531582885747\n",
            "save model at  checkpoints/crnn_012312_acc0.6364531582885747.pt\n",
            "Validation loss decreased (1.151542 --> 1.094645).  Saving model ...\n",
            "train_loss:  1.2449094039749544\n",
            "epoch: 19\n",
            "train_batch_loss[ 12400 ]:  1.1758445501327515\n",
            "train_batch_loss[ 12500 ]:  1.4514793157577515\n",
            "train_batch_loss[ 12600 ]:  1.0865554809570312\n",
            "train_batch_loss[ 12700 ]:  1.3308323621749878\n",
            "train_batch_loss[ 12800 ]:  1.1325563192367554\n",
            "train_batch_loss[ 12900 ]:  1.413251280784607\n"
          ],
          "name": "stdout"
        },
        {
          "output_type": "stream",
          "text": [
            "Evaluate: 100%|██████████| 29/29 [00:00<00:00, 48.38it/s]\n"
          ],
          "name": "stderr"
        },
        {
          "output_type": "stream",
          "text": [
            "valid_evaluation: loss = 1.1708134174346925, acc = 0.6087012853745127\n",
            "save model at  checkpoints/crnn_012996_acc0.6087012853745127.pt\n",
            "EarlyStopping counter: 1 out of 10\n",
            "train_loss:  1.2171358782677113\n",
            "epoch: 20\n",
            "train_batch_loss[ 13000 ]:  1.3109972476959229\n",
            "train_batch_loss[ 13100 ]:  1.254703164100647\n",
            "train_batch_loss[ 13200 ]:  1.1205672025680542\n",
            "train_batch_loss[ 13300 ]:  1.0145046710968018\n",
            "train_batch_loss[ 13400 ]:  1.295973539352417\n",
            "train_batch_loss[ 13500 ]:  1.200543999671936\n",
            "train_batch_loss[ 13600 ]:  1.3561779260635376\n"
          ],
          "name": "stdout"
        },
        {
          "output_type": "stream",
          "text": [
            "Evaluate: 100%|██████████| 29/29 [00:00<00:00, 48.07it/s]\n"
          ],
          "name": "stderr"
        },
        {
          "output_type": "stream",
          "text": [
            "valid_evaluation: loss = 1.0571876793437534, acc = 0.6733677852739118\n",
            "save model at  checkpoints/crnn_013680_acc0.6733677852739118.pt\n",
            "Validation loss decreased (1.094645 --> 1.057188).  Saving model ...\n",
            "train_loss:  1.1895235880139652\n",
            "epoch: 21\n",
            "train_batch_loss[ 13700 ]:  1.2219158411026\n",
            "train_batch_loss[ 13800 ]:  1.1420570611953735\n",
            "train_batch_loss[ 13900 ]:  1.11612069606781\n",
            "train_batch_loss[ 14000 ]:  1.3827024698257446\n",
            "train_batch_loss[ 14100 ]:  1.2373837232589722\n",
            "train_batch_loss[ 14200 ]:  1.326431393623352\n",
            "train_batch_loss[ 14300 ]:  1.0490317344665527\n"
          ],
          "name": "stdout"
        },
        {
          "output_type": "stream",
          "text": [
            "Evaluate: 100%|██████████| 29/29 [00:00<00:00, 48.77it/s]\n"
          ],
          "name": "stderr"
        },
        {
          "output_type": "stream",
          "text": [
            "valid_evaluation: loss = 1.0231103642781576, acc = 0.6753500984119879\n",
            "save model at  checkpoints/crnn_014364_acc0.6753500984119879.pt\n",
            "Validation loss decreased (1.057188 --> 1.023110).  Saving model ...\n",
            "train_loss:  1.168325010543007\n",
            "epoch: 22\n",
            "train_batch_loss[ 14400 ]:  1.2191094160079956\n",
            "train_batch_loss[ 14500 ]:  1.1960060596466064\n",
            "train_batch_loss[ 14600 ]:  1.024909257888794\n",
            "train_batch_loss[ 14700 ]:  0.9575743079185486\n",
            "train_batch_loss[ 14800 ]:  0.9093451499938965\n",
            "train_batch_loss[ 14900 ]:  1.2960383892059326\n",
            "train_batch_loss[ 15000 ]:  0.8719020485877991\n"
          ],
          "name": "stdout"
        },
        {
          "output_type": "stream",
          "text": [
            "Evaluate: 100%|██████████| 29/29 [00:00<00:00, 48.96it/s]\n"
          ],
          "name": "stderr"
        },
        {
          "output_type": "stream",
          "text": [
            "valid_evaluation: loss = 1.0438665766186184, acc = 0.6708875509077009\n",
            "save model at  checkpoints/crnn_015048_acc0.6708875509077009.pt\n",
            "EarlyStopping counter: 1 out of 10\n",
            "train_loss:  1.1364299270950826\n",
            "epoch: 23\n",
            "train_batch_loss[ 15100 ]:  0.9607186317443848\n",
            "train_batch_loss[ 15200 ]:  1.081007719039917\n",
            "train_batch_loss[ 15300 ]:  1.0492186546325684\n",
            "train_batch_loss[ 15400 ]:  1.0589464902877808\n",
            "train_batch_loss[ 15500 ]:  0.9048580527305603\n",
            "train_batch_loss[ 15600 ]:  0.7656983733177185\n",
            "train_batch_loss[ 15700 ]:  0.8995940685272217\n"
          ],
          "name": "stdout"
        },
        {
          "output_type": "stream",
          "text": [
            "Evaluate: 100%|██████████| 29/29 [00:00<00:00, 48.55it/s]\n"
          ],
          "name": "stderr"
        },
        {
          "output_type": "stream",
          "text": [
            "valid_evaluation: loss = 1.0239951393339368, acc = 0.6792253950192776\n",
            "save model at  checkpoints/crnn_015732_acc0.6792253950192776.pt\n",
            "EarlyStopping counter: 2 out of 10\n",
            "train_loss:  1.1136727653576677\n",
            "epoch: 24\n",
            "train_batch_loss[ 15800 ]:  0.9903563857078552\n",
            "train_batch_loss[ 15900 ]:  1.1564499139785767\n",
            "train_batch_loss[ 16000 ]:  1.5644606351852417\n",
            "train_batch_loss[ 16100 ]:  1.0930445194244385\n",
            "train_batch_loss[ 16200 ]:  1.2194844484329224\n",
            "train_batch_loss[ 16300 ]:  1.1495997905731201\n",
            "train_batch_loss[ 16400 ]:  1.113227367401123\n"
          ],
          "name": "stdout"
        },
        {
          "output_type": "stream",
          "text": [
            "Evaluate: 100%|██████████| 29/29 [00:00<00:00, 48.89it/s]\n"
          ],
          "name": "stderr"
        },
        {
          "output_type": "stream",
          "text": [
            "valid_evaluation: loss = 1.2466817543241713, acc = 0.595891575289821\n",
            "save model at  checkpoints/crnn_016416_acc0.595891575289821.pt\n",
            "EarlyStopping counter: 3 out of 10\n",
            "train_loss:  1.0940858463310028\n",
            "epoch: 25\n",
            "train_batch_loss[ 16500 ]:  1.1781880855560303\n",
            "train_batch_loss[ 16600 ]:  1.0838901996612549\n",
            "train_batch_loss[ 16700 ]:  1.2411588430404663\n",
            "train_batch_loss[ 16800 ]:  0.8990830183029175\n",
            "train_batch_loss[ 16900 ]:  0.8565667271614075\n",
            "train_batch_loss[ 17000 ]:  0.8402552604675293\n"
          ],
          "name": "stdout"
        },
        {
          "output_type": "stream",
          "text": [
            "Evaluate:  17%|█▋        | 5/29 [00:00<00:00, 46.39it/s]"
          ],
          "name": "stderr"
        },
        {
          "output_type": "stream",
          "text": [
            "train_batch_loss[ 17100 ]:  0.9309214183262416\n"
          ],
          "name": "stdout"
        },
        {
          "output_type": "stream",
          "text": [
            "Evaluate: 100%|██████████| 29/29 [00:00<00:00, 48.78it/s]\n"
          ],
          "name": "stderr"
        },
        {
          "output_type": "stream",
          "text": [
            "valid_evaluation: loss = 1.0927085722817316, acc = 0.6460174097805599\n",
            "save model at  checkpoints/crnn_017100_acc0.6460174097805599.pt\n",
            "EarlyStopping counter: 4 out of 10\n",
            "train_loss:  1.0690936304414222\n",
            "epoch: 26\n",
            "train_batch_loss[ 17200 ]:  1.0889616012573242\n",
            "train_batch_loss[ 17300 ]:  0.7350578308105469\n",
            "train_batch_loss[ 17400 ]:  0.7893050909042358\n",
            "train_batch_loss[ 17500 ]:  0.7923890352249146\n",
            "train_batch_loss[ 17600 ]:  1.0633407831192017\n",
            "train_batch_loss[ 17700 ]:  0.9804425835609436\n"
          ],
          "name": "stdout"
        },
        {
          "output_type": "stream",
          "text": [
            "Evaluate: 100%|██████████| 29/29 [00:00<00:00, 48.63it/s]\n"
          ],
          "name": "stderr"
        },
        {
          "output_type": "stream",
          "text": [
            "valid_evaluation: loss = 1.0069230442576937, acc = 0.6785318589396141\n",
            "save model at  checkpoints/crnn_017784_acc0.6785318589396141.pt\n",
            "Validation loss decreased (1.023110 --> 1.006923).  Saving model ...\n",
            "train_loss:  1.0439965135167055\n",
            "epoch: 27\n",
            "train_batch_loss[ 17800 ]:  0.8376007080078125\n",
            "train_batch_loss[ 17900 ]:  0.9815325736999512\n",
            "train_batch_loss[ 18000 ]:  1.1246031522750854\n",
            "train_batch_loss[ 18100 ]:  0.9196885228157043\n",
            "train_batch_loss[ 18200 ]:  0.791801929473877\n",
            "train_batch_loss[ 18300 ]:  1.292424201965332\n",
            "train_batch_loss[ 18400 ]:  0.9613985419273376\n"
          ],
          "name": "stdout"
        },
        {
          "output_type": "stream",
          "text": [
            "Evaluate: 100%|██████████| 29/29 [00:00<00:00, 48.52it/s]\n"
          ],
          "name": "stderr"
        },
        {
          "output_type": "stream",
          "text": [
            "valid_evaluation: loss = 1.129170402155982, acc = 0.6256418607300411\n",
            "save model at  checkpoints/crnn_018468_acc0.6256418607300411.pt\n",
            "EarlyStopping counter: 1 out of 10\n",
            "train_loss:  1.0280038296385994\n",
            "epoch: 28\n",
            "train_batch_loss[ 18500 ]:  0.8058359026908875\n",
            "train_batch_loss[ 18600 ]:  1.1831945180892944\n",
            "train_batch_loss[ 18700 ]:  0.9278011322021484\n",
            "train_batch_loss[ 18800 ]:  1.1308612823486328\n",
            "train_batch_loss[ 18900 ]:  0.6810996532440186\n",
            "train_batch_loss[ 19000 ]:  1.0210905075073242\n",
            "train_batch_loss[ 19100 ]:  0.8069555759429932\n"
          ],
          "name": "stdout"
        },
        {
          "output_type": "stream",
          "text": [
            "Evaluate: 100%|██████████| 29/29 [00:00<00:00, 48.80it/s]\n"
          ],
          "name": "stderr"
        },
        {
          "output_type": "stream",
          "text": [
            "valid_evaluation: loss = 0.9764464863141378, acc = 0.6966130591500548\n",
            "save model at  checkpoints/crnn_019152_acc0.6966130591500548.pt\n",
            "Validation loss decreased (1.006923 --> 0.976446).  Saving model ...\n",
            "train_loss:  1.0027229312134487\n",
            "epoch: 29\n",
            "train_batch_loss[ 19200 ]:  1.0442599058151245\n",
            "train_batch_loss[ 19300 ]:  1.046703815460205\n",
            "train_batch_loss[ 19400 ]:  1.2149677276611328\n",
            "train_batch_loss[ 19500 ]:  0.963919460773468\n",
            "train_batch_loss[ 19600 ]:  0.7583755254745483\n",
            "train_batch_loss[ 19700 ]:  1.2222797870635986\n",
            "train_batch_loss[ 19800 ]:  1.2410165071487427\n"
          ],
          "name": "stdout"
        },
        {
          "output_type": "stream",
          "text": [
            "Evaluate: 100%|██████████| 29/29 [00:00<00:00, 48.50it/s]\n"
          ],
          "name": "stderr"
        },
        {
          "output_type": "stream",
          "text": [
            "valid_evaluation: loss = 1.0150262784957886, acc = 0.6989766819325316\n",
            "save model at  checkpoints/crnn_019836_acc0.6989766819325316.pt\n",
            "EarlyStopping counter: 1 out of 10\n",
            "train_loss:  0.9895769923366692\n",
            "epoch: 30\n",
            "train_batch_loss[ 19900 ]:  0.9274899363517761\n",
            "train_batch_loss[ 20000 ]:  0.930031955242157\n",
            "train_batch_loss[ 20100 ]:  0.953300952911377\n",
            "train_batch_loss[ 20200 ]:  0.9205027222633362\n",
            "train_batch_loss[ 20300 ]:  0.8173767924308777\n",
            "train_batch_loss[ 20400 ]:  0.9169016480445862\n",
            "train_batch_loss[ 20500 ]:  0.9487684369087219\n"
          ],
          "name": "stdout"
        },
        {
          "output_type": "stream",
          "text": [
            "Evaluate: 100%|██████████| 29/29 [00:00<00:00, 48.89it/s]\n"
          ],
          "name": "stderr"
        },
        {
          "output_type": "stream",
          "text": [
            "valid_evaluation: loss = 1.0427416168318855, acc = 0.6819144183423564\n",
            "save model at  checkpoints/crnn_020520_acc0.6819144183423564.pt\n",
            "EarlyStopping counter: 2 out of 10\n",
            "train_loss:  0.9564015449973945\n",
            "epoch: 31\n",
            "train_batch_loss[ 20600 ]:  0.7711618542671204\n",
            "train_batch_loss[ 20700 ]:  0.7664868831634521\n",
            "train_batch_loss[ 20800 ]:  0.8847894072532654\n",
            "train_batch_loss[ 20900 ]:  1.0895013809204102\n",
            "train_batch_loss[ 21000 ]:  0.8600978255271912\n",
            "train_batch_loss[ 21100 ]:  0.7933158278465271\n"
          ],
          "name": "stdout"
        },
        {
          "output_type": "stream",
          "text": [
            "\rEvaluate:   0%|          | 0/29 [00:00<?, ?it/s]"
          ],
          "name": "stderr"
        },
        {
          "output_type": "stream",
          "text": [
            "train_batch_loss[ 21200 ]:  0.7634036540985107\n"
          ],
          "name": "stdout"
        },
        {
          "output_type": "stream",
          "text": [
            "Evaluate: 100%|██████████| 29/29 [00:00<00:00, 48.30it/s]\n"
          ],
          "name": "stderr"
        },
        {
          "output_type": "stream",
          "text": [
            "valid_evaluation: loss = 1.0402912357118395, acc = 0.6861892559334741\n",
            "save model at  checkpoints/crnn_021204_acc0.6861892559334741.pt\n",
            "EarlyStopping counter: 3 out of 10\n",
            "train_loss:  0.949148813578218\n",
            "epoch: 32\n",
            "train_batch_loss[ 21300 ]:  0.7968292236328125\n",
            "train_batch_loss[ 21400 ]:  0.7652682065963745\n",
            "train_batch_loss[ 21500 ]:  0.8836615681648254\n",
            "train_batch_loss[ 21600 ]:  0.9134178757667542\n",
            "train_batch_loss[ 21700 ]:  0.9328006505966187\n",
            "train_batch_loss[ 21800 ]:  0.9416908621788025\n"
          ],
          "name": "stdout"
        },
        {
          "output_type": "stream",
          "text": [
            "Evaluate: 100%|██████████| 29/29 [00:00<00:00, 48.54it/s]\n"
          ],
          "name": "stderr"
        },
        {
          "output_type": "stream",
          "text": [
            "valid_evaluation: loss = 1.0134869141048855, acc = 0.6853045985244557\n",
            "save model at  checkpoints/crnn_021888_acc0.6853045985244557.pt\n",
            "EarlyStopping counter: 4 out of 10\n",
            "train_loss:  0.9353569662183946\n",
            "epoch: 33\n",
            "train_batch_loss[ 21900 ]:  1.0835473537445068\n",
            "train_batch_loss[ 22000 ]:  0.9616023302078247\n",
            "train_batch_loss[ 22100 ]:  0.8498066663742065\n",
            "train_batch_loss[ 22200 ]:  0.49808982014656067\n",
            "train_batch_loss[ 22300 ]:  0.7857367992401123\n",
            "train_batch_loss[ 22400 ]:  0.9125164151191711\n",
            "train_batch_loss[ 22500 ]:  0.7118211388587952\n"
          ],
          "name": "stdout"
        },
        {
          "output_type": "stream",
          "text": [
            "Evaluate: 100%|██████████| 29/29 [00:00<00:00, 48.09it/s]\n"
          ],
          "name": "stderr"
        },
        {
          "output_type": "stream",
          "text": [
            "valid_evaluation: loss = 1.0298656800058152, acc = 0.6867817396812251\n",
            "save model at  checkpoints/crnn_022572_acc0.6867817396812251.pt\n",
            "EarlyStopping counter: 5 out of 10\n",
            "train_loss:  0.9106716273743429\n",
            "epoch: 34\n",
            "train_batch_loss[ 22600 ]:  0.7793576717376709\n",
            "train_batch_loss[ 22700 ]:  0.5939309597015381\n",
            "train_batch_loss[ 22800 ]:  0.8900967240333557\n",
            "train_batch_loss[ 22900 ]:  0.8837093710899353\n",
            "train_batch_loss[ 23000 ]:  0.9931594133377075\n",
            "train_batch_loss[ 23100 ]:  0.8273744583129883\n",
            "train_batch_loss[ 23200 ]:  0.6743693351745605\n"
          ],
          "name": "stdout"
        },
        {
          "output_type": "stream",
          "text": [
            "Evaluate: 100%|██████████| 29/29 [00:00<00:00, 48.35it/s]\n"
          ],
          "name": "stderr"
        },
        {
          "output_type": "stream",
          "text": [
            "valid_evaluation: loss = 1.0550078121821085, acc = 0.6909907337247976\n",
            "save model at  checkpoints/crnn_023256_acc0.6909907337247976.pt\n",
            "EarlyStopping counter: 6 out of 10\n",
            "train_loss:  0.8967767578093603\n",
            "epoch: 35\n",
            "train_batch_loss[ 23300 ]:  0.7969731688499451\n",
            "train_batch_loss[ 23400 ]:  0.8004052639007568\n",
            "train_batch_loss[ 23500 ]:  1.2414907217025757\n",
            "train_batch_loss[ 23600 ]:  0.942922830581665\n",
            "train_batch_loss[ 23700 ]:  1.1640936136245728\n",
            "train_batch_loss[ 23800 ]:  0.916961669921875\n",
            "train_batch_loss[ 23900 ]:  0.8294254541397095\n"
          ],
          "name": "stdout"
        },
        {
          "output_type": "stream",
          "text": [
            "Evaluate: 100%|██████████| 29/29 [00:00<00:00, 48.61it/s]\n"
          ],
          "name": "stderr"
        },
        {
          "output_type": "stream",
          "text": [
            "valid_evaluation: loss = 1.0517805926005046, acc = 0.6830258314174305\n",
            "save model at  checkpoints/crnn_023940_acc0.6830258314174305.pt\n",
            "EarlyStopping counter: 7 out of 10\n",
            "train_loss:  0.8909689922010076\n",
            "epoch: 36\n",
            "train_batch_loss[ 24000 ]:  0.7897508144378662\n",
            "train_batch_loss[ 24100 ]:  1.0101652145385742\n",
            "train_batch_loss[ 24200 ]:  0.7263351082801819\n",
            "train_batch_loss[ 24300 ]:  0.743665337562561\n",
            "train_batch_loss[ 24400 ]:  0.7976656556129456\n",
            "train_batch_loss[ 24500 ]:  0.916816771030426\n",
            "train_batch_loss[ 24600 ]:  0.9750606417655945\n"
          ],
          "name": "stdout"
        },
        {
          "output_type": "stream",
          "text": [
            "Evaluate: 100%|██████████| 29/29 [00:00<00:00, 48.17it/s]\n"
          ],
          "name": "stderr"
        },
        {
          "output_type": "stream",
          "text": [
            "valid_evaluation: loss = 1.0861024403572082, acc = 0.6795232546302243\n",
            "save model at  checkpoints/crnn_024624_acc0.6795232546302243.pt\n",
            "EarlyStopping counter: 8 out of 10\n",
            "train_loss:  0.8743499586666126\n",
            "epoch: 37\n",
            "train_batch_loss[ 24700 ]:  0.662052571773529\n",
            "train_batch_loss[ 24800 ]:  0.7409535646438599\n",
            "train_batch_loss[ 24900 ]:  0.8558335304260254\n",
            "train_batch_loss[ 25000 ]:  1.100121021270752\n",
            "train_batch_loss[ 25100 ]:  0.614750862121582\n",
            "train_batch_loss[ 25200 ]:  0.6781540513038635\n",
            "train_batch_loss[ 25300 ]:  0.5124949812889099\n"
          ],
          "name": "stdout"
        },
        {
          "output_type": "stream",
          "text": [
            "Evaluate: 100%|██████████| 29/29 [00:00<00:00, 48.62it/s]\n"
          ],
          "name": "stderr"
        },
        {
          "output_type": "stream",
          "text": [
            "valid_evaluation: loss = 1.02348770459493, acc = 0.6873714644338534\n",
            "save model at  checkpoints/crnn_025308_acc0.6873714644338534.pt\n",
            "EarlyStopping counter: 9 out of 10\n",
            "train_loss:  0.8600418731835971\n",
            "epoch: 38\n",
            "train_batch_loss[ 25400 ]:  1.0679445266723633\n",
            "train_batch_loss[ 25500 ]:  0.7054755091667175\n",
            "train_batch_loss[ 25600 ]:  0.7472819089889526\n",
            "train_batch_loss[ 25700 ]:  0.9163579940795898\n",
            "train_batch_loss[ 25800 ]:  0.7642936706542969\n",
            "train_batch_loss[ 25900 ]:  0.6223739385604858\n"
          ],
          "name": "stdout"
        },
        {
          "output_type": "stream",
          "text": [
            "Evaluate: 100%|██████████| 29/29 [00:00<00:00, 47.23it/s]\n",
            "Predict:  23%|██▎       | 6/26 [00:00<00:00, 50.18it/s]"
          ],
          "name": "stderr"
        },
        {
          "output_type": "stream",
          "text": [
            "valid_evaluation: loss = 1.0916488756073846, acc = 0.6810690727360214\n",
            "save model at  checkpoints/crnn_025992_acc0.6810690727360214.pt\n",
            "EarlyStopping counter: 10 out of 10\n",
            "train_loss:  0.8536998480599276\n",
            "Early stopping\n"
          ],
          "name": "stdout"
        },
        {
          "output_type": "stream",
          "text": [
            "Predict: 100%|██████████| 26/26 [00:00<00:00, 48.24it/s]\n"
          ],
          "name": "stderr"
        },
        {
          "output_type": "stream",
          "text": [
            "F1 without majority = 0.7763164333502912\n",
            "F1 with majority = 0.8438472406506464\n",
            "Current trial: slice_length = 32; random_state = 0\n",
            "device: cuda\n",
            "epoch: 1\n",
            "train_batch_loss[ 100 ]:  2.306593656539917\n",
            "train_batch_loss[ 200 ]:  2.234476089477539\n",
            "train_batch_loss[ 300 ]:  2.4105939865112305\n",
            "train_batch_loss[ 400 ]:  2.250605583190918\n",
            "train_batch_loss[ 500 ]:  2.3410959243774414\n",
            "train_batch_loss[ 600 ]:  2.1716761589050293\n",
            "train_batch_loss[ 700 ]:  2.1862401962280273\n",
            "train_batch_loss[ 800 ]:  2.239621877670288\n",
            "train_batch_loss[ 900 ]:  2.1157023906707764\n",
            "train_batch_loss[ 1000 ]:  2.0388927459716797\n",
            "train_batch_loss[ 1100 ]:  2.150500535964966\n",
            "train_batch_loss[ 1200 ]:  2.046656370162964\n",
            "train_batch_loss[ 1300 ]:  2.0326313972473145\n",
            "train_batch_loss[ 1400 ]:  2.1919326782226562\n",
            "train_batch_loss[ 1500 ]:  2.1763389110565186\n",
            "train_batch_loss[ 1600 ]:  2.0991744995117188\n",
            "train_batch_loss[ 1700 ]:  2.051008939743042\n",
            "train_batch_loss[ 1800 ]:  2.1359128952026367\n",
            "train_batch_loss[ 1900 ]:  2.1280665397644043\n",
            "train_batch_loss[ 2000 ]:  2.123370885848999\n",
            "train_batch_loss[ 2100 ]:  1.8710323572158813\n"
          ],
          "name": "stdout"
        },
        {
          "output_type": "stream",
          "text": [
            "Evaluate:  10%|▉         | 9/91 [00:00<00:00, 88.09it/s]"
          ],
          "name": "stderr"
        },
        {
          "output_type": "stream",
          "text": [
            "train_batch_loss[ 2200 ]:  2.065922498703003\n"
          ],
          "name": "stdout"
        },
        {
          "output_type": "stream",
          "text": [
            "Evaluate: 100%|██████████| 91/91 [00:01<00:00, 87.14it/s]\n"
          ],
          "name": "stderr"
        },
        {
          "output_type": "stream",
          "text": [
            "valid_evaluation: loss = 1.9761902131705449, acc = 0.25231603207421477\n",
            "save model at  checkpoints/crnn_002203_acc0.25231603207421477.pt\n",
            "Validation loss decreased (inf --> 1.976190).  Saving model ...\n",
            "train_loss:  2.157583641359717\n",
            "epoch: 2\n",
            "train_batch_loss[ 2300 ]:  2.009803295135498\n",
            "train_batch_loss[ 2400 ]:  1.9846633672714233\n",
            "train_batch_loss[ 2500 ]:  2.0439939498901367\n",
            "train_batch_loss[ 2600 ]:  2.011355400085449\n",
            "train_batch_loss[ 2700 ]:  1.8738129138946533\n",
            "train_batch_loss[ 2800 ]:  1.8452532291412354\n",
            "train_batch_loss[ 2900 ]:  1.822198510169983\n",
            "train_batch_loss[ 3000 ]:  1.9278459548950195\n",
            "train_batch_loss[ 3100 ]:  1.9415853023529053\n",
            "train_batch_loss[ 3200 ]:  2.0046908855438232\n",
            "train_batch_loss[ 3300 ]:  1.8222606182098389\n",
            "train_batch_loss[ 3400 ]:  1.8716285228729248\n",
            "train_batch_loss[ 3500 ]:  1.7782275676727295\n",
            "train_batch_loss[ 3600 ]:  1.8860690593719482\n",
            "train_batch_loss[ 3700 ]:  1.8292741775512695\n",
            "train_batch_loss[ 3800 ]:  1.7591345310211182\n",
            "train_batch_loss[ 3900 ]:  1.974683403968811\n",
            "train_batch_loss[ 4000 ]:  1.885616660118103\n",
            "train_batch_loss[ 4100 ]:  1.7581555843353271\n",
            "train_batch_loss[ 4200 ]:  1.9816615581512451\n",
            "train_batch_loss[ 4300 ]:  1.7256252765655518\n"
          ],
          "name": "stdout"
        },
        {
          "output_type": "stream",
          "text": [
            "\rEvaluate:   0%|          | 0/91 [00:00<?, ?it/s]"
          ],
          "name": "stderr"
        },
        {
          "output_type": "stream",
          "text": [
            "train_batch_loss[ 4400 ]:  1.890669584274292\n"
          ],
          "name": "stdout"
        },
        {
          "output_type": "stream",
          "text": [
            "Evaluate: 100%|██████████| 91/91 [00:01<00:00, 76.04it/s]\n"
          ],
          "name": "stderr"
        },
        {
          "output_type": "stream",
          "text": [
            "valid_evaluation: loss = 1.6182993987510945, acc = 0.44302379266762343\n",
            "save model at  checkpoints/crnn_004406_acc0.44302379266762343.pt\n",
            "Validation loss decreased (1.976190 --> 1.618299).  Saving model ...\n",
            "train_loss:  1.8932129946941854\n",
            "epoch: 3\n",
            "train_batch_loss[ 4500 ]:  2.010619878768921\n",
            "train_batch_loss[ 4600 ]:  2.0785272121429443\n",
            "train_batch_loss[ 4700 ]:  1.5909764766693115\n",
            "train_batch_loss[ 4800 ]:  1.5223276615142822\n",
            "train_batch_loss[ 4900 ]:  1.7248871326446533\n",
            "train_batch_loss[ 5000 ]:  1.902768611907959\n",
            "train_batch_loss[ 5100 ]:  1.7163193225860596\n",
            "train_batch_loss[ 5200 ]:  1.7851098775863647\n",
            "train_batch_loss[ 5300 ]:  1.981282114982605\n",
            "train_batch_loss[ 5400 ]:  1.6564923524856567\n",
            "train_batch_loss[ 5500 ]:  1.6270859241485596\n",
            "train_batch_loss[ 5600 ]:  1.6363226175308228\n",
            "train_batch_loss[ 5700 ]:  1.827606439590454\n",
            "train_batch_loss[ 5800 ]:  1.6414358615875244\n",
            "train_batch_loss[ 5900 ]:  1.7248313426971436\n",
            "train_batch_loss[ 6000 ]:  1.6479450464248657\n",
            "train_batch_loss[ 6100 ]:  1.698720932006836\n",
            "train_batch_loss[ 6200 ]:  1.7347517013549805\n",
            "train_batch_loss[ 6300 ]:  1.5630288124084473\n",
            "train_batch_loss[ 6400 ]:  1.5448399782180786\n",
            "train_batch_loss[ 6500 ]:  1.5764330625534058\n"
          ],
          "name": "stdout"
        },
        {
          "output_type": "stream",
          "text": [
            "\rEvaluate:   0%|          | 0/91 [00:00<?, ?it/s]"
          ],
          "name": "stderr"
        },
        {
          "output_type": "stream",
          "text": [
            "train_batch_loss[ 6600 ]:  1.8401463031768799\n"
          ],
          "name": "stdout"
        },
        {
          "output_type": "stream",
          "text": [
            "Evaluate: 100%|██████████| 91/91 [00:01<00:00, 87.31it/s]\n"
          ],
          "name": "stderr"
        },
        {
          "output_type": "stream",
          "text": [
            "valid_evaluation: loss = 1.5058051852522225, acc = 0.48310491772268294\n",
            "save model at  checkpoints/crnn_006609_acc0.48310491772268294.pt\n",
            "Validation loss decreased (1.618299 --> 1.505805).  Saving model ...\n",
            "train_loss:  1.7322863383379086\n",
            "epoch: 4\n",
            "train_batch_loss[ 6700 ]:  1.5722025632858276\n",
            "train_batch_loss[ 6800 ]:  1.4784801006317139\n",
            "train_batch_loss[ 6900 ]:  1.3972734212875366\n",
            "train_batch_loss[ 7000 ]:  1.9280704259872437\n",
            "train_batch_loss[ 7100 ]:  1.5373772382736206\n",
            "train_batch_loss[ 7200 ]:  1.8412917852401733\n",
            "train_batch_loss[ 7300 ]:  1.4498426914215088\n",
            "train_batch_loss[ 7400 ]:  1.600205659866333\n",
            "train_batch_loss[ 7500 ]:  1.500231146812439\n",
            "train_batch_loss[ 7600 ]:  1.6497008800506592\n",
            "train_batch_loss[ 7700 ]:  1.7540141344070435\n",
            "train_batch_loss[ 7800 ]:  1.753221869468689\n",
            "train_batch_loss[ 7900 ]:  1.790941834449768\n",
            "train_batch_loss[ 8000 ]:  1.7592743635177612\n",
            "train_batch_loss[ 8100 ]:  1.732749581336975\n",
            "train_batch_loss[ 8200 ]:  1.525153636932373\n",
            "train_batch_loss[ 8300 ]:  1.5574733018875122\n",
            "train_batch_loss[ 8400 ]:  1.4420634508132935\n",
            "train_batch_loss[ 8500 ]:  1.4298193454742432\n",
            "train_batch_loss[ 8600 ]:  1.709771990776062\n",
            "train_batch_loss[ 8700 ]:  1.5676428079605103\n",
            "train_batch_loss[ 8800 ]:  1.859875202178955\n"
          ],
          "name": "stdout"
        },
        {
          "output_type": "stream",
          "text": [
            "Evaluate: 100%|██████████| 91/91 [00:01<00:00, 83.86it/s]\n"
          ],
          "name": "stderr"
        },
        {
          "output_type": "stream",
          "text": [
            "valid_evaluation: loss = 1.2553531719076223, acc = 0.5971661151188006\n",
            "save model at  checkpoints/crnn_008812_acc0.5971661151188006.pt\n",
            "Validation loss decreased (1.505805 --> 1.255353).  Saving model ...\n",
            "train_loss:  1.6163691607437793\n",
            "epoch: 5\n",
            "train_batch_loss[ 8900 ]:  1.476545810699463\n",
            "train_batch_loss[ 9000 ]:  1.5301488637924194\n",
            "train_batch_loss[ 9100 ]:  1.6169795989990234\n",
            "train_batch_loss[ 9200 ]:  1.3521146774291992\n",
            "train_batch_loss[ 9300 ]:  1.573065161705017\n",
            "train_batch_loss[ 9400 ]:  1.2234140634536743\n",
            "train_batch_loss[ 9500 ]:  1.4097437858581543\n",
            "train_batch_loss[ 9600 ]:  1.605665922164917\n",
            "train_batch_loss[ 9700 ]:  1.1787004470825195\n",
            "train_batch_loss[ 9800 ]:  1.2581669092178345\n",
            "train_batch_loss[ 9900 ]:  1.3168050050735474\n",
            "train_batch_loss[ 10000 ]:  1.8009611368179321\n",
            "train_batch_loss[ 10100 ]:  1.4817583560943604\n",
            "train_batch_loss[ 10200 ]:  1.4142651557922363\n",
            "train_batch_loss[ 10300 ]:  1.8453738689422607\n",
            "train_batch_loss[ 10400 ]:  1.6955986022949219\n",
            "train_batch_loss[ 10500 ]:  1.6204895973205566\n",
            "train_batch_loss[ 10600 ]:  1.5107958316802979\n",
            "train_batch_loss[ 10700 ]:  1.5854289531707764\n",
            "train_batch_loss[ 10800 ]:  1.7669838666915894\n",
            "train_batch_loss[ 10900 ]:  2.0050671100616455\n",
            "train_batch_loss[ 11000 ]:  1.6518930196762085\n"
          ],
          "name": "stdout"
        },
        {
          "output_type": "stream",
          "text": [
            "Evaluate: 100%|██████████| 91/91 [00:01<00:00, 87.67it/s]\n"
          ],
          "name": "stderr"
        },
        {
          "output_type": "stream",
          "text": [
            "valid_evaluation: loss = 1.169784313070363, acc = 0.6266659601927665\n",
            "save model at  checkpoints/crnn_011015_acc0.6266659601927665.pt\n",
            "Validation loss decreased (1.255353 --> 1.169784).  Saving model ...\n",
            "train_loss:  1.5201915823247765\n",
            "epoch: 6\n",
            "train_batch_loss[ 11100 ]:  1.3391752243041992\n",
            "train_batch_loss[ 11200 ]:  1.6812615394592285\n",
            "train_batch_loss[ 11300 ]:  1.58760404586792\n",
            "train_batch_loss[ 11400 ]:  1.6501957178115845\n",
            "train_batch_loss[ 11500 ]:  1.6148064136505127\n",
            "train_batch_loss[ 11600 ]:  1.3369052410125732\n",
            "train_batch_loss[ 11700 ]:  1.4948647022247314\n",
            "train_batch_loss[ 11800 ]:  1.3657628297805786\n",
            "train_batch_loss[ 11900 ]:  1.521471619606018\n",
            "train_batch_loss[ 12000 ]:  1.3881232738494873\n",
            "train_batch_loss[ 12100 ]:  1.3886927366256714\n",
            "train_batch_loss[ 12200 ]:  1.5739473104476929\n",
            "train_batch_loss[ 12300 ]:  1.5549203157424927\n",
            "train_batch_loss[ 12400 ]:  1.4846553802490234\n",
            "train_batch_loss[ 12500 ]:  1.2808914184570312\n",
            "train_batch_loss[ 12600 ]:  1.44523024559021\n",
            "train_batch_loss[ 12700 ]:  1.385271668434143\n",
            "train_batch_loss[ 12800 ]:  1.7042632102966309\n",
            "train_batch_loss[ 12900 ]:  1.5353995561599731\n",
            "train_batch_loss[ 13000 ]:  1.3200819492340088\n",
            "train_batch_loss[ 13100 ]:  1.2696831226348877\n",
            "train_batch_loss[ 13200 ]:  1.5431562662124634\n"
          ],
          "name": "stdout"
        },
        {
          "output_type": "stream",
          "text": [
            "Evaluate: 100%|██████████| 91/91 [00:01<00:00, 88.01it/s]\n"
          ],
          "name": "stderr"
        },
        {
          "output_type": "stream",
          "text": [
            "valid_evaluation: loss = 1.0180644153726512, acc = 0.6917015579963977\n",
            "save model at  checkpoints/crnn_013218_acc0.6917015579963977.pt\n",
            "Validation loss decreased (1.169784 --> 1.018064).  Saving model ...\n",
            "train_loss:  1.4477495267236589\n",
            "epoch: 7\n",
            "train_batch_loss[ 13300 ]:  1.1272952556610107\n",
            "train_batch_loss[ 13400 ]:  1.4046357870101929\n",
            "train_batch_loss[ 13500 ]:  1.0787705183029175\n",
            "train_batch_loss[ 13600 ]:  1.5195543766021729\n",
            "train_batch_loss[ 13700 ]:  1.4706274271011353\n",
            "train_batch_loss[ 13800 ]:  1.6746809482574463\n",
            "train_batch_loss[ 13900 ]:  1.2702113389968872\n",
            "train_batch_loss[ 14000 ]:  1.4832218885421753\n",
            "train_batch_loss[ 14100 ]:  1.1230045557022095\n",
            "train_batch_loss[ 14200 ]:  1.3803173303604126\n",
            "train_batch_loss[ 14300 ]:  1.208744764328003\n",
            "train_batch_loss[ 14400 ]:  1.41533362865448\n",
            "train_batch_loss[ 14500 ]:  1.2179573774337769\n",
            "train_batch_loss[ 14600 ]:  1.4840885400772095\n",
            "train_batch_loss[ 14700 ]:  0.9907911419868469\n",
            "train_batch_loss[ 14800 ]:  1.6899478435516357\n",
            "train_batch_loss[ 14900 ]:  1.2783710956573486\n",
            "train_batch_loss[ 15000 ]:  1.318578839302063\n",
            "train_batch_loss[ 15100 ]:  1.8774551153182983\n",
            "train_batch_loss[ 15200 ]:  1.2980202436447144\n",
            "train_batch_loss[ 15300 ]:  1.619126796722412\n",
            "train_batch_loss[ 15400 ]:  1.2508641481399536\n"
          ],
          "name": "stdout"
        },
        {
          "output_type": "stream",
          "text": [
            "Evaluate: 100%|██████████| 91/91 [00:01<00:00, 86.94it/s]\n"
          ],
          "name": "stderr"
        },
        {
          "output_type": "stream",
          "text": [
            "valid_evaluation: loss = 1.0593103441698797, acc = 0.6715021438089046\n",
            "save model at  checkpoints/crnn_015421_acc0.6715021438089046.pt\n",
            "EarlyStopping counter: 1 out of 10\n",
            "train_loss:  1.3836531021044545\n",
            "epoch: 8\n",
            "train_batch_loss[ 15500 ]:  1.8744549751281738\n",
            "train_batch_loss[ 15600 ]:  1.1283820867538452\n",
            "train_batch_loss[ 15700 ]:  1.566107153892517\n",
            "train_batch_loss[ 15800 ]:  1.4078129529953003\n",
            "train_batch_loss[ 15900 ]:  1.2972922325134277\n",
            "train_batch_loss[ 16000 ]:  1.0667002201080322\n",
            "train_batch_loss[ 16100 ]:  1.2531977891921997\n",
            "train_batch_loss[ 16200 ]:  1.3082172870635986\n",
            "train_batch_loss[ 16300 ]:  1.385749340057373\n",
            "train_batch_loss[ 16400 ]:  1.2477279901504517\n",
            "train_batch_loss[ 16500 ]:  1.2420177459716797\n",
            "train_batch_loss[ 16600 ]:  1.3643685579299927\n",
            "train_batch_loss[ 16700 ]:  1.5164014101028442\n",
            "train_batch_loss[ 16800 ]:  1.1763181686401367\n",
            "train_batch_loss[ 16900 ]:  1.395524024963379\n",
            "train_batch_loss[ 17000 ]:  1.2228457927703857\n",
            "train_batch_loss[ 17100 ]:  1.250606656074524\n",
            "train_batch_loss[ 17200 ]:  1.6419119834899902\n",
            "train_batch_loss[ 17300 ]:  1.501479148864746\n",
            "train_batch_loss[ 17400 ]:  0.9524948596954346\n",
            "train_batch_loss[ 17500 ]:  1.313987135887146\n",
            "train_batch_loss[ 17600 ]:  1.4305739402770996\n"
          ],
          "name": "stdout"
        },
        {
          "output_type": "stream",
          "text": [
            "Evaluate: 100%|██████████| 91/91 [00:01<00:00, 88.83it/s]\n"
          ],
          "name": "stderr"
        },
        {
          "output_type": "stream",
          "text": [
            "valid_evaluation: loss = 0.9734061162225132, acc = 0.693202173120837\n",
            "save model at  checkpoints/crnn_017624_acc0.693202173120837.pt\n",
            "Validation loss decreased (1.018064 --> 0.973406).  Saving model ...\n",
            "train_loss:  1.3294438238564799\n",
            "epoch: 9\n",
            "train_batch_loss[ 17700 ]:  0.9387545585632324\n",
            "train_batch_loss[ 17800 ]:  1.3660160303115845\n",
            "train_batch_loss[ 17900 ]:  1.2396934032440186\n",
            "train_batch_loss[ 18000 ]:  1.0820531845092773\n",
            "train_batch_loss[ 18100 ]:  1.24130380153656\n",
            "train_batch_loss[ 18200 ]:  1.274094581604004\n",
            "train_batch_loss[ 18300 ]:  1.3817216157913208\n",
            "train_batch_loss[ 18400 ]:  1.1464383602142334\n",
            "train_batch_loss[ 18500 ]:  1.1363073587417603\n",
            "train_batch_loss[ 18600 ]:  1.1234983205795288\n",
            "train_batch_loss[ 18700 ]:  1.4873816967010498\n",
            "train_batch_loss[ 18800 ]:  1.2559963464736938\n",
            "train_batch_loss[ 18900 ]:  0.9770088791847229\n",
            "train_batch_loss[ 19000 ]:  1.3061314821243286\n",
            "train_batch_loss[ 19100 ]:  1.1872584819793701\n",
            "train_batch_loss[ 19200 ]:  1.1122651100158691\n",
            "train_batch_loss[ 19300 ]:  1.0071665048599243\n",
            "train_batch_loss[ 19400 ]:  1.0905321836471558\n",
            "train_batch_loss[ 19500 ]:  1.523929476737976\n",
            "train_batch_loss[ 19600 ]:  1.2222192287445068\n",
            "train_batch_loss[ 19700 ]:  1.1229881048202515\n",
            "train_batch_loss[ 19800 ]:  1.293381690979004\n"
          ],
          "name": "stdout"
        },
        {
          "output_type": "stream",
          "text": [
            "Evaluate: 100%|██████████| 91/91 [00:01<00:00, 87.61it/s]\n"
          ],
          "name": "stderr"
        },
        {
          "output_type": "stream",
          "text": [
            "valid_evaluation: loss = 0.9493277280084018, acc = 0.6964409382568433\n",
            "save model at  checkpoints/crnn_019827_acc0.6964409382568433.pt\n",
            "Validation loss decreased (0.973406 --> 0.949328).  Saving model ...\n",
            "train_loss:  1.2847816949941528\n",
            "epoch: 10\n",
            "train_batch_loss[ 19900 ]:  1.0073506832122803\n",
            "train_batch_loss[ 20000 ]:  0.9852093458175659\n",
            "train_batch_loss[ 20100 ]:  1.1359283924102783\n",
            "train_batch_loss[ 20200 ]:  0.7724513411521912\n",
            "train_batch_loss[ 20300 ]:  1.1626439094543457\n",
            "train_batch_loss[ 20400 ]:  1.2940484285354614\n",
            "train_batch_loss[ 20500 ]:  1.4033446311950684\n",
            "train_batch_loss[ 20600 ]:  1.2353590726852417\n",
            "train_batch_loss[ 20700 ]:  1.1150168180465698\n",
            "train_batch_loss[ 20800 ]:  1.0869724750518799\n",
            "train_batch_loss[ 20900 ]:  0.802118718624115\n",
            "train_batch_loss[ 21000 ]:  1.0485739707946777\n",
            "train_batch_loss[ 21100 ]:  1.0788981914520264\n",
            "train_batch_loss[ 21200 ]:  1.3464609384536743\n",
            "train_batch_loss[ 21300 ]:  1.0028696060180664\n",
            "train_batch_loss[ 21400 ]:  0.880769670009613\n",
            "train_batch_loss[ 21500 ]:  1.0215609073638916\n",
            "train_batch_loss[ 21600 ]:  1.3865692615509033\n",
            "train_batch_loss[ 21700 ]:  1.085408091545105\n",
            "train_batch_loss[ 21800 ]:  1.5491667985916138\n",
            "train_batch_loss[ 21900 ]:  1.1855038404464722\n",
            "train_batch_loss[ 22000 ]:  1.3339449167251587\n"
          ],
          "name": "stdout"
        },
        {
          "output_type": "stream",
          "text": [
            "Evaluate: 100%|██████████| 91/91 [00:01<00:00, 87.59it/s]\n"
          ],
          "name": "stderr"
        },
        {
          "output_type": "stream",
          "text": [
            "valid_evaluation: loss = 0.923554353385136, acc = 0.7142298385443845\n",
            "save model at  checkpoints/crnn_022030_acc0.7142298385443845.pt\n",
            "Validation loss decreased (0.949328 --> 0.923554).  Saving model ...\n",
            "train_loss:  1.2455162073375994\n",
            "epoch: 11\n",
            "train_batch_loss[ 22100 ]:  0.9378591775894165\n",
            "train_batch_loss[ 22200 ]:  1.2112715244293213\n",
            "train_batch_loss[ 22300 ]:  1.0854310989379883\n",
            "train_batch_loss[ 22400 ]:  1.0449644327163696\n",
            "train_batch_loss[ 22500 ]:  1.6291276216506958\n",
            "train_batch_loss[ 22600 ]:  1.3008748292922974\n",
            "train_batch_loss[ 22700 ]:  1.3732497692108154\n",
            "train_batch_loss[ 22800 ]:  1.1869181394577026\n",
            "train_batch_loss[ 22900 ]:  0.9681480526924133\n",
            "train_batch_loss[ 23000 ]:  0.9630623459815979\n",
            "train_batch_loss[ 23100 ]:  1.1818244457244873\n",
            "train_batch_loss[ 23200 ]:  1.236754298210144\n",
            "train_batch_loss[ 23300 ]:  1.3955719470977783\n",
            "train_batch_loss[ 23400 ]:  1.327879548072815\n",
            "train_batch_loss[ 23500 ]:  1.029642105102539\n",
            "train_batch_loss[ 23600 ]:  1.1962697505950928\n",
            "train_batch_loss[ 23700 ]:  1.3586227893829346\n",
            "train_batch_loss[ 23800 ]:  1.5674082040786743\n",
            "train_batch_loss[ 23900 ]:  0.9971073269844055\n",
            "train_batch_loss[ 24000 ]:  1.1716736555099487\n",
            "train_batch_loss[ 24100 ]:  1.0703582763671875\n",
            "train_batch_loss[ 24200 ]:  0.956713855266571\n"
          ],
          "name": "stdout"
        },
        {
          "output_type": "stream",
          "text": [
            "Evaluate: 100%|██████████| 91/91 [00:01<00:00, 87.41it/s]\n"
          ],
          "name": "stderr"
        },
        {
          "output_type": "stream",
          "text": [
            "valid_evaluation: loss = 0.91334859288972, acc = 0.713306198991115\n",
            "save model at  checkpoints/crnn_024233_acc0.713306198991115.pt\n",
            "Validation loss decreased (0.923554 --> 0.913349).  Saving model ...\n",
            "train_loss:  1.2045166167601196\n",
            "epoch: 12\n",
            "train_batch_loss[ 24300 ]:  1.3217684030532837\n",
            "train_batch_loss[ 24400 ]:  1.071976661682129\n",
            "train_batch_loss[ 24500 ]:  1.197191596031189\n",
            "train_batch_loss[ 24600 ]:  1.1967717409133911\n",
            "train_batch_loss[ 24700 ]:  1.3354510068893433\n",
            "train_batch_loss[ 24800 ]:  0.8034167885780334\n",
            "train_batch_loss[ 24900 ]:  1.1481481790542603\n",
            "train_batch_loss[ 25000 ]:  1.2344982624053955\n",
            "train_batch_loss[ 25100 ]:  1.1583746671676636\n",
            "train_batch_loss[ 25200 ]:  1.2659828662872314\n",
            "train_batch_loss[ 25300 ]:  1.238067865371704\n",
            "train_batch_loss[ 25400 ]:  1.330985188484192\n",
            "train_batch_loss[ 25500 ]:  1.1957720518112183\n",
            "train_batch_loss[ 25600 ]:  1.0953950881958008\n",
            "train_batch_loss[ 25700 ]:  1.120497703552246\n",
            "train_batch_loss[ 25800 ]:  1.3785122632980347\n",
            "train_batch_loss[ 25900 ]:  1.186889410018921\n",
            "train_batch_loss[ 26000 ]:  1.1153286695480347\n",
            "train_batch_loss[ 26100 ]:  1.2910797595977783\n",
            "train_batch_loss[ 26200 ]:  1.45672607421875\n",
            "train_batch_loss[ 26300 ]:  1.0884929895401\n",
            "train_batch_loss[ 26400 ]:  0.9212268590927124\n"
          ],
          "name": "stdout"
        },
        {
          "output_type": "stream",
          "text": [
            "Evaluate: 100%|██████████| 91/91 [00:01<00:00, 87.52it/s]\n"
          ],
          "name": "stderr"
        },
        {
          "output_type": "stream",
          "text": [
            "valid_evaluation: loss = 0.8669458369551034, acc = 0.7247035938220024\n",
            "save model at  checkpoints/crnn_026436_acc0.7247035938220024.pt\n",
            "Validation loss decreased (0.913349 --> 0.866946).  Saving model ...\n",
            "train_loss:  1.1717348049765228\n",
            "epoch: 13\n",
            "train_batch_loss[ 26500 ]:  0.9654216766357422\n",
            "train_batch_loss[ 26600 ]:  1.1294666528701782\n",
            "train_batch_loss[ 26700 ]:  0.9589707255363464\n",
            "train_batch_loss[ 26800 ]:  0.7328714728355408\n",
            "train_batch_loss[ 26900 ]:  1.039284586906433\n",
            "train_batch_loss[ 27000 ]:  0.9483556747436523\n",
            "train_batch_loss[ 27100 ]:  0.8025686144828796\n",
            "train_batch_loss[ 27200 ]:  1.1850297451019287\n",
            "train_batch_loss[ 27300 ]:  1.3007525205612183\n",
            "train_batch_loss[ 27400 ]:  0.911637008190155\n",
            "train_batch_loss[ 27500 ]:  1.2338064908981323\n",
            "train_batch_loss[ 27600 ]:  0.9426203966140747\n",
            "train_batch_loss[ 27700 ]:  0.8664820194244385\n",
            "train_batch_loss[ 27800 ]:  1.077233910560608\n",
            "train_batch_loss[ 27900 ]:  0.925326943397522\n",
            "train_batch_loss[ 28000 ]:  0.9418678879737854\n",
            "train_batch_loss[ 28100 ]:  1.0652295351028442\n",
            "train_batch_loss[ 28200 ]:  1.5591998100280762\n",
            "train_batch_loss[ 28300 ]:  1.1209852695465088\n",
            "train_batch_loss[ 28400 ]:  1.170398235321045\n",
            "train_batch_loss[ 28500 ]:  0.9602593183517456\n",
            "train_batch_loss[ 28600 ]:  1.3113117218017578\n"
          ],
          "name": "stdout"
        },
        {
          "output_type": "stream",
          "text": [
            "Evaluate: 100%|██████████| 91/91 [00:01<00:00, 86.69it/s]\n"
          ],
          "name": "stderr"
        },
        {
          "output_type": "stream",
          "text": [
            "valid_evaluation: loss = 0.9118545887388032, acc = 0.7201661231048906\n",
            "save model at  checkpoints/crnn_028639_acc0.7201661231048906.pt\n",
            "EarlyStopping counter: 1 out of 10\n",
            "train_loss:  1.1413563989791122\n",
            "epoch: 14\n",
            "train_batch_loss[ 28700 ]:  1.033289909362793\n",
            "train_batch_loss[ 28800 ]:  1.464829683303833\n",
            "train_batch_loss[ 28900 ]:  0.7737939357757568\n",
            "train_batch_loss[ 29000 ]:  1.15525484085083\n",
            "train_batch_loss[ 29100 ]:  0.9748690724372864\n",
            "train_batch_loss[ 29200 ]:  1.4028934240341187\n",
            "train_batch_loss[ 29300 ]:  0.9007378816604614\n",
            "train_batch_loss[ 29400 ]:  1.1008453369140625\n",
            "train_batch_loss[ 29500 ]:  1.2187443971633911\n",
            "train_batch_loss[ 29600 ]:  1.0922387838363647\n",
            "train_batch_loss[ 29700 ]:  1.6027741432189941\n",
            "train_batch_loss[ 29800 ]:  1.6247214078903198\n",
            "train_batch_loss[ 29900 ]:  1.1707502603530884\n",
            "train_batch_loss[ 30000 ]:  0.8266403079032898\n",
            "train_batch_loss[ 30100 ]:  0.9705266952514648\n",
            "train_batch_loss[ 30200 ]:  1.2368017435073853\n",
            "train_batch_loss[ 30300 ]:  1.5510278940200806\n",
            "train_batch_loss[ 30400 ]:  1.076014518737793\n",
            "train_batch_loss[ 30500 ]:  0.9787430763244629\n",
            "train_batch_loss[ 30600 ]:  0.871849536895752\n",
            "train_batch_loss[ 30700 ]:  1.3322584629058838\n",
            "train_batch_loss[ 30800 ]:  1.0711420774459839\n"
          ],
          "name": "stdout"
        },
        {
          "output_type": "stream",
          "text": [
            "Evaluate: 100%|██████████| 91/91 [00:01<00:00, 86.28it/s]\n"
          ],
          "name": "stderr"
        },
        {
          "output_type": "stream",
          "text": [
            "valid_evaluation: loss = 0.8951411365640575, acc = 0.7199350709977942\n",
            "save model at  checkpoints/crnn_030842_acc0.7199350709977942.pt\n",
            "EarlyStopping counter: 2 out of 10\n",
            "train_loss:  1.1183618878445356\n",
            "epoch: 15\n",
            "train_batch_loss[ 30900 ]:  0.9742609858512878\n",
            "train_batch_loss[ 31000 ]:  0.8439784646034241\n",
            "train_batch_loss[ 31100 ]:  0.9393960237503052\n",
            "train_batch_loss[ 31200 ]:  1.2266050577163696\n",
            "train_batch_loss[ 31300 ]:  1.1920219659805298\n",
            "train_batch_loss[ 31400 ]:  1.0306880474090576\n",
            "train_batch_loss[ 31500 ]:  0.9110339879989624\n",
            "train_batch_loss[ 31600 ]:  0.8795118927955627\n",
            "train_batch_loss[ 31700 ]:  0.94520503282547\n",
            "train_batch_loss[ 31800 ]:  0.9707626104354858\n",
            "train_batch_loss[ 31900 ]:  0.9702098369598389\n",
            "train_batch_loss[ 32000 ]:  0.7900006771087646\n",
            "train_batch_loss[ 32100 ]:  0.9988610744476318\n",
            "train_batch_loss[ 32200 ]:  1.2496416568756104\n",
            "train_batch_loss[ 32300 ]:  1.0867723226547241\n",
            "train_batch_loss[ 32400 ]:  0.9633484482765198\n",
            "train_batch_loss[ 32500 ]:  1.0604976415634155\n",
            "train_batch_loss[ 32600 ]:  1.2495430707931519\n",
            "train_batch_loss[ 32700 ]:  1.215288519859314\n",
            "train_batch_loss[ 32800 ]:  1.167250156402588\n",
            "train_batch_loss[ 32900 ]:  1.1623106002807617\n",
            "train_batch_loss[ 33000 ]:  0.8797028064727783\n"
          ],
          "name": "stdout"
        },
        {
          "output_type": "stream",
          "text": [
            "Evaluate: 100%|██████████| 91/91 [00:01<00:00, 85.23it/s]\n"
          ],
          "name": "stderr"
        },
        {
          "output_type": "stream",
          "text": [
            "valid_evaluation: loss = 0.8859580674664728, acc = 0.7252619430240866\n",
            "save model at  checkpoints/crnn_033045_acc0.7252619430240866.pt\n",
            "EarlyStopping counter: 3 out of 10\n",
            "train_loss:  1.087034615784211\n",
            "epoch: 16\n",
            "train_batch_loss[ 33100 ]:  0.8563956022262573\n",
            "train_batch_loss[ 33200 ]:  0.7863814234733582\n",
            "train_batch_loss[ 33300 ]:  1.2660818099975586\n",
            "train_batch_loss[ 33400 ]:  1.2846300601959229\n",
            "train_batch_loss[ 33500 ]:  0.9660340547561646\n",
            "train_batch_loss[ 33600 ]:  0.7858415842056274\n",
            "train_batch_loss[ 33700 ]:  1.4315131902694702\n",
            "train_batch_loss[ 33800 ]:  1.1725925207138062\n",
            "train_batch_loss[ 33900 ]:  1.544572114944458\n",
            "train_batch_loss[ 34000 ]:  1.1711169481277466\n",
            "train_batch_loss[ 34100 ]:  1.1961679458618164\n",
            "train_batch_loss[ 34200 ]:  0.8826056122779846\n",
            "train_batch_loss[ 34300 ]:  1.3986200094223022\n",
            "train_batch_loss[ 34400 ]:  0.892327606678009\n",
            "train_batch_loss[ 34500 ]:  0.9948157072067261\n",
            "train_batch_loss[ 34600 ]:  0.6771373748779297\n",
            "train_batch_loss[ 34700 ]:  0.9019508957862854\n",
            "train_batch_loss[ 34800 ]:  0.917780876159668\n",
            "train_batch_loss[ 34900 ]:  1.330562710762024\n",
            "train_batch_loss[ 35000 ]:  1.138140320777893\n",
            "train_batch_loss[ 35100 ]:  1.3144344091415405\n",
            "train_batch_loss[ 35200 ]:  1.003568410873413\n"
          ],
          "name": "stdout"
        },
        {
          "output_type": "stream",
          "text": [
            "Evaluate: 100%|██████████| 91/91 [00:01<00:00, 86.89it/s]\n"
          ],
          "name": "stderr"
        },
        {
          "output_type": "stream",
          "text": [
            "valid_evaluation: loss = 0.9328553354329077, acc = 0.7126326489268905\n",
            "save model at  checkpoints/crnn_035248_acc0.7126326489268905.pt\n",
            "EarlyStopping counter: 4 out of 10\n",
            "train_loss:  1.0657406858506737\n",
            "epoch: 17\n",
            "train_batch_loss[ 35300 ]:  0.6939032673835754\n",
            "train_batch_loss[ 35400 ]:  1.1425780057907104\n",
            "train_batch_loss[ 35500 ]:  1.3939588069915771\n",
            "train_batch_loss[ 35600 ]:  1.2861089706420898\n",
            "train_batch_loss[ 35700 ]:  1.3349628448486328\n",
            "train_batch_loss[ 35800 ]:  1.0830628871917725\n",
            "train_batch_loss[ 35900 ]:  1.0125583410263062\n",
            "train_batch_loss[ 36000 ]:  0.868665337562561\n",
            "train_batch_loss[ 36100 ]:  0.7285664081573486\n",
            "train_batch_loss[ 36200 ]:  0.9042955636978149\n",
            "train_batch_loss[ 36300 ]:  0.8032272458076477\n",
            "train_batch_loss[ 36400 ]:  0.9896026849746704\n",
            "train_batch_loss[ 36500 ]:  0.7997206449508667\n",
            "train_batch_loss[ 36600 ]:  1.2719404697418213\n",
            "train_batch_loss[ 36700 ]:  0.7989717721939087\n",
            "train_batch_loss[ 36800 ]:  0.8154696226119995\n",
            "train_batch_loss[ 36900 ]:  1.0808982849121094\n",
            "train_batch_loss[ 37000 ]:  0.9746546745300293\n",
            "train_batch_loss[ 37100 ]:  0.8483530282974243\n",
            "train_batch_loss[ 37200 ]:  0.6640807390213013\n",
            "train_batch_loss[ 37300 ]:  0.8721210360527039\n",
            "train_batch_loss[ 37400 ]:  0.9618971943855286\n"
          ],
          "name": "stdout"
        },
        {
          "output_type": "stream",
          "text": [
            "Evaluate: 100%|██████████| 91/91 [00:01<00:00, 86.34it/s]\n"
          ],
          "name": "stderr"
        },
        {
          "output_type": "stream",
          "text": [
            "valid_evaluation: loss = 0.8403767993532378, acc = 0.7356810152498388\n",
            "save model at  checkpoints/crnn_037451_acc0.7356810152498388.pt\n",
            "Validation loss decreased (0.866946 --> 0.840377).  Saving model ...\n",
            "train_loss:  1.0458008103595993\n",
            "epoch: 18\n",
            "train_batch_loss[ 37500 ]:  0.773089587688446\n",
            "train_batch_loss[ 37600 ]:  0.6977097392082214\n",
            "train_batch_loss[ 37700 ]:  0.7717211246490479\n",
            "train_batch_loss[ 37800 ]:  0.9900145530700684\n",
            "train_batch_loss[ 37900 ]:  1.139424443244934\n",
            "train_batch_loss[ 38000 ]:  1.0849093198776245\n",
            "train_batch_loss[ 38100 ]:  1.0058165788650513\n",
            "train_batch_loss[ 38200 ]:  0.9841433167457581\n",
            "train_batch_loss[ 38300 ]:  1.066560983657837\n",
            "train_batch_loss[ 38400 ]:  1.0974010229110718\n",
            "train_batch_loss[ 38500 ]:  1.3061010837554932\n",
            "train_batch_loss[ 38600 ]:  0.9576283097267151\n",
            "train_batch_loss[ 38700 ]:  1.0113095045089722\n",
            "train_batch_loss[ 38800 ]:  1.2065582275390625\n",
            "train_batch_loss[ 38900 ]:  1.1527680158615112\n",
            "train_batch_loss[ 39000 ]:  0.9252694249153137\n",
            "train_batch_loss[ 39100 ]:  1.250179409980774\n",
            "train_batch_loss[ 39200 ]:  0.78854900598526\n",
            "train_batch_loss[ 39300 ]:  0.9190717339515686\n",
            "train_batch_loss[ 39400 ]:  1.3088960647583008\n",
            "train_batch_loss[ 39500 ]:  1.3361670970916748\n",
            "train_batch_loss[ 39600 ]:  1.0692811012268066\n"
          ],
          "name": "stdout"
        },
        {
          "output_type": "stream",
          "text": [
            "Evaluate: 100%|██████████| 91/91 [00:01<00:00, 86.78it/s]\n"
          ],
          "name": "stderr"
        },
        {
          "output_type": "stream",
          "text": [
            "valid_evaluation: loss = 0.8562506430724571, acc = 0.7489772177446881\n",
            "save model at  checkpoints/crnn_039654_acc0.7489772177446881.pt\n",
            "EarlyStopping counter: 1 out of 10\n",
            "train_loss:  1.0265979172473971\n",
            "epoch: 19\n",
            "train_batch_loss[ 39700 ]:  0.9352846145629883\n",
            "train_batch_loss[ 39800 ]:  1.3076082468032837\n",
            "train_batch_loss[ 39900 ]:  1.1256612539291382\n",
            "train_batch_loss[ 40000 ]:  0.8119407296180725\n",
            "train_batch_loss[ 40100 ]:  1.1338852643966675\n",
            "train_batch_loss[ 40200 ]:  0.8702462315559387\n",
            "train_batch_loss[ 40300 ]:  1.197195053100586\n",
            "train_batch_loss[ 40400 ]:  0.8281615376472473\n",
            "train_batch_loss[ 40500 ]:  0.8885531425476074\n",
            "train_batch_loss[ 40600 ]:  1.1366409063339233\n",
            "train_batch_loss[ 40700 ]:  0.9345429539680481\n",
            "train_batch_loss[ 40800 ]:  0.6461957097053528\n",
            "train_batch_loss[ 40900 ]:  1.3338292837142944\n",
            "train_batch_loss[ 41000 ]:  1.0962046384811401\n",
            "train_batch_loss[ 41100 ]:  0.6765528321266174\n",
            "train_batch_loss[ 41200 ]:  0.8917853832244873\n",
            "train_batch_loss[ 41300 ]:  0.8592655062675476\n",
            "train_batch_loss[ 41400 ]:  1.131314992904663\n",
            "train_batch_loss[ 41500 ]:  0.9443479776382446\n",
            "train_batch_loss[ 41600 ]:  0.9058264493942261\n",
            "train_batch_loss[ 41700 ]:  0.7653813362121582\n",
            "train_batch_loss[ 41800 ]:  1.0814824104309082\n"
          ],
          "name": "stdout"
        },
        {
          "output_type": "stream",
          "text": [
            "Evaluate: 100%|██████████| 91/91 [00:01<00:00, 86.70it/s]\n"
          ],
          "name": "stderr"
        },
        {
          "output_type": "stream",
          "text": [
            "valid_evaluation: loss = 0.9372252993748106, acc = 0.7255911117596624\n",
            "save model at  checkpoints/crnn_041857_acc0.7255911117596624.pt\n",
            "EarlyStopping counter: 2 out of 10\n",
            "train_loss:  1.0013905269026806\n",
            "epoch: 20\n",
            "train_batch_loss[ 41900 ]:  0.9541863203048706\n",
            "train_batch_loss[ 42000 ]:  1.1899365186691284\n",
            "train_batch_loss[ 42100 ]:  0.9853950142860413\n",
            "train_batch_loss[ 42200 ]:  0.9752556085586548\n",
            "train_batch_loss[ 42300 ]:  0.9231740832328796\n",
            "train_batch_loss[ 42400 ]:  1.111963152885437\n",
            "train_batch_loss[ 42500 ]:  1.3143061399459839\n",
            "train_batch_loss[ 42600 ]:  0.7365502715110779\n",
            "train_batch_loss[ 42700 ]:  1.0964535474777222\n",
            "train_batch_loss[ 42800 ]:  1.1817278861999512\n",
            "train_batch_loss[ 42900 ]:  0.7839913964271545\n",
            "train_batch_loss[ 43000 ]:  0.8607919216156006\n",
            "train_batch_loss[ 43100 ]:  0.944209635257721\n",
            "train_batch_loss[ 43200 ]:  0.7075865864753723\n",
            "train_batch_loss[ 43300 ]:  0.908703088760376\n",
            "train_batch_loss[ 43400 ]:  0.797511637210846\n",
            "train_batch_loss[ 43500 ]:  1.0344749689102173\n",
            "train_batch_loss[ 43600 ]:  1.2407945394515991\n",
            "train_batch_loss[ 43700 ]:  0.8546854853630066\n",
            "train_batch_loss[ 43800 ]:  0.7750956416130066\n",
            "train_batch_loss[ 43900 ]:  0.6927552819252014\n",
            "train_batch_loss[ 44000 ]:  0.8433484435081482\n"
          ],
          "name": "stdout"
        },
        {
          "output_type": "stream",
          "text": [
            "Evaluate: 100%|██████████| 91/91 [00:01<00:00, 86.41it/s]\n"
          ],
          "name": "stderr"
        },
        {
          "output_type": "stream",
          "text": [
            "valid_evaluation: loss = 0.869468520591999, acc = 0.7493552445684899\n",
            "save model at  checkpoints/crnn_044060_acc0.7493552445684899.pt\n",
            "EarlyStopping counter: 3 out of 10\n",
            "train_loss:  0.9851808665440541\n",
            "epoch: 21\n",
            "train_batch_loss[ 44100 ]:  0.8110986948013306\n",
            "train_batch_loss[ 44200 ]:  1.1381717920303345\n",
            "train_batch_loss[ 44300 ]:  0.895279049873352\n",
            "train_batch_loss[ 44400 ]:  0.7536185383796692\n",
            "train_batch_loss[ 44500 ]:  1.0693269968032837\n",
            "train_batch_loss[ 44600 ]:  0.7302486896514893\n",
            "train_batch_loss[ 44700 ]:  1.1742889881134033\n",
            "train_batch_loss[ 44800 ]:  1.0471655130386353\n",
            "train_batch_loss[ 44900 ]:  0.9330319166183472\n",
            "train_batch_loss[ 45000 ]:  1.033131718635559\n",
            "train_batch_loss[ 45100 ]:  0.9658635854721069\n",
            "train_batch_loss[ 45200 ]:  1.0498205423355103\n",
            "train_batch_loss[ 45300 ]:  0.905693531036377\n",
            "train_batch_loss[ 45400 ]:  0.8000597357749939\n",
            "train_batch_loss[ 45500 ]:  0.9958111047744751\n",
            "train_batch_loss[ 45600 ]:  0.7934261560440063\n",
            "train_batch_loss[ 45700 ]:  0.7917440533638\n",
            "train_batch_loss[ 45800 ]:  0.8632628321647644\n",
            "train_batch_loss[ 45900 ]:  0.8473561406135559\n",
            "train_batch_loss[ 46000 ]:  1.0029125213623047\n",
            "train_batch_loss[ 46100 ]:  1.0180796384811401\n",
            "train_batch_loss[ 46200 ]:  0.7251059412956238\n"
          ],
          "name": "stdout"
        },
        {
          "output_type": "stream",
          "text": [
            "Evaluate: 100%|██████████| 91/91 [00:01<00:00, 82.06it/s]\n"
          ],
          "name": "stderr"
        },
        {
          "output_type": "stream",
          "text": [
            "valid_evaluation: loss = 0.8876666858278471, acc = 0.73503981577371\n",
            "save model at  checkpoints/crnn_046263_acc0.73503981577371.pt\n",
            "EarlyStopping counter: 4 out of 10\n",
            "train_loss:  0.969282513631055\n",
            "epoch: 22\n",
            "train_batch_loss[ 46300 ]:  0.7890694737434387\n",
            "train_batch_loss[ 46400 ]:  0.8177993297576904\n",
            "train_batch_loss[ 46500 ]:  0.6968616247177124\n",
            "train_batch_loss[ 46600 ]:  1.0289192199707031\n",
            "train_batch_loss[ 46700 ]:  0.701003909111023\n",
            "train_batch_loss[ 46800 ]:  0.9883511662483215\n",
            "train_batch_loss[ 46900 ]:  1.0613657236099243\n",
            "train_batch_loss[ 47000 ]:  0.9564169049263\n",
            "train_batch_loss[ 47100 ]:  0.6075677871704102\n",
            "train_batch_loss[ 47200 ]:  0.6979653835296631\n",
            "train_batch_loss[ 47300 ]:  0.6373987197875977\n",
            "train_batch_loss[ 47400 ]:  1.1428529024124146\n",
            "train_batch_loss[ 47500 ]:  0.8123131990432739\n",
            "train_batch_loss[ 47600 ]:  0.8349002599716187\n",
            "train_batch_loss[ 47700 ]:  1.1791965961456299\n",
            "train_batch_loss[ 47800 ]:  0.6577184200286865\n",
            "train_batch_loss[ 47900 ]:  0.8621624708175659\n",
            "train_batch_loss[ 48000 ]:  1.11823570728302\n",
            "train_batch_loss[ 48100 ]:  0.6424717903137207\n",
            "train_batch_loss[ 48200 ]:  1.4110957384109497\n",
            "train_batch_loss[ 48300 ]:  0.7689514756202698\n",
            "train_batch_loss[ 48400 ]:  0.8406533002853394\n"
          ],
          "name": "stdout"
        },
        {
          "output_type": "stream",
          "text": [
            "Evaluate: 100%|██████████| 91/91 [00:01<00:00, 86.01it/s]\n"
          ],
          "name": "stderr"
        },
        {
          "output_type": "stream",
          "text": [
            "valid_evaluation: loss = 0.8856626464580667, acc = 0.7430854263069546\n",
            "save model at  checkpoints/crnn_048466_acc0.7430854263069546.pt\n",
            "EarlyStopping counter: 5 out of 10\n",
            "train_loss:  0.9533613544365049\n",
            "epoch: 23\n",
            "train_batch_loss[ 48500 ]:  0.7737058401107788\n",
            "train_batch_loss[ 48600 ]:  1.0565733909606934\n",
            "train_batch_loss[ 48700 ]:  1.1859173774719238\n",
            "train_batch_loss[ 48800 ]:  0.7417767643928528\n",
            "train_batch_loss[ 48900 ]:  0.9720742106437683\n",
            "train_batch_loss[ 49000 ]:  0.9712570905685425\n",
            "train_batch_loss[ 49100 ]:  1.3904922008514404\n",
            "train_batch_loss[ 49200 ]:  0.8460088968276978\n",
            "train_batch_loss[ 49300 ]:  1.0925443172454834\n",
            "train_batch_loss[ 49400 ]:  0.5675138235092163\n",
            "train_batch_loss[ 49500 ]:  0.6690002083778381\n",
            "train_batch_loss[ 49600 ]:  1.046744465827942\n",
            "train_batch_loss[ 49700 ]:  1.0900073051452637\n",
            "train_batch_loss[ 49800 ]:  0.9608014225959778\n",
            "train_batch_loss[ 49900 ]:  0.9838107824325562\n",
            "train_batch_loss[ 50000 ]:  1.2543699741363525\n",
            "train_batch_loss[ 50100 ]:  0.4075082540512085\n",
            "train_batch_loss[ 50200 ]:  0.8947718739509583\n",
            "train_batch_loss[ 50300 ]:  0.7131989598274231\n",
            "train_batch_loss[ 50400 ]:  0.9933450818061829\n",
            "train_batch_loss[ 50500 ]:  0.9179716110229492\n",
            "train_batch_loss[ 50600 ]:  0.6802029013633728\n"
          ],
          "name": "stdout"
        },
        {
          "output_type": "stream",
          "text": [
            "Evaluate: 100%|██████████| 91/91 [00:01<00:00, 83.05it/s]\n"
          ],
          "name": "stderr"
        },
        {
          "output_type": "stream",
          "text": [
            "valid_evaluation: loss = 0.9111792087554932, acc = 0.7359498574310427\n",
            "save model at  checkpoints/crnn_050669_acc0.7359498574310427.pt\n",
            "EarlyStopping counter: 6 out of 10\n",
            "train_loss:  0.941185127151119\n",
            "epoch: 24\n",
            "train_batch_loss[ 50700 ]:  0.9357715249061584\n",
            "train_batch_loss[ 50800 ]:  1.5643422603607178\n",
            "train_batch_loss[ 50900 ]:  0.8897634744644165\n",
            "train_batch_loss[ 51000 ]:  0.7616579532623291\n",
            "train_batch_loss[ 51100 ]:  0.9878735542297363\n",
            "train_batch_loss[ 51200 ]:  0.8615108132362366\n",
            "train_batch_loss[ 51300 ]:  1.152268648147583\n",
            "train_batch_loss[ 51400 ]:  0.881616473197937\n",
            "train_batch_loss[ 51500 ]:  0.7838457226753235\n",
            "train_batch_loss[ 51600 ]:  1.0595439672470093\n",
            "train_batch_loss[ 51700 ]:  0.8694185614585876\n",
            "train_batch_loss[ 51800 ]:  0.8079787492752075\n",
            "train_batch_loss[ 51900 ]:  0.8547288775444031\n",
            "train_batch_loss[ 52000 ]:  1.1887414455413818\n",
            "train_batch_loss[ 52100 ]:  1.2090973854064941\n",
            "train_batch_loss[ 52200 ]:  1.0427577495574951\n",
            "train_batch_loss[ 52300 ]:  0.957028329372406\n",
            "train_batch_loss[ 52400 ]:  0.7901679873466492\n",
            "train_batch_loss[ 52500 ]:  0.6022761464118958\n",
            "train_batch_loss[ 52600 ]:  0.9871768951416016\n",
            "train_batch_loss[ 52700 ]:  1.1008527278900146\n",
            "train_batch_loss[ 52800 ]:  1.0607855319976807\n"
          ],
          "name": "stdout"
        },
        {
          "output_type": "stream",
          "text": [
            "Evaluate: 100%|██████████| 91/91 [00:01<00:00, 85.53it/s]\n"
          ],
          "name": "stderr"
        },
        {
          "output_type": "stream",
          "text": [
            "valid_evaluation: loss = 0.8882354081910232, acc = 0.7427546128897705\n",
            "save model at  checkpoints/crnn_052872_acc0.7427546128897705.pt\n",
            "EarlyStopping counter: 7 out of 10\n",
            "train_loss:  0.9246058526437672\n",
            "epoch: 25\n",
            "train_batch_loss[ 52900 ]:  0.9107851386070251\n",
            "train_batch_loss[ 53000 ]:  1.041621446609497\n",
            "train_batch_loss[ 53100 ]:  1.056318759918213\n",
            "train_batch_loss[ 53200 ]:  0.8678969740867615\n",
            "train_batch_loss[ 53300 ]:  0.8073237538337708\n",
            "train_batch_loss[ 53400 ]:  1.158697247505188\n",
            "train_batch_loss[ 53500 ]:  0.8994536995887756\n",
            "train_batch_loss[ 53600 ]:  0.993431806564331\n",
            "train_batch_loss[ 53700 ]:  0.8191525936126709\n",
            "train_batch_loss[ 53800 ]:  0.8539044857025146\n",
            "train_batch_loss[ 53900 ]:  1.5161161422729492\n",
            "train_batch_loss[ 54000 ]:  1.0760101079940796\n",
            "train_batch_loss[ 54100 ]:  0.8043203353881836\n",
            "train_batch_loss[ 54200 ]:  0.8249958753585815\n",
            "train_batch_loss[ 54300 ]:  0.9292850494384766\n",
            "train_batch_loss[ 54400 ]:  0.9833415150642395\n",
            "train_batch_loss[ 54500 ]:  0.8744381666183472\n",
            "train_batch_loss[ 54600 ]:  0.9169101715087891\n",
            "train_batch_loss[ 54700 ]:  1.0359857082366943\n",
            "train_batch_loss[ 54800 ]:  0.9287877678871155\n",
            "train_batch_loss[ 54900 ]:  1.0560667514801025\n",
            "train_batch_loss[ 55000 ]:  0.8550475239753723\n"
          ],
          "name": "stdout"
        },
        {
          "output_type": "stream",
          "text": [
            "Evaluate: 100%|██████████| 91/91 [00:01<00:00, 85.35it/s]\n"
          ],
          "name": "stderr"
        },
        {
          "output_type": "stream",
          "text": [
            "valid_evaluation: loss = 0.9108032104886812, acc = 0.7366086374597619\n",
            "save model at  checkpoints/crnn_055075_acc0.7366086374597619.pt\n",
            "EarlyStopping counter: 8 out of 10\n",
            "train_loss:  0.9132690459257223\n",
            "epoch: 26\n",
            "train_batch_loss[ 55100 ]:  0.7615578770637512\n",
            "train_batch_loss[ 55200 ]:  0.9365720748901367\n",
            "train_batch_loss[ 55300 ]:  0.783822238445282\n",
            "train_batch_loss[ 55400 ]:  0.8265737295150757\n",
            "train_batch_loss[ 55500 ]:  0.45763665437698364\n",
            "train_batch_loss[ 55600 ]:  1.3843681812286377\n",
            "train_batch_loss[ 55700 ]:  0.7699535489082336\n",
            "train_batch_loss[ 55800 ]:  0.9825897812843323\n",
            "train_batch_loss[ 55900 ]:  0.9201817512512207\n",
            "train_batch_loss[ 56000 ]:  0.8961344957351685\n",
            "train_batch_loss[ 56100 ]:  0.9089670777320862\n",
            "train_batch_loss[ 56200 ]:  0.41452744603157043\n",
            "train_batch_loss[ 56300 ]:  0.6347498297691345\n",
            "train_batch_loss[ 56400 ]:  0.5109035968780518\n",
            "train_batch_loss[ 56500 ]:  1.0330684185028076\n",
            "train_batch_loss[ 56600 ]:  0.788367748260498\n",
            "train_batch_loss[ 56700 ]:  0.663798987865448\n",
            "train_batch_loss[ 56800 ]:  0.9838886857032776\n",
            "train_batch_loss[ 56900 ]:  0.9461969137191772\n",
            "train_batch_loss[ 57000 ]:  0.8198632597923279\n",
            "train_batch_loss[ 57100 ]:  0.7432668805122375\n",
            "train_batch_loss[ 57200 ]:  0.8011984825134277\n"
          ],
          "name": "stdout"
        },
        {
          "output_type": "stream",
          "text": [
            "Evaluate: 100%|██████████| 91/91 [00:01<00:00, 85.08it/s]\n"
          ],
          "name": "stderr"
        },
        {
          "output_type": "stream",
          "text": [
            "valid_evaluation: loss = 0.9426675868856496, acc = 0.7334691153842663\n",
            "save model at  checkpoints/crnn_057278_acc0.7334691153842663.pt\n",
            "EarlyStopping counter: 9 out of 10\n",
            "train_loss:  0.8981268268350813\n",
            "epoch: 27\n",
            "train_batch_loss[ 57300 ]:  1.1336191892623901\n",
            "train_batch_loss[ 57400 ]:  0.7203189730644226\n",
            "train_batch_loss[ 57500 ]:  0.6928525567054749\n",
            "train_batch_loss[ 57600 ]:  1.1278550624847412\n",
            "train_batch_loss[ 57700 ]:  0.5714921951293945\n",
            "train_batch_loss[ 57800 ]:  0.8244894742965698\n",
            "train_batch_loss[ 57900 ]:  1.0518521070480347\n",
            "train_batch_loss[ 58000 ]:  0.811022937297821\n",
            "train_batch_loss[ 58100 ]:  0.5721533894538879\n",
            "train_batch_loss[ 58200 ]:  0.915697455406189\n",
            "train_batch_loss[ 58300 ]:  0.9792346954345703\n",
            "train_batch_loss[ 58400 ]:  0.8385583758354187\n",
            "train_batch_loss[ 58500 ]:  1.0996779203414917\n",
            "train_batch_loss[ 58600 ]:  0.8839102983474731\n",
            "train_batch_loss[ 58700 ]:  0.8348100185394287\n",
            "train_batch_loss[ 58800 ]:  0.676776647567749\n",
            "train_batch_loss[ 58900 ]:  0.49909308552742004\n",
            "train_batch_loss[ 59000 ]:  0.7653498649597168\n",
            "train_batch_loss[ 59100 ]:  0.9517558217048645\n",
            "train_batch_loss[ 59200 ]:  0.9006772637367249\n",
            "train_batch_loss[ 59300 ]:  0.9722699522972107\n",
            "train_batch_loss[ 59400 ]:  0.7931859493255615\n"
          ],
          "name": "stdout"
        },
        {
          "output_type": "stream",
          "text": [
            "Evaluate: 100%|██████████| 91/91 [00:01<00:00, 86.88it/s]\n",
            "Predict:  11%|█         | 9/82 [00:00<00:00, 85.96it/s]"
          ],
          "name": "stderr"
        },
        {
          "output_type": "stream",
          "text": [
            "valid_evaluation: loss = 0.8987332712370774, acc = 0.748374219841115\n",
            "save model at  checkpoints/crnn_059481_acc0.748374219841115.pt\n",
            "EarlyStopping counter: 10 out of 10\n",
            "train_loss:  0.8880402494427565\n",
            "Early stopping\n"
          ],
          "name": "stdout"
        },
        {
          "output_type": "stream",
          "text": [
            "Predict: 100%|██████████| 82/82 [00:00<00:00, 85.44it/s]\n"
          ],
          "name": "stderr"
        },
        {
          "output_type": "stream",
          "text": [
            "F1 without majority = 0.7639916303592346\n",
            "F1 with majority = 0.8900013514177602\n",
            "Current trial: slice_length = 32; random_state = 21\n",
            "device: cuda\n",
            "epoch: 1\n",
            "train_batch_loss[ 100 ]:  2.316624641418457\n",
            "train_batch_loss[ 200 ]:  2.232616424560547\n",
            "train_batch_loss[ 300 ]:  2.2731051445007324\n",
            "train_batch_loss[ 400 ]:  2.246246337890625\n",
            "train_batch_loss[ 500 ]:  2.3099989891052246\n",
            "train_batch_loss[ 600 ]:  2.2794406414031982\n",
            "train_batch_loss[ 700 ]:  2.270162582397461\n",
            "train_batch_loss[ 800 ]:  2.239797353744507\n",
            "train_batch_loss[ 900 ]:  2.2443559169769287\n",
            "train_batch_loss[ 1000 ]:  2.1390938758850098\n",
            "train_batch_loss[ 1100 ]:  2.157647132873535\n",
            "train_batch_loss[ 1200 ]:  2.2019286155700684\n",
            "train_batch_loss[ 1300 ]:  2.1130499839782715\n",
            "train_batch_loss[ 1400 ]:  2.036710262298584\n",
            "train_batch_loss[ 1500 ]:  2.1499416828155518\n",
            "train_batch_loss[ 1600 ]:  2.15445876121521\n",
            "train_batch_loss[ 1700 ]:  2.1026694774627686\n",
            "train_batch_loss[ 1800 ]:  2.1217968463897705\n",
            "train_batch_loss[ 1900 ]:  2.1351325511932373\n",
            "train_batch_loss[ 2000 ]:  1.979058027267456\n",
            "train_batch_loss[ 2100 ]:  1.9205927848815918\n"
          ],
          "name": "stdout"
        },
        {
          "output_type": "stream",
          "text": [
            "Evaluate:  10%|▉         | 9/91 [00:00<00:01, 80.26it/s]"
          ],
          "name": "stderr"
        },
        {
          "output_type": "stream",
          "text": [
            "train_batch_loss[ 2200 ]:  2.1046547889709473\n"
          ],
          "name": "stdout"
        },
        {
          "output_type": "stream",
          "text": [
            "Evaluate: 100%|██████████| 91/91 [00:01<00:00, 77.65it/s]\n"
          ],
          "name": "stderr"
        },
        {
          "output_type": "stream",
          "text": [
            "valid_evaluation: loss = 1.918478564558358, acc = 0.3137261520676725\n",
            "save model at  checkpoints/crnn_002203_acc0.3137261520676725.pt\n",
            "Validation loss decreased (inf --> 1.918479).  Saving model ...\n",
            "train_loss:  2.1707025629452006\n",
            "epoch: 2\n",
            "train_batch_loss[ 2300 ]:  2.1439902782440186\n",
            "train_batch_loss[ 2400 ]:  1.9831184148788452\n",
            "train_batch_loss[ 2500 ]:  2.0074191093444824\n",
            "train_batch_loss[ 2600 ]:  2.024388313293457\n",
            "train_batch_loss[ 2700 ]:  1.9960966110229492\n",
            "train_batch_loss[ 2800 ]:  1.8769992589950562\n",
            "train_batch_loss[ 2900 ]:  2.0314085483551025\n",
            "train_batch_loss[ 3000 ]:  1.9245960712432861\n",
            "train_batch_loss[ 3100 ]:  1.9829617738723755\n",
            "train_batch_loss[ 3200 ]:  1.890749454498291\n",
            "train_batch_loss[ 3300 ]:  1.9582897424697876\n",
            "train_batch_loss[ 3400 ]:  1.8721883296966553\n",
            "train_batch_loss[ 3500 ]:  2.1888599395751953\n",
            "train_batch_loss[ 3600 ]:  1.8126417398452759\n",
            "train_batch_loss[ 3700 ]:  1.8621774911880493\n",
            "train_batch_loss[ 3800 ]:  1.9022496938705444\n",
            "train_batch_loss[ 3900 ]:  1.7053112983703613\n",
            "train_batch_loss[ 4000 ]:  1.7809429168701172\n",
            "train_batch_loss[ 4100 ]:  1.7263792753219604\n",
            "train_batch_loss[ 4200 ]:  1.9131510257720947\n",
            "train_batch_loss[ 4300 ]:  1.8837885856628418\n"
          ],
          "name": "stdout"
        },
        {
          "output_type": "stream",
          "text": [
            "\rEvaluate:   0%|          | 0/91 [00:00<?, ?it/s]"
          ],
          "name": "stderr"
        },
        {
          "output_type": "stream",
          "text": [
            "train_batch_loss[ 4400 ]:  1.8222177028656006\n"
          ],
          "name": "stdout"
        },
        {
          "output_type": "stream",
          "text": [
            "Evaluate: 100%|██████████| 91/91 [00:01<00:00, 77.21it/s]\n"
          ],
          "name": "stderr"
        },
        {
          "output_type": "stream",
          "text": [
            "valid_evaluation: loss = 1.6289466081816575, acc = 0.43260726077604683\n",
            "save model at  checkpoints/crnn_004406_acc0.43260726077604683.pt\n",
            "Validation loss decreased (1.918479 --> 1.628947).  Saving model ...\n",
            "train_loss:  1.9309473210672157\n",
            "epoch: 3\n",
            "train_batch_loss[ 4500 ]:  1.9585391283035278\n",
            "train_batch_loss[ 4600 ]:  1.8921940326690674\n",
            "train_batch_loss[ 4700 ]:  1.7244240045547485\n",
            "train_batch_loss[ 4800 ]:  1.9301838874816895\n",
            "train_batch_loss[ 4900 ]:  1.6492183208465576\n",
            "train_batch_loss[ 5000 ]:  1.7317508459091187\n",
            "train_batch_loss[ 5100 ]:  1.821384310722351\n",
            "train_batch_loss[ 5200 ]:  1.684903621673584\n",
            "train_batch_loss[ 5300 ]:  1.856253981590271\n",
            "train_batch_loss[ 5400 ]:  1.777270793914795\n",
            "train_batch_loss[ 5500 ]:  1.951628565788269\n",
            "train_batch_loss[ 5600 ]:  1.7418110370635986\n",
            "train_batch_loss[ 5700 ]:  1.7639787197113037\n",
            "train_batch_loss[ 5800 ]:  1.9550087451934814\n",
            "train_batch_loss[ 5900 ]:  1.7612966299057007\n",
            "train_batch_loss[ 6000 ]:  1.8047294616699219\n",
            "train_batch_loss[ 6100 ]:  1.4712339639663696\n",
            "train_batch_loss[ 6200 ]:  1.4328583478927612\n",
            "train_batch_loss[ 6300 ]:  1.6478495597839355\n",
            "train_batch_loss[ 6400 ]:  1.677193522453308\n",
            "train_batch_loss[ 6500 ]:  1.7525866031646729\n",
            "train_batch_loss[ 6600 ]:  1.9233708381652832\n"
          ],
          "name": "stdout"
        },
        {
          "output_type": "stream",
          "text": [
            "Evaluate: 100%|██████████| 91/91 [00:01<00:00, 76.46it/s]\n"
          ],
          "name": "stderr"
        },
        {
          "output_type": "stream",
          "text": [
            "valid_evaluation: loss = 1.4081497192382812, acc = 0.5276991665127244\n",
            "save model at  checkpoints/crnn_006609_acc0.5276991665127244.pt\n",
            "Validation loss decreased (1.628947 --> 1.408150).  Saving model ...\n",
            "train_loss:  1.7777684849205466\n",
            "epoch: 4\n",
            "train_batch_loss[ 6700 ]:  1.5618549585342407\n",
            "train_batch_loss[ 6800 ]:  1.7296459674835205\n",
            "train_batch_loss[ 6900 ]:  1.6720210313796997\n",
            "train_batch_loss[ 7000 ]:  1.966976284980774\n",
            "train_batch_loss[ 7100 ]:  1.8233287334442139\n",
            "train_batch_loss[ 7200 ]:  1.7407963275909424\n",
            "train_batch_loss[ 7300 ]:  1.7500334978103638\n",
            "train_batch_loss[ 7400 ]:  1.7248703241348267\n",
            "train_batch_loss[ 7500 ]:  1.6834887266159058\n",
            "train_batch_loss[ 7600 ]:  1.7457225322723389\n",
            "train_batch_loss[ 7700 ]:  1.8504893779754639\n",
            "train_batch_loss[ 7800 ]:  1.6529802083969116\n",
            "train_batch_loss[ 7900 ]:  1.6204618215560913\n",
            "train_batch_loss[ 8000 ]:  1.4679499864578247\n",
            "train_batch_loss[ 8100 ]:  1.9143379926681519\n",
            "train_batch_loss[ 8200 ]:  1.6401184797286987\n",
            "train_batch_loss[ 8300 ]:  1.5270260572433472\n",
            "train_batch_loss[ 8400 ]:  1.5067131519317627\n",
            "train_batch_loss[ 8500 ]:  1.5206643342971802\n",
            "train_batch_loss[ 8600 ]:  1.4877947568893433\n",
            "train_batch_loss[ 8700 ]:  1.6660399436950684\n",
            "train_batch_loss[ 8800 ]:  1.6313363313674927\n"
          ],
          "name": "stdout"
        },
        {
          "output_type": "stream",
          "text": [
            "Evaluate: 100%|██████████| 91/91 [00:01<00:00, 75.84it/s]\n"
          ],
          "name": "stderr"
        },
        {
          "output_type": "stream",
          "text": [
            "valid_evaluation: loss = 1.2797670364379883, acc = 0.5658515987787237\n",
            "save model at  checkpoints/crnn_008812_acc0.5658515987787237.pt\n",
            "Validation loss decreased (1.408150 --> 1.279767).  Saving model ...\n",
            "train_loss:  1.6652828339838857\n",
            "epoch: 5\n",
            "train_batch_loss[ 8900 ]:  1.7198679447174072\n",
            "train_batch_loss[ 9000 ]:  1.6738083362579346\n",
            "train_batch_loss[ 9100 ]:  1.2898731231689453\n",
            "train_batch_loss[ 9200 ]:  1.574535846710205\n",
            "train_batch_loss[ 9300 ]:  1.5757250785827637\n",
            "train_batch_loss[ 9400 ]:  1.6918672323226929\n",
            "train_batch_loss[ 9500 ]:  1.5347386598587036\n",
            "train_batch_loss[ 9600 ]:  1.6861886978149414\n",
            "train_batch_loss[ 9700 ]:  1.7958747148513794\n",
            "train_batch_loss[ 9800 ]:  1.5964326858520508\n",
            "train_batch_loss[ 9900 ]:  1.5719457864761353\n",
            "train_batch_loss[ 10000 ]:  1.535262942314148\n",
            "train_batch_loss[ 10100 ]:  1.327492356300354\n",
            "train_batch_loss[ 10200 ]:  1.8771461248397827\n",
            "train_batch_loss[ 10300 ]:  1.5582116842269897\n",
            "train_batch_loss[ 10400 ]:  1.4193696975708008\n",
            "train_batch_loss[ 10500 ]:  1.707373857498169\n",
            "train_batch_loss[ 10600 ]:  1.7940747737884521\n",
            "train_batch_loss[ 10700 ]:  1.6569006443023682\n",
            "train_batch_loss[ 10800 ]:  1.8808108568191528\n",
            "train_batch_loss[ 10900 ]:  1.504339337348938\n",
            "train_batch_loss[ 11000 ]:  1.5808978080749512\n"
          ],
          "name": "stdout"
        },
        {
          "output_type": "stream",
          "text": [
            "Evaluate: 100%|██████████| 91/91 [00:01<00:00, 70.86it/s]\n"
          ],
          "name": "stderr"
        },
        {
          "output_type": "stream",
          "text": [
            "valid_evaluation: loss = 1.180738739145213, acc = 0.6164719207768208\n",
            "save model at  checkpoints/crnn_011015_acc0.6164719207768208.pt\n",
            "Validation loss decreased (1.279767 --> 1.180739).  Saving model ...\n",
            "train_loss:  1.5745832835695872\n",
            "epoch: 6\n",
            "train_batch_loss[ 11100 ]:  1.1088731288909912\n",
            "train_batch_loss[ 11200 ]:  1.4637765884399414\n",
            "train_batch_loss[ 11300 ]:  1.5316029787063599\n",
            "train_batch_loss[ 11400 ]:  1.5925124883651733\n",
            "train_batch_loss[ 11500 ]:  1.5100276470184326\n",
            "train_batch_loss[ 11600 ]:  1.6540579795837402\n",
            "train_batch_loss[ 11700 ]:  1.5127466917037964\n",
            "train_batch_loss[ 11800 ]:  1.5929052829742432\n",
            "train_batch_loss[ 11900 ]:  1.6594853401184082\n",
            "train_batch_loss[ 12000 ]:  1.5877453088760376\n",
            "train_batch_loss[ 12100 ]:  1.589712142944336\n",
            "train_batch_loss[ 12200 ]:  1.5822255611419678\n",
            "train_batch_loss[ 12300 ]:  1.4058343172073364\n",
            "train_batch_loss[ 12400 ]:  1.4354368448257446\n",
            "train_batch_loss[ 12500 ]:  1.5164406299591064\n",
            "train_batch_loss[ 12600 ]:  1.5524450540542603\n",
            "train_batch_loss[ 12700 ]:  1.3267707824707031\n",
            "train_batch_loss[ 12800 ]:  1.2441353797912598\n",
            "train_batch_loss[ 12900 ]:  1.4745502471923828\n",
            "train_batch_loss[ 13000 ]:  1.5352925062179565\n",
            "train_batch_loss[ 13100 ]:  1.5004597902297974\n",
            "train_batch_loss[ 13200 ]:  1.2480982542037964\n"
          ],
          "name": "stdout"
        },
        {
          "output_type": "stream",
          "text": [
            "Evaluate: 100%|██████████| 91/91 [00:01<00:00, 76.65it/s]\n"
          ],
          "name": "stderr"
        },
        {
          "output_type": "stream",
          "text": [
            "valid_evaluation: loss = 1.1319598003913616, acc = 0.6241455332729456\n",
            "save model at  checkpoints/crnn_013218_acc0.6241455332729456.pt\n",
            "Validation loss decreased (1.180739 --> 1.131960).  Saving model ...\n",
            "train_loss:  1.513798028708553\n",
            "epoch: 7\n",
            "train_batch_loss[ 13300 ]:  1.874987006187439\n",
            "train_batch_loss[ 13400 ]:  1.2850697040557861\n",
            "train_batch_loss[ 13500 ]:  1.2394036054611206\n",
            "train_batch_loss[ 13600 ]:  1.2860546112060547\n",
            "train_batch_loss[ 13700 ]:  1.5418444871902466\n",
            "train_batch_loss[ 13800 ]:  1.2999107837677002\n",
            "train_batch_loss[ 13900 ]:  1.4691684246063232\n",
            "train_batch_loss[ 14000 ]:  1.430745244026184\n",
            "train_batch_loss[ 14100 ]:  1.3155238628387451\n",
            "train_batch_loss[ 14200 ]:  1.2461048364639282\n",
            "train_batch_loss[ 14300 ]:  1.2165162563323975\n",
            "train_batch_loss[ 14400 ]:  1.296338438987732\n",
            "train_batch_loss[ 14500 ]:  1.5942426919937134\n",
            "train_batch_loss[ 14600 ]:  1.5264400243759155\n",
            "train_batch_loss[ 14700 ]:  1.4523714780807495\n",
            "train_batch_loss[ 14800 ]:  1.6228715181350708\n",
            "train_batch_loss[ 14900 ]:  1.2475193738937378\n",
            "train_batch_loss[ 15000 ]:  1.2759069204330444\n",
            "train_batch_loss[ 15100 ]:  1.354163646697998\n",
            "train_batch_loss[ 15200 ]:  1.5521613359451294\n",
            "train_batch_loss[ 15300 ]:  1.7397749423980713\n",
            "train_batch_loss[ 15400 ]:  1.4306312799453735\n"
          ],
          "name": "stdout"
        },
        {
          "output_type": "stream",
          "text": [
            "Evaluate: 100%|██████████| 91/91 [00:01<00:00, 77.13it/s]\n"
          ],
          "name": "stderr"
        },
        {
          "output_type": "stream",
          "text": [
            "valid_evaluation: loss = 1.1138081984684385, acc = 0.6051264595692307\n",
            "save model at  checkpoints/crnn_015421_acc0.6051264595692307.pt\n",
            "Validation loss decreased (1.131960 --> 1.113808).  Saving model ...\n",
            "train_loss:  1.4534393728176922\n",
            "epoch: 8\n",
            "train_batch_loss[ 15500 ]:  1.6385674476623535\n",
            "train_batch_loss[ 15600 ]:  1.2342201471328735\n",
            "train_batch_loss[ 15700 ]:  1.4180965423583984\n",
            "train_batch_loss[ 15800 ]:  1.3811757564544678\n",
            "train_batch_loss[ 15900 ]:  1.4339216947555542\n",
            "train_batch_loss[ 16000 ]:  1.4020318984985352\n",
            "train_batch_loss[ 16100 ]:  1.3719961643218994\n",
            "train_batch_loss[ 16200 ]:  1.3498814105987549\n",
            "train_batch_loss[ 16300 ]:  1.7916548252105713\n",
            "train_batch_loss[ 16400 ]:  1.3574458360671997\n",
            "train_batch_loss[ 16500 ]:  1.3484035730361938\n",
            "train_batch_loss[ 16600 ]:  1.6900990009307861\n",
            "train_batch_loss[ 16700 ]:  1.874571442604065\n",
            "train_batch_loss[ 16800 ]:  1.1736295223236084\n",
            "train_batch_loss[ 16900 ]:  1.3374038934707642\n",
            "train_batch_loss[ 17000 ]:  1.283344030380249\n",
            "train_batch_loss[ 17100 ]:  1.4713751077651978\n",
            "train_batch_loss[ 17200 ]:  1.279618740081787\n",
            "train_batch_loss[ 17300 ]:  1.5532076358795166\n",
            "train_batch_loss[ 17400 ]:  1.3940114974975586\n",
            "train_batch_loss[ 17500 ]:  1.3319659233093262\n",
            "train_batch_loss[ 17600 ]:  1.2332572937011719\n"
          ],
          "name": "stdout"
        },
        {
          "output_type": "stream",
          "text": [
            "Evaluate: 100%|██████████| 91/91 [00:01<00:00, 76.50it/s]\n"
          ],
          "name": "stderr"
        },
        {
          "output_type": "stream",
          "text": [
            "valid_evaluation: loss = 0.9811686870969575, acc = 0.7012490764701527\n",
            "save model at  checkpoints/crnn_017624_acc0.7012490764701527.pt\n",
            "Validation loss decreased (1.113808 --> 0.981169).  Saving model ...\n",
            "train_loss:  1.4062355547098804\n",
            "epoch: 9\n",
            "train_batch_loss[ 17700 ]:  1.3494889736175537\n",
            "train_batch_loss[ 17800 ]:  1.4080162048339844\n",
            "train_batch_loss[ 17900 ]:  1.1280567646026611\n",
            "train_batch_loss[ 18000 ]:  1.3323255777359009\n",
            "train_batch_loss[ 18100 ]:  1.39861261844635\n",
            "train_batch_loss[ 18200 ]:  1.4039024114608765\n",
            "train_batch_loss[ 18300 ]:  1.3553242683410645\n",
            "train_batch_loss[ 18400 ]:  1.3937146663665771\n",
            "train_batch_loss[ 18500 ]:  1.2230322360992432\n",
            "train_batch_loss[ 18600 ]:  1.666591763496399\n",
            "train_batch_loss[ 18700 ]:  1.2902085781097412\n",
            "train_batch_loss[ 18800 ]:  1.3246122598648071\n",
            "train_batch_loss[ 18900 ]:  1.1526424884796143\n",
            "train_batch_loss[ 19000 ]:  1.5642037391662598\n",
            "train_batch_loss[ 19100 ]:  1.4671024084091187\n",
            "train_batch_loss[ 19200 ]:  1.2359062433242798\n",
            "train_batch_loss[ 19300 ]:  1.4316526651382446\n",
            "train_batch_loss[ 19400 ]:  1.3718794584274292\n",
            "train_batch_loss[ 19500 ]:  1.292292594909668\n",
            "train_batch_loss[ 19600 ]:  1.5345689058303833\n",
            "train_batch_loss[ 19700 ]:  1.2024705410003662\n",
            "train_batch_loss[ 19800 ]:  1.2931017875671387\n"
          ],
          "name": "stdout"
        },
        {
          "output_type": "stream",
          "text": [
            "Evaluate: 100%|██████████| 91/91 [00:01<00:00, 74.44it/s]\n"
          ],
          "name": "stderr"
        },
        {
          "output_type": "stream",
          "text": [
            "valid_evaluation: loss = 0.9987991543473869, acc = 0.669056695611357\n",
            "save model at  checkpoints/crnn_019827_acc0.669056695611357.pt\n",
            "EarlyStopping counter: 1 out of 10\n",
            "train_loss:  1.3609958533650681\n",
            "epoch: 10\n",
            "train_batch_loss[ 19900 ]:  1.3684136867523193\n",
            "train_batch_loss[ 20000 ]:  1.472543716430664\n",
            "train_batch_loss[ 20100 ]:  1.3881733417510986\n",
            "train_batch_loss[ 20200 ]:  1.1607096195220947\n",
            "train_batch_loss[ 20300 ]:  1.1844446659088135\n",
            "train_batch_loss[ 20400 ]:  1.0807219743728638\n",
            "train_batch_loss[ 20500 ]:  1.2049555778503418\n",
            "train_batch_loss[ 20600 ]:  1.5026769638061523\n",
            "train_batch_loss[ 20700 ]:  1.1373322010040283\n",
            "train_batch_loss[ 20800 ]:  1.4655165672302246\n",
            "train_batch_loss[ 20900 ]:  1.2139521837234497\n",
            "train_batch_loss[ 21000 ]:  1.299805760383606\n",
            "train_batch_loss[ 21100 ]:  1.1968226432800293\n",
            "train_batch_loss[ 21200 ]:  1.3284130096435547\n",
            "train_batch_loss[ 21300 ]:  1.3958185911178589\n",
            "train_batch_loss[ 21400 ]:  1.13539719581604\n",
            "train_batch_loss[ 21500 ]:  1.3010534048080444\n",
            "train_batch_loss[ 21600 ]:  1.1947969198226929\n",
            "train_batch_loss[ 21700 ]:  1.6086061000823975\n",
            "train_batch_loss[ 21800 ]:  1.283369779586792\n",
            "train_batch_loss[ 21900 ]:  1.4331544637680054\n",
            "train_batch_loss[ 22000 ]:  1.30929434299469\n"
          ],
          "name": "stdout"
        },
        {
          "output_type": "stream",
          "text": [
            "Evaluate: 100%|██████████| 91/91 [00:01<00:00, 77.62it/s]\n"
          ],
          "name": "stderr"
        },
        {
          "output_type": "stream",
          "text": [
            "valid_evaluation: loss = 0.9315258683829472, acc = 0.6967092641692021\n",
            "save model at  checkpoints/crnn_022030_acc0.6967092641692021.pt\n",
            "Validation loss decreased (0.981169 --> 0.931526).  Saving model ...\n",
            "train_loss:  1.3296985756814674\n",
            "epoch: 11\n",
            "train_batch_loss[ 22100 ]:  1.3417967557907104\n",
            "train_batch_loss[ 22200 ]:  1.4786007404327393\n",
            "train_batch_loss[ 22300 ]:  1.1477664709091187\n",
            "train_batch_loss[ 22400 ]:  1.4317920207977295\n",
            "train_batch_loss[ 22500 ]:  1.0297492742538452\n",
            "train_batch_loss[ 22600 ]:  1.2748240232467651\n",
            "train_batch_loss[ 22700 ]:  1.1111479997634888\n",
            "train_batch_loss[ 22800 ]:  1.4383758306503296\n",
            "train_batch_loss[ 22900 ]:  1.235023856163025\n",
            "train_batch_loss[ 23000 ]:  1.3747923374176025\n",
            "train_batch_loss[ 23100 ]:  1.1210484504699707\n",
            "train_batch_loss[ 23200 ]:  0.862575113773346\n",
            "train_batch_loss[ 23300 ]:  1.235030174255371\n",
            "train_batch_loss[ 23400 ]:  1.3994085788726807\n",
            "train_batch_loss[ 23500 ]:  1.249889612197876\n",
            "train_batch_loss[ 23600 ]:  1.2805895805358887\n",
            "train_batch_loss[ 23700 ]:  1.4984383583068848\n",
            "train_batch_loss[ 23800 ]:  1.0982166528701782\n",
            "train_batch_loss[ 23900 ]:  1.5553555488586426\n",
            "train_batch_loss[ 24000 ]:  0.9642304182052612\n",
            "train_batch_loss[ 24100 ]:  1.4385061264038086\n",
            "train_batch_loss[ 24200 ]:  1.402323603630066\n"
          ],
          "name": "stdout"
        },
        {
          "output_type": "stream",
          "text": [
            "Evaluate: 100%|██████████| 91/91 [00:01<00:00, 77.18it/s]\n"
          ],
          "name": "stderr"
        },
        {
          "output_type": "stream",
          "text": [
            "valid_evaluation: loss = 0.8916241119647849, acc = 0.7227430629562729\n",
            "save model at  checkpoints/crnn_024233_acc0.7227430629562729.pt\n",
            "Validation loss decreased (0.931526 --> 0.891624).  Saving model ...\n",
            "train_loss:  1.292021016910835\n",
            "epoch: 12\n",
            "train_batch_loss[ 24300 ]:  1.0575029850006104\n",
            "train_batch_loss[ 24400 ]:  1.0140745639801025\n",
            "train_batch_loss[ 24500 ]:  1.4208954572677612\n",
            "train_batch_loss[ 24600 ]:  1.3252887725830078\n",
            "train_batch_loss[ 24700 ]:  1.2244713306427002\n",
            "train_batch_loss[ 24800 ]:  1.173699975013733\n",
            "train_batch_loss[ 24900 ]:  1.4157274961471558\n",
            "train_batch_loss[ 25000 ]:  1.1571612358093262\n",
            "train_batch_loss[ 25100 ]:  0.7101976275444031\n",
            "train_batch_loss[ 25200 ]:  1.0994939804077148\n",
            "train_batch_loss[ 25300 ]:  1.3355897665023804\n",
            "train_batch_loss[ 25400 ]:  1.3787599802017212\n",
            "train_batch_loss[ 25500 ]:  1.5009175539016724\n",
            "train_batch_loss[ 25600 ]:  1.2547849416732788\n",
            "train_batch_loss[ 25700 ]:  1.2733718156814575\n",
            "train_batch_loss[ 25800 ]:  1.2549735307693481\n",
            "train_batch_loss[ 25900 ]:  1.356583595275879\n",
            "train_batch_loss[ 26000 ]:  1.074068546295166\n",
            "train_batch_loss[ 26100 ]:  1.5430715084075928\n",
            "train_batch_loss[ 26200 ]:  1.2942994832992554\n",
            "train_batch_loss[ 26300 ]:  0.967013418674469\n",
            "train_batch_loss[ 26400 ]:  1.5124762058258057\n"
          ],
          "name": "stdout"
        },
        {
          "output_type": "stream",
          "text": [
            "Evaluate: 100%|██████████| 91/91 [00:01<00:00, 77.99it/s]\n"
          ],
          "name": "stderr"
        },
        {
          "output_type": "stream",
          "text": [
            "valid_evaluation: loss = 0.8503655246208454, acc = 0.7334395116644027\n",
            "save model at  checkpoints/crnn_026436_acc0.7334395116644027.pt\n",
            "Validation loss decreased (0.891624 --> 0.850366).  Saving model ...\n",
            "train_loss:  1.2576406568267657\n",
            "epoch: 13\n",
            "train_batch_loss[ 26500 ]:  1.3336058855056763\n",
            "train_batch_loss[ 26600 ]:  1.2278494834899902\n",
            "train_batch_loss[ 26700 ]:  1.0383285284042358\n",
            "train_batch_loss[ 26800 ]:  0.9930135607719421\n",
            "train_batch_loss[ 26900 ]:  1.1050868034362793\n",
            "train_batch_loss[ 27000 ]:  1.2630294561386108\n",
            "train_batch_loss[ 27100 ]:  1.542216420173645\n",
            "train_batch_loss[ 27200 ]:  0.7455253601074219\n",
            "train_batch_loss[ 27300 ]:  1.0759930610656738\n",
            "train_batch_loss[ 27400 ]:  1.1769345998764038\n",
            "train_batch_loss[ 27500 ]:  1.0766255855560303\n",
            "train_batch_loss[ 27600 ]:  1.3191399574279785\n",
            "train_batch_loss[ 27700 ]:  1.2656306028366089\n",
            "train_batch_loss[ 27800 ]:  1.312343955039978\n",
            "train_batch_loss[ 27900 ]:  1.1837302446365356\n",
            "train_batch_loss[ 28000 ]:  0.9968082308769226\n",
            "train_batch_loss[ 28100 ]:  1.5879985094070435\n",
            "train_batch_loss[ 28200 ]:  0.974921703338623\n",
            "train_batch_loss[ 28300 ]:  1.0758477449417114\n",
            "train_batch_loss[ 28400 ]:  1.0843607187271118\n",
            "train_batch_loss[ 28500 ]:  1.030774474143982\n",
            "train_batch_loss[ 28600 ]:  1.5268537998199463\n"
          ],
          "name": "stdout"
        },
        {
          "output_type": "stream",
          "text": [
            "Evaluate: 100%|██████████| 91/91 [00:01<00:00, 77.69it/s]\n"
          ],
          "name": "stderr"
        },
        {
          "output_type": "stream",
          "text": [
            "valid_evaluation: loss = 0.9027933054956897, acc = 0.7212711788379056\n",
            "save model at  checkpoints/crnn_028639_acc0.7212711788379056.pt\n",
            "EarlyStopping counter: 1 out of 10\n",
            "train_loss:  1.232865619727089\n",
            "epoch: 14\n",
            "train_batch_loss[ 28700 ]:  1.5824493169784546\n",
            "train_batch_loss[ 28800 ]:  1.1252928972244263\n",
            "train_batch_loss[ 28900 ]:  0.9542716145515442\n",
            "train_batch_loss[ 29000 ]:  1.2402950525283813\n",
            "train_batch_loss[ 29100 ]:  1.0244522094726562\n",
            "train_batch_loss[ 29200 ]:  1.3056598901748657\n",
            "train_batch_loss[ 29300 ]:  1.0161855220794678\n",
            "train_batch_loss[ 29400 ]:  1.0301316976547241\n",
            "train_batch_loss[ 29500 ]:  1.4487109184265137\n",
            "train_batch_loss[ 29600 ]:  1.1264489889144897\n",
            "train_batch_loss[ 29700 ]:  1.3362915515899658\n",
            "train_batch_loss[ 29800 ]:  1.0646518468856812\n",
            "train_batch_loss[ 29900 ]:  1.4431794881820679\n",
            "train_batch_loss[ 30000 ]:  1.2090108394622803\n",
            "train_batch_loss[ 30100 ]:  1.158239483833313\n",
            "train_batch_loss[ 30200 ]:  1.4425410032272339\n",
            "train_batch_loss[ 30300 ]:  1.6238380670547485\n",
            "train_batch_loss[ 30400 ]:  1.157753825187683\n",
            "train_batch_loss[ 30500 ]:  0.9126334190368652\n",
            "train_batch_loss[ 30600 ]:  1.1211693286895752\n",
            "train_batch_loss[ 30700 ]:  1.0568488836288452\n",
            "train_batch_loss[ 30800 ]:  1.3193278312683105\n"
          ],
          "name": "stdout"
        },
        {
          "output_type": "stream",
          "text": [
            "Evaluate: 100%|██████████| 91/91 [00:01<00:00, 77.26it/s]\n"
          ],
          "name": "stderr"
        },
        {
          "output_type": "stream",
          "text": [
            "valid_evaluation: loss = 0.8628830245445515, acc = 0.7427617575672346\n",
            "save model at  checkpoints/crnn_030842_acc0.7427617575672346.pt\n",
            "EarlyStopping counter: 2 out of 10\n",
            "train_loss:  1.1999120328685857\n",
            "epoch: 15\n",
            "train_batch_loss[ 30900 ]:  1.289158821105957\n",
            "train_batch_loss[ 31000 ]:  0.943963348865509\n",
            "train_batch_loss[ 31100 ]:  1.094539999961853\n",
            "train_batch_loss[ 31200 ]:  1.0655193328857422\n",
            "train_batch_loss[ 31300 ]:  1.060881495475769\n",
            "train_batch_loss[ 31400 ]:  1.0312596559524536\n",
            "train_batch_loss[ 31500 ]:  1.3794491291046143\n",
            "train_batch_loss[ 31600 ]:  0.9670876264572144\n",
            "train_batch_loss[ 31700 ]:  1.2822874784469604\n",
            "train_batch_loss[ 31800 ]:  0.8858156800270081\n",
            "train_batch_loss[ 31900 ]:  1.1153672933578491\n",
            "train_batch_loss[ 32000 ]:  1.0026980638504028\n",
            "train_batch_loss[ 32100 ]:  1.1378766298294067\n",
            "train_batch_loss[ 32200 ]:  0.8500211238861084\n",
            "train_batch_loss[ 32300 ]:  1.4173634052276611\n",
            "train_batch_loss[ 32400 ]:  1.3088713884353638\n",
            "train_batch_loss[ 32500 ]:  1.360445261001587\n",
            "train_batch_loss[ 32600 ]:  1.337304949760437\n",
            "train_batch_loss[ 32700 ]:  1.1059998273849487\n",
            "train_batch_loss[ 32800 ]:  1.2561297416687012\n",
            "train_batch_loss[ 32900 ]:  1.1308962106704712\n",
            "train_batch_loss[ 33000 ]:  1.2325912714004517\n"
          ],
          "name": "stdout"
        },
        {
          "output_type": "stream",
          "text": [
            "Evaluate: 100%|██████████| 91/91 [00:01<00:00, 78.24it/s]\n"
          ],
          "name": "stderr"
        },
        {
          "output_type": "stream",
          "text": [
            "valid_evaluation: loss = 0.8646629540673617, acc = 0.7425634881502545\n",
            "save model at  checkpoints/crnn_033045_acc0.7425634881502545.pt\n",
            "EarlyStopping counter: 3 out of 10\n",
            "train_loss:  1.1729801535521802\n",
            "epoch: 16\n",
            "train_batch_loss[ 33100 ]:  0.8527437448501587\n",
            "train_batch_loss[ 33200 ]:  0.9708036780357361\n",
            "train_batch_loss[ 33300 ]:  0.9525191783905029\n",
            "train_batch_loss[ 33400 ]:  0.9851864576339722\n",
            "train_batch_loss[ 33500 ]:  1.0447447299957275\n",
            "train_batch_loss[ 33600 ]:  1.025844693183899\n",
            "train_batch_loss[ 33700 ]:  0.9481751322746277\n",
            "train_batch_loss[ 33800 ]:  0.8125853538513184\n",
            "train_batch_loss[ 33900 ]:  0.9011046886444092\n",
            "train_batch_loss[ 34000 ]:  1.37729811668396\n",
            "train_batch_loss[ 34100 ]:  1.2440167665481567\n",
            "train_batch_loss[ 34200 ]:  1.4509222507476807\n",
            "train_batch_loss[ 34300 ]:  1.0140330791473389\n",
            "train_batch_loss[ 34400 ]:  1.1896134614944458\n",
            "train_batch_loss[ 34500 ]:  1.2435423135757446\n",
            "train_batch_loss[ 34600 ]:  0.8078474998474121\n",
            "train_batch_loss[ 34700 ]:  0.866852879524231\n",
            "train_batch_loss[ 34800 ]:  1.2651042938232422\n",
            "train_batch_loss[ 34900 ]:  1.0945253372192383\n",
            "train_batch_loss[ 35000 ]:  1.2520867586135864\n",
            "train_batch_loss[ 35100 ]:  1.3506191968917847\n",
            "train_batch_loss[ 35200 ]:  1.2447324991226196\n"
          ],
          "name": "stdout"
        },
        {
          "output_type": "stream",
          "text": [
            "Evaluate: 100%|██████████| 91/91 [00:01<00:00, 77.17it/s]\n"
          ],
          "name": "stderr"
        },
        {
          "output_type": "stream",
          "text": [
            "valid_evaluation: loss = 0.8292530138739224, acc = 0.7445358752246607\n",
            "save model at  checkpoints/crnn_035248_acc0.7445358752246607.pt\n",
            "Validation loss decreased (0.850366 --> 0.829253).  Saving model ...\n",
            "train_loss:  1.1446731402820876\n",
            "epoch: 17\n",
            "train_batch_loss[ 35300 ]:  0.9390527606010437\n",
            "train_batch_loss[ 35400 ]:  1.6158630847930908\n",
            "train_batch_loss[ 35500 ]:  1.2818082571029663\n",
            "train_batch_loss[ 35600 ]:  1.2297159433364868\n",
            "train_batch_loss[ 35700 ]:  1.0044198036193848\n",
            "train_batch_loss[ 35800 ]:  1.248284101486206\n",
            "train_batch_loss[ 35900 ]:  0.8880856037139893\n",
            "train_batch_loss[ 36000 ]:  1.0594336986541748\n",
            "train_batch_loss[ 36100 ]:  1.015105962753296\n",
            "train_batch_loss[ 36200 ]:  1.2672449350357056\n",
            "train_batch_loss[ 36300 ]:  0.9046409130096436\n",
            "train_batch_loss[ 36400 ]:  1.2466652393341064\n",
            "train_batch_loss[ 36500 ]:  1.3683037757873535\n",
            "train_batch_loss[ 36600 ]:  1.7524620294570923\n",
            "train_batch_loss[ 36700 ]:  1.384528636932373\n",
            "train_batch_loss[ 36800 ]:  0.9633480310440063\n",
            "train_batch_loss[ 36900 ]:  1.0129287242889404\n",
            "train_batch_loss[ 37000 ]:  0.6482223272323608\n",
            "train_batch_loss[ 37100 ]:  0.9812473058700562\n",
            "train_batch_loss[ 37200 ]:  1.4634581804275513\n",
            "train_batch_loss[ 37300 ]:  1.1542165279388428\n",
            "train_batch_loss[ 37400 ]:  1.1827789545059204\n"
          ],
          "name": "stdout"
        },
        {
          "output_type": "stream",
          "text": [
            "Evaluate: 100%|██████████| 91/91 [00:01<00:00, 77.22it/s]\n"
          ],
          "name": "stderr"
        },
        {
          "output_type": "stream",
          "text": [
            "valid_evaluation: loss = 0.7969180360333673, acc = 0.7501302005032426\n",
            "save model at  checkpoints/crnn_037451_acc0.7501302005032426.pt\n",
            "Validation loss decreased (0.829253 --> 0.796918).  Saving model ...\n",
            "train_loss:  1.1274271941411675\n",
            "epoch: 18\n",
            "train_batch_loss[ 37500 ]:  0.9967827200889587\n",
            "train_batch_loss[ 37600 ]:  1.4947377443313599\n",
            "train_batch_loss[ 37700 ]:  1.2020437717437744\n",
            "train_batch_loss[ 37800 ]:  1.086342215538025\n",
            "train_batch_loss[ 37900 ]:  1.184754490852356\n",
            "train_batch_loss[ 38000 ]:  1.053788661956787\n",
            "train_batch_loss[ 38100 ]:  0.9703779220581055\n",
            "train_batch_loss[ 38200 ]:  1.0248303413391113\n",
            "train_batch_loss[ 38300 ]:  1.4977999925613403\n",
            "train_batch_loss[ 38400 ]:  1.0275217294692993\n",
            "train_batch_loss[ 38500 ]:  1.0681458711624146\n",
            "train_batch_loss[ 38600 ]:  1.2094440460205078\n",
            "train_batch_loss[ 38700 ]:  1.071771264076233\n",
            "train_batch_loss[ 38800 ]:  1.1879957914352417\n",
            "train_batch_loss[ 38900 ]:  1.058781385421753\n",
            "train_batch_loss[ 39000 ]:  1.0130555629730225\n",
            "train_batch_loss[ 39100 ]:  1.1486400365829468\n",
            "train_batch_loss[ 39200 ]:  1.0499179363250732\n",
            "train_batch_loss[ 39300 ]:  1.3469158411026\n",
            "train_batch_loss[ 39400 ]:  1.094122290611267\n",
            "train_batch_loss[ 39500 ]:  0.9923660755157471\n",
            "train_batch_loss[ 39600 ]:  1.0689550638198853\n"
          ],
          "name": "stdout"
        },
        {
          "output_type": "stream",
          "text": [
            "Evaluate: 100%|██████████| 91/91 [00:01<00:00, 77.29it/s]\n"
          ],
          "name": "stderr"
        },
        {
          "output_type": "stream",
          "text": [
            "valid_evaluation: loss = 0.8570659012630069, acc = 0.7424949511317686\n",
            "save model at  checkpoints/crnn_039654_acc0.7424949511317686.pt\n",
            "EarlyStopping counter: 1 out of 10\n",
            "train_loss:  1.0973810710111238\n",
            "epoch: 19\n",
            "train_batch_loss[ 39700 ]:  1.2312957048416138\n",
            "train_batch_loss[ 39800 ]:  0.9396206140518188\n",
            "train_batch_loss[ 39900 ]:  0.8452120423316956\n",
            "train_batch_loss[ 40000 ]:  0.8669537305831909\n",
            "train_batch_loss[ 40100 ]:  1.1587988138198853\n",
            "train_batch_loss[ 40200 ]:  1.0712419748306274\n",
            "train_batch_loss[ 40300 ]:  1.0353546142578125\n",
            "train_batch_loss[ 40400 ]:  1.1951268911361694\n",
            "train_batch_loss[ 40500 ]:  1.3240306377410889\n",
            "train_batch_loss[ 40600 ]:  1.1664061546325684\n",
            "train_batch_loss[ 40700 ]:  1.1345354318618774\n",
            "train_batch_loss[ 40800 ]:  1.5594137907028198\n",
            "train_batch_loss[ 40900 ]:  0.9781257510185242\n",
            "train_batch_loss[ 41000 ]:  1.1911042928695679\n",
            "train_batch_loss[ 41100 ]:  1.0886180400848389\n",
            "train_batch_loss[ 41200 ]:  1.2304056882858276\n",
            "train_batch_loss[ 41300 ]:  1.0369523763656616\n",
            "train_batch_loss[ 41400 ]:  0.882156252861023\n",
            "train_batch_loss[ 41500 ]:  1.0096451044082642\n",
            "train_batch_loss[ 41600 ]:  1.3061702251434326\n",
            "train_batch_loss[ 41700 ]:  0.9351654052734375\n",
            "train_batch_loss[ 41800 ]:  0.8534632921218872\n"
          ],
          "name": "stdout"
        },
        {
          "output_type": "stream",
          "text": [
            "Evaluate: 100%|██████████| 91/91 [00:01<00:00, 77.14it/s]\n"
          ],
          "name": "stderr"
        },
        {
          "output_type": "stream",
          "text": [
            "valid_evaluation: loss = 0.848019097426842, acc = 0.7464114995407063\n",
            "save model at  checkpoints/crnn_041857_acc0.7464114995407063.pt\n",
            "EarlyStopping counter: 2 out of 10\n",
            "train_loss:  1.0795822125149734\n",
            "epoch: 20\n",
            "train_batch_loss[ 41900 ]:  0.7991698980331421\n",
            "train_batch_loss[ 42000 ]:  0.7696366906166077\n",
            "train_batch_loss[ 42100 ]:  1.379990816116333\n",
            "train_batch_loss[ 42200 ]:  1.2906742095947266\n",
            "train_batch_loss[ 42300 ]:  0.979884922504425\n",
            "train_batch_loss[ 42400 ]:  1.50542151927948\n",
            "train_batch_loss[ 42500 ]:  1.1717195510864258\n",
            "train_batch_loss[ 42600 ]:  1.1061396598815918\n",
            "train_batch_loss[ 42700 ]:  0.880560576915741\n",
            "train_batch_loss[ 42800 ]:  0.8827086091041565\n",
            "train_batch_loss[ 42900 ]:  1.633744239807129\n",
            "train_batch_loss[ 43000 ]:  0.7301655411720276\n",
            "train_batch_loss[ 43100 ]:  1.115549087524414\n",
            "train_batch_loss[ 43200 ]:  1.0743814706802368\n",
            "train_batch_loss[ 43300 ]:  0.9725648164749146\n",
            "train_batch_loss[ 43400 ]:  1.0657700300216675\n",
            "train_batch_loss[ 43500 ]:  1.0677886009216309\n",
            "train_batch_loss[ 43600 ]:  0.9923585653305054\n",
            "train_batch_loss[ 43700 ]:  1.233102560043335\n",
            "train_batch_loss[ 43800 ]:  1.2164251804351807\n",
            "train_batch_loss[ 43900 ]:  1.3830405473709106\n",
            "train_batch_loss[ 44000 ]:  0.9424818158149719\n"
          ],
          "name": "stdout"
        },
        {
          "output_type": "stream",
          "text": [
            "Evaluate: 100%|██████████| 91/91 [00:01<00:00, 76.59it/s]\n"
          ],
          "name": "stderr"
        },
        {
          "output_type": "stream",
          "text": [
            "valid_evaluation: loss = 0.8068913814939301, acc = 0.7641494446402405\n",
            "save model at  checkpoints/crnn_044060_acc0.7641494446402405.pt\n",
            "EarlyStopping counter: 3 out of 10\n",
            "train_loss:  1.0601241932264436\n",
            "epoch: 21\n",
            "train_batch_loss[ 44100 ]:  1.0945643186569214\n",
            "train_batch_loss[ 44200 ]:  1.2898893356323242\n",
            "train_batch_loss[ 44300 ]:  0.7555424571037292\n",
            "train_batch_loss[ 44400 ]:  1.1000502109527588\n",
            "train_batch_loss[ 44500 ]:  1.1275475025177002\n",
            "train_batch_loss[ 44600 ]:  1.405137062072754\n",
            "train_batch_loss[ 44700 ]:  0.9745615124702454\n",
            "train_batch_loss[ 44800 ]:  0.7476629018783569\n",
            "train_batch_loss[ 44900 ]:  0.9924643635749817\n",
            "train_batch_loss[ 45000 ]:  1.4053058624267578\n",
            "train_batch_loss[ 45100 ]:  0.9675205945968628\n",
            "train_batch_loss[ 45200 ]:  1.0846261978149414\n",
            "train_batch_loss[ 45300 ]:  1.1682177782058716\n",
            "train_batch_loss[ 45400 ]:  1.0813826322555542\n",
            "train_batch_loss[ 45500 ]:  1.1702910661697388\n",
            "train_batch_loss[ 45600 ]:  0.917914867401123\n",
            "train_batch_loss[ 45700 ]:  0.7853103280067444\n",
            "train_batch_loss[ 45800 ]:  0.6878401041030884\n",
            "train_batch_loss[ 45900 ]:  0.8483554720878601\n",
            "train_batch_loss[ 46000 ]:  0.8929411172866821\n",
            "train_batch_loss[ 46100 ]:  0.9761146903038025\n",
            "train_batch_loss[ 46200 ]:  1.1299382448196411\n"
          ],
          "name": "stdout"
        },
        {
          "output_type": "stream",
          "text": [
            "Evaluate: 100%|██████████| 91/91 [00:01<00:00, 77.67it/s]\n"
          ],
          "name": "stderr"
        },
        {
          "output_type": "stream",
          "text": [
            "valid_evaluation: loss = 0.8585064776190396, acc = 0.7431978975321879\n",
            "save model at  checkpoints/crnn_046263_acc0.7431978975321879.pt\n",
            "EarlyStopping counter: 4 out of 10\n",
            "train_loss:  1.0464544884546507\n",
            "epoch: 22\n",
            "train_batch_loss[ 46300 ]:  1.1784732341766357\n",
            "train_batch_loss[ 46400 ]:  0.9419904351234436\n",
            "train_batch_loss[ 46500 ]:  0.9524033069610596\n",
            "train_batch_loss[ 46600 ]:  1.7723047733306885\n",
            "train_batch_loss[ 46700 ]:  1.0459682941436768\n",
            "train_batch_loss[ 46800 ]:  1.0626686811447144\n",
            "train_batch_loss[ 46900 ]:  1.4449880123138428\n",
            "train_batch_loss[ 47000 ]:  1.0057590007781982\n",
            "train_batch_loss[ 47100 ]:  1.1976871490478516\n",
            "train_batch_loss[ 47200 ]:  1.0114328861236572\n",
            "train_batch_loss[ 47300 ]:  1.1893928050994873\n",
            "train_batch_loss[ 47400 ]:  1.0347315073013306\n",
            "train_batch_loss[ 47500 ]:  0.9225108623504639\n",
            "train_batch_loss[ 47600 ]:  0.8934200406074524\n",
            "train_batch_loss[ 47700 ]:  0.9405678510665894\n",
            "train_batch_loss[ 47800 ]:  0.8581632971763611\n",
            "train_batch_loss[ 47900 ]:  0.9379288554191589\n",
            "train_batch_loss[ 48000 ]:  1.0848382711410522\n",
            "train_batch_loss[ 48100 ]:  1.055916666984558\n",
            "train_batch_loss[ 48200 ]:  1.1296489238739014\n",
            "train_batch_loss[ 48300 ]:  1.0575237274169922\n",
            "train_batch_loss[ 48400 ]:  0.7251769304275513\n"
          ],
          "name": "stdout"
        },
        {
          "output_type": "stream",
          "text": [
            "Evaluate: 100%|██████████| 91/91 [00:01<00:00, 76.40it/s]\n"
          ],
          "name": "stderr"
        },
        {
          "output_type": "stream",
          "text": [
            "valid_evaluation: loss = 0.8736085030128216, acc = 0.755076635648983\n",
            "save model at  checkpoints/crnn_048466_acc0.755076635648983.pt\n",
            "EarlyStopping counter: 5 out of 10\n",
            "train_loss:  1.0269924595252122\n",
            "epoch: 23\n",
            "train_batch_loss[ 48500 ]:  1.1613519191741943\n",
            "train_batch_loss[ 48600 ]:  1.2505779266357422\n",
            "train_batch_loss[ 48700 ]:  1.2705122232437134\n",
            "train_batch_loss[ 48800 ]:  1.146765947341919\n",
            "train_batch_loss[ 48900 ]:  1.1810829639434814\n",
            "train_batch_loss[ 49000 ]:  0.808485209941864\n",
            "train_batch_loss[ 49100 ]:  0.5992230176925659\n",
            "train_batch_loss[ 49200 ]:  1.1599699258804321\n",
            "train_batch_loss[ 49300 ]:  0.8034133911132812\n",
            "train_batch_loss[ 49400 ]:  0.8208892941474915\n",
            "train_batch_loss[ 49500 ]:  1.152930736541748\n",
            "train_batch_loss[ 49600 ]:  0.8422567844390869\n",
            "train_batch_loss[ 49700 ]:  0.9619881510734558\n",
            "train_batch_loss[ 49800 ]:  0.8083898425102234\n",
            "train_batch_loss[ 49900 ]:  0.8773543834686279\n",
            "train_batch_loss[ 50000 ]:  0.9534154534339905\n",
            "train_batch_loss[ 50100 ]:  1.112236738204956\n",
            "train_batch_loss[ 50200 ]:  1.0832680463790894\n",
            "train_batch_loss[ 50300 ]:  0.8593767881393433\n",
            "train_batch_loss[ 50400 ]:  1.0259443521499634\n",
            "train_batch_loss[ 50500 ]:  0.7849103212356567\n",
            "train_batch_loss[ 50600 ]:  0.8624809384346008\n"
          ],
          "name": "stdout"
        },
        {
          "output_type": "stream",
          "text": [
            "Evaluate: 100%|██████████| 91/91 [00:01<00:00, 77.43it/s]\n"
          ],
          "name": "stderr"
        },
        {
          "output_type": "stream",
          "text": [
            "valid_evaluation: loss = 0.8176848582563729, acc = 0.7672338174745394\n",
            "save model at  checkpoints/crnn_050669_acc0.7672338174745394.pt\n",
            "EarlyStopping counter: 6 out of 10\n",
            "train_loss:  1.011130788604706\n",
            "epoch: 24\n",
            "train_batch_loss[ 50700 ]:  0.950454592704773\n",
            "train_batch_loss[ 50800 ]:  0.9961047768592834\n",
            "train_batch_loss[ 50900 ]:  1.194082260131836\n",
            "train_batch_loss[ 51000 ]:  1.160353660583496\n",
            "train_batch_loss[ 51100 ]:  1.5032243728637695\n",
            "train_batch_loss[ 51200 ]:  1.0292444229125977\n",
            "train_batch_loss[ 51300 ]:  0.9225541353225708\n",
            "train_batch_loss[ 51400 ]:  1.2768665552139282\n",
            "train_batch_loss[ 51500 ]:  0.5618308186531067\n",
            "train_batch_loss[ 51600 ]:  0.9171035289764404\n",
            "train_batch_loss[ 51700 ]:  1.2429231405258179\n",
            "train_batch_loss[ 51800 ]:  0.9017680883407593\n",
            "train_batch_loss[ 51900 ]:  1.1685495376586914\n",
            "train_batch_loss[ 52000 ]:  1.2175533771514893\n",
            "train_batch_loss[ 52100 ]:  0.8468520641326904\n",
            "train_batch_loss[ 52200 ]:  1.0083515644073486\n",
            "train_batch_loss[ 52300 ]:  0.880885124206543\n",
            "train_batch_loss[ 52400 ]:  1.434632658958435\n",
            "train_batch_loss[ 52500 ]:  0.7495831251144409\n",
            "train_batch_loss[ 52600 ]:  0.942314088344574\n",
            "train_batch_loss[ 52700 ]:  0.9991772770881653\n",
            "train_batch_loss[ 52800 ]:  0.9478768706321716\n"
          ],
          "name": "stdout"
        },
        {
          "output_type": "stream",
          "text": [
            "Evaluate: 100%|██████████| 91/91 [00:01<00:00, 74.01it/s]\n"
          ],
          "name": "stderr"
        },
        {
          "output_type": "stream",
          "text": [
            "valid_evaluation: loss = 0.824671567390705, acc = 0.7679154322388619\n",
            "save model at  checkpoints/crnn_052872_acc0.7679154322388619.pt\n",
            "EarlyStopping counter: 7 out of 10\n",
            "train_loss:  0.98978218996425\n",
            "epoch: 25\n",
            "train_batch_loss[ 52900 ]:  0.7010315656661987\n",
            "train_batch_loss[ 53000 ]:  0.9886769652366638\n",
            "train_batch_loss[ 53100 ]:  1.0232524871826172\n",
            "train_batch_loss[ 53200 ]:  0.7305832505226135\n",
            "train_batch_loss[ 53300 ]:  1.1324501037597656\n",
            "train_batch_loss[ 53400 ]:  1.0765089988708496\n",
            "train_batch_loss[ 53500 ]:  1.173795223236084\n",
            "train_batch_loss[ 53600 ]:  0.9222395420074463\n",
            "train_batch_loss[ 53700 ]:  1.1045739650726318\n",
            "train_batch_loss[ 53800 ]:  0.9950047731399536\n",
            "train_batch_loss[ 53900 ]:  1.14542818069458\n",
            "train_batch_loss[ 54000 ]:  0.9251452684402466\n",
            "train_batch_loss[ 54100 ]:  1.3035597801208496\n",
            "train_batch_loss[ 54200 ]:  1.2732057571411133\n",
            "train_batch_loss[ 54300 ]:  0.9864681959152222\n",
            "train_batch_loss[ 54400 ]:  1.1181594133377075\n",
            "train_batch_loss[ 54500 ]:  0.6373921632766724\n",
            "train_batch_loss[ 54600 ]:  0.9076766967773438\n",
            "train_batch_loss[ 54700 ]:  1.1603175401687622\n",
            "train_batch_loss[ 54800 ]:  0.5887264013290405\n",
            "train_batch_loss[ 54900 ]:  1.1590626239776611\n",
            "train_batch_loss[ 55000 ]:  0.9211452603340149\n"
          ],
          "name": "stdout"
        },
        {
          "output_type": "stream",
          "text": [
            "Evaluate: 100%|██████████| 91/91 [00:01<00:00, 77.50it/s]\n"
          ],
          "name": "stderr"
        },
        {
          "output_type": "stream",
          "text": [
            "valid_evaluation: loss = 0.8472052728718725, acc = 0.7608057743279101\n",
            "save model at  checkpoints/crnn_055075_acc0.7608057743279101.pt\n",
            "EarlyStopping counter: 8 out of 10\n",
            "train_loss:  0.9761424606770375\n",
            "epoch: 26\n",
            "train_batch_loss[ 55100 ]:  1.2667083740234375\n",
            "train_batch_loss[ 55200 ]:  0.8962981700897217\n",
            "train_batch_loss[ 55300 ]:  0.7981106042861938\n",
            "train_batch_loss[ 55400 ]:  0.9562295079231262\n",
            "train_batch_loss[ 55500 ]:  1.0952492952346802\n",
            "train_batch_loss[ 55600 ]:  0.9821611046791077\n",
            "train_batch_loss[ 55700 ]:  0.793759286403656\n",
            "train_batch_loss[ 55800 ]:  1.1818281412124634\n",
            "train_batch_loss[ 55900 ]:  0.7169426679611206\n",
            "train_batch_loss[ 56000 ]:  0.5944713950157166\n",
            "train_batch_loss[ 56100 ]:  1.0879688262939453\n",
            "train_batch_loss[ 56200 ]:  1.0900300741195679\n",
            "train_batch_loss[ 56300 ]:  0.8501182794570923\n",
            "train_batch_loss[ 56400 ]:  1.2525278329849243\n",
            "train_batch_loss[ 56500 ]:  1.0919530391693115\n",
            "train_batch_loss[ 56600 ]:  0.9789000749588013\n",
            "train_batch_loss[ 56700 ]:  0.6709417104721069\n",
            "train_batch_loss[ 56800 ]:  1.088666319847107\n",
            "train_batch_loss[ 56900 ]:  0.8958473801612854\n",
            "train_batch_loss[ 57000 ]:  0.9424623250961304\n",
            "train_batch_loss[ 57100 ]:  0.9112653732299805\n",
            "train_batch_loss[ 57200 ]:  0.9354339838027954\n"
          ],
          "name": "stdout"
        },
        {
          "output_type": "stream",
          "text": [
            "Evaluate: 100%|██████████| 91/91 [00:01<00:00, 77.38it/s]\n"
          ],
          "name": "stderr"
        },
        {
          "output_type": "stream",
          "text": [
            "valid_evaluation: loss = 0.8436603805936616, acc = 0.7634676447750423\n",
            "save model at  checkpoints/crnn_057278_acc0.7634676447750423.pt\n",
            "EarlyStopping counter: 9 out of 10\n",
            "train_loss:  0.9608896983842131\n",
            "epoch: 27\n",
            "train_batch_loss[ 57300 ]:  0.5235982537269592\n",
            "train_batch_loss[ 57400 ]:  0.6922610402107239\n",
            "train_batch_loss[ 57500 ]:  0.9924834370613098\n",
            "train_batch_loss[ 57600 ]:  0.7429525256156921\n",
            "train_batch_loss[ 57700 ]:  0.7490699887275696\n",
            "train_batch_loss[ 57800 ]:  1.0824300050735474\n",
            "train_batch_loss[ 57900 ]:  1.0471996068954468\n",
            "train_batch_loss[ 58000 ]:  0.6954516172409058\n",
            "train_batch_loss[ 58100 ]:  1.0802628993988037\n",
            "train_batch_loss[ 58200 ]:  1.2584986686706543\n",
            "train_batch_loss[ 58300 ]:  0.8827860355377197\n",
            "train_batch_loss[ 58400 ]:  0.8529922366142273\n",
            "train_batch_loss[ 58500 ]:  0.9500776529312134\n",
            "train_batch_loss[ 58600 ]:  0.7967089414596558\n",
            "train_batch_loss[ 58700 ]:  0.7574207782745361\n",
            "train_batch_loss[ 58800 ]:  0.5086177587509155\n",
            "train_batch_loss[ 58900 ]:  0.9816218018531799\n",
            "train_batch_loss[ 59000 ]:  0.9084868431091309\n",
            "train_batch_loss[ 59100 ]:  1.1813665628433228\n",
            "train_batch_loss[ 59200 ]:  0.9490747451782227\n",
            "train_batch_loss[ 59300 ]:  0.7619620561599731\n",
            "train_batch_loss[ 59400 ]:  0.753506600856781\n"
          ],
          "name": "stdout"
        },
        {
          "output_type": "stream",
          "text": [
            "Evaluate: 100%|██████████| 91/91 [00:01<00:00, 71.72it/s]\n",
            "Predict:  10%|▉         | 8/82 [00:00<00:00, 74.50it/s]"
          ],
          "name": "stderr"
        },
        {
          "output_type": "stream",
          "text": [
            "valid_evaluation: loss = 0.8359703086984569, acc = 0.7674265400142859\n",
            "save model at  checkpoints/crnn_059481_acc0.7674265400142859.pt\n",
            "EarlyStopping counter: 10 out of 10\n",
            "train_loss:  0.9512345156771791\n",
            "Early stopping\n"
          ],
          "name": "stdout"
        },
        {
          "output_type": "stream",
          "text": [
            "Predict: 100%|██████████| 82/82 [00:01<00:00, 75.92it/s]\n"
          ],
          "name": "stderr"
        },
        {
          "output_type": "stream",
          "text": [
            "F1 without majority = 0.7674607355233394\n",
            "F1 with majority = 0.8763734090127279\n",
            "Current trial: slice_length = 32; random_state = 42\n",
            "device: cuda\n",
            "epoch: 1\n",
            "train_batch_loss[ 100 ]:  2.285149097442627\n",
            "train_batch_loss[ 200 ]:  2.3145968914031982\n",
            "train_batch_loss[ 300 ]:  2.2404768466949463\n",
            "train_batch_loss[ 400 ]:  2.302978754043579\n",
            "train_batch_loss[ 500 ]:  2.2525885105133057\n",
            "train_batch_loss[ 600 ]:  2.3075010776519775\n",
            "train_batch_loss[ 700 ]:  2.235720634460449\n",
            "train_batch_loss[ 800 ]:  2.1358139514923096\n",
            "train_batch_loss[ 900 ]:  2.245919942855835\n",
            "train_batch_loss[ 1000 ]:  2.138869524002075\n",
            "train_batch_loss[ 1100 ]:  2.164504051208496\n",
            "train_batch_loss[ 1200 ]:  2.161619186401367\n",
            "train_batch_loss[ 1300 ]:  2.13397216796875\n",
            "train_batch_loss[ 1400 ]:  2.178847074508667\n",
            "train_batch_loss[ 1500 ]:  2.0810277462005615\n",
            "train_batch_loss[ 1600 ]:  2.110513210296631\n",
            "train_batch_loss[ 1700 ]:  2.04341459274292\n",
            "train_batch_loss[ 1800 ]:  2.0862393379211426\n",
            "train_batch_loss[ 1900 ]:  2.05244517326355\n",
            "train_batch_loss[ 2000 ]:  2.148898124694824\n",
            "train_batch_loss[ 2100 ]:  2.0233983993530273\n"
          ],
          "name": "stdout"
        },
        {
          "output_type": "stream",
          "text": [
            "Evaluate:   9%|▉         | 8/91 [00:00<00:01, 78.42it/s]"
          ],
          "name": "stderr"
        },
        {
          "output_type": "stream",
          "text": [
            "train_batch_loss[ 2200 ]:  1.9443247318267822\n"
          ],
          "name": "stdout"
        },
        {
          "output_type": "stream",
          "text": [
            "Evaluate: 100%|██████████| 91/91 [00:01<00:00, 76.30it/s]\n"
          ],
          "name": "stderr"
        },
        {
          "output_type": "stream",
          "text": [
            "valid_evaluation: loss = 1.911294497785897, acc = 0.3591718429873265\n",
            "save model at  checkpoints/crnn_002203_acc0.3591718429873265.pt\n",
            "Validation loss decreased (inf --> 1.911294).  Saving model ...\n",
            "train_loss:  2.181738737016193\n",
            "epoch: 2\n",
            "train_batch_loss[ 2300 ]:  2.0343432426452637\n",
            "train_batch_loss[ 2400 ]:  2.0884456634521484\n",
            "train_batch_loss[ 2500 ]:  2.1009223461151123\n",
            "train_batch_loss[ 2600 ]:  2.0701024532318115\n",
            "train_batch_loss[ 2700 ]:  2.043720006942749\n",
            "train_batch_loss[ 2800 ]:  1.7916896343231201\n",
            "train_batch_loss[ 2900 ]:  2.093956232070923\n",
            "train_batch_loss[ 3000 ]:  1.8578267097473145\n",
            "train_batch_loss[ 3100 ]:  1.8390270471572876\n",
            "train_batch_loss[ 3200 ]:  1.764891505241394\n",
            "train_batch_loss[ 3300 ]:  1.6517817974090576\n",
            "train_batch_loss[ 3400 ]:  1.6871711015701294\n",
            "train_batch_loss[ 3500 ]:  1.8682230710983276\n",
            "train_batch_loss[ 3600 ]:  1.8328745365142822\n",
            "train_batch_loss[ 3700 ]:  1.7756985425949097\n",
            "train_batch_loss[ 3800 ]:  1.896949052810669\n",
            "train_batch_loss[ 3900 ]:  1.8627861738204956\n",
            "train_batch_loss[ 4000 ]:  1.728156566619873\n",
            "train_batch_loss[ 4100 ]:  1.8467389345169067\n",
            "train_batch_loss[ 4200 ]:  1.6687579154968262\n",
            "train_batch_loss[ 4300 ]:  2.029082775115967\n"
          ],
          "name": "stdout"
        },
        {
          "output_type": "stream",
          "text": [
            "\rEvaluate:   0%|          | 0/91 [00:00<?, ?it/s]"
          ],
          "name": "stderr"
        },
        {
          "output_type": "stream",
          "text": [
            "train_batch_loss[ 4400 ]:  1.6638222932815552\n"
          ],
          "name": "stdout"
        },
        {
          "output_type": "stream",
          "text": [
            "Evaluate: 100%|██████████| 91/91 [00:01<00:00, 77.14it/s]\n"
          ],
          "name": "stderr"
        },
        {
          "output_type": "stream",
          "text": [
            "valid_evaluation: loss = 1.5774508272368333, acc = 0.438794863016642\n",
            "save model at  checkpoints/crnn_004406_acc0.438794863016642.pt\n",
            "Validation loss decreased (1.911294 --> 1.577451).  Saving model ...\n",
            "train_loss:  1.9015865360301691\n",
            "epoch: 3\n",
            "train_batch_loss[ 4500 ]:  1.613152265548706\n",
            "train_batch_loss[ 4600 ]:  1.8041561841964722\n",
            "train_batch_loss[ 4700 ]:  1.8460798263549805\n",
            "train_batch_loss[ 4800 ]:  1.6380621194839478\n",
            "train_batch_loss[ 4900 ]:  1.723671793937683\n",
            "train_batch_loss[ 5000 ]:  2.1366610527038574\n",
            "train_batch_loss[ 5100 ]:  1.8194001913070679\n",
            "train_batch_loss[ 5200 ]:  1.8991435766220093\n",
            "train_batch_loss[ 5300 ]:  1.9431896209716797\n",
            "train_batch_loss[ 5400 ]:  1.6088305711746216\n",
            "train_batch_loss[ 5500 ]:  1.7404534816741943\n",
            "train_batch_loss[ 5600 ]:  1.662430763244629\n",
            "train_batch_loss[ 5700 ]:  1.9972785711288452\n",
            "train_batch_loss[ 5800 ]:  1.6955327987670898\n",
            "train_batch_loss[ 5900 ]:  1.7294974327087402\n",
            "train_batch_loss[ 6000 ]:  1.4045859575271606\n",
            "train_batch_loss[ 6100 ]:  1.7034504413604736\n",
            "train_batch_loss[ 6200 ]:  1.532382845878601\n",
            "train_batch_loss[ 6300 ]:  1.8307636976242065\n",
            "train_batch_loss[ 6400 ]:  1.6842762231826782\n",
            "train_batch_loss[ 6500 ]:  1.7912070751190186\n",
            "train_batch_loss[ 6600 ]:  1.8655847311019897\n"
          ],
          "name": "stdout"
        },
        {
          "output_type": "stream",
          "text": [
            "Evaluate: 100%|██████████| 91/91 [00:01<00:00, 75.82it/s]\n"
          ],
          "name": "stderr"
        },
        {
          "output_type": "stream",
          "text": [
            "valid_evaluation: loss = 1.4423584984088766, acc = 0.49832052082401973\n",
            "save model at  checkpoints/crnn_006609_acc0.49832052082401973.pt\n",
            "Validation loss decreased (1.577451 --> 1.442358).  Saving model ...\n",
            "train_loss:  1.7306475071631646\n",
            "epoch: 4\n",
            "train_batch_loss[ 6700 ]:  1.5529781579971313\n",
            "train_batch_loss[ 6800 ]:  1.7575982809066772\n",
            "train_batch_loss[ 6900 ]:  1.622053861618042\n",
            "train_batch_loss[ 7000 ]:  1.735556721687317\n",
            "train_batch_loss[ 7100 ]:  1.5768959522247314\n",
            "train_batch_loss[ 7200 ]:  1.648685097694397\n",
            "train_batch_loss[ 7300 ]:  1.4974125623703003\n",
            "train_batch_loss[ 7400 ]:  1.5962053537368774\n",
            "train_batch_loss[ 7500 ]:  1.7433958053588867\n",
            "train_batch_loss[ 7600 ]:  1.6131008863449097\n",
            "train_batch_loss[ 7700 ]:  1.9702059030532837\n",
            "train_batch_loss[ 7800 ]:  1.8151946067810059\n",
            "train_batch_loss[ 7900 ]:  1.8161259889602661\n",
            "train_batch_loss[ 8000 ]:  1.4717854261398315\n",
            "train_batch_loss[ 8100 ]:  1.5488184690475464\n",
            "train_batch_loss[ 8200 ]:  1.6740140914916992\n",
            "train_batch_loss[ 8300 ]:  1.66775381565094\n",
            "train_batch_loss[ 8400 ]:  1.2850878238677979\n",
            "train_batch_loss[ 8500 ]:  1.5661282539367676\n",
            "train_batch_loss[ 8600 ]:  1.3894391059875488\n",
            "train_batch_loss[ 8700 ]:  1.6601070165634155\n",
            "train_batch_loss[ 8800 ]:  1.452157735824585\n"
          ],
          "name": "stdout"
        },
        {
          "output_type": "stream",
          "text": [
            "Evaluate: 100%|██████████| 91/91 [00:01<00:00, 75.34it/s]\n"
          ],
          "name": "stderr"
        },
        {
          "output_type": "stream",
          "text": [
            "valid_evaluation: loss = 1.3654006451573866, acc = 0.5042852457670582\n",
            "save model at  checkpoints/crnn_008812_acc0.5042852457670582.pt\n",
            "Validation loss decreased (1.442358 --> 1.365401).  Saving model ...\n",
            "train_loss:  1.6338384815728697\n",
            "epoch: 5\n",
            "train_batch_loss[ 8900 ]:  1.6383094787597656\n",
            "train_batch_loss[ 9000 ]:  1.376940131187439\n",
            "train_batch_loss[ 9100 ]:  1.5436736345291138\n",
            "train_batch_loss[ 9200 ]:  1.391312599182129\n",
            "train_batch_loss[ 9300 ]:  1.5962369441986084\n",
            "train_batch_loss[ 9400 ]:  1.630354881286621\n",
            "train_batch_loss[ 9500 ]:  1.8450809717178345\n",
            "train_batch_loss[ 9600 ]:  1.7047926187515259\n",
            "train_batch_loss[ 9700 ]:  1.4603006839752197\n",
            "train_batch_loss[ 9800 ]:  1.654126763343811\n",
            "train_batch_loss[ 9900 ]:  1.4367114305496216\n",
            "train_batch_loss[ 10000 ]:  1.571274757385254\n",
            "train_batch_loss[ 10100 ]:  1.7010469436645508\n",
            "train_batch_loss[ 10200 ]:  1.7577898502349854\n",
            "train_batch_loss[ 10300 ]:  1.9668207168579102\n",
            "train_batch_loss[ 10400 ]:  1.9328442811965942\n",
            "train_batch_loss[ 10500 ]:  1.2922210693359375\n",
            "train_batch_loss[ 10600 ]:  1.734039545059204\n",
            "train_batch_loss[ 10700 ]:  1.4188008308410645\n",
            "train_batch_loss[ 10800 ]:  1.7188628911972046\n",
            "train_batch_loss[ 10900 ]:  1.3237429857254028\n",
            "train_batch_loss[ 11000 ]:  1.307529091835022\n"
          ],
          "name": "stdout"
        },
        {
          "output_type": "stream",
          "text": [
            "Evaluate: 100%|██████████| 91/91 [00:01<00:00, 77.41it/s]\n"
          ],
          "name": "stderr"
        },
        {
          "output_type": "stream",
          "text": [
            "valid_evaluation: loss = 1.2338794353090483, acc = 0.5653731714464146\n",
            "save model at  checkpoints/crnn_011015_acc0.5653731714464146.pt\n",
            "Validation loss decreased (1.365401 --> 1.233879).  Saving model ...\n",
            "train_loss:  1.5543086051399595\n",
            "epoch: 6\n",
            "train_batch_loss[ 11100 ]:  1.3917920589447021\n",
            "train_batch_loss[ 11200 ]:  1.4037904739379883\n",
            "train_batch_loss[ 11300 ]:  1.4733247756958008\n",
            "train_batch_loss[ 11400 ]:  1.5125046968460083\n",
            "train_batch_loss[ 11500 ]:  1.7563303709030151\n",
            "train_batch_loss[ 11600 ]:  1.6020206212997437\n",
            "train_batch_loss[ 11700 ]:  1.4260993003845215\n",
            "train_batch_loss[ 11800 ]:  1.9652938842773438\n",
            "train_batch_loss[ 11900 ]:  1.303978443145752\n",
            "train_batch_loss[ 12000 ]:  1.2883265018463135\n",
            "train_batch_loss[ 12100 ]:  1.3041305541992188\n",
            "train_batch_loss[ 12200 ]:  1.6546303033828735\n",
            "train_batch_loss[ 12300 ]:  1.4414682388305664\n",
            "train_batch_loss[ 12400 ]:  1.556340217590332\n",
            "train_batch_loss[ 12500 ]:  1.4130287170410156\n",
            "train_batch_loss[ 12600 ]:  1.4474461078643799\n",
            "train_batch_loss[ 12700 ]:  1.3361170291900635\n",
            "train_batch_loss[ 12800 ]:  1.4678791761398315\n",
            "train_batch_loss[ 12900 ]:  1.7614977359771729\n",
            "train_batch_loss[ 13000 ]:  1.6488524675369263\n",
            "train_batch_loss[ 13100 ]:  1.3999969959259033\n",
            "train_batch_loss[ 13200 ]:  1.3131455183029175\n"
          ],
          "name": "stdout"
        },
        {
          "output_type": "stream",
          "text": [
            "Evaluate: 100%|██████████| 91/91 [00:01<00:00, 77.56it/s]\n"
          ],
          "name": "stderr"
        },
        {
          "output_type": "stream",
          "text": [
            "valid_evaluation: loss = 1.1887564330265439, acc = 0.5591285823709782\n",
            "save model at  checkpoints/crnn_013218_acc0.5591285823709782.pt\n",
            "Validation loss decreased (1.233879 --> 1.188756).  Saving model ...\n",
            "train_loss:  1.4882654086400282\n",
            "epoch: 7\n",
            "train_batch_loss[ 13300 ]:  1.6113770008087158\n",
            "train_batch_loss[ 13400 ]:  1.5142029523849487\n",
            "train_batch_loss[ 13500 ]:  1.432817816734314\n",
            "train_batch_loss[ 13600 ]:  1.6145861148834229\n",
            "train_batch_loss[ 13700 ]:  1.1462668180465698\n",
            "train_batch_loss[ 13800 ]:  1.460545301437378\n",
            "train_batch_loss[ 13900 ]:  1.8208242654800415\n",
            "train_batch_loss[ 14000 ]:  1.4269652366638184\n",
            "train_batch_loss[ 14100 ]:  1.3745641708374023\n",
            "train_batch_loss[ 14200 ]:  1.1889156103134155\n",
            "train_batch_loss[ 14300 ]:  1.45895516872406\n",
            "train_batch_loss[ 14400 ]:  0.9705372452735901\n",
            "train_batch_loss[ 14500 ]:  1.63102388381958\n",
            "train_batch_loss[ 14600 ]:  1.4470579624176025\n",
            "train_batch_loss[ 14700 ]:  1.3260998725891113\n",
            "train_batch_loss[ 14800 ]:  1.568160891532898\n",
            "train_batch_loss[ 14900 ]:  1.4517430067062378\n",
            "train_batch_loss[ 15000 ]:  1.8642891645431519\n",
            "train_batch_loss[ 15100 ]:  1.2423969507217407\n",
            "train_batch_loss[ 15200 ]:  1.5602689981460571\n",
            "train_batch_loss[ 15300 ]:  1.422247290611267\n",
            "train_batch_loss[ 15400 ]:  1.2795668840408325\n"
          ],
          "name": "stdout"
        },
        {
          "output_type": "stream",
          "text": [
            "Evaluate: 100%|██████████| 91/91 [00:01<00:00, 77.84it/s]\n"
          ],
          "name": "stderr"
        },
        {
          "output_type": "stream",
          "text": [
            "valid_evaluation: loss = 1.179598196621599, acc = 0.5793310142803533\n",
            "save model at  checkpoints/crnn_015421_acc0.5793310142803533.pt\n",
            "Validation loss decreased (1.188756 --> 1.179598).  Saving model ...\n",
            "train_loss:  1.4349524416652186\n",
            "epoch: 8\n",
            "train_batch_loss[ 15500 ]:  1.1609289646148682\n",
            "train_batch_loss[ 15600 ]:  1.0462177991867065\n",
            "train_batch_loss[ 15700 ]:  1.1314207315444946\n",
            "train_batch_loss[ 15800 ]:  1.2048834562301636\n",
            "train_batch_loss[ 15900 ]:  1.2240679264068604\n",
            "train_batch_loss[ 16000 ]:  1.3013445138931274\n",
            "train_batch_loss[ 16100 ]:  1.2532520294189453\n",
            "train_batch_loss[ 16200 ]:  1.4883360862731934\n",
            "train_batch_loss[ 16300 ]:  1.5922647714614868\n",
            "train_batch_loss[ 16400 ]:  1.4197232723236084\n",
            "train_batch_loss[ 16500 ]:  1.4404296875\n",
            "train_batch_loss[ 16600 ]:  1.415364146232605\n",
            "train_batch_loss[ 16700 ]:  1.5318591594696045\n",
            "train_batch_loss[ 16800 ]:  1.214310646057129\n",
            "train_batch_loss[ 16900 ]:  1.4850722551345825\n",
            "train_batch_loss[ 17000 ]:  1.302659034729004\n",
            "train_batch_loss[ 17100 ]:  1.1069436073303223\n",
            "train_batch_loss[ 17200 ]:  1.1610019207000732\n",
            "train_batch_loss[ 17300 ]:  1.5094983577728271\n",
            "train_batch_loss[ 17400 ]:  1.4230550527572632\n",
            "train_batch_loss[ 17500 ]:  1.504046082496643\n",
            "train_batch_loss[ 17600 ]:  1.480994701385498\n"
          ],
          "name": "stdout"
        },
        {
          "output_type": "stream",
          "text": [
            "Evaluate: 100%|██████████| 91/91 [00:01<00:00, 76.62it/s]\n"
          ],
          "name": "stderr"
        },
        {
          "output_type": "stream",
          "text": [
            "valid_evaluation: loss = 1.2348637100745892, acc = 0.554952665323581\n",
            "save model at  checkpoints/crnn_017624_acc0.554952665323581.pt\n",
            "EarlyStopping counter: 1 out of 10\n",
            "train_loss:  1.387388316996642\n",
            "epoch: 9\n",
            "train_batch_loss[ 17700 ]:  1.7585570812225342\n",
            "train_batch_loss[ 17800 ]:  1.1999177932739258\n",
            "train_batch_loss[ 17900 ]:  1.5232675075531006\n",
            "train_batch_loss[ 18000 ]:  1.256984829902649\n",
            "train_batch_loss[ 18100 ]:  1.3492202758789062\n",
            "train_batch_loss[ 18200 ]:  1.590997338294983\n",
            "train_batch_loss[ 18300 ]:  1.082913875579834\n",
            "train_batch_loss[ 18400 ]:  1.3114888668060303\n",
            "train_batch_loss[ 18500 ]:  1.1787140369415283\n",
            "train_batch_loss[ 18600 ]:  1.3390885591506958\n",
            "train_batch_loss[ 18700 ]:  1.439992070198059\n",
            "train_batch_loss[ 18800 ]:  1.453728199005127\n",
            "train_batch_loss[ 18900 ]:  1.0175089836120605\n",
            "train_batch_loss[ 19000 ]:  1.177647590637207\n",
            "train_batch_loss[ 19100 ]:  1.5075241327285767\n",
            "train_batch_loss[ 19200 ]:  1.4392694234848022\n",
            "train_batch_loss[ 19300 ]:  1.485221028327942\n",
            "train_batch_loss[ 19400 ]:  1.312335729598999\n",
            "train_batch_loss[ 19500 ]:  1.6931822299957275\n",
            "train_batch_loss[ 19600 ]:  1.1866488456726074\n",
            "train_batch_loss[ 19700 ]:  1.375946044921875\n",
            "train_batch_loss[ 19800 ]:  1.309716820716858\n"
          ],
          "name": "stdout"
        },
        {
          "output_type": "stream",
          "text": [
            "Evaluate: 100%|██████████| 91/91 [00:01<00:00, 78.36it/s]\n"
          ],
          "name": "stderr"
        },
        {
          "output_type": "stream",
          "text": [
            "valid_evaluation: loss = 1.1095553227128654, acc = 0.6169092349399493\n",
            "save model at  checkpoints/crnn_019827_acc0.6169092349399493.pt\n",
            "Validation loss decreased (1.179598 --> 1.109555).  Saving model ...\n",
            "train_loss:  1.3490921047100264\n",
            "epoch: 10\n",
            "train_batch_loss[ 19900 ]:  1.7055033445358276\n",
            "train_batch_loss[ 20000 ]:  1.5155329704284668\n",
            "train_batch_loss[ 20100 ]:  1.2729120254516602\n",
            "train_batch_loss[ 20200 ]:  1.4211348295211792\n",
            "train_batch_loss[ 20300 ]:  1.643280267715454\n",
            "train_batch_loss[ 20400 ]:  1.5605309009552002\n",
            "train_batch_loss[ 20500 ]:  1.3075287342071533\n",
            "train_batch_loss[ 20600 ]:  1.4434244632720947\n",
            "train_batch_loss[ 20700 ]:  1.1852753162384033\n",
            "train_batch_loss[ 20800 ]:  1.5822018384933472\n",
            "train_batch_loss[ 20900 ]:  1.495058298110962\n",
            "train_batch_loss[ 21000 ]:  1.2026071548461914\n",
            "train_batch_loss[ 21100 ]:  1.4302819967269897\n",
            "train_batch_loss[ 21200 ]:  1.2271597385406494\n",
            "train_batch_loss[ 21300 ]:  1.2569950819015503\n",
            "train_batch_loss[ 21400 ]:  1.3191169500350952\n",
            "train_batch_loss[ 21500 ]:  1.2950495481491089\n",
            "train_batch_loss[ 21600 ]:  1.121022343635559\n",
            "train_batch_loss[ 21700 ]:  1.0005697011947632\n",
            "train_batch_loss[ 21800 ]:  1.1934266090393066\n",
            "train_batch_loss[ 21900 ]:  1.2479195594787598\n",
            "train_batch_loss[ 22000 ]:  1.3343700170516968\n"
          ],
          "name": "stdout"
        },
        {
          "output_type": "stream",
          "text": [
            "Evaluate: 100%|██████████| 91/91 [00:01<00:00, 77.67it/s]\n"
          ],
          "name": "stderr"
        },
        {
          "output_type": "stream",
          "text": [
            "valid_evaluation: loss = 1.1330322456359863, acc = 0.6266820992420167\n",
            "save model at  checkpoints/crnn_022030_acc0.6266820992420167.pt\n",
            "EarlyStopping counter: 1 out of 10\n",
            "train_loss:  1.3036598421418617\n",
            "epoch: 11\n",
            "train_batch_loss[ 22100 ]:  1.5630459785461426\n",
            "train_batch_loss[ 22200 ]:  1.5729236602783203\n",
            "train_batch_loss[ 22300 ]:  1.527493953704834\n",
            "train_batch_loss[ 22400 ]:  1.7309620380401611\n",
            "train_batch_loss[ 22500 ]:  1.3126187324523926\n",
            "train_batch_loss[ 22600 ]:  1.3006019592285156\n",
            "train_batch_loss[ 22700 ]:  1.233224868774414\n",
            "train_batch_loss[ 22800 ]:  1.402960181236267\n",
            "train_batch_loss[ 22900 ]:  1.1784474849700928\n",
            "train_batch_loss[ 23000 ]:  1.531656265258789\n",
            "train_batch_loss[ 23100 ]:  0.9054692387580872\n",
            "train_batch_loss[ 23200 ]:  0.9200144410133362\n",
            "train_batch_loss[ 23300 ]:  1.558296799659729\n",
            "train_batch_loss[ 23400 ]:  1.249496340751648\n",
            "train_batch_loss[ 23500 ]:  1.1332379579544067\n",
            "train_batch_loss[ 23600 ]:  1.553130030632019\n",
            "train_batch_loss[ 23700 ]:  1.2098246812820435\n",
            "train_batch_loss[ 23800 ]:  1.5402530431747437\n",
            "train_batch_loss[ 23900 ]:  1.5554611682891846\n",
            "train_batch_loss[ 24000 ]:  1.4778789281845093\n",
            "train_batch_loss[ 24100 ]:  1.242741346359253\n",
            "train_batch_loss[ 24200 ]:  1.709262490272522\n"
          ],
          "name": "stdout"
        },
        {
          "output_type": "stream",
          "text": [
            "Evaluate: 100%|██████████| 91/91 [00:01<00:00, 76.97it/s]\n"
          ],
          "name": "stderr"
        },
        {
          "output_type": "stream",
          "text": [
            "valid_evaluation: loss = 1.1173881155869057, acc = 0.6543616200360078\n",
            "save model at  checkpoints/crnn_024233_acc0.6543616200360078.pt\n",
            "EarlyStopping counter: 2 out of 10\n",
            "train_loss:  1.2722082298563544\n",
            "epoch: 12\n",
            "train_batch_loss[ 24300 ]:  1.2376056909561157\n",
            "train_batch_loss[ 24400 ]:  1.0903046131134033\n",
            "train_batch_loss[ 24500 ]:  1.4894746541976929\n",
            "train_batch_loss[ 24600 ]:  1.5347959995269775\n",
            "train_batch_loss[ 24700 ]:  1.1545796394348145\n",
            "train_batch_loss[ 24800 ]:  1.1618179082870483\n",
            "train_batch_loss[ 24900 ]:  1.4135888814926147\n",
            "train_batch_loss[ 25000 ]:  1.1278854608535767\n",
            "train_batch_loss[ 25100 ]:  1.5267962217330933\n",
            "train_batch_loss[ 25200 ]:  1.3889092206954956\n",
            "train_batch_loss[ 25300 ]:  1.203994631767273\n",
            "train_batch_loss[ 25400 ]:  1.0738142728805542\n",
            "train_batch_loss[ 25500 ]:  1.174590826034546\n",
            "train_batch_loss[ 25600 ]:  1.1652919054031372\n",
            "train_batch_loss[ 25700 ]:  1.2942827939987183\n",
            "train_batch_loss[ 25800 ]:  1.582707166671753\n",
            "train_batch_loss[ 25900 ]:  0.9878107309341431\n",
            "train_batch_loss[ 26000 ]:  1.4856975078582764\n",
            "train_batch_loss[ 26100 ]:  1.140282154083252\n",
            "train_batch_loss[ 26200 ]:  1.0462335348129272\n",
            "train_batch_loss[ 26300 ]:  1.4118382930755615\n",
            "train_batch_loss[ 26400 ]:  1.4693225622177124\n"
          ],
          "name": "stdout"
        },
        {
          "output_type": "stream",
          "text": [
            "Evaluate: 100%|██████████| 91/91 [00:01<00:00, 77.89it/s]\n"
          ],
          "name": "stderr"
        },
        {
          "output_type": "stream",
          "text": [
            "valid_evaluation: loss = 1.092255249681144, acc = 0.6693145428861342\n",
            "save model at  checkpoints/crnn_026436_acc0.6693145428861342.pt\n",
            "Validation loss decreased (1.109555 --> 1.092255).  Saving model ...\n",
            "train_loss:  1.2403000464046257\n",
            "epoch: 13\n",
            "train_batch_loss[ 26500 ]:  0.7091786861419678\n",
            "train_batch_loss[ 26600 ]:  0.9544506072998047\n",
            "train_batch_loss[ 26700 ]:  1.2625259160995483\n",
            "train_batch_loss[ 26800 ]:  1.1145260334014893\n",
            "train_batch_loss[ 26900 ]:  0.7494552135467529\n",
            "train_batch_loss[ 27000 ]:  1.138263463973999\n",
            "train_batch_loss[ 27100 ]:  1.0367295742034912\n",
            "train_batch_loss[ 27200 ]:  1.0872482061386108\n",
            "train_batch_loss[ 27300 ]:  0.9579461812973022\n",
            "train_batch_loss[ 27400 ]:  1.1745779514312744\n",
            "train_batch_loss[ 27500 ]:  1.18732750415802\n",
            "train_batch_loss[ 27600 ]:  1.2171884775161743\n",
            "train_batch_loss[ 27700 ]:  1.5779473781585693\n",
            "train_batch_loss[ 27800 ]:  0.8992086052894592\n",
            "train_batch_loss[ 27900 ]:  1.088118314743042\n",
            "train_batch_loss[ 28000 ]:  1.174859881401062\n",
            "train_batch_loss[ 28100 ]:  1.2285653352737427\n",
            "train_batch_loss[ 28200 ]:  1.039552927017212\n",
            "train_batch_loss[ 28300 ]:  1.654675841331482\n",
            "train_batch_loss[ 28400 ]:  0.9715615510940552\n",
            "train_batch_loss[ 28500 ]:  1.6214172840118408\n",
            "train_batch_loss[ 28600 ]:  1.3049079179763794\n"
          ],
          "name": "stdout"
        },
        {
          "output_type": "stream",
          "text": [
            "Evaluate: 100%|██████████| 91/91 [00:01<00:00, 77.60it/s]\n"
          ],
          "name": "stderr"
        },
        {
          "output_type": "stream",
          "text": [
            "valid_evaluation: loss = 1.0767382371836696, acc = 0.6684076767592093\n",
            "save model at  checkpoints/crnn_028639_acc0.6684076767592093.pt\n",
            "Validation loss decreased (1.092255 --> 1.076738).  Saving model ...\n",
            "train_loss:  1.2140988367101528\n",
            "epoch: 14\n",
            "train_batch_loss[ 28700 ]:  1.4464291334152222\n",
            "train_batch_loss[ 28800 ]:  1.0819671154022217\n",
            "train_batch_loss[ 28900 ]:  0.8554144501686096\n",
            "train_batch_loss[ 29000 ]:  1.2707606554031372\n",
            "train_batch_loss[ 29100 ]:  1.4575551748275757\n",
            "train_batch_loss[ 29200 ]:  1.2254842519760132\n",
            "train_batch_loss[ 29300 ]:  1.4117647409439087\n",
            "train_batch_loss[ 29400 ]:  1.0156813859939575\n",
            "train_batch_loss[ 29500 ]:  1.4018272161483765\n",
            "train_batch_loss[ 29600 ]:  1.4743534326553345\n",
            "train_batch_loss[ 29700 ]:  1.3832072019577026\n",
            "train_batch_loss[ 29800 ]:  1.3224334716796875\n",
            "train_batch_loss[ 29900 ]:  1.4550869464874268\n",
            "train_batch_loss[ 30000 ]:  0.8603166937828064\n",
            "train_batch_loss[ 30100 ]:  0.9990368485450745\n",
            "train_batch_loss[ 30200 ]:  1.0027978420257568\n",
            "train_batch_loss[ 30300 ]:  1.4247126579284668\n",
            "train_batch_loss[ 30400 ]:  1.0505291223526\n",
            "train_batch_loss[ 30500 ]:  1.0945212841033936\n",
            "train_batch_loss[ 30600 ]:  1.174128532409668\n",
            "train_batch_loss[ 30700 ]:  1.1100246906280518\n",
            "train_batch_loss[ 30800 ]:  1.5003297328948975\n"
          ],
          "name": "stdout"
        },
        {
          "output_type": "stream",
          "text": [
            "Evaluate: 100%|██████████| 91/91 [00:01<00:00, 77.48it/s]\n"
          ],
          "name": "stderr"
        },
        {
          "output_type": "stream",
          "text": [
            "valid_evaluation: loss = 1.1272886966836864, acc = 0.6578189285497975\n",
            "save model at  checkpoints/crnn_030842_acc0.6578189285497975.pt\n",
            "EarlyStopping counter: 1 out of 10\n",
            "train_loss:  1.1851221885616194\n",
            "epoch: 15\n",
            "train_batch_loss[ 30900 ]:  1.044343113899231\n",
            "train_batch_loss[ 31000 ]:  1.1821657419204712\n",
            "train_batch_loss[ 31100 ]:  1.1232810020446777\n",
            "train_batch_loss[ 31200 ]:  1.6785916090011597\n",
            "train_batch_loss[ 31300 ]:  1.1273036003112793\n",
            "train_batch_loss[ 31400 ]:  1.1157320737838745\n",
            "train_batch_loss[ 31500 ]:  1.2649699449539185\n",
            "train_batch_loss[ 31600 ]:  0.9660124182701111\n",
            "train_batch_loss[ 31700 ]:  0.9967588782310486\n",
            "train_batch_loss[ 31800 ]:  1.4255669116973877\n",
            "train_batch_loss[ 31900 ]:  1.134819746017456\n",
            "train_batch_loss[ 32000 ]:  1.1209162473678589\n",
            "train_batch_loss[ 32100 ]:  1.5538506507873535\n",
            "train_batch_loss[ 32200 ]:  1.359419584274292\n",
            "train_batch_loss[ 32300 ]:  1.1085550785064697\n",
            "train_batch_loss[ 32400 ]:  0.803392231464386\n",
            "train_batch_loss[ 32500 ]:  1.102717638015747\n",
            "train_batch_loss[ 32600 ]:  1.1098049879074097\n",
            "train_batch_loss[ 32700 ]:  1.152861475944519\n",
            "train_batch_loss[ 32800 ]:  1.0208491086959839\n",
            "train_batch_loss[ 32900 ]:  1.173462986946106\n",
            "train_batch_loss[ 33000 ]:  1.2014248371124268\n"
          ],
          "name": "stdout"
        },
        {
          "output_type": "stream",
          "text": [
            "Evaluate: 100%|██████████| 91/91 [00:01<00:00, 76.55it/s]\n"
          ],
          "name": "stderr"
        },
        {
          "output_type": "stream",
          "text": [
            "valid_evaluation: loss = 1.0740914884106867, acc = 0.6901040852960969\n",
            "save model at  checkpoints/crnn_033045_acc0.6901040852960969.pt\n",
            "Validation loss decreased (1.076738 --> 1.074091).  Saving model ...\n",
            "train_loss:  1.1577743336074113\n",
            "epoch: 16\n",
            "train_batch_loss[ 33100 ]:  1.2975035905838013\n",
            "train_batch_loss[ 33200 ]:  1.3865386247634888\n",
            "train_batch_loss[ 33300 ]:  1.252565860748291\n",
            "train_batch_loss[ 33400 ]:  1.5012449026107788\n",
            "train_batch_loss[ 33500 ]:  0.9586723446846008\n",
            "train_batch_loss[ 33600 ]:  1.1488217115402222\n",
            "train_batch_loss[ 33700 ]:  1.0566285848617554\n",
            "train_batch_loss[ 33800 ]:  1.2001389265060425\n",
            "train_batch_loss[ 33900 ]:  1.253398060798645\n",
            "train_batch_loss[ 34000 ]:  1.2835954427719116\n",
            "train_batch_loss[ 34100 ]:  0.8214756846427917\n",
            "train_batch_loss[ 34200 ]:  1.178238868713379\n",
            "train_batch_loss[ 34300 ]:  1.2068829536437988\n",
            "train_batch_loss[ 34400 ]:  1.177195429801941\n",
            "train_batch_loss[ 34500 ]:  1.6141365766525269\n",
            "train_batch_loss[ 34600 ]:  1.3535057306289673\n",
            "train_batch_loss[ 34700 ]:  0.9302170872688293\n",
            "train_batch_loss[ 34800 ]:  1.0351725816726685\n",
            "train_batch_loss[ 34900 ]:  1.3620506525039673\n",
            "train_batch_loss[ 35000 ]:  1.6642484664916992\n",
            "train_batch_loss[ 35100 ]:  1.1523581743240356\n",
            "train_batch_loss[ 35200 ]:  1.377260446548462\n"
          ],
          "name": "stdout"
        },
        {
          "output_type": "stream",
          "text": [
            "Evaluate: 100%|██████████| 91/91 [00:01<00:00, 77.53it/s]\n"
          ],
          "name": "stderr"
        },
        {
          "output_type": "stream",
          "text": [
            "valid_evaluation: loss = 1.1013813946164888, acc = 0.6730453704454041\n",
            "save model at  checkpoints/crnn_035248_acc0.6730453704454041.pt\n",
            "EarlyStopping counter: 1 out of 10\n",
            "train_loss:  1.133113674354905\n",
            "epoch: 17\n",
            "train_batch_loss[ 35300 ]:  1.031304955482483\n",
            "train_batch_loss[ 35400 ]:  1.3914947509765625\n",
            "train_batch_loss[ 35500 ]:  1.2183345556259155\n",
            "train_batch_loss[ 35600 ]:  1.2028883695602417\n",
            "train_batch_loss[ 35700 ]:  1.0035916566848755\n",
            "train_batch_loss[ 35800 ]:  1.3058642148971558\n",
            "train_batch_loss[ 35900 ]:  1.0799014568328857\n",
            "train_batch_loss[ 36000 ]:  1.0539963245391846\n",
            "train_batch_loss[ 36100 ]:  1.1528085470199585\n",
            "train_batch_loss[ 36200 ]:  1.2292296886444092\n",
            "train_batch_loss[ 36300 ]:  1.127876877784729\n",
            "train_batch_loss[ 36400 ]:  1.2215213775634766\n",
            "train_batch_loss[ 36500 ]:  1.4514867067337036\n",
            "train_batch_loss[ 36600 ]:  1.0488286018371582\n",
            "train_batch_loss[ 36700 ]:  0.9351596236228943\n",
            "train_batch_loss[ 36800 ]:  1.1872613430023193\n",
            "train_batch_loss[ 36900 ]:  0.9254768490791321\n",
            "train_batch_loss[ 37000 ]:  1.1714279651641846\n",
            "train_batch_loss[ 37100 ]:  1.500426173210144\n",
            "train_batch_loss[ 37200 ]:  1.1517690420150757\n",
            "train_batch_loss[ 37300 ]:  0.8519664406776428\n",
            "train_batch_loss[ 37400 ]:  0.9469079971313477\n"
          ],
          "name": "stdout"
        },
        {
          "output_type": "stream",
          "text": [
            "Evaluate: 100%|██████████| 91/91 [00:01<00:00, 77.58it/s]\n"
          ],
          "name": "stderr"
        },
        {
          "output_type": "stream",
          "text": [
            "valid_evaluation: loss = 1.0902628839427027, acc = 0.6900144786308727\n",
            "save model at  checkpoints/crnn_037451_acc0.6900144786308727.pt\n",
            "EarlyStopping counter: 2 out of 10\n",
            "train_loss:  1.1098545056057938\n",
            "epoch: 18\n",
            "train_batch_loss[ 37500 ]:  1.000063180923462\n",
            "train_batch_loss[ 37600 ]:  1.0798089504241943\n",
            "train_batch_loss[ 37700 ]:  0.8728191256523132\n",
            "train_batch_loss[ 37800 ]:  1.0678142309188843\n",
            "train_batch_loss[ 37900 ]:  1.0292112827301025\n",
            "train_batch_loss[ 38000 ]:  1.0289266109466553\n",
            "train_batch_loss[ 38100 ]:  0.9904088377952576\n",
            "train_batch_loss[ 38200 ]:  1.1261744499206543\n",
            "train_batch_loss[ 38300 ]:  0.6028071045875549\n",
            "train_batch_loss[ 38400 ]:  0.7984854578971863\n",
            "train_batch_loss[ 38500 ]:  1.1083452701568604\n",
            "train_batch_loss[ 38600 ]:  0.8214442729949951\n",
            "train_batch_loss[ 38700 ]:  0.9851741790771484\n",
            "train_batch_loss[ 38800 ]:  1.0954478979110718\n",
            "train_batch_loss[ 38900 ]:  1.458783507347107\n",
            "train_batch_loss[ 39000 ]:  1.0102107524871826\n",
            "train_batch_loss[ 39100 ]:  1.103826642036438\n",
            "train_batch_loss[ 39200 ]:  1.0409502983093262\n",
            "train_batch_loss[ 39300 ]:  1.3596117496490479\n",
            "train_batch_loss[ 39400 ]:  1.1765426397323608\n",
            "train_batch_loss[ 39500 ]:  1.4355378150939941\n",
            "train_batch_loss[ 39600 ]:  1.4256600141525269\n"
          ],
          "name": "stdout"
        },
        {
          "output_type": "stream",
          "text": [
            "Evaluate: 100%|██████████| 91/91 [00:01<00:00, 76.52it/s]\n"
          ],
          "name": "stderr"
        },
        {
          "output_type": "stream",
          "text": [
            "valid_evaluation: loss = 1.0323186124604324, acc = 0.7028214257288615\n",
            "save model at  checkpoints/crnn_039654_acc0.7028214257288615.pt\n",
            "Validation loss decreased (1.074091 --> 1.032319).  Saving model ...\n",
            "train_loss:  1.0889809208963719\n",
            "epoch: 19\n",
            "train_batch_loss[ 39700 ]:  1.2415480613708496\n",
            "train_batch_loss[ 39800 ]:  0.9207959175109863\n",
            "train_batch_loss[ 39900 ]:  0.994210958480835\n",
            "train_batch_loss[ 40000 ]:  0.9930469393730164\n",
            "train_batch_loss[ 40100 ]:  1.2077033519744873\n",
            "train_batch_loss[ 40200 ]:  1.165237307548523\n",
            "train_batch_loss[ 40300 ]:  1.2600985765457153\n",
            "train_batch_loss[ 40400 ]:  0.9737071394920349\n",
            "train_batch_loss[ 40500 ]:  1.0410817861557007\n",
            "train_batch_loss[ 40600 ]:  1.2369379997253418\n",
            "train_batch_loss[ 40700 ]:  1.0194178819656372\n",
            "train_batch_loss[ 40800 ]:  0.9887938499450684\n",
            "train_batch_loss[ 40900 ]:  1.1155308485031128\n",
            "train_batch_loss[ 41000 ]:  1.0443642139434814\n",
            "train_batch_loss[ 41100 ]:  1.3871573209762573\n",
            "train_batch_loss[ 41200 ]:  1.048529028892517\n",
            "train_batch_loss[ 41300 ]:  1.1280052661895752\n",
            "train_batch_loss[ 41400 ]:  0.89649897813797\n",
            "train_batch_loss[ 41500 ]:  1.0571707487106323\n",
            "train_batch_loss[ 41600 ]:  1.250952959060669\n",
            "train_batch_loss[ 41700 ]:  1.0107346773147583\n",
            "train_batch_loss[ 41800 ]:  1.3289527893066406\n"
          ],
          "name": "stdout"
        },
        {
          "output_type": "stream",
          "text": [
            "Evaluate: 100%|██████████| 91/91 [00:01<00:00, 77.05it/s]\n"
          ],
          "name": "stderr"
        },
        {
          "output_type": "stream",
          "text": [
            "valid_evaluation: loss = 1.0434709364792396, acc = 0.7017088663158234\n",
            "save model at  checkpoints/crnn_041857_acc0.7017088663158234.pt\n",
            "EarlyStopping counter: 1 out of 10\n",
            "train_loss:  1.069139284632198\n",
            "epoch: 20\n",
            "train_batch_loss[ 41900 ]:  1.2730270624160767\n",
            "train_batch_loss[ 42000 ]:  0.7748403549194336\n",
            "train_batch_loss[ 42100 ]:  1.3616095781326294\n",
            "train_batch_loss[ 42200 ]:  1.0548710823059082\n",
            "train_batch_loss[ 42300 ]:  0.7848190665245056\n",
            "train_batch_loss[ 42400 ]:  1.1281081438064575\n",
            "train_batch_loss[ 42500 ]:  1.0734814405441284\n",
            "train_batch_loss[ 42600 ]:  1.5013529062271118\n",
            "train_batch_loss[ 42700 ]:  1.1512227058410645\n",
            "train_batch_loss[ 42800 ]:  1.0282692909240723\n",
            "train_batch_loss[ 42900 ]:  1.0685087442398071\n",
            "train_batch_loss[ 43000 ]:  1.106187105178833\n",
            "train_batch_loss[ 43100 ]:  0.8937038779258728\n",
            "train_batch_loss[ 43200 ]:  1.5417933464050293\n",
            "train_batch_loss[ 43300 ]:  0.8926364183425903\n",
            "train_batch_loss[ 43400 ]:  1.0706555843353271\n",
            "train_batch_loss[ 43500 ]:  1.1826337575912476\n",
            "train_batch_loss[ 43600 ]:  0.9580458998680115\n",
            "train_batch_loss[ 43700 ]:  1.0322149991989136\n",
            "train_batch_loss[ 43800 ]:  1.1564584970474243\n",
            "train_batch_loss[ 43900 ]:  0.7514464259147644\n",
            "train_batch_loss[ 44000 ]:  1.1641910076141357\n"
          ],
          "name": "stdout"
        },
        {
          "output_type": "stream",
          "text": [
            "Evaluate: 100%|██████████| 91/91 [00:01<00:00, 76.24it/s]\n"
          ],
          "name": "stderr"
        },
        {
          "output_type": "stream",
          "text": [
            "valid_evaluation: loss = 1.0429856195120977, acc = 0.7195028619536809\n",
            "save model at  checkpoints/crnn_044060_acc0.7195028619536809.pt\n",
            "EarlyStopping counter: 2 out of 10\n",
            "train_loss:  1.045128171887485\n",
            "epoch: 21\n",
            "train_batch_loss[ 44100 ]:  1.1396667957305908\n",
            "train_batch_loss[ 44200 ]:  1.2193586826324463\n",
            "train_batch_loss[ 44300 ]:  1.0487555265426636\n",
            "train_batch_loss[ 44400 ]:  1.0469948053359985\n",
            "train_batch_loss[ 44500 ]:  1.0987805128097534\n",
            "train_batch_loss[ 44600 ]:  1.1817575693130493\n",
            "train_batch_loss[ 44700 ]:  0.9043007493019104\n",
            "train_batch_loss[ 44800 ]:  1.0140459537506104\n",
            "train_batch_loss[ 44900 ]:  1.1086094379425049\n",
            "train_batch_loss[ 45000 ]:  0.8750622272491455\n",
            "train_batch_loss[ 45100 ]:  1.0149357318878174\n",
            "train_batch_loss[ 45200 ]:  0.7803370356559753\n",
            "train_batch_loss[ 45300 ]:  0.9889348149299622\n",
            "train_batch_loss[ 45400 ]:  1.172868251800537\n",
            "train_batch_loss[ 45500 ]:  0.874117374420166\n",
            "train_batch_loss[ 45600 ]:  1.1229616403579712\n",
            "train_batch_loss[ 45700 ]:  1.283282995223999\n",
            "train_batch_loss[ 45800 ]:  0.8812456130981445\n",
            "train_batch_loss[ 45900 ]:  1.0810497999191284\n",
            "train_batch_loss[ 46000 ]:  1.1354568004608154\n",
            "train_batch_loss[ 46100 ]:  1.1155509948730469\n",
            "train_batch_loss[ 46200 ]:  1.2374330759048462\n"
          ],
          "name": "stdout"
        },
        {
          "output_type": "stream",
          "text": [
            "Evaluate: 100%|██████████| 91/91 [00:01<00:00, 76.05it/s]\n"
          ],
          "name": "stderr"
        },
        {
          "output_type": "stream",
          "text": [
            "valid_evaluation: loss = 1.0649121050999082, acc = 0.7079078088748156\n",
            "save model at  checkpoints/crnn_046263_acc0.7079078088748156.pt\n",
            "EarlyStopping counter: 3 out of 10\n",
            "train_loss:  1.0258482385970724\n",
            "epoch: 22\n",
            "train_batch_loss[ 46300 ]:  0.6398969292640686\n",
            "train_batch_loss[ 46400 ]:  1.3779630661010742\n",
            "train_batch_loss[ 46500 ]:  0.7037256360054016\n",
            "train_batch_loss[ 46600 ]:  1.0005409717559814\n",
            "train_batch_loss[ 46700 ]:  1.1163296699523926\n",
            "train_batch_loss[ 46800 ]:  1.1446579694747925\n",
            "train_batch_loss[ 46900 ]:  1.1323872804641724\n",
            "train_batch_loss[ 47000 ]:  0.9029723405838013\n",
            "train_batch_loss[ 47100 ]:  1.0498580932617188\n",
            "train_batch_loss[ 47200 ]:  1.0414212942123413\n",
            "train_batch_loss[ 47300 ]:  1.1642324924468994\n",
            "train_batch_loss[ 47400 ]:  1.1279226541519165\n",
            "train_batch_loss[ 47500 ]:  0.9838083386421204\n",
            "train_batch_loss[ 47600 ]:  1.007026195526123\n",
            "train_batch_loss[ 47700 ]:  0.7868770360946655\n",
            "train_batch_loss[ 47800 ]:  0.9409757256507874\n",
            "train_batch_loss[ 47900 ]:  1.081904649734497\n",
            "train_batch_loss[ 48000 ]:  0.9651983976364136\n",
            "train_batch_loss[ 48100 ]:  1.0216383934020996\n",
            "train_batch_loss[ 48200 ]:  0.8958094120025635\n",
            "train_batch_loss[ 48300 ]:  0.8613735437393188\n",
            "train_batch_loss[ 48400 ]:  1.0917065143585205\n"
          ],
          "name": "stdout"
        },
        {
          "output_type": "stream",
          "text": [
            "Evaluate: 100%|██████████| 91/91 [00:01<00:00, 77.50it/s]\n"
          ],
          "name": "stderr"
        },
        {
          "output_type": "stream",
          "text": [
            "valid_evaluation: loss = 1.0137249288887813, acc = 0.7235966219843764\n",
            "save model at  checkpoints/crnn_048466_acc0.7235966219843764.pt\n",
            "Validation loss decreased (1.032319 --> 1.013725).  Saving model ...\n",
            "train_loss:  1.003369670809457\n",
            "epoch: 23\n",
            "train_batch_loss[ 48500 ]:  1.1077344417572021\n",
            "train_batch_loss[ 48600 ]:  0.7265709042549133\n",
            "train_batch_loss[ 48700 ]:  0.9517810940742493\n",
            "train_batch_loss[ 48800 ]:  0.9565338492393494\n",
            "train_batch_loss[ 48900 ]:  0.8519628047943115\n",
            "train_batch_loss[ 49000 ]:  0.9561882615089417\n",
            "train_batch_loss[ 49100 ]:  0.9704568982124329\n",
            "train_batch_loss[ 49200 ]:  0.8944125175476074\n",
            "train_batch_loss[ 49300 ]:  0.8003575801849365\n",
            "train_batch_loss[ 49400 ]:  0.9411559700965881\n",
            "train_batch_loss[ 49500 ]:  1.0301737785339355\n",
            "train_batch_loss[ 49600 ]:  0.7670590877532959\n",
            "train_batch_loss[ 49700 ]:  0.9402929544448853\n",
            "train_batch_loss[ 49800 ]:  1.1653900146484375\n",
            "train_batch_loss[ 49900 ]:  0.6372948288917542\n",
            "train_batch_loss[ 50000 ]:  0.9459832906723022\n",
            "train_batch_loss[ 50100 ]:  1.2349748611450195\n",
            "train_batch_loss[ 50200 ]:  0.9631166458129883\n",
            "train_batch_loss[ 50300 ]:  0.8708009719848633\n",
            "train_batch_loss[ 50400 ]:  0.8857235908508301\n",
            "train_batch_loss[ 50500 ]:  1.3373467922210693\n",
            "train_batch_loss[ 50600 ]:  0.790683925151825\n"
          ],
          "name": "stdout"
        },
        {
          "output_type": "stream",
          "text": [
            "Evaluate: 100%|██████████| 91/91 [00:01<00:00, 77.36it/s]\n"
          ],
          "name": "stderr"
        },
        {
          "output_type": "stream",
          "text": [
            "valid_evaluation: loss = 1.0142086821588976, acc = 0.7287615470286442\n",
            "save model at  checkpoints/crnn_050669_acc0.7287615470286442.pt\n",
            "EarlyStopping counter: 1 out of 10\n",
            "train_loss:  0.9896551094850919\n",
            "epoch: 24\n",
            "train_batch_loss[ 50700 ]:  0.8872723579406738\n",
            "train_batch_loss[ 50800 ]:  1.2446011304855347\n",
            "train_batch_loss[ 50900 ]:  0.7814047932624817\n",
            "train_batch_loss[ 51000 ]:  1.0190869569778442\n",
            "train_batch_loss[ 51100 ]:  1.2989140748977661\n",
            "train_batch_loss[ 51200 ]:  1.2488901615142822\n",
            "train_batch_loss[ 51300 ]:  0.8240681290626526\n",
            "train_batch_loss[ 51400 ]:  1.1863409280776978\n",
            "train_batch_loss[ 51500 ]:  0.7451427578926086\n",
            "train_batch_loss[ 51600 ]:  1.0658921003341675\n",
            "train_batch_loss[ 51700 ]:  1.0379689931869507\n",
            "train_batch_loss[ 51800 ]:  1.1421535015106201\n",
            "train_batch_loss[ 51900 ]:  0.6844757199287415\n",
            "train_batch_loss[ 52000 ]:  1.2120351791381836\n",
            "train_batch_loss[ 52100 ]:  0.9302613735198975\n",
            "train_batch_loss[ 52200 ]:  0.6763675808906555\n",
            "train_batch_loss[ 52300 ]:  0.762539267539978\n",
            "train_batch_loss[ 52400 ]:  0.8970789909362793\n",
            "train_batch_loss[ 52500 ]:  1.0270591974258423\n",
            "train_batch_loss[ 52600 ]:  0.7564572095870972\n",
            "train_batch_loss[ 52700 ]:  0.9442840814590454\n",
            "train_batch_loss[ 52800 ]:  1.2270936965942383\n"
          ],
          "name": "stdout"
        },
        {
          "output_type": "stream",
          "text": [
            "Evaluate: 100%|██████████| 91/91 [00:01<00:00, 76.34it/s]\n"
          ],
          "name": "stderr"
        },
        {
          "output_type": "stream",
          "text": [
            "valid_evaluation: loss = 1.0038593259351007, acc = 0.7146525244900651\n",
            "save model at  checkpoints/crnn_052872_acc0.7146525244900651.pt\n",
            "Validation loss decreased (1.013725 --> 1.003859).  Saving model ...\n",
            "train_loss:  0.970731425640582\n",
            "epoch: 25\n",
            "train_batch_loss[ 52900 ]:  0.8980520963668823\n",
            "train_batch_loss[ 53000 ]:  1.2551302909851074\n",
            "train_batch_loss[ 53100 ]:  0.96932452917099\n",
            "train_batch_loss[ 53200 ]:  1.1297861337661743\n",
            "train_batch_loss[ 53300 ]:  0.7930406332015991\n",
            "train_batch_loss[ 53400 ]:  1.226205587387085\n",
            "train_batch_loss[ 53500 ]:  0.8765616416931152\n",
            "train_batch_loss[ 53600 ]:  0.9066910147666931\n",
            "train_batch_loss[ 53700 ]:  1.409817099571228\n",
            "train_batch_loss[ 53800 ]:  1.0463005304336548\n",
            "train_batch_loss[ 53900 ]:  1.0172911882400513\n",
            "train_batch_loss[ 54000 ]:  0.6475939750671387\n",
            "train_batch_loss[ 54100 ]:  0.709973156452179\n",
            "train_batch_loss[ 54200 ]:  1.241917610168457\n",
            "train_batch_loss[ 54300 ]:  0.779385507106781\n",
            "train_batch_loss[ 54400 ]:  0.9949200749397278\n",
            "train_batch_loss[ 54500 ]:  0.735139012336731\n",
            "train_batch_loss[ 54600 ]:  1.034989833831787\n",
            "train_batch_loss[ 54700 ]:  0.7761198282241821\n",
            "train_batch_loss[ 54800 ]:  0.8256403803825378\n",
            "train_batch_loss[ 54900 ]:  0.9944180250167847\n",
            "train_batch_loss[ 55000 ]:  0.8373295068740845\n"
          ],
          "name": "stdout"
        },
        {
          "output_type": "stream",
          "text": [
            "Evaluate: 100%|██████████| 91/91 [00:01<00:00, 75.86it/s]\n"
          ],
          "name": "stderr"
        },
        {
          "output_type": "stream",
          "text": [
            "valid_evaluation: loss = 1.0296725914396088, acc = 0.7265464543930195\n",
            "save model at  checkpoints/crnn_055075_acc0.7265464543930195.pt\n",
            "EarlyStopping counter: 1 out of 10\n",
            "train_loss:  0.9648823944477218\n",
            "epoch: 26\n",
            "train_batch_loss[ 55100 ]:  0.9449735283851624\n",
            "train_batch_loss[ 55200 ]:  0.728215217590332\n",
            "train_batch_loss[ 55300 ]:  0.6338182091712952\n",
            "train_batch_loss[ 55400 ]:  1.0255439281463623\n",
            "train_batch_loss[ 55500 ]:  1.0843195915222168\n",
            "train_batch_loss[ 55600 ]:  0.7515157461166382\n",
            "train_batch_loss[ 55700 ]:  0.983670175075531\n",
            "train_batch_loss[ 55800 ]:  1.2248891592025757\n",
            "train_batch_loss[ 55900 ]:  0.7862983345985413\n",
            "train_batch_loss[ 56000 ]:  0.8499234318733215\n",
            "train_batch_loss[ 56100 ]:  1.0010324716567993\n",
            "train_batch_loss[ 56200 ]:  0.6307581067085266\n",
            "train_batch_loss[ 56300 ]:  1.2640087604522705\n",
            "train_batch_loss[ 56400 ]:  1.54383385181427\n",
            "train_batch_loss[ 56500 ]:  1.2492270469665527\n",
            "train_batch_loss[ 56600 ]:  1.024507761001587\n",
            "train_batch_loss[ 56700 ]:  0.9410988688468933\n",
            "train_batch_loss[ 56800 ]:  0.9582430124282837\n",
            "train_batch_loss[ 56900 ]:  0.9110408425331116\n",
            "train_batch_loss[ 57000 ]:  1.2605457305908203\n",
            "train_batch_loss[ 57100 ]:  1.0252727270126343\n",
            "train_batch_loss[ 57200 ]:  1.2401076555252075\n"
          ],
          "name": "stdout"
        },
        {
          "output_type": "stream",
          "text": [
            "Evaluate: 100%|██████████| 91/91 [00:01<00:00, 70.95it/s]\n"
          ],
          "name": "stderr"
        },
        {
          "output_type": "stream",
          "text": [
            "valid_evaluation: loss = 1.0237578313104037, acc = 0.7304604583509412\n",
            "save model at  checkpoints/crnn_057278_acc0.7304604583509412.pt\n",
            "EarlyStopping counter: 2 out of 10\n",
            "train_loss:  0.9448699033393985\n",
            "epoch: 27\n",
            "train_batch_loss[ 57300 ]:  0.9281283020973206\n",
            "train_batch_loss[ 57400 ]:  0.874112606048584\n",
            "train_batch_loss[ 57500 ]:  0.8227054476737976\n",
            "train_batch_loss[ 57600 ]:  0.689854085445404\n",
            "train_batch_loss[ 57700 ]:  0.8653826117515564\n",
            "train_batch_loss[ 57800 ]:  0.8460350632667542\n",
            "train_batch_loss[ 57900 ]:  0.5833682417869568\n",
            "train_batch_loss[ 58000 ]:  0.8961936235427856\n",
            "train_batch_loss[ 58100 ]:  1.4043585062026978\n",
            "train_batch_loss[ 58200 ]:  0.9775488376617432\n",
            "train_batch_loss[ 58300 ]:  0.8212885856628418\n",
            "train_batch_loss[ 58400 ]:  1.2299318313598633\n",
            "train_batch_loss[ 58500 ]:  0.9238876104354858\n",
            "train_batch_loss[ 58600 ]:  0.8845024704933167\n",
            "train_batch_loss[ 58700 ]:  0.9471952319145203\n",
            "train_batch_loss[ 58800 ]:  1.0905855894088745\n",
            "train_batch_loss[ 58900 ]:  1.1948764324188232\n",
            "train_batch_loss[ 59000 ]:  0.6406137347221375\n",
            "train_batch_loss[ 59100 ]:  0.8135002851486206\n",
            "train_batch_loss[ 59200 ]:  1.144444465637207\n",
            "train_batch_loss[ 59300 ]:  0.8265709280967712\n",
            "train_batch_loss[ 59400 ]:  0.7468323111534119\n"
          ],
          "name": "stdout"
        },
        {
          "output_type": "stream",
          "text": [
            "Evaluate: 100%|██████████| 91/91 [00:01<00:00, 77.43it/s]\n"
          ],
          "name": "stderr"
        },
        {
          "output_type": "stream",
          "text": [
            "valid_evaluation: loss = 1.113847673350367, acc = 0.7165905064206284\n",
            "save model at  checkpoints/crnn_059481_acc0.7165905064206284.pt\n",
            "EarlyStopping counter: 3 out of 10\n",
            "train_loss:  0.9302354375775087\n",
            "epoch: 28\n",
            "train_batch_loss[ 59500 ]:  1.128903865814209\n",
            "train_batch_loss[ 59600 ]:  1.1091759204864502\n",
            "train_batch_loss[ 59700 ]:  1.0201445817947388\n",
            "train_batch_loss[ 59800 ]:  0.987718403339386\n",
            "train_batch_loss[ 59900 ]:  0.8823652863502502\n",
            "train_batch_loss[ 60000 ]:  0.978330135345459\n",
            "train_batch_loss[ 60100 ]:  0.8305937647819519\n",
            "train_batch_loss[ 60200 ]:  1.125623106956482\n",
            "train_batch_loss[ 60300 ]:  1.4097176790237427\n",
            "train_batch_loss[ 60400 ]:  1.3271095752716064\n",
            "train_batch_loss[ 60500 ]:  0.5247125625610352\n",
            "train_batch_loss[ 60600 ]:  0.9144837856292725\n",
            "train_batch_loss[ 60700 ]:  0.8097190856933594\n",
            "train_batch_loss[ 60800 ]:  0.6029999852180481\n",
            "train_batch_loss[ 60900 ]:  0.6795311570167542\n",
            "train_batch_loss[ 61000 ]:  0.9155535697937012\n",
            "train_batch_loss[ 61100 ]:  0.8208909034729004\n",
            "train_batch_loss[ 61200 ]:  1.0476393699645996\n",
            "train_batch_loss[ 61300 ]:  0.8919076919555664\n",
            "train_batch_loss[ 61400 ]:  0.7871296405792236\n",
            "train_batch_loss[ 61500 ]:  0.8638633489608765\n",
            "train_batch_loss[ 61600 ]:  0.8578246831893921\n"
          ],
          "name": "stdout"
        },
        {
          "output_type": "stream",
          "text": [
            "Evaluate: 100%|██████████| 91/91 [00:01<00:00, 76.40it/s]\n"
          ],
          "name": "stderr"
        },
        {
          "output_type": "stream",
          "text": [
            "valid_evaluation: loss = 1.119357831231479, acc = 0.7101971391992447\n",
            "save model at  checkpoints/crnn_061684_acc0.7101971391992447.pt\n",
            "EarlyStopping counter: 4 out of 10\n",
            "train_loss:  0.9165353085785973\n",
            "epoch: 29\n",
            "train_batch_loss[ 61700 ]:  0.9009625315666199\n",
            "train_batch_loss[ 61800 ]:  0.5809702277183533\n",
            "train_batch_loss[ 61900 ]:  0.8450016975402832\n",
            "train_batch_loss[ 62000 ]:  0.5340685248374939\n",
            "train_batch_loss[ 62100 ]:  0.9728662371635437\n",
            "train_batch_loss[ 62200 ]:  1.274011254310608\n",
            "train_batch_loss[ 62300 ]:  0.8692706823348999\n",
            "train_batch_loss[ 62400 ]:  0.8672190308570862\n",
            "train_batch_loss[ 62500 ]:  0.6959952116012573\n",
            "train_batch_loss[ 62600 ]:  0.8686823844909668\n",
            "train_batch_loss[ 62700 ]:  0.5264343023300171\n",
            "train_batch_loss[ 62800 ]:  0.927022397518158\n",
            "train_batch_loss[ 62900 ]:  0.9596244692802429\n",
            "train_batch_loss[ 63000 ]:  1.0317431688308716\n",
            "train_batch_loss[ 63100 ]:  0.7770801782608032\n",
            "train_batch_loss[ 63200 ]:  0.8961917161941528\n",
            "train_batch_loss[ 63300 ]:  0.6904851198196411\n",
            "train_batch_loss[ 63400 ]:  0.9306036233901978\n",
            "train_batch_loss[ 63500 ]:  0.8806214928627014\n",
            "train_batch_loss[ 63600 ]:  0.8489992618560791\n",
            "train_batch_loss[ 63700 ]:  1.2469781637191772\n",
            "train_batch_loss[ 63800 ]:  1.071459174156189\n"
          ],
          "name": "stdout"
        },
        {
          "output_type": "stream",
          "text": [
            "Evaluate: 100%|██████████| 91/91 [00:01<00:00, 77.65it/s]\n"
          ],
          "name": "stderr"
        },
        {
          "output_type": "stream",
          "text": [
            "valid_evaluation: loss = 1.0871027091453815, acc = 0.7355071784032653\n",
            "save model at  checkpoints/crnn_063887_acc0.7355071784032653.pt\n",
            "EarlyStopping counter: 5 out of 10\n",
            "train_loss:  0.9138207795451816\n",
            "epoch: 30\n",
            "train_batch_loss[ 63900 ]:  1.0735459327697754\n",
            "train_batch_loss[ 64000 ]:  0.646914005279541\n",
            "train_batch_loss[ 64100 ]:  0.8754571080207825\n",
            "train_batch_loss[ 64200 ]:  0.866310715675354\n",
            "train_batch_loss[ 64300 ]:  0.7264722585678101\n",
            "train_batch_loss[ 64400 ]:  1.242769479751587\n",
            "train_batch_loss[ 64500 ]:  0.9219022989273071\n",
            "train_batch_loss[ 64600 ]:  0.8847165107727051\n",
            "train_batch_loss[ 64700 ]:  1.0801550149917603\n",
            "train_batch_loss[ 64800 ]:  0.7490063905715942\n",
            "train_batch_loss[ 64900 ]:  0.8663240671157837\n",
            "train_batch_loss[ 65000 ]:  1.270749568939209\n",
            "train_batch_loss[ 65100 ]:  0.9073694348335266\n",
            "train_batch_loss[ 65200 ]:  0.9118067622184753\n",
            "train_batch_loss[ 65300 ]:  1.0572596788406372\n",
            "train_batch_loss[ 65400 ]:  0.9390567541122437\n",
            "train_batch_loss[ 65500 ]:  0.8485539555549622\n",
            "train_batch_loss[ 65600 ]:  0.46865278482437134\n",
            "train_batch_loss[ 65700 ]:  0.8594327569007874\n",
            "train_batch_loss[ 65800 ]:  0.8758623003959656\n",
            "train_batch_loss[ 65900 ]:  0.8073946237564087\n",
            "train_batch_loss[ 66000 ]:  0.9705416560173035\n"
          ],
          "name": "stdout"
        },
        {
          "output_type": "stream",
          "text": [
            "Evaluate: 100%|██████████| 91/91 [00:01<00:00, 77.01it/s]\n"
          ],
          "name": "stderr"
        },
        {
          "output_type": "stream",
          "text": [
            "valid_evaluation: loss = 1.1092868127494022, acc = 0.7255340797538022\n",
            "save model at  checkpoints/crnn_066090_acc0.7255340797538022.pt\n",
            "EarlyStopping counter: 6 out of 10\n",
            "train_loss:  0.8961302435176498\n",
            "epoch: 31\n",
            "train_batch_loss[ 66100 ]:  0.9829254746437073\n",
            "train_batch_loss[ 66200 ]:  0.7971463203430176\n",
            "train_batch_loss[ 66300 ]:  1.0953099727630615\n",
            "train_batch_loss[ 66400 ]:  0.8766955733299255\n",
            "train_batch_loss[ 66500 ]:  1.0125141143798828\n",
            "train_batch_loss[ 66600 ]:  0.7481945753097534\n",
            "train_batch_loss[ 66700 ]:  0.9274190068244934\n",
            "train_batch_loss[ 66800 ]:  0.653256893157959\n",
            "train_batch_loss[ 66900 ]:  0.7080602049827576\n",
            "train_batch_loss[ 67000 ]:  0.7337168455123901\n",
            "train_batch_loss[ 67100 ]:  0.6870985627174377\n",
            "train_batch_loss[ 67200 ]:  0.7012755274772644\n",
            "train_batch_loss[ 67300 ]:  1.4652564525604248\n",
            "train_batch_loss[ 67400 ]:  0.7337729334831238\n",
            "train_batch_loss[ 67500 ]:  0.9132059812545776\n",
            "train_batch_loss[ 67600 ]:  1.0859817266464233\n",
            "train_batch_loss[ 67700 ]:  0.8884827494621277\n",
            "train_batch_loss[ 67800 ]:  0.5271918177604675\n",
            "train_batch_loss[ 67900 ]:  1.0238966941833496\n",
            "train_batch_loss[ 68000 ]:  0.765673041343689\n",
            "train_batch_loss[ 68100 ]:  0.8750765919685364\n",
            "train_batch_loss[ 68200 ]:  0.7621625065803528\n"
          ],
          "name": "stdout"
        },
        {
          "output_type": "stream",
          "text": [
            "Evaluate: 100%|██████████| 91/91 [00:01<00:00, 76.55it/s]\n"
          ],
          "name": "stderr"
        },
        {
          "output_type": "stream",
          "text": [
            "valid_evaluation: loss = 1.2092119976569866, acc = 0.7011274072762446\n",
            "save model at  checkpoints/crnn_068293_acc0.7011274072762446.pt\n",
            "EarlyStopping counter: 7 out of 10\n",
            "train_loss:  0.8848094691448014\n",
            "epoch: 32\n",
            "train_batch_loss[ 68300 ]:  0.9574949145317078\n",
            "train_batch_loss[ 68400 ]:  1.2110726833343506\n",
            "train_batch_loss[ 68500 ]:  0.5047630667686462\n",
            "train_batch_loss[ 68600 ]:  0.8569105863571167\n",
            "train_batch_loss[ 68700 ]:  0.8111833930015564\n",
            "train_batch_loss[ 68800 ]:  0.9030985236167908\n",
            "train_batch_loss[ 68900 ]:  0.8227550387382507\n",
            "train_batch_loss[ 69000 ]:  0.9127857685089111\n",
            "train_batch_loss[ 69100 ]:  0.6949730515480042\n",
            "train_batch_loss[ 69200 ]:  1.1051301956176758\n",
            "train_batch_loss[ 69300 ]:  0.6226771473884583\n",
            "train_batch_loss[ 69400 ]:  1.0708214044570923\n",
            "train_batch_loss[ 69500 ]:  0.6677008867263794\n",
            "train_batch_loss[ 69600 ]:  0.7681662440299988\n",
            "train_batch_loss[ 69700 ]:  0.7067580223083496\n",
            "train_batch_loss[ 69800 ]:  0.9630908966064453\n",
            "train_batch_loss[ 69900 ]:  1.0639475584030151\n",
            "train_batch_loss[ 70000 ]:  0.752723217010498\n",
            "train_batch_loss[ 70100 ]:  0.6111712455749512\n",
            "train_batch_loss[ 70200 ]:  1.1091710329055786\n",
            "train_batch_loss[ 70300 ]:  1.3873155117034912\n",
            "train_batch_loss[ 70400 ]:  0.9443545341491699\n"
          ],
          "name": "stdout"
        },
        {
          "output_type": "stream",
          "text": [
            "Evaluate: 100%|██████████| 91/91 [00:01<00:00, 77.48it/s]\n"
          ],
          "name": "stderr"
        },
        {
          "output_type": "stream",
          "text": [
            "valid_evaluation: loss = 1.1571170320182012, acc = 0.7195689903156834\n",
            "save model at  checkpoints/crnn_070496_acc0.7195689903156834.pt\n",
            "EarlyStopping counter: 8 out of 10\n",
            "train_loss:  0.8734271301349646\n",
            "epoch: 33\n",
            "train_batch_loss[ 70500 ]:  0.741737425327301\n",
            "train_batch_loss[ 70600 ]:  1.0196685791015625\n",
            "train_batch_loss[ 70700 ]:  1.0401359796524048\n",
            "train_batch_loss[ 70800 ]:  0.8683696389198303\n",
            "train_batch_loss[ 70900 ]:  0.6765381693840027\n",
            "train_batch_loss[ 71000 ]:  0.5463953018188477\n",
            "train_batch_loss[ 71100 ]:  0.6052308678627014\n",
            "train_batch_loss[ 71200 ]:  0.9363647699356079\n",
            "train_batch_loss[ 71300 ]:  1.025083303451538\n",
            "train_batch_loss[ 71400 ]:  0.9499300718307495\n",
            "train_batch_loss[ 71500 ]:  0.8344477415084839\n",
            "train_batch_loss[ 71600 ]:  0.9547337293624878\n",
            "train_batch_loss[ 71700 ]:  0.8787712454795837\n",
            "train_batch_loss[ 71800 ]:  0.9471426606178284\n",
            "train_batch_loss[ 71900 ]:  0.9540690183639526\n",
            "train_batch_loss[ 72000 ]:  0.9110485315322876\n",
            "train_batch_loss[ 72100 ]:  0.6684902310371399\n",
            "train_batch_loss[ 72200 ]:  0.9584476351737976\n",
            "train_batch_loss[ 72300 ]:  1.1864299774169922\n",
            "train_batch_loss[ 72400 ]:  0.8516842722892761\n",
            "train_batch_loss[ 72500 ]:  1.0099258422851562\n",
            "train_batch_loss[ 72600 ]:  0.7749300599098206\n"
          ],
          "name": "stdout"
        },
        {
          "output_type": "stream",
          "text": [
            "Evaluate: 100%|██████████| 91/91 [00:01<00:00, 77.07it/s]\n"
          ],
          "name": "stderr"
        },
        {
          "output_type": "stream",
          "text": [
            "valid_evaluation: loss = 1.1478053954551959, acc = 0.7250773256491199\n",
            "save model at  checkpoints/crnn_072699_acc0.7250773256491199.pt\n",
            "EarlyStopping counter: 9 out of 10\n",
            "train_loss:  0.8660110519645197\n",
            "epoch: 34\n",
            "train_batch_loss[ 72700 ]:  0.8757697343826294\n",
            "train_batch_loss[ 72800 ]:  0.8450811505317688\n",
            "train_batch_loss[ 72900 ]:  0.8582185506820679\n",
            "train_batch_loss[ 73000 ]:  0.8809247016906738\n",
            "train_batch_loss[ 73100 ]:  0.8693002462387085\n",
            "train_batch_loss[ 73200 ]:  0.8834665417671204\n",
            "train_batch_loss[ 73300 ]:  0.7704973816871643\n",
            "train_batch_loss[ 73400 ]:  0.8789535760879517\n",
            "train_batch_loss[ 73500 ]:  0.4525868594646454\n",
            "train_batch_loss[ 73600 ]:  1.0423866510391235\n",
            "train_batch_loss[ 73700 ]:  0.9426289200782776\n",
            "train_batch_loss[ 73800 ]:  0.9025935530662537\n",
            "train_batch_loss[ 73900 ]:  1.0535931587219238\n",
            "train_batch_loss[ 74000 ]:  0.8598200678825378\n",
            "train_batch_loss[ 74100 ]:  0.937366247177124\n",
            "train_batch_loss[ 74200 ]:  0.7417019009590149\n",
            "train_batch_loss[ 74300 ]:  0.8605319261550903\n",
            "train_batch_loss[ 74400 ]:  0.7719330191612244\n",
            "train_batch_loss[ 74500 ]:  1.024268627166748\n",
            "train_batch_loss[ 74600 ]:  0.7946213483810425\n",
            "train_batch_loss[ 74700 ]:  1.012427568435669\n",
            "train_batch_loss[ 74800 ]:  0.6312744617462158\n"
          ],
          "name": "stdout"
        },
        {
          "output_type": "stream",
          "text": [
            "Evaluate:   9%|▉         | 8/91 [00:00<00:01, 74.47it/s]"
          ],
          "name": "stderr"
        },
        {
          "output_type": "stream",
          "text": [
            "train_batch_loss[ 74900 ]:  0.9721431732177734\n"
          ],
          "name": "stdout"
        },
        {
          "output_type": "stream",
          "text": [
            "Evaluate: 100%|██████████| 91/91 [00:01<00:00, 76.33it/s]\n",
            "Predict:  10%|▉         | 8/82 [00:00<00:00, 77.44it/s]"
          ],
          "name": "stderr"
        },
        {
          "output_type": "stream",
          "text": [
            "valid_evaluation: loss = 1.1602900626741606, acc = 0.7224219749061029\n",
            "save model at  checkpoints/crnn_074902_acc0.7224219749061029.pt\n",
            "EarlyStopping counter: 10 out of 10\n",
            "train_loss:  0.861894748017046\n",
            "Early stopping\n"
          ],
          "name": "stdout"
        },
        {
          "output_type": "stream",
          "text": [
            "Predict: 100%|██████████| 82/82 [00:01<00:00, 75.72it/s]\n"
          ],
          "name": "stderr"
        },
        {
          "output_type": "stream",
          "text": [
            "F1 without majority = 0.7737416038597562\n",
            "F1 with majority = 0.9096190230478157\n"
          ],
          "name": "stdout"
        }
      ]
    },
    {
      "cell_type": "code",
      "metadata": {
        "colab": {
          "base_uri": "https://localhost:8080/"
        },
        "id": "Jt_ggyFwTQA2",
        "outputId": "56b8a59b-d12d-40c7-9e0d-ac172268c2d1"
      },
      "source": [
        "scores"
      ],
      "execution_count": null,
      "outputs": [
        {
          "output_type": "execute_result",
          "data": {
            "text/plain": [
              "[(911, (0.6864927358503211, 0.6864927358503211)),\n",
              " (911, (0.6432720660832116, 0.6432720660832116)),\n",
              " (911, (0.5849573228703663, 0.5849573228703663)),\n",
              " (465, (0.6861815156169995, 0.7018179481337377)),\n",
              " (465, (0.6018782374689056, 0.611485036702428)),\n",
              " (465, (0.59976599397179, 0.5680717108977978)),\n",
              " (312, (0.6966598929163005, 0.6909944166600513)),\n",
              " (312, (0.748980230610253, 0.7726760528772912)),\n",
              " (312, (0.7267028437819109, 0.7417255527410326)),\n",
              " (157, (0.7634269033228243, 0.7873312291423745)),\n",
              " (157, (0.7567586837862256, 0.831062091503268)),\n",
              " (157, (0.7440641122530133, 0.8161437908496731)),\n",
              " (94, (0.786740011192942, 0.8325954592363263)),\n",
              " (94, (0.7836453857726804, 0.8644635206554713)),\n",
              " (94, (0.7763164333502912, 0.8438472406506464)),\n",
              " (32, (0.7639916303592346, 0.8900013514177602)),\n",
              " (32, (0.7674607355233394, 0.8763734090127279)),\n",
              " (32, (0.7737416038597562, 0.9096190230478157))]"
            ]
          },
          "metadata": {
            "tags": []
          },
          "execution_count": 282
        }
      ]
    },
    {
      "cell_type": "code",
      "metadata": {
        "id": "n--YHFG-t_ue"
      },
      "source": [
        "def aggregate_scores(scoreList):\n",
        "\n",
        "  scores2 = map(lambda x: (x[0], x[1][0], x[1][1]), scoreList)\n",
        "\n",
        "  b = pd.DataFrame(np.array(list(scores2))).rename(columns={0:'Slice Length',1:'F1 score - Frame level', 2:'F1 score - Song level'})\n",
        "\n",
        "  a = b.groupby('Slice Length').agg({'F1 score - Frame level':['mean', 'max',np.std], 'F1 score - Song level':['mean', 'max',np.std]})\n",
        "\n",
        "  return a "
      ],
      "execution_count": null,
      "outputs": []
    },
    {
      "cell_type": "code",
      "metadata": {
        "colab": {
          "base_uri": "https://localhost:8080/",
          "height": 294
        },
        "id": "iWlSqV7UuZel",
        "outputId": "869e8d3c-147a-4386-91f3-cbd5c23f92f5"
      },
      "source": [
        "aggregate_scores(scores)"
      ],
      "execution_count": null,
      "outputs": [
        {
          "output_type": "execute_result",
          "data": {
            "text/html": [
              "<div>\n",
              "<style scoped>\n",
              "    .dataframe tbody tr th:only-of-type {\n",
              "        vertical-align: middle;\n",
              "    }\n",
              "\n",
              "    .dataframe tbody tr th {\n",
              "        vertical-align: top;\n",
              "    }\n",
              "\n",
              "    .dataframe thead tr th {\n",
              "        text-align: left;\n",
              "    }\n",
              "\n",
              "    .dataframe thead tr:last-of-type th {\n",
              "        text-align: right;\n",
              "    }\n",
              "</style>\n",
              "<table border=\"1\" class=\"dataframe\">\n",
              "  <thead>\n",
              "    <tr>\n",
              "      <th></th>\n",
              "      <th colspan=\"3\" halign=\"left\">F1 score - Frame level</th>\n",
              "      <th colspan=\"3\" halign=\"left\">F1 score - Song level</th>\n",
              "    </tr>\n",
              "    <tr>\n",
              "      <th></th>\n",
              "      <th>mean</th>\n",
              "      <th>max</th>\n",
              "      <th>std</th>\n",
              "      <th>mean</th>\n",
              "      <th>max</th>\n",
              "      <th>std</th>\n",
              "    </tr>\n",
              "    <tr>\n",
              "      <th>Slice Length</th>\n",
              "      <th></th>\n",
              "      <th></th>\n",
              "      <th></th>\n",
              "      <th></th>\n",
              "      <th></th>\n",
              "      <th></th>\n",
              "    </tr>\n",
              "  </thead>\n",
              "  <tbody>\n",
              "    <tr>\n",
              "      <th>32.0</th>\n",
              "      <td>0.768398</td>\n",
              "      <td>0.773742</td>\n",
              "      <td>0.004942</td>\n",
              "      <td>0.891998</td>\n",
              "      <td>0.909619</td>\n",
              "      <td>0.016712</td>\n",
              "    </tr>\n",
              "    <tr>\n",
              "      <th>94.0</th>\n",
              "      <td>0.782234</td>\n",
              "      <td>0.786740</td>\n",
              "      <td>0.005353</td>\n",
              "      <td>0.846969</td>\n",
              "      <td>0.864464</td>\n",
              "      <td>0.016162</td>\n",
              "    </tr>\n",
              "    <tr>\n",
              "      <th>157.0</th>\n",
              "      <td>0.754750</td>\n",
              "      <td>0.763427</td>\n",
              "      <td>0.009836</td>\n",
              "      <td>0.811512</td>\n",
              "      <td>0.831062</td>\n",
              "      <td>0.022230</td>\n",
              "    </tr>\n",
              "    <tr>\n",
              "      <th>312.0</th>\n",
              "      <td>0.724114</td>\n",
              "      <td>0.748980</td>\n",
              "      <td>0.026256</td>\n",
              "      <td>0.735132</td>\n",
              "      <td>0.772676</td>\n",
              "      <td>0.041238</td>\n",
              "    </tr>\n",
              "    <tr>\n",
              "      <th>465.0</th>\n",
              "      <td>0.629275</td>\n",
              "      <td>0.686182</td>\n",
              "      <td>0.049294</td>\n",
              "      <td>0.627125</td>\n",
              "      <td>0.701818</td>\n",
              "      <td>0.068231</td>\n",
              "    </tr>\n",
              "    <tr>\n",
              "      <th>911.0</th>\n",
              "      <td>0.638241</td>\n",
              "      <td>0.686493</td>\n",
              "      <td>0.050954</td>\n",
              "      <td>0.638241</td>\n",
              "      <td>0.686493</td>\n",
              "      <td>0.050954</td>\n",
              "    </tr>\n",
              "  </tbody>\n",
              "</table>\n",
              "</div>"
            ],
            "text/plain": [
              "             F1 score - Frame level            ... F1 score - Song level          \n",
              "                               mean       max  ...                   max       std\n",
              "Slice Length                                   ...                                \n",
              "32.0                       0.768398  0.773742  ...              0.909619  0.016712\n",
              "94.0                       0.782234  0.786740  ...              0.864464  0.016162\n",
              "157.0                      0.754750  0.763427  ...              0.831062  0.022230\n",
              "312.0                      0.724114  0.748980  ...              0.772676  0.041238\n",
              "465.0                      0.629275  0.686182  ...              0.701818  0.068231\n",
              "911.0                      0.638241  0.686493  ...              0.686493  0.050954\n",
              "\n",
              "[6 rows x 6 columns]"
            ]
          },
          "metadata": {
            "tags": []
          },
          "execution_count": 294
        }
      ]
    },
    {
      "cell_type": "markdown",
      "metadata": {
        "id": "0KguBxbw_kO5"
      },
      "source": [
        "## **TRAIN AT BEST CONFIGURATION**"
      ]
    },
    {
      "cell_type": "code",
      "metadata": {
        "colab": {
          "base_uri": "https://localhost:8080/"
        },
        "id": "QjpTMcY4hFyw",
        "outputId": "36326893-a0bd-42aa-bc9b-10358deb2168"
      },
      "source": [
        "crnn, preds, targets, le, X_v, Y_v, S_v = train_model(32,42,X,Y,S,D,final=True)"
      ],
      "execution_count": null,
      "outputs": [
        {
          "output_type": "stream",
          "text": [
            "Current trial: slice_length = 32; random_state = 42\n",
            "device: cuda\n",
            "epoch: 1\n",
            "train_batch_loss[ 100 ]:  2.282076358795166\n",
            "train_batch_loss[ 200 ]:  2.308199405670166\n",
            "train_batch_loss[ 300 ]:  2.2556240558624268\n",
            "train_batch_loss[ 400 ]:  2.2465498447418213\n",
            "train_batch_loss[ 500 ]:  2.2019121646881104\n",
            "train_batch_loss[ 600 ]:  2.201258659362793\n",
            "train_batch_loss[ 700 ]:  2.2033369541168213\n",
            "train_batch_loss[ 800 ]:  2.2771384716033936\n",
            "train_batch_loss[ 900 ]:  2.3060314655303955\n",
            "train_batch_loss[ 1000 ]:  2.219369411468506\n",
            "train_batch_loss[ 1100 ]:  2.1565935611724854\n",
            "train_batch_loss[ 1200 ]:  2.1634678840637207\n",
            "train_batch_loss[ 1300 ]:  2.182231903076172\n",
            "train_batch_loss[ 1400 ]:  2.1862597465515137\n",
            "train_batch_loss[ 1500 ]:  2.1957807540893555\n",
            "train_batch_loss[ 1600 ]:  2.117250919342041\n",
            "train_batch_loss[ 1700 ]:  2.1856398582458496\n",
            "train_batch_loss[ 1800 ]:  2.0315186977386475\n",
            "train_batch_loss[ 1900 ]:  2.069601058959961\n",
            "train_batch_loss[ 2000 ]:  2.1553354263305664\n",
            "train_batch_loss[ 2100 ]:  2.1251020431518555\n"
          ],
          "name": "stdout"
        },
        {
          "output_type": "stream",
          "text": [
            "Evaluate:  11%|█         | 10/91 [00:00<00:00, 97.35it/s]"
          ],
          "name": "stderr"
        },
        {
          "output_type": "stream",
          "text": [
            "train_batch_loss[ 2200 ]:  1.9788494110107422\n"
          ],
          "name": "stdout"
        },
        {
          "output_type": "stream",
          "text": [
            "Evaluate: 100%|██████████| 91/91 [00:00<00:00, 101.56it/s]\n"
          ],
          "name": "stderr"
        },
        {
          "output_type": "stream",
          "text": [
            "valid_evaluation: loss = 1.9536392632846176, acc = 0.2534439421788975\n",
            "save model at  checkpoints/crnn_002203_acc0.2534439421788975.pt\n",
            "Validation loss decreased (inf --> 1.953639).  Saving model ...\n",
            "train_loss:  2.1879050920918695\n",
            "epoch: 2\n",
            "train_batch_loss[ 2300 ]:  2.1064116954803467\n",
            "train_batch_loss[ 2400 ]:  2.1803479194641113\n",
            "train_batch_loss[ 2500 ]:  1.921379804611206\n",
            "train_batch_loss[ 2600 ]:  1.8073737621307373\n",
            "train_batch_loss[ 2700 ]:  2.0083673000335693\n",
            "train_batch_loss[ 2800 ]:  1.9418573379516602\n",
            "train_batch_loss[ 2900 ]:  1.8179081678390503\n",
            "train_batch_loss[ 3000 ]:  1.9524898529052734\n",
            "train_batch_loss[ 3100 ]:  2.0589983463287354\n",
            "train_batch_loss[ 3200 ]:  1.7966456413269043\n",
            "train_batch_loss[ 3300 ]:  2.0938565731048584\n",
            "train_batch_loss[ 3400 ]:  1.7745648622512817\n",
            "train_batch_loss[ 3500 ]:  2.2072367668151855\n",
            "train_batch_loss[ 3600 ]:  1.9761849641799927\n",
            "train_batch_loss[ 3700 ]:  1.9441437721252441\n",
            "train_batch_loss[ 3800 ]:  1.7719519138336182\n",
            "train_batch_loss[ 3900 ]:  1.7263940572738647\n",
            "train_batch_loss[ 4000 ]:  1.9945545196533203\n",
            "train_batch_loss[ 4100 ]:  1.9014482498168945\n",
            "train_batch_loss[ 4200 ]:  1.9269068241119385\n",
            "train_batch_loss[ 4300 ]:  1.9338432550430298\n"
          ],
          "name": "stdout"
        },
        {
          "output_type": "stream",
          "text": [
            "\rEvaluate:   0%|          | 0/91 [00:00<?, ?it/s]"
          ],
          "name": "stderr"
        },
        {
          "output_type": "stream",
          "text": [
            "train_batch_loss[ 4400 ]:  2.0108683109283447\n"
          ],
          "name": "stdout"
        },
        {
          "output_type": "stream",
          "text": [
            "Evaluate: 100%|██████████| 91/91 [00:00<00:00, 100.70it/s]\n"
          ],
          "name": "stderr"
        },
        {
          "output_type": "stream",
          "text": [
            "valid_evaluation: loss = 1.709052901432432, acc = 0.4045964330277134\n",
            "save model at  checkpoints/crnn_004406_acc0.4045964330277134.pt\n",
            "Validation loss decreased (1.953639 --> 1.709053).  Saving model ...\n",
            "train_loss:  1.943507794561125\n",
            "epoch: 3\n",
            "train_batch_loss[ 4500 ]:  1.916550636291504\n",
            "train_batch_loss[ 4600 ]:  1.6756716966629028\n",
            "train_batch_loss[ 4700 ]:  1.7058404684066772\n",
            "train_batch_loss[ 4800 ]:  1.8516759872436523\n",
            "train_batch_loss[ 4900 ]:  1.6834770441055298\n",
            "train_batch_loss[ 5000 ]:  1.747826099395752\n",
            "train_batch_loss[ 5100 ]:  1.7906899452209473\n",
            "train_batch_loss[ 5200 ]:  1.7460825443267822\n",
            "train_batch_loss[ 5300 ]:  1.918308138847351\n",
            "train_batch_loss[ 5400 ]:  1.82306706905365\n",
            "train_batch_loss[ 5500 ]:  1.789726972579956\n",
            "train_batch_loss[ 5600 ]:  1.850851058959961\n",
            "train_batch_loss[ 5700 ]:  1.6316101551055908\n",
            "train_batch_loss[ 5800 ]:  1.8885080814361572\n",
            "train_batch_loss[ 5900 ]:  1.7243436574935913\n",
            "train_batch_loss[ 6000 ]:  1.7807846069335938\n",
            "train_batch_loss[ 6100 ]:  1.7147748470306396\n",
            "train_batch_loss[ 6200 ]:  1.9791769981384277\n",
            "train_batch_loss[ 6300 ]:  1.6817446947097778\n",
            "train_batch_loss[ 6400 ]:  1.7815152406692505\n",
            "train_batch_loss[ 6500 ]:  1.656523585319519\n"
          ],
          "name": "stdout"
        },
        {
          "output_type": "stream",
          "text": [
            "\rEvaluate:   0%|          | 0/91 [00:00<?, ?it/s]"
          ],
          "name": "stderr"
        },
        {
          "output_type": "stream",
          "text": [
            "train_batch_loss[ 6600 ]:  1.8854014873504639\n"
          ],
          "name": "stdout"
        },
        {
          "output_type": "stream",
          "text": [
            "Evaluate: 100%|██████████| 91/91 [00:00<00:00, 101.22it/s]\n"
          ],
          "name": "stderr"
        },
        {
          "output_type": "stream",
          "text": [
            "valid_evaluation: loss = 1.5600255887261751, acc = 0.4632968741203012\n",
            "save model at  checkpoints/crnn_006609_acc0.4632968741203012.pt\n",
            "Validation loss decreased (1.709053 --> 1.560026).  Saving model ...\n",
            "train_loss:  1.7827754986274322\n",
            "epoch: 4\n",
            "train_batch_loss[ 6700 ]:  1.7717266082763672\n",
            "train_batch_loss[ 6800 ]:  1.5172828435897827\n",
            "train_batch_loss[ 6900 ]:  1.8403937816619873\n",
            "train_batch_loss[ 7000 ]:  1.7833926677703857\n",
            "train_batch_loss[ 7100 ]:  1.652187466621399\n",
            "train_batch_loss[ 7200 ]:  1.8058825731277466\n",
            "train_batch_loss[ 7300 ]:  1.5927258729934692\n",
            "train_batch_loss[ 7400 ]:  1.5065921545028687\n",
            "train_batch_loss[ 7500 ]:  1.5520375967025757\n",
            "train_batch_loss[ 7600 ]:  1.6719872951507568\n",
            "train_batch_loss[ 7700 ]:  1.5808510780334473\n",
            "train_batch_loss[ 7800 ]:  1.6622576713562012\n",
            "train_batch_loss[ 7900 ]:  1.5908950567245483\n",
            "train_batch_loss[ 8000 ]:  1.543026328086853\n",
            "train_batch_loss[ 8100 ]:  1.6342765092849731\n",
            "train_batch_loss[ 8200 ]:  1.6767148971557617\n",
            "train_batch_loss[ 8300 ]:  1.7520582675933838\n",
            "train_batch_loss[ 8400 ]:  1.6035876274108887\n",
            "train_batch_loss[ 8500 ]:  1.5793797969818115\n",
            "train_batch_loss[ 8600 ]:  1.7392524480819702\n",
            "train_batch_loss[ 8700 ]:  1.6582415103912354\n",
            "train_batch_loss[ 8800 ]:  1.5843318700790405\n"
          ],
          "name": "stdout"
        },
        {
          "output_type": "stream",
          "text": [
            "Evaluate: 100%|██████████| 91/91 [00:00<00:00, 104.34it/s]\n"
          ],
          "name": "stderr"
        },
        {
          "output_type": "stream",
          "text": [
            "valid_evaluation: loss = 1.4105281448364257, acc = 0.5298050249809283\n",
            "save model at  checkpoints/crnn_008812_acc0.5298050249809283.pt\n",
            "Validation loss decreased (1.560026 --> 1.410528).  Saving model ...\n",
            "train_loss:  1.6600180719970252\n",
            "epoch: 5\n",
            "train_batch_loss[ 8900 ]:  1.4528048038482666\n",
            "train_batch_loss[ 9000 ]:  1.5950369834899902\n",
            "train_batch_loss[ 9100 ]:  1.506056785583496\n",
            "train_batch_loss[ 9200 ]:  1.4066933393478394\n",
            "train_batch_loss[ 9300 ]:  1.639538288116455\n",
            "train_batch_loss[ 9400 ]:  1.5974111557006836\n",
            "train_batch_loss[ 9500 ]:  1.2151952981948853\n",
            "train_batch_loss[ 9600 ]:  1.7962225675582886\n",
            "train_batch_loss[ 9700 ]:  1.6702072620391846\n",
            "train_batch_loss[ 9800 ]:  1.4129327535629272\n",
            "train_batch_loss[ 9900 ]:  1.783111572265625\n",
            "train_batch_loss[ 10000 ]:  1.5349030494689941\n",
            "train_batch_loss[ 10100 ]:  1.5723389387130737\n",
            "train_batch_loss[ 10200 ]:  1.4854426383972168\n",
            "train_batch_loss[ 10300 ]:  1.4353762865066528\n",
            "train_batch_loss[ 10400 ]:  1.4495302438735962\n",
            "train_batch_loss[ 10500 ]:  1.3838963508605957\n",
            "train_batch_loss[ 10600 ]:  1.6410130262374878\n",
            "train_batch_loss[ 10700 ]:  1.705258846282959\n",
            "train_batch_loss[ 10800 ]:  1.8852510452270508\n",
            "train_batch_loss[ 10900 ]:  1.5721766948699951\n",
            "train_batch_loss[ 11000 ]:  1.7162398099899292\n"
          ],
          "name": "stdout"
        },
        {
          "output_type": "stream",
          "text": [
            "Evaluate: 100%|██████████| 91/91 [00:00<00:00, 102.49it/s]\n"
          ],
          "name": "stderr"
        },
        {
          "output_type": "stream",
          "text": [
            "valid_evaluation: loss = 1.2396632411562163, acc = 0.6032808044774122\n",
            "save model at  checkpoints/crnn_011015_acc0.6032808044774122.pt\n",
            "Validation loss decreased (1.410528 --> 1.239663).  Saving model ...\n",
            "train_loss:  1.5666463776278938\n",
            "epoch: 6\n",
            "train_batch_loss[ 11100 ]:  1.3469412326812744\n",
            "train_batch_loss[ 11200 ]:  1.3006850481033325\n",
            "train_batch_loss[ 11300 ]:  1.6337097883224487\n",
            "train_batch_loss[ 11400 ]:  1.5493547916412354\n",
            "train_batch_loss[ 11500 ]:  1.4145195484161377\n",
            "train_batch_loss[ 11600 ]:  1.8800040483474731\n",
            "train_batch_loss[ 11700 ]:  1.7557802200317383\n",
            "train_batch_loss[ 11800 ]:  1.4486958980560303\n",
            "train_batch_loss[ 11900 ]:  1.3908766508102417\n",
            "train_batch_loss[ 12000 ]:  1.5008773803710938\n",
            "train_batch_loss[ 12100 ]:  1.6203501224517822\n",
            "train_batch_loss[ 12200 ]:  1.4272817373275757\n",
            "train_batch_loss[ 12300 ]:  1.7159771919250488\n",
            "train_batch_loss[ 12400 ]:  1.3884376287460327\n",
            "train_batch_loss[ 12500 ]:  1.571244239807129\n",
            "train_batch_loss[ 12600 ]:  1.5539441108703613\n",
            "train_batch_loss[ 12700 ]:  1.4059258699417114\n",
            "train_batch_loss[ 12800 ]:  1.4658392667770386\n",
            "train_batch_loss[ 12900 ]:  1.5434260368347168\n",
            "train_batch_loss[ 13000 ]:  1.3145679235458374\n",
            "train_batch_loss[ 13100 ]:  1.4016788005828857\n",
            "train_batch_loss[ 13200 ]:  1.4755964279174805\n"
          ],
          "name": "stdout"
        },
        {
          "output_type": "stream",
          "text": [
            "Evaluate: 100%|██████████| 91/91 [00:00<00:00, 98.37it/s]\n"
          ],
          "name": "stderr"
        },
        {
          "output_type": "stream",
          "text": [
            "valid_evaluation: loss = 1.1654670258226065, acc = 0.6325291221377766\n",
            "save model at  checkpoints/crnn_013218_acc0.6325291221377766.pt\n",
            "Validation loss decreased (1.239663 --> 1.165467).  Saving model ...\n",
            "train_loss:  1.4976094152261912\n",
            "epoch: 7\n",
            "train_batch_loss[ 13300 ]:  1.8337109088897705\n",
            "train_batch_loss[ 13400 ]:  1.6529666185379028\n",
            "train_batch_loss[ 13500 ]:  1.6468579769134521\n",
            "train_batch_loss[ 13600 ]:  1.6810226440429688\n",
            "train_batch_loss[ 13700 ]:  1.1842234134674072\n",
            "train_batch_loss[ 13800 ]:  1.4881268739700317\n",
            "train_batch_loss[ 13900 ]:  1.4575835466384888\n",
            "train_batch_loss[ 14000 ]:  1.394275188446045\n",
            "train_batch_loss[ 14100 ]:  1.432061791419983\n",
            "train_batch_loss[ 14200 ]:  1.2793833017349243\n",
            "train_batch_loss[ 14300 ]:  1.0511596202850342\n",
            "train_batch_loss[ 14400 ]:  1.4553005695343018\n",
            "train_batch_loss[ 14500 ]:  1.641573429107666\n",
            "train_batch_loss[ 14600 ]:  1.8365137577056885\n",
            "train_batch_loss[ 14700 ]:  1.486018180847168\n",
            "train_batch_loss[ 14800 ]:  1.1911752223968506\n",
            "train_batch_loss[ 14900 ]:  1.5098984241485596\n",
            "train_batch_loss[ 15000 ]:  1.363235592842102\n",
            "train_batch_loss[ 15100 ]:  1.7951295375823975\n",
            "train_batch_loss[ 15200 ]:  1.204817533493042\n",
            "train_batch_loss[ 15300 ]:  1.1957703828811646\n",
            "train_batch_loss[ 15400 ]:  1.331783652305603\n"
          ],
          "name": "stdout"
        },
        {
          "output_type": "stream",
          "text": [
            "Evaluate: 100%|██████████| 91/91 [00:00<00:00, 101.69it/s]\n"
          ],
          "name": "stderr"
        },
        {
          "output_type": "stream",
          "text": [
            "valid_evaluation: loss = 1.2126295793467554, acc = 0.6011823875644965\n",
            "save model at  checkpoints/crnn_015421_acc0.6011823875644965.pt\n",
            "EarlyStopping counter: 1 out of 10\n",
            "train_loss:  1.4337993091736445\n",
            "epoch: 8\n",
            "train_batch_loss[ 15500 ]:  1.2838398218154907\n",
            "train_batch_loss[ 15600 ]:  1.434031367301941\n",
            "train_batch_loss[ 15700 ]:  1.6197165250778198\n",
            "train_batch_loss[ 15800 ]:  1.3624927997589111\n",
            "train_batch_loss[ 15900 ]:  1.3649791479110718\n",
            "train_batch_loss[ 16000 ]:  1.068612813949585\n",
            "train_batch_loss[ 16100 ]:  1.314631700515747\n",
            "train_batch_loss[ 16200 ]:  1.4007591009140015\n",
            "train_batch_loss[ 16300 ]:  1.5436501502990723\n",
            "train_batch_loss[ 16400 ]:  1.3220980167388916\n",
            "train_batch_loss[ 16500 ]:  1.5596988201141357\n",
            "train_batch_loss[ 16600 ]:  1.4235448837280273\n",
            "train_batch_loss[ 16700 ]:  1.6441913843154907\n",
            "train_batch_loss[ 16800 ]:  1.1829731464385986\n",
            "train_batch_loss[ 16900 ]:  1.3751555681228638\n",
            "train_batch_loss[ 17000 ]:  1.5053958892822266\n",
            "train_batch_loss[ 17100 ]:  1.4587817192077637\n",
            "train_batch_loss[ 17200 ]:  1.5189120769500732\n",
            "train_batch_loss[ 17300 ]:  1.7422606945037842\n",
            "train_batch_loss[ 17400 ]:  1.540405035018921\n",
            "train_batch_loss[ 17500 ]:  1.597487449645996\n",
            "train_batch_loss[ 17600 ]:  1.3693726062774658\n"
          ],
          "name": "stdout"
        },
        {
          "output_type": "stream",
          "text": [
            "Evaluate: 100%|██████████| 91/91 [00:00<00:00, 101.43it/s]\n"
          ],
          "name": "stderr"
        },
        {
          "output_type": "stream",
          "text": [
            "valid_evaluation: loss = 1.1269826053750926, acc = 0.6306164636709726\n",
            "save model at  checkpoints/crnn_017624_acc0.6306164636709726.pt\n",
            "Validation loss decreased (1.165467 --> 1.126983).  Saving model ...\n",
            "train_loss:  1.3814551423014487\n",
            "epoch: 9\n",
            "train_batch_loss[ 17700 ]:  1.6831294298171997\n",
            "train_batch_loss[ 17800 ]:  1.1917012929916382\n",
            "train_batch_loss[ 17900 ]:  1.3772865533828735\n",
            "train_batch_loss[ 18000 ]:  1.2384119033813477\n",
            "train_batch_loss[ 18100 ]:  1.5067455768585205\n",
            "train_batch_loss[ 18200 ]:  1.4765390157699585\n",
            "train_batch_loss[ 18300 ]:  1.455338954925537\n",
            "train_batch_loss[ 18400 ]:  1.4495253562927246\n",
            "train_batch_loss[ 18500 ]:  1.351053237915039\n",
            "train_batch_loss[ 18600 ]:  1.1114389896392822\n",
            "train_batch_loss[ 18700 ]:  1.1220390796661377\n",
            "train_batch_loss[ 18800 ]:  1.3878828287124634\n",
            "train_batch_loss[ 18900 ]:  1.1094539165496826\n",
            "train_batch_loss[ 19000 ]:  1.5389811992645264\n",
            "train_batch_loss[ 19100 ]:  1.2002915143966675\n",
            "train_batch_loss[ 19200 ]:  1.4227198362350464\n",
            "train_batch_loss[ 19300 ]:  1.3508955240249634\n",
            "train_batch_loss[ 19400 ]:  1.3071235418319702\n",
            "train_batch_loss[ 19500 ]:  1.4947363138198853\n",
            "train_batch_loss[ 19600 ]:  1.50533127784729\n",
            "train_batch_loss[ 19700 ]:  1.4622782468795776\n",
            "train_batch_loss[ 19800 ]:  1.2983272075653076\n"
          ],
          "name": "stdout"
        },
        {
          "output_type": "stream",
          "text": [
            "Evaluate: 100%|██████████| 91/91 [00:00<00:00, 102.66it/s]\n"
          ],
          "name": "stderr"
        },
        {
          "output_type": "stream",
          "text": [
            "valid_evaluation: loss = 1.0386621159520641, acc = 0.6796810848211051\n",
            "save model at  checkpoints/crnn_019827_acc0.6796810848211051.pt\n",
            "Validation loss decreased (1.126983 --> 1.038662).  Saving model ...\n",
            "train_loss:  1.3440947732943007\n",
            "epoch: 10\n",
            "train_batch_loss[ 19900 ]:  1.518619179725647\n",
            "train_batch_loss[ 20000 ]:  1.7280821800231934\n",
            "train_batch_loss[ 20100 ]:  1.1593823432922363\n",
            "train_batch_loss[ 20200 ]:  1.2854481935501099\n",
            "train_batch_loss[ 20300 ]:  1.1266794204711914\n",
            "train_batch_loss[ 20400 ]:  1.0273058414459229\n",
            "train_batch_loss[ 20500 ]:  1.282124400138855\n",
            "train_batch_loss[ 20600 ]:  1.1978118419647217\n",
            "train_batch_loss[ 20700 ]:  1.397017002105713\n",
            "train_batch_loss[ 20800 ]:  1.1836642026901245\n",
            "train_batch_loss[ 20900 ]:  1.1747941970825195\n",
            "train_batch_loss[ 21000 ]:  1.800569772720337\n",
            "train_batch_loss[ 21100 ]:  1.2128714323043823\n",
            "train_batch_loss[ 21200 ]:  1.301756501197815\n",
            "train_batch_loss[ 21300 ]:  1.3520848751068115\n",
            "train_batch_loss[ 21400 ]:  1.430943250656128\n",
            "train_batch_loss[ 21500 ]:  1.1605281829833984\n",
            "train_batch_loss[ 21600 ]:  1.3331657648086548\n",
            "train_batch_loss[ 21700 ]:  1.342433214187622\n",
            "train_batch_loss[ 21800 ]:  1.214967966079712\n",
            "train_batch_loss[ 21900 ]:  1.4053865671157837\n",
            "train_batch_loss[ 22000 ]:  1.4702974557876587\n"
          ],
          "name": "stdout"
        },
        {
          "output_type": "stream",
          "text": [
            "Evaluate: 100%|██████████| 91/91 [00:01<00:00, 85.98it/s]\n"
          ],
          "name": "stderr"
        },
        {
          "output_type": "stream",
          "text": [
            "valid_evaluation: loss = 1.0611546805809284, acc = 0.668241190101706\n",
            "save model at  checkpoints/crnn_022030_acc0.668241190101706.pt\n",
            "EarlyStopping counter: 1 out of 10\n",
            "train_loss:  1.297523923635449\n",
            "epoch: 11\n",
            "train_batch_loss[ 22100 ]:  1.2189440727233887\n",
            "train_batch_loss[ 22200 ]:  1.1539849042892456\n",
            "train_batch_loss[ 22300 ]:  1.6010822057724\n",
            "train_batch_loss[ 22400 ]:  1.1905755996704102\n",
            "train_batch_loss[ 22500 ]:  1.0522276163101196\n",
            "train_batch_loss[ 22600 ]:  1.170792818069458\n",
            "train_batch_loss[ 22700 ]:  1.537265658378601\n",
            "train_batch_loss[ 22800 ]:  1.41759192943573\n",
            "train_batch_loss[ 22900 ]:  1.2298823595046997\n",
            "train_batch_loss[ 23000 ]:  0.8505925536155701\n",
            "train_batch_loss[ 23100 ]:  1.1750034093856812\n",
            "train_batch_loss[ 23200 ]:  1.0151183605194092\n",
            "train_batch_loss[ 23300 ]:  1.3477033376693726\n",
            "train_batch_loss[ 23400 ]:  0.9775170087814331\n",
            "train_batch_loss[ 23500 ]:  1.1720221042633057\n",
            "train_batch_loss[ 23600 ]:  1.496748447418213\n",
            "train_batch_loss[ 23700 ]:  1.316393494606018\n",
            "train_batch_loss[ 23800 ]:  0.9880973100662231\n",
            "train_batch_loss[ 23900 ]:  1.2451343536376953\n",
            "train_batch_loss[ 24000 ]:  1.0669175386428833\n",
            "train_batch_loss[ 24100 ]:  1.3572691679000854\n",
            "train_batch_loss[ 24200 ]:  1.2079486846923828\n"
          ],
          "name": "stdout"
        },
        {
          "output_type": "stream",
          "text": [
            "Evaluate: 100%|██████████| 91/91 [00:00<00:00, 101.45it/s]\n"
          ],
          "name": "stderr"
        },
        {
          "output_type": "stream",
          "text": [
            "valid_evaluation: loss = 1.0144194290555757, acc = 0.6908719191977799\n",
            "save model at  checkpoints/crnn_024233_acc0.6908719191977799.pt\n",
            "Validation loss decreased (1.038662 --> 1.014419).  Saving model ...\n",
            "train_loss:  1.2585119738686383\n",
            "epoch: 12\n",
            "train_batch_loss[ 24300 ]:  1.274120807647705\n",
            "train_batch_loss[ 24400 ]:  0.973850429058075\n",
            "train_batch_loss[ 24500 ]:  1.081515908241272\n",
            "train_batch_loss[ 24600 ]:  1.0173251628875732\n",
            "train_batch_loss[ 24700 ]:  1.0704998970031738\n",
            "train_batch_loss[ 24800 ]:  1.1725705862045288\n",
            "train_batch_loss[ 24900 ]:  1.2777478694915771\n",
            "train_batch_loss[ 25000 ]:  1.0664160251617432\n",
            "train_batch_loss[ 25100 ]:  1.0870331525802612\n",
            "train_batch_loss[ 25200 ]:  1.0387178659439087\n",
            "train_batch_loss[ 25300 ]:  0.9247463941574097\n",
            "train_batch_loss[ 25400 ]:  1.44002103805542\n",
            "train_batch_loss[ 25500 ]:  1.3453351259231567\n",
            "train_batch_loss[ 25600 ]:  1.5651295185089111\n",
            "train_batch_loss[ 25700 ]:  1.0276172161102295\n",
            "train_batch_loss[ 25800 ]:  1.156290054321289\n",
            "train_batch_loss[ 25900 ]:  1.395737648010254\n",
            "train_batch_loss[ 26000 ]:  1.6146641969680786\n",
            "train_batch_loss[ 26100 ]:  1.1398918628692627\n",
            "train_batch_loss[ 26200 ]:  1.2165427207946777\n",
            "train_batch_loss[ 26300 ]:  1.061134934425354\n",
            "train_batch_loss[ 26400 ]:  1.347653865814209\n"
          ],
          "name": "stdout"
        },
        {
          "output_type": "stream",
          "text": [
            "Evaluate: 100%|██████████| 91/91 [00:00<00:00, 101.74it/s]\n"
          ],
          "name": "stderr"
        },
        {
          "output_type": "stream",
          "text": [
            "valid_evaluation: loss = 0.977743113287564, acc = 0.7041824868277795\n",
            "save model at  checkpoints/crnn_026436_acc0.7041824868277795.pt\n",
            "Validation loss decreased (1.014419 --> 0.977743).  Saving model ...\n",
            "train_loss:  1.227367470534081\n",
            "epoch: 13\n",
            "train_batch_loss[ 26500 ]:  0.7978041768074036\n",
            "train_batch_loss[ 26600 ]:  1.0080126523971558\n",
            "train_batch_loss[ 26700 ]:  1.1011375188827515\n",
            "train_batch_loss[ 26800 ]:  1.1324950456619263\n",
            "train_batch_loss[ 26900 ]:  1.3964353799819946\n",
            "train_batch_loss[ 27000 ]:  1.0860111713409424\n",
            "train_batch_loss[ 27100 ]:  1.1981111764907837\n",
            "train_batch_loss[ 27200 ]:  1.333745002746582\n",
            "train_batch_loss[ 27300 ]:  1.2849152088165283\n",
            "train_batch_loss[ 27400 ]:  1.3340137004852295\n",
            "train_batch_loss[ 27500 ]:  1.3127574920654297\n",
            "train_batch_loss[ 27600 ]:  1.3788166046142578\n",
            "train_batch_loss[ 27700 ]:  1.2609765529632568\n",
            "train_batch_loss[ 27800 ]:  1.1910572052001953\n",
            "train_batch_loss[ 27900 ]:  1.7021923065185547\n",
            "train_batch_loss[ 28000 ]:  1.4887646436691284\n",
            "train_batch_loss[ 28100 ]:  1.603350043296814\n",
            "train_batch_loss[ 28200 ]:  1.0446127653121948\n",
            "train_batch_loss[ 28300 ]:  1.235708236694336\n",
            "train_batch_loss[ 28400 ]:  1.0738041400909424\n",
            "train_batch_loss[ 28500 ]:  0.8601416945457458\n",
            "train_batch_loss[ 28600 ]:  1.1812617778778076\n"
          ],
          "name": "stdout"
        },
        {
          "output_type": "stream",
          "text": [
            "Evaluate: 100%|██████████| 91/91 [00:00<00:00, 101.54it/s]\n"
          ],
          "name": "stderr"
        },
        {
          "output_type": "stream",
          "text": [
            "valid_evaluation: loss = 0.9846729064809865, acc = 0.6944117206894486\n",
            "save model at  checkpoints/crnn_028639_acc0.6944117206894486.pt\n",
            "EarlyStopping counter: 1 out of 10\n",
            "train_loss:  1.1983509227808984\n",
            "epoch: 14\n",
            "train_batch_loss[ 28700 ]:  0.9542502164840698\n",
            "train_batch_loss[ 28800 ]:  1.5369340181350708\n",
            "train_batch_loss[ 28900 ]:  1.0473893880844116\n",
            "train_batch_loss[ 29000 ]:  0.8924042582511902\n",
            "train_batch_loss[ 29100 ]:  1.4874763488769531\n",
            "train_batch_loss[ 29200 ]:  1.2047722339630127\n",
            "train_batch_loss[ 29300 ]:  1.03359055519104\n",
            "train_batch_loss[ 29400 ]:  1.1794226169586182\n",
            "train_batch_loss[ 29500 ]:  0.8400270938873291\n",
            "train_batch_loss[ 29600 ]:  1.0565221309661865\n",
            "train_batch_loss[ 29700 ]:  1.441409945487976\n",
            "train_batch_loss[ 29800 ]:  1.7012879848480225\n",
            "train_batch_loss[ 29900 ]:  1.3717652559280396\n",
            "train_batch_loss[ 30000 ]:  1.3422998189926147\n",
            "train_batch_loss[ 30100 ]:  1.0888862609863281\n",
            "train_batch_loss[ 30200 ]:  1.053831696510315\n",
            "train_batch_loss[ 30300 ]:  1.2747316360473633\n",
            "train_batch_loss[ 30400 ]:  0.9642376899719238\n",
            "train_batch_loss[ 30500 ]:  1.3273143768310547\n",
            "train_batch_loss[ 30600 ]:  1.1231764554977417\n",
            "train_batch_loss[ 30700 ]:  1.1251219511032104\n",
            "train_batch_loss[ 30800 ]:  1.1758376359939575\n"
          ],
          "name": "stdout"
        },
        {
          "output_type": "stream",
          "text": [
            "Evaluate: 100%|██████████| 91/91 [00:00<00:00, 102.60it/s]\n"
          ],
          "name": "stderr"
        },
        {
          "output_type": "stream",
          "text": [
            "valid_evaluation: loss = 0.9721878785100476, acc = 0.70658604502699\n",
            "save model at  checkpoints/crnn_030842_acc0.70658604502699.pt\n",
            "Validation loss decreased (0.977743 --> 0.972188).  Saving model ...\n",
            "train_loss:  1.1733406407724496\n",
            "epoch: 15\n",
            "train_batch_loss[ 30900 ]:  0.9900329113006592\n",
            "train_batch_loss[ 31000 ]:  1.119647741317749\n",
            "train_batch_loss[ 31100 ]:  1.0206931829452515\n",
            "train_batch_loss[ 31200 ]:  1.098326563835144\n",
            "train_batch_loss[ 31300 ]:  1.1480348110198975\n",
            "train_batch_loss[ 31400 ]:  1.163469672203064\n",
            "train_batch_loss[ 31500 ]:  0.8981878161430359\n",
            "train_batch_loss[ 31600 ]:  1.1168477535247803\n",
            "train_batch_loss[ 31700 ]:  1.2144286632537842\n",
            "train_batch_loss[ 31800 ]:  1.3784544467926025\n",
            "train_batch_loss[ 31900 ]:  1.1400294303894043\n",
            "train_batch_loss[ 32000 ]:  1.0724822282791138\n",
            "train_batch_loss[ 32100 ]:  1.0332812070846558\n",
            "train_batch_loss[ 32200 ]:  1.0092179775238037\n",
            "train_batch_loss[ 32300 ]:  1.1616383790969849\n",
            "train_batch_loss[ 32400 ]:  1.0731230974197388\n",
            "train_batch_loss[ 32500 ]:  1.0038166046142578\n",
            "train_batch_loss[ 32600 ]:  1.1661406755447388\n",
            "train_batch_loss[ 32700 ]:  1.0633100271224976\n",
            "train_batch_loss[ 32800 ]:  1.1976144313812256\n",
            "train_batch_loss[ 32900 ]:  1.0246845483779907\n",
            "train_batch_loss[ 33000 ]:  1.046837329864502\n"
          ],
          "name": "stdout"
        },
        {
          "output_type": "stream",
          "text": [
            "Evaluate: 100%|██████████| 91/91 [00:00<00:00, 95.91it/s]\n"
          ],
          "name": "stderr"
        },
        {
          "output_type": "stream",
          "text": [
            "valid_evaluation: loss = 0.9856661283558813, acc = 0.7086169112882268\n",
            "save model at  checkpoints/crnn_033045_acc0.7086169112882268.pt\n",
            "EarlyStopping counter: 1 out of 10\n",
            "train_loss:  1.1390295039242306\n",
            "epoch: 16\n",
            "train_batch_loss[ 33100 ]:  1.046702265739441\n",
            "train_batch_loss[ 33200 ]:  0.8766404986381531\n",
            "train_batch_loss[ 33300 ]:  1.259996771812439\n",
            "train_batch_loss[ 33400 ]:  1.2196937799453735\n",
            "train_batch_loss[ 33500 ]:  1.1854761838912964\n",
            "train_batch_loss[ 33600 ]:  1.1576136350631714\n",
            "train_batch_loss[ 33700 ]:  1.0984984636306763\n",
            "train_batch_loss[ 33800 ]:  1.1466569900512695\n",
            "train_batch_loss[ 33900 ]:  1.116104006767273\n",
            "train_batch_loss[ 34000 ]:  1.1900705099105835\n",
            "train_batch_loss[ 34100 ]:  0.8798954486846924\n",
            "train_batch_loss[ 34200 ]:  1.2421824932098389\n",
            "train_batch_loss[ 34300 ]:  0.9424696564674377\n",
            "train_batch_loss[ 34400 ]:  1.2690818309783936\n",
            "train_batch_loss[ 34500 ]:  0.7768105864524841\n",
            "train_batch_loss[ 34600 ]:  1.2801432609558105\n",
            "train_batch_loss[ 34700 ]:  0.9584031105041504\n",
            "train_batch_loss[ 34800 ]:  1.417487621307373\n",
            "train_batch_loss[ 34900 ]:  1.092200756072998\n",
            "train_batch_loss[ 35000 ]:  1.4824162721633911\n",
            "train_batch_loss[ 35100 ]:  1.1421804428100586\n",
            "train_batch_loss[ 35200 ]:  1.209807276725769\n"
          ],
          "name": "stdout"
        },
        {
          "output_type": "stream",
          "text": [
            "Evaluate: 100%|██████████| 91/91 [00:00<00:00, 102.26it/s]\n"
          ],
          "name": "stderr"
        },
        {
          "output_type": "stream",
          "text": [
            "valid_evaluation: loss = 0.9972734247404954, acc = 0.6982958972724713\n",
            "save model at  checkpoints/crnn_035248_acc0.6982958972724713.pt\n",
            "EarlyStopping counter: 2 out of 10\n",
            "train_loss:  1.1181825476029723\n",
            "epoch: 17\n",
            "train_batch_loss[ 35300 ]:  0.8290503025054932\n",
            "train_batch_loss[ 35400 ]:  0.8344873785972595\n",
            "train_batch_loss[ 35500 ]:  1.2577457427978516\n",
            "train_batch_loss[ 35600 ]:  1.3654628992080688\n",
            "train_batch_loss[ 35700 ]:  0.9608515501022339\n",
            "train_batch_loss[ 35800 ]:  1.1117005348205566\n",
            "train_batch_loss[ 35900 ]:  0.8221109509468079\n",
            "train_batch_loss[ 36000 ]:  1.4653778076171875\n",
            "train_batch_loss[ 36100 ]:  1.5320168733596802\n",
            "train_batch_loss[ 36200 ]:  1.0462863445281982\n",
            "train_batch_loss[ 36300 ]:  1.0714662075042725\n",
            "train_batch_loss[ 36400 ]:  1.1814903020858765\n",
            "train_batch_loss[ 36500 ]:  1.1590301990509033\n",
            "train_batch_loss[ 36600 ]:  1.0622847080230713\n",
            "train_batch_loss[ 36700 ]:  1.0693961381912231\n",
            "train_batch_loss[ 36800 ]:  1.3887637853622437\n",
            "train_batch_loss[ 36900 ]:  0.8362249135971069\n",
            "train_batch_loss[ 37000 ]:  1.2885656356811523\n",
            "train_batch_loss[ 37100 ]:  0.9072463512420654\n",
            "train_batch_loss[ 37200 ]:  0.9857006072998047\n",
            "train_batch_loss[ 37300 ]:  0.9250790476799011\n",
            "train_batch_loss[ 37400 ]:  1.016601800918579\n"
          ],
          "name": "stdout"
        },
        {
          "output_type": "stream",
          "text": [
            "Evaluate: 100%|██████████| 91/91 [00:00<00:00, 100.24it/s]\n"
          ],
          "name": "stderr"
        },
        {
          "output_type": "stream",
          "text": [
            "valid_evaluation: loss = 0.9631835483682567, acc = 0.71684705661079\n",
            "save model at  checkpoints/crnn_037451_acc0.71684705661079.pt\n",
            "Validation loss decreased (0.972188 --> 0.963184).  Saving model ...\n",
            "train_loss:  1.091814476533259\n",
            "epoch: 18\n",
            "train_batch_loss[ 37500 ]:  0.9912278652191162\n",
            "train_batch_loss[ 37600 ]:  1.3458340167999268\n",
            "train_batch_loss[ 37700 ]:  0.8170615434646606\n",
            "train_batch_loss[ 37800 ]:  1.260201334953308\n",
            "train_batch_loss[ 37900 ]:  0.7317299246788025\n",
            "train_batch_loss[ 38000 ]:  1.0792465209960938\n",
            "train_batch_loss[ 38100 ]:  0.9829154014587402\n",
            "train_batch_loss[ 38200 ]:  1.1677374839782715\n",
            "train_batch_loss[ 38300 ]:  0.8636764883995056\n",
            "train_batch_loss[ 38400 ]:  1.246258020401001\n",
            "train_batch_loss[ 38500 ]:  1.1138545274734497\n",
            "train_batch_loss[ 38600 ]:  1.0164738893508911\n",
            "train_batch_loss[ 38700 ]:  1.0469493865966797\n",
            "train_batch_loss[ 38800 ]:  0.6347941160202026\n",
            "train_batch_loss[ 38900 ]:  0.998873770236969\n",
            "train_batch_loss[ 39000 ]:  0.9389519095420837\n",
            "train_batch_loss[ 39100 ]:  1.2656028270721436\n",
            "train_batch_loss[ 39200 ]:  1.1390551328659058\n",
            "train_batch_loss[ 39300 ]:  1.205288052558899\n",
            "train_batch_loss[ 39400 ]:  0.9115478992462158\n",
            "train_batch_loss[ 39500 ]:  0.7818108201026917\n",
            "train_batch_loss[ 39600 ]:  1.1610981225967407\n"
          ],
          "name": "stdout"
        },
        {
          "output_type": "stream",
          "text": [
            "Evaluate: 100%|██████████| 91/91 [00:00<00:00, 101.71it/s]\n"
          ],
          "name": "stderr"
        },
        {
          "output_type": "stream",
          "text": [
            "valid_evaluation: loss = 0.9752581214904785, acc = 0.7169246628145134\n",
            "save model at  checkpoints/crnn_039654_acc0.7169246628145134.pt\n",
            "EarlyStopping counter: 1 out of 10\n",
            "train_loss:  1.0711825491368085\n",
            "epoch: 19\n",
            "train_batch_loss[ 39700 ]:  1.001173496246338\n",
            "train_batch_loss[ 39800 ]:  1.0219756364822388\n",
            "train_batch_loss[ 39900 ]:  1.0745474100112915\n",
            "train_batch_loss[ 40000 ]:  0.8924967646598816\n",
            "train_batch_loss[ 40100 ]:  0.8165082335472107\n",
            "train_batch_loss[ 40200 ]:  0.8412958383560181\n",
            "train_batch_loss[ 40300 ]:  1.1053566932678223\n",
            "train_batch_loss[ 40400 ]:  0.9720461368560791\n",
            "train_batch_loss[ 40500 ]:  1.1366260051727295\n",
            "train_batch_loss[ 40600 ]:  0.6025569438934326\n",
            "train_batch_loss[ 40700 ]:  1.4230893850326538\n",
            "train_batch_loss[ 40800 ]:  1.043297290802002\n",
            "train_batch_loss[ 40900 ]:  0.9510353207588196\n",
            "train_batch_loss[ 41000 ]:  0.9411845803260803\n",
            "train_batch_loss[ 41100 ]:  0.9986150860786438\n",
            "train_batch_loss[ 41200 ]:  1.0090997219085693\n",
            "train_batch_loss[ 41300 ]:  0.928270161151886\n",
            "train_batch_loss[ 41400 ]:  0.7290711998939514\n",
            "train_batch_loss[ 41500 ]:  0.936032772064209\n",
            "train_batch_loss[ 41600 ]:  1.4057539701461792\n",
            "train_batch_loss[ 41700 ]:  1.0169750452041626\n",
            "train_batch_loss[ 41800 ]:  1.3082969188690186\n"
          ],
          "name": "stdout"
        },
        {
          "output_type": "stream",
          "text": [
            "Evaluate: 100%|██████████| 91/91 [00:00<00:00, 101.34it/s]\n"
          ],
          "name": "stderr"
        },
        {
          "output_type": "stream",
          "text": [
            "valid_evaluation: loss = 0.9762342762124949, acc = 0.7165116864004618\n",
            "save model at  checkpoints/crnn_041857_acc0.7165116864004618.pt\n",
            "EarlyStopping counter: 2 out of 10\n",
            "train_loss:  1.0530968926993942\n",
            "epoch: 20\n",
            "train_batch_loss[ 41900 ]:  0.8165045380592346\n",
            "train_batch_loss[ 42000 ]:  1.0140578746795654\n",
            "train_batch_loss[ 42100 ]:  0.7221789956092834\n",
            "train_batch_loss[ 42200 ]:  1.0987355709075928\n",
            "train_batch_loss[ 42300 ]:  1.192210078239441\n",
            "train_batch_loss[ 42400 ]:  1.2053591012954712\n",
            "train_batch_loss[ 42500 ]:  1.0444159507751465\n",
            "train_batch_loss[ 42600 ]:  1.3972222805023193\n",
            "train_batch_loss[ 42700 ]:  0.9481448531150818\n",
            "train_batch_loss[ 42800 ]:  0.9197586178779602\n",
            "train_batch_loss[ 42900 ]:  0.8526296019554138\n",
            "train_batch_loss[ 43000 ]:  0.9358160495758057\n",
            "train_batch_loss[ 43100 ]:  1.1408687829971313\n",
            "train_batch_loss[ 43200 ]:  1.1060516834259033\n",
            "train_batch_loss[ 43300 ]:  0.8455874919891357\n",
            "train_batch_loss[ 43400 ]:  1.09463632106781\n",
            "train_batch_loss[ 43500 ]:  0.6508779525756836\n",
            "train_batch_loss[ 43600 ]:  1.0168218612670898\n",
            "train_batch_loss[ 43700 ]:  1.2857789993286133\n",
            "train_batch_loss[ 43800 ]:  1.297876000404358\n",
            "train_batch_loss[ 43900 ]:  1.171215534210205\n",
            "train_batch_loss[ 44000 ]:  1.1284010410308838\n"
          ],
          "name": "stdout"
        },
        {
          "output_type": "stream",
          "text": [
            "Evaluate: 100%|██████████| 91/91 [00:00<00:00, 102.52it/s]\n"
          ],
          "name": "stderr"
        },
        {
          "output_type": "stream",
          "text": [
            "valid_evaluation: loss = 0.9659853231495824, acc = 0.7290906043042086\n",
            "save model at  checkpoints/crnn_044060_acc0.7290906043042086.pt\n",
            "EarlyStopping counter: 3 out of 10\n",
            "train_loss:  1.030577719842557\n",
            "epoch: 21\n",
            "train_batch_loss[ 44100 ]:  1.0539101362228394\n",
            "train_batch_loss[ 44200 ]:  0.9302641153335571\n",
            "train_batch_loss[ 44300 ]:  0.8750055432319641\n",
            "train_batch_loss[ 44400 ]:  1.0885379314422607\n",
            "train_batch_loss[ 44500 ]:  0.7460200786590576\n",
            "train_batch_loss[ 44600 ]:  1.1490823030471802\n",
            "train_batch_loss[ 44700 ]:  1.0087182521820068\n",
            "train_batch_loss[ 44800 ]:  0.7785552144050598\n",
            "train_batch_loss[ 44900 ]:  0.9112797379493713\n",
            "train_batch_loss[ 45000 ]:  0.787940263748169\n",
            "train_batch_loss[ 45100 ]:  0.8674589395523071\n",
            "train_batch_loss[ 45200 ]:  1.0286177396774292\n",
            "train_batch_loss[ 45300 ]:  1.1087117195129395\n",
            "train_batch_loss[ 45400 ]:  0.8047381043434143\n",
            "train_batch_loss[ 45500 ]:  0.65707927942276\n",
            "train_batch_loss[ 45600 ]:  0.7896739840507507\n",
            "train_batch_loss[ 45700 ]:  1.1069653034210205\n",
            "train_batch_loss[ 45800 ]:  0.8136672973632812\n",
            "train_batch_loss[ 45900 ]:  0.7917215824127197\n",
            "train_batch_loss[ 46000 ]:  0.8981204032897949\n",
            "train_batch_loss[ 46100 ]:  1.0512926578521729\n",
            "train_batch_loss[ 46200 ]:  1.0653679370880127\n"
          ],
          "name": "stdout"
        },
        {
          "output_type": "stream",
          "text": [
            "Evaluate: 100%|██████████| 91/91 [00:00<00:00, 101.51it/s]\n"
          ],
          "name": "stderr"
        },
        {
          "output_type": "stream",
          "text": [
            "valid_evaluation: loss = 1.0273387931955271, acc = 0.7165820773632211\n",
            "save model at  checkpoints/crnn_046263_acc0.7165820773632211.pt\n",
            "EarlyStopping counter: 4 out of 10\n",
            "train_loss:  1.01241141411029\n",
            "epoch: 22\n",
            "train_batch_loss[ 46300 ]:  0.9773171544075012\n",
            "train_batch_loss[ 46400 ]:  0.8205991983413696\n",
            "train_batch_loss[ 46500 ]:  0.9052391648292542\n",
            "train_batch_loss[ 46600 ]:  1.0130187273025513\n",
            "train_batch_loss[ 46700 ]:  0.8754703998565674\n",
            "train_batch_loss[ 46800 ]:  1.0203325748443604\n",
            "train_batch_loss[ 46900 ]:  0.8075181841850281\n",
            "train_batch_loss[ 47000 ]:  0.9140157103538513\n",
            "train_batch_loss[ 47100 ]:  0.8229472637176514\n",
            "train_batch_loss[ 47200 ]:  1.497693419456482\n",
            "train_batch_loss[ 47300 ]:  0.9504936933517456\n",
            "train_batch_loss[ 47400 ]:  0.691709041595459\n",
            "train_batch_loss[ 47500 ]:  1.2933716773986816\n",
            "train_batch_loss[ 47600 ]:  0.852885365486145\n",
            "train_batch_loss[ 47700 ]:  1.117946982383728\n",
            "train_batch_loss[ 47800 ]:  1.1760003566741943\n",
            "train_batch_loss[ 47900 ]:  1.0058151483535767\n",
            "train_batch_loss[ 48000 ]:  1.1451495885849\n",
            "train_batch_loss[ 48100 ]:  1.1840558052062988\n",
            "train_batch_loss[ 48200 ]:  0.8422756195068359\n",
            "train_batch_loss[ 48300 ]:  0.8013960123062134\n",
            "train_batch_loss[ 48400 ]:  0.9278427958488464\n"
          ],
          "name": "stdout"
        },
        {
          "output_type": "stream",
          "text": [
            "Evaluate: 100%|██████████| 91/91 [00:00<00:00, 103.02it/s]\n"
          ],
          "name": "stderr"
        },
        {
          "output_type": "stream",
          "text": [
            "valid_evaluation: loss = 1.0292636055781923, acc = 0.7212790792887018\n",
            "save model at  checkpoints/crnn_048466_acc0.7212790792887018.pt\n",
            "EarlyStopping counter: 5 out of 10\n",
            "train_loss:  0.9938393100704963\n",
            "epoch: 23\n",
            "train_batch_loss[ 48500 ]:  0.9487438201904297\n",
            "train_batch_loss[ 48600 ]:  0.9513927102088928\n",
            "train_batch_loss[ 48700 ]:  0.8123912215232849\n",
            "train_batch_loss[ 48800 ]:  0.9828162789344788\n",
            "train_batch_loss[ 48900 ]:  1.094957947731018\n",
            "train_batch_loss[ 49000 ]:  0.9425034523010254\n",
            "train_batch_loss[ 49100 ]:  1.0347124338150024\n",
            "train_batch_loss[ 49200 ]:  0.7849637269973755\n",
            "train_batch_loss[ 49300 ]:  0.9297271966934204\n",
            "train_batch_loss[ 49400 ]:  0.8876821994781494\n",
            "train_batch_loss[ 49500 ]:  1.0429677963256836\n",
            "train_batch_loss[ 49600 ]:  0.9397739171981812\n",
            "train_batch_loss[ 49700 ]:  1.249132752418518\n",
            "train_batch_loss[ 49800 ]:  1.5286412239074707\n",
            "train_batch_loss[ 49900 ]:  0.8399869799613953\n",
            "train_batch_loss[ 50000 ]:  1.2381391525268555\n",
            "train_batch_loss[ 50100 ]:  0.8596758246421814\n",
            "train_batch_loss[ 50200 ]:  1.1349564790725708\n",
            "train_batch_loss[ 50300 ]:  0.7661117315292358\n",
            "train_batch_loss[ 50400 ]:  1.2591769695281982\n",
            "train_batch_loss[ 50500 ]:  0.6333725452423096\n",
            "train_batch_loss[ 50600 ]:  1.3863557577133179\n"
          ],
          "name": "stdout"
        },
        {
          "output_type": "stream",
          "text": [
            "Evaluate: 100%|██████████| 91/91 [00:00<00:00, 100.89it/s]\n"
          ],
          "name": "stderr"
        },
        {
          "output_type": "stream",
          "text": [
            "valid_evaluation: loss = 1.0726335821480586, acc = 0.7134152719563889\n",
            "save model at  checkpoints/crnn_050669_acc0.7134152719563889.pt\n",
            "EarlyStopping counter: 6 out of 10\n",
            "train_loss:  0.9752522715342135\n",
            "epoch: 24\n",
            "train_batch_loss[ 50700 ]:  1.1222206354141235\n",
            "train_batch_loss[ 50800 ]:  0.9458494186401367\n",
            "train_batch_loss[ 50900 ]:  0.9626956582069397\n",
            "train_batch_loss[ 51000 ]:  0.6471889615058899\n",
            "train_batch_loss[ 51100 ]:  0.9987664222717285\n",
            "train_batch_loss[ 51200 ]:  1.0427849292755127\n",
            "train_batch_loss[ 51300 ]:  0.9093237519264221\n",
            "train_batch_loss[ 51400 ]:  1.1066770553588867\n",
            "train_batch_loss[ 51500 ]:  0.709827721118927\n",
            "train_batch_loss[ 51600 ]:  1.1390222311019897\n",
            "train_batch_loss[ 51700 ]:  1.2852838039398193\n",
            "train_batch_loss[ 51800 ]:  0.944482684135437\n",
            "train_batch_loss[ 51900 ]:  0.8795149922370911\n",
            "train_batch_loss[ 52000 ]:  1.0910981893539429\n",
            "train_batch_loss[ 52100 ]:  1.2547134160995483\n",
            "train_batch_loss[ 52200 ]:  1.0126230716705322\n",
            "train_batch_loss[ 52300 ]:  1.2783563137054443\n",
            "train_batch_loss[ 52400 ]:  1.360656499862671\n",
            "train_batch_loss[ 52500 ]:  1.0155390501022339\n",
            "train_batch_loss[ 52600 ]:  0.8353959918022156\n",
            "train_batch_loss[ 52700 ]:  0.9177768230438232\n",
            "train_batch_loss[ 52800 ]:  1.0758683681488037\n"
          ],
          "name": "stdout"
        },
        {
          "output_type": "stream",
          "text": [
            "Evaluate: 100%|██████████| 91/91 [00:00<00:00, 99.82it/s]\n"
          ],
          "name": "stderr"
        },
        {
          "output_type": "stream",
          "text": [
            "valid_evaluation: loss = 1.0574933739366204, acc = 0.7093466530777698\n",
            "save model at  checkpoints/crnn_052872_acc0.7093466530777698.pt\n",
            "EarlyStopping counter: 7 out of 10\n",
            "train_loss:  0.9601007201442553\n",
            "epoch: 25\n",
            "train_batch_loss[ 52900 ]:  0.9457539916038513\n",
            "train_batch_loss[ 53000 ]:  0.9799768328666687\n",
            "train_batch_loss[ 53100 ]:  0.9992324709892273\n",
            "train_batch_loss[ 53200 ]:  0.9049874544143677\n",
            "train_batch_loss[ 53300 ]:  0.8790131211280823\n",
            "train_batch_loss[ 53400 ]:  0.6336116790771484\n",
            "train_batch_loss[ 53500 ]:  1.2910619974136353\n",
            "train_batch_loss[ 53600 ]:  0.8732020258903503\n",
            "train_batch_loss[ 53700 ]:  1.0003623962402344\n",
            "train_batch_loss[ 53800 ]:  1.2208492755889893\n",
            "train_batch_loss[ 53900 ]:  0.8860512375831604\n",
            "train_batch_loss[ 54000 ]:  0.8004245162010193\n",
            "train_batch_loss[ 54100 ]:  0.8028454780578613\n",
            "train_batch_loss[ 54200 ]:  1.159949541091919\n",
            "train_batch_loss[ 54300 ]:  0.7512072920799255\n",
            "train_batch_loss[ 54400 ]:  0.6153531074523926\n",
            "train_batch_loss[ 54500 ]:  0.7873921394348145\n",
            "train_batch_loss[ 54600 ]:  0.9947484731674194\n",
            "train_batch_loss[ 54700 ]:  0.9505656957626343\n",
            "train_batch_loss[ 54800 ]:  1.5045512914657593\n",
            "train_batch_loss[ 54900 ]:  0.606968879699707\n",
            "train_batch_loss[ 55000 ]:  0.935846209526062\n"
          ],
          "name": "stdout"
        },
        {
          "output_type": "stream",
          "text": [
            "Evaluate: 100%|██████████| 91/91 [00:00<00:00, 102.03it/s]\n"
          ],
          "name": "stderr"
        },
        {
          "output_type": "stream",
          "text": [
            "valid_evaluation: loss = 1.0534208287863895, acc = 0.7058561918362419\n",
            "save model at  checkpoints/crnn_055075_acc0.7058561918362419.pt\n",
            "EarlyStopping counter: 8 out of 10\n",
            "train_loss:  0.9480295579010871\n",
            "epoch: 26\n",
            "train_batch_loss[ 55100 ]:  1.1804687976837158\n",
            "train_batch_loss[ 55200 ]:  0.8248358964920044\n",
            "train_batch_loss[ 55300 ]:  0.8218348622322083\n",
            "train_batch_loss[ 55400 ]:  0.9674143195152283\n",
            "train_batch_loss[ 55500 ]:  1.0246402025222778\n",
            "train_batch_loss[ 55600 ]:  0.8665866255760193\n",
            "train_batch_loss[ 55700 ]:  0.9300298690795898\n",
            "train_batch_loss[ 55800 ]:  1.1243661642074585\n",
            "train_batch_loss[ 55900 ]:  0.7988272309303284\n",
            "train_batch_loss[ 56000 ]:  0.6766672730445862\n",
            "train_batch_loss[ 56100 ]:  0.9655487537384033\n",
            "train_batch_loss[ 56200 ]:  0.8092396855354309\n",
            "train_batch_loss[ 56300 ]:  1.2328002452850342\n",
            "train_batch_loss[ 56400 ]:  1.0631386041641235\n",
            "train_batch_loss[ 56500 ]:  0.9007101058959961\n",
            "train_batch_loss[ 56600 ]:  0.941020131111145\n",
            "train_batch_loss[ 56700 ]:  0.7748632431030273\n",
            "train_batch_loss[ 56800 ]:  0.6462039351463318\n",
            "train_batch_loss[ 56900 ]:  1.0435914993286133\n",
            "train_batch_loss[ 57000 ]:  0.5762869119644165\n",
            "train_batch_loss[ 57100 ]:  0.9142730236053467\n",
            "train_batch_loss[ 57200 ]:  1.2979443073272705\n"
          ],
          "name": "stdout"
        },
        {
          "output_type": "stream",
          "text": [
            "Evaluate: 100%|██████████| 91/91 [00:00<00:00, 102.08it/s]\n"
          ],
          "name": "stderr"
        },
        {
          "output_type": "stream",
          "text": [
            "valid_evaluation: loss = 1.0219704664164575, acc = 0.7108845125286393\n",
            "save model at  checkpoints/crnn_057278_acc0.7108845125286393.pt\n",
            "EarlyStopping counter: 9 out of 10\n",
            "train_loss:  0.9396721641239553\n",
            "epoch: 27\n",
            "train_batch_loss[ 57300 ]:  0.8369930982589722\n",
            "train_batch_loss[ 57400 ]:  0.7234501242637634\n",
            "train_batch_loss[ 57500 ]:  0.7703224420547485\n",
            "train_batch_loss[ 57600 ]:  0.8826093673706055\n",
            "train_batch_loss[ 57700 ]:  0.7782342433929443\n",
            "train_batch_loss[ 57800 ]:  0.7030231356620789\n",
            "train_batch_loss[ 57900 ]:  1.3001680374145508\n",
            "train_batch_loss[ 58000 ]:  0.6704410314559937\n",
            "train_batch_loss[ 58100 ]:  0.9125262498855591\n",
            "train_batch_loss[ 58200 ]:  1.072091817855835\n",
            "train_batch_loss[ 58300 ]:  0.9264514446258545\n",
            "train_batch_loss[ 58400 ]:  1.1098428964614868\n",
            "train_batch_loss[ 58500 ]:  0.8692120909690857\n",
            "train_batch_loss[ 58600 ]:  0.9834409356117249\n",
            "train_batch_loss[ 58700 ]:  0.9652203321456909\n",
            "train_batch_loss[ 58800 ]:  0.8400975465774536\n",
            "train_batch_loss[ 58900 ]:  1.0022108554840088\n",
            "train_batch_loss[ 59000 ]:  0.8657751679420471\n",
            "train_batch_loss[ 59100 ]:  0.8407860398292542\n",
            "train_batch_loss[ 59200 ]:  0.8996108770370483\n",
            "train_batch_loss[ 59300 ]:  0.9769558310508728\n",
            "train_batch_loss[ 59400 ]:  0.6397665143013\n"
          ],
          "name": "stdout"
        },
        {
          "output_type": "stream",
          "text": [
            "Evaluate: 100%|██████████| 91/91 [00:00<00:00, 101.39it/s]\n",
            "Predict:  12%|█▏        | 10/82 [00:00<00:00, 96.26it/s]"
          ],
          "name": "stderr"
        },
        {
          "output_type": "stream",
          "text": [
            "valid_evaluation: loss = 1.0246843019025078, acc = 0.7294383263695158\n",
            "save model at  checkpoints/crnn_059481_acc0.7294383263695158.pt\n",
            "EarlyStopping counter: 10 out of 10\n",
            "train_loss:  0.9202184646809982\n",
            "Early stopping\n"
          ],
          "name": "stdout"
        },
        {
          "output_type": "stream",
          "text": [
            "Predict: 100%|██████████| 82/82 [00:00<00:00, 96.30it/s]\n"
          ],
          "name": "stderr"
        },
        {
          "output_type": "stream",
          "text": [
            "F1 without majority = 0.7566647436660829\n",
            "F1 with majority = 0.8987635756056808\n"
          ],
          "name": "stdout"
        }
      ]
    },
    {
      "cell_type": "code",
      "metadata": {
        "id": "Qh8D-1_xCqRK"
      },
      "source": [
        "!cp -r checkpoints/ '/content/gdrive/My Drive/Music_genre_class/checks/'"
      ],
      "execution_count": null,
      "outputs": []
    },
    {
      "cell_type": "markdown",
      "metadata": {
        "id": "InynayRW_xPY"
      },
      "source": [
        "##  **FINAL RESULTS VISUALIZATION**"
      ]
    },
    {
      "cell_type": "code",
      "metadata": {
        "colab": {
          "base_uri": "https://localhost:8080/"
        },
        "id": "wcBWY2t6HS1y",
        "outputId": "982c1479-acad-4aca-e9f9-75b56b0eb0bc"
      },
      "source": [
        "compute_top2(X_v,Y_v,S_v,crnn)"
      ],
      "execution_count": null,
      "outputs": [
        {
          "output_type": "stream",
          "text": [
            "\n",
            "\n",
            "Predict:   0%|          | 0/82 [00:00<?, ?it/s]\u001b[A\u001b[A\n",
            "\n",
            "Predict:   1%|          | 1/82 [00:00<00:22,  3.62it/s]\u001b[A\u001b[A\n",
            "\n",
            "Predict:   2%|▏         | 2/82 [00:00<00:22,  3.57it/s]\u001b[A\u001b[A\n",
            "\n",
            "Predict:   4%|▎         | 3/82 [00:00<00:22,  3.56it/s]\u001b[A\u001b[A\n",
            "\n",
            "Predict:   5%|▍         | 4/82 [00:01<00:21,  3.56it/s]\u001b[A\u001b[A\n",
            "\n",
            "Predict:   6%|▌         | 5/82 [00:01<00:21,  3.54it/s]\u001b[A\u001b[A\n",
            "\n",
            "Predict:   7%|▋         | 6/82 [00:01<00:21,  3.56it/s]\u001b[A\u001b[A\n",
            "\n",
            "Predict:   9%|▊         | 7/82 [00:01<00:21,  3.52it/s]\u001b[A\u001b[A\n",
            "\n",
            "Predict:  10%|▉         | 8/82 [00:02<00:20,  3.53it/s]\u001b[A\u001b[A\n",
            "\n",
            "Predict:  11%|█         | 9/82 [00:02<00:20,  3.52it/s]\u001b[A\u001b[A\n",
            "\n",
            "Predict:  12%|█▏        | 10/82 [00:02<00:20,  3.51it/s]\u001b[A\u001b[A\n",
            "\n",
            "Predict:  13%|█▎        | 11/82 [00:03<00:20,  3.52it/s]\u001b[A\u001b[A\n",
            "\n",
            "Predict:  15%|█▍        | 12/82 [00:03<00:19,  3.58it/s]\u001b[A\u001b[A\n",
            "\n",
            "Predict:  16%|█▌        | 13/82 [00:03<00:19,  3.55it/s]\u001b[A\u001b[A\n",
            "\n",
            "Predict:  17%|█▋        | 14/82 [00:03<00:19,  3.55it/s]\u001b[A\u001b[A\n",
            "\n",
            "Predict:  18%|█▊        | 15/82 [00:04<00:18,  3.59it/s]\u001b[A\u001b[A\n",
            "\n",
            "Predict:  20%|█▉        | 16/82 [00:04<00:18,  3.52it/s]\u001b[A\u001b[A\n",
            "\n",
            "Predict:  21%|██        | 17/82 [00:04<00:18,  3.51it/s]\u001b[A\u001b[A\n",
            "\n",
            "Predict:  22%|██▏       | 18/82 [00:05<00:18,  3.51it/s]\u001b[A\u001b[A\n",
            "\n",
            "Predict:  23%|██▎       | 19/82 [00:05<00:17,  3.51it/s]\u001b[A\u001b[A\n",
            "\n",
            "Predict:  24%|██▍       | 20/82 [00:05<00:17,  3.52it/s]\u001b[A\u001b[A\n",
            "\n",
            "Predict:  26%|██▌       | 21/82 [00:05<00:17,  3.52it/s]\u001b[A\u001b[A\n",
            "\n",
            "Predict:  27%|██▋       | 22/82 [00:06<00:17,  3.52it/s]\u001b[A\u001b[A\n",
            "\n",
            "Predict:  28%|██▊       | 23/82 [00:06<00:16,  3.51it/s]\u001b[A\u001b[A\n",
            "\n",
            "Predict:  29%|██▉       | 24/82 [00:06<00:16,  3.53it/s]\u001b[A\u001b[A\n",
            "\n",
            "Predict:  30%|███       | 25/82 [00:07<00:16,  3.55it/s]\u001b[A\u001b[A\n",
            "\n",
            "Predict:  32%|███▏      | 26/82 [00:07<00:15,  3.55it/s]\u001b[A\u001b[A\n",
            "\n",
            "Predict:  33%|███▎      | 27/82 [00:07<00:15,  3.51it/s]\u001b[A\u001b[A\n",
            "\n",
            "Predict:  34%|███▍      | 28/82 [00:07<00:15,  3.51it/s]\u001b[A\u001b[A\n",
            "\n",
            "Predict:  35%|███▌      | 29/82 [00:08<00:15,  3.43it/s]\u001b[A\u001b[A\n",
            "\n",
            "Predict:  37%|███▋      | 30/82 [00:08<00:15,  3.43it/s]\u001b[A\u001b[A\n",
            "\n",
            "Predict:  38%|███▊      | 31/82 [00:08<00:14,  3.43it/s]\u001b[A\u001b[A\n",
            "\n",
            "Predict:  39%|███▉      | 32/82 [00:09<00:14,  3.45it/s]\u001b[A\u001b[A\n",
            "\n",
            "Predict:  40%|████      | 33/82 [00:09<00:14,  3.46it/s]\u001b[A\u001b[A\n",
            "\n",
            "Predict:  41%|████▏     | 34/82 [00:09<00:13,  3.45it/s]\u001b[A\u001b[A\n",
            "\n",
            "Predict:  43%|████▎     | 35/82 [00:09<00:13,  3.49it/s]\u001b[A\u001b[A\n",
            "\n",
            "Predict:  44%|████▍     | 36/82 [00:10<00:13,  3.52it/s]\u001b[A\u001b[A\n",
            "\n",
            "Predict:  45%|████▌     | 37/82 [00:10<00:12,  3.52it/s]\u001b[A\u001b[A\n",
            "\n",
            "Predict:  46%|████▋     | 38/82 [00:10<00:12,  3.56it/s]\u001b[A\u001b[A\n",
            "\n",
            "Predict:  48%|████▊     | 39/82 [00:11<00:12,  3.58it/s]\u001b[A\u001b[A\n",
            "\n",
            "Predict:  49%|████▉     | 40/82 [00:11<00:11,  3.59it/s]\u001b[A\u001b[A\n",
            "\n",
            "Predict:  50%|█████     | 41/82 [00:11<00:11,  3.54it/s]\u001b[A\u001b[A\n",
            "\n",
            "Predict:  51%|█████     | 42/82 [00:11<00:11,  3.48it/s]\u001b[A\u001b[A\n",
            "\n",
            "Predict:  52%|█████▏    | 43/82 [00:12<00:11,  3.51it/s]\u001b[A\u001b[A\n",
            "\n",
            "Predict:  54%|█████▎    | 44/82 [00:12<00:10,  3.53it/s]\u001b[A\u001b[A\n",
            "\n",
            "Predict:  55%|█████▍    | 45/82 [00:12<00:10,  3.52it/s]\u001b[A\u001b[A\n",
            "\n",
            "Predict:  56%|█████▌    | 46/82 [00:13<00:10,  3.45it/s]\u001b[A\u001b[A\n",
            "\n",
            "Predict:  57%|█████▋    | 47/82 [00:13<00:10,  3.49it/s]\u001b[A\u001b[A\n",
            "\n",
            "Predict:  59%|█████▊    | 48/82 [00:13<00:09,  3.51it/s]\u001b[A\u001b[A\n",
            "\n",
            "Predict:  60%|█████▉    | 49/82 [00:13<00:09,  3.55it/s]\u001b[A\u001b[A\n",
            "\n",
            "Predict:  61%|██████    | 50/82 [00:14<00:08,  3.59it/s]\u001b[A\u001b[A\n",
            "\n",
            "Predict:  62%|██████▏   | 51/82 [00:14<00:08,  3.60it/s]\u001b[A\u001b[A\n",
            "\n",
            "Predict:  63%|██████▎   | 52/82 [00:14<00:08,  3.56it/s]\u001b[A\u001b[A\n",
            "\n",
            "Predict:  65%|██████▍   | 53/82 [00:15<00:08,  3.53it/s]\u001b[A\u001b[A\n",
            "\n",
            "Predict:  66%|██████▌   | 54/82 [00:15<00:07,  3.50it/s]\u001b[A\u001b[A\n",
            "\n",
            "Predict:  67%|██████▋   | 55/82 [00:15<00:07,  3.54it/s]\u001b[A\u001b[A\n",
            "\n",
            "Predict:  68%|██████▊   | 56/82 [00:15<00:07,  3.53it/s]\u001b[A\u001b[A\n",
            "\n",
            "Predict:  70%|██████▉   | 57/82 [00:16<00:07,  3.52it/s]\u001b[A\u001b[A\n",
            "\n",
            "Predict:  71%|███████   | 58/82 [00:16<00:06,  3.52it/s]\u001b[A\u001b[A\n",
            "\n",
            "Predict:  72%|███████▏  | 59/82 [00:16<00:06,  3.52it/s]\u001b[A\u001b[A\n",
            "\n",
            "Predict:  73%|███████▎  | 60/82 [00:17<00:06,  3.55it/s]\u001b[A\u001b[A\n",
            "\n",
            "Predict:  74%|███████▍  | 61/82 [00:17<00:05,  3.52it/s]\u001b[A\u001b[A\n",
            "\n",
            "Predict:  76%|███████▌  | 62/82 [00:17<00:05,  3.56it/s]\u001b[A\u001b[A\n",
            "\n",
            "Predict:  77%|███████▋  | 63/82 [00:17<00:05,  3.58it/s]\u001b[A\u001b[A\n",
            "\n",
            "Predict:  78%|███████▊  | 64/82 [00:18<00:04,  3.63it/s]\u001b[A\u001b[A\n",
            "\n",
            "Predict:  79%|███████▉  | 65/82 [00:18<00:04,  3.63it/s]\u001b[A\u001b[A\n",
            "\n",
            "Predict:  80%|████████  | 66/82 [00:18<00:04,  3.53it/s]\u001b[A\u001b[A\n",
            "\n",
            "Predict:  82%|████████▏ | 67/82 [00:18<00:04,  3.57it/s]\u001b[A\u001b[A\n",
            "\n",
            "Predict:  83%|████████▎ | 68/82 [00:19<00:03,  3.62it/s]\u001b[A\u001b[A\n",
            "\n",
            "Predict:  84%|████████▍ | 69/82 [00:19<00:03,  3.63it/s]\u001b[A\u001b[A\n",
            "\n",
            "Predict:  85%|████████▌ | 70/82 [00:19<00:03,  3.59it/s]\u001b[A\u001b[A\n",
            "\n",
            "Predict:  87%|████████▋ | 71/82 [00:20<00:03,  3.59it/s]\u001b[A\u001b[A\n",
            "\n",
            "Predict:  88%|████████▊ | 72/82 [00:20<00:02,  3.55it/s]\u001b[A\u001b[A\n",
            "\n",
            "Predict:  89%|████████▉ | 73/82 [00:20<00:02,  3.58it/s]\u001b[A\u001b[A\n",
            "\n",
            "Predict:  90%|█████████ | 74/82 [00:20<00:02,  3.63it/s]\u001b[A\u001b[A\n",
            "\n",
            "Predict:  91%|█████████▏| 75/82 [00:21<00:01,  3.60it/s]\u001b[A\u001b[A\n",
            "\n",
            "Predict:  93%|█████████▎| 76/82 [00:21<00:01,  3.61it/s]\u001b[A\u001b[A\n",
            "\n",
            "Predict:  94%|█████████▍| 77/82 [00:21<00:01,  3.55it/s]\u001b[A\u001b[A\n",
            "\n",
            "Predict:  95%|█████████▌| 78/82 [00:22<00:01,  3.55it/s]\u001b[A\u001b[A\n",
            "\n",
            "Predict:  96%|█████████▋| 79/82 [00:22<00:00,  3.55it/s]\u001b[A\u001b[A\n",
            "\n",
            "Predict:  98%|█████████▊| 80/82 [00:22<00:00,  3.56it/s]\u001b[A\u001b[A\n",
            "\n",
            "Predict:  99%|█████████▉| 81/82 [00:22<00:00,  3.61it/s]\u001b[A\u001b[A\n",
            "\n",
            "Predict: 100%|██████████| 82/82 [00:23<00:00,  3.56it/s]\n"
          ],
          "name": "stderr"
        },
        {
          "output_type": "execute_result",
          "data": {
            "text/plain": [
              "0.9562208216619981"
            ]
          },
          "metadata": {
            "tags": []
          },
          "execution_count": 51
        }
      ]
    },
    {
      "cell_type": "code",
      "metadata": {
        "colab": {
          "base_uri": "https://localhost:8080/"
        },
        "id": "Fd4NDca0Kx23",
        "outputId": "6723fc36-0a0f-44dd-fbd4-4a506a20d044"
      },
      "source": [
        "compute_top3(X_v,Y_v,S_v,crnn)"
      ],
      "execution_count": null,
      "outputs": [
        {
          "output_type": "stream",
          "text": [
            "\n",
            "\n",
            "Predict:   0%|          | 0/82 [00:00<?, ?it/s]\u001b[A\u001b[A\n",
            "\n",
            "Predict:   1%|          | 1/82 [00:00<00:22,  3.58it/s]\u001b[A\u001b[A\n",
            "\n",
            "Predict:   2%|▏         | 2/82 [00:00<00:22,  3.55it/s]\u001b[A\u001b[A\n",
            "\n",
            "Predict:   4%|▎         | 3/82 [00:00<00:22,  3.57it/s]\u001b[A\u001b[A\n",
            "\n",
            "Predict:   5%|▍         | 4/82 [00:01<00:21,  3.61it/s]\u001b[A\u001b[A\n",
            "\n",
            "Predict:   6%|▌         | 5/82 [00:01<00:21,  3.58it/s]\u001b[A\u001b[A\n",
            "\n",
            "Predict:   7%|▋         | 6/82 [00:01<00:21,  3.57it/s]\u001b[A\u001b[A\n",
            "\n",
            "Predict:   9%|▊         | 7/82 [00:01<00:21,  3.54it/s]\u001b[A\u001b[A\n",
            "\n",
            "Predict:  10%|▉         | 8/82 [00:02<00:21,  3.50it/s]\u001b[A\u001b[A\n",
            "\n",
            "Predict:  11%|█         | 9/82 [00:02<00:20,  3.50it/s]\u001b[A\u001b[A\n",
            "\n",
            "Predict:  12%|█▏        | 10/82 [00:02<00:20,  3.51it/s]\u001b[A\u001b[A\n",
            "\n",
            "Predict:  13%|█▎        | 11/82 [00:03<00:20,  3.52it/s]\u001b[A\u001b[A\n",
            "\n",
            "Predict:  15%|█▍        | 12/82 [00:03<00:19,  3.57it/s]\u001b[A\u001b[A\n",
            "\n",
            "Predict:  16%|█▌        | 13/82 [00:03<00:19,  3.55it/s]\u001b[A\u001b[A\n",
            "\n",
            "Predict:  17%|█▋        | 14/82 [00:03<00:19,  3.53it/s]\u001b[A\u001b[A\n",
            "\n",
            "Predict:  18%|█▊        | 15/82 [00:04<00:18,  3.57it/s]\u001b[A\u001b[A\n",
            "\n",
            "Predict:  20%|█▉        | 16/82 [00:04<00:18,  3.59it/s]\u001b[A\u001b[A\n",
            "\n",
            "Predict:  21%|██        | 17/82 [00:04<00:18,  3.53it/s]\u001b[A\u001b[A\n",
            "\n",
            "Predict:  22%|██▏       | 18/82 [00:05<00:18,  3.55it/s]\u001b[A\u001b[A\n",
            "\n",
            "Predict:  23%|██▎       | 19/82 [00:05<00:17,  3.54it/s]\u001b[A\u001b[A\n",
            "\n",
            "Predict:  24%|██▍       | 20/82 [00:05<00:17,  3.56it/s]\u001b[A\u001b[A\n",
            "\n",
            "Predict:  26%|██▌       | 21/82 [00:05<00:17,  3.49it/s]\u001b[A\u001b[A\n",
            "\n",
            "Predict:  27%|██▋       | 22/82 [00:06<00:17,  3.52it/s]\u001b[A\u001b[A\n",
            "\n",
            "Predict:  28%|██▊       | 23/82 [00:06<00:16,  3.48it/s]\u001b[A\u001b[A\n",
            "\n",
            "Predict:  29%|██▉       | 24/82 [00:06<00:16,  3.51it/s]\u001b[A\u001b[A\n",
            "\n",
            "Predict:  30%|███       | 25/82 [00:07<00:16,  3.55it/s]\u001b[A\u001b[A\n",
            "\n",
            "Predict:  32%|███▏      | 26/82 [00:07<00:15,  3.58it/s]\u001b[A\u001b[A\n",
            "\n",
            "Predict:  33%|███▎      | 27/82 [00:07<00:15,  3.58it/s]\u001b[A\u001b[A\n",
            "\n",
            "Predict:  34%|███▍      | 28/82 [00:07<00:15,  3.53it/s]\u001b[A\u001b[A\n",
            "\n",
            "Predict:  35%|███▌      | 29/82 [00:08<00:15,  3.53it/s]\u001b[A\u001b[A\n",
            "\n",
            "Predict:  37%|███▋      | 30/82 [00:08<00:14,  3.54it/s]\u001b[A\u001b[A\n",
            "\n",
            "Predict:  38%|███▊      | 31/82 [00:08<00:14,  3.52it/s]\u001b[A\u001b[A\n",
            "\n",
            "Predict:  39%|███▉      | 32/82 [00:09<00:14,  3.49it/s]\u001b[A\u001b[A\n",
            "\n",
            "Predict:  40%|████      | 33/82 [00:09<00:14,  3.50it/s]\u001b[A\u001b[A\n",
            "\n",
            "Predict:  41%|████▏     | 34/82 [00:09<00:13,  3.51it/s]\u001b[A\u001b[A\n",
            "\n",
            "Predict:  43%|████▎     | 35/82 [00:09<00:13,  3.59it/s]\u001b[A\u001b[A\n",
            "\n",
            "Predict:  44%|████▍     | 36/82 [00:10<00:12,  3.61it/s]\u001b[A\u001b[A\n",
            "\n",
            "Predict:  45%|████▌     | 37/82 [00:10<00:12,  3.59it/s]\u001b[A\u001b[A\n",
            "\n",
            "Predict:  46%|████▋     | 38/82 [00:10<00:12,  3.64it/s]\u001b[A\u001b[A\n",
            "\n",
            "Predict:  48%|████▊     | 39/82 [00:10<00:11,  3.63it/s]\u001b[A\u001b[A\n",
            "\n",
            "Predict:  49%|████▉     | 40/82 [00:11<00:11,  3.63it/s]\u001b[A\u001b[A\n",
            "\n",
            "Predict:  50%|█████     | 41/82 [00:11<00:11,  3.61it/s]\u001b[A\u001b[A\n",
            "\n",
            "Predict:  51%|█████     | 42/82 [00:11<00:11,  3.60it/s]\u001b[A\u001b[A\n",
            "\n",
            "Predict:  52%|█████▏    | 43/82 [00:12<00:10,  3.57it/s]\u001b[A\u001b[A\n",
            "\n",
            "Predict:  54%|█████▎    | 44/82 [00:12<00:10,  3.60it/s]\u001b[A\u001b[A\n",
            "\n",
            "Predict:  55%|█████▍    | 45/82 [00:12<00:10,  3.59it/s]\u001b[A\u001b[A\n",
            "\n",
            "Predict:  56%|█████▌    | 46/82 [00:12<00:10,  3.59it/s]\u001b[A\u001b[A\n",
            "\n",
            "Predict:  57%|█████▋    | 47/82 [00:13<00:09,  3.60it/s]\u001b[A\u001b[A\n",
            "\n",
            "Predict:  59%|█████▊    | 48/82 [00:13<00:09,  3.59it/s]\u001b[A\u001b[A\n",
            "\n",
            "Predict:  60%|█████▉    | 49/82 [00:13<00:09,  3.58it/s]\u001b[A\u001b[A\n",
            "\n",
            "Predict:  61%|██████    | 50/82 [00:14<00:08,  3.66it/s]\u001b[A\u001b[A\n",
            "\n",
            "Predict:  62%|██████▏   | 51/82 [00:14<00:08,  3.61it/s]\u001b[A\u001b[A\n",
            "\n",
            "Predict:  63%|██████▎   | 52/82 [00:14<00:08,  3.59it/s]\u001b[A\u001b[A\n",
            "\n",
            "Predict:  65%|██████▍   | 53/82 [00:14<00:08,  3.62it/s]\u001b[A\u001b[A\n",
            "\n",
            "Predict:  66%|██████▌   | 54/82 [00:15<00:07,  3.58it/s]\u001b[A\u001b[A\n",
            "\n",
            "Predict:  67%|██████▋   | 55/82 [00:15<00:07,  3.58it/s]\u001b[A\u001b[A\n",
            "\n",
            "Predict:  68%|██████▊   | 56/82 [00:15<00:07,  3.57it/s]\u001b[A\u001b[A\n",
            "\n",
            "Predict:  70%|██████▉   | 57/82 [00:16<00:07,  3.57it/s]\u001b[A\u001b[A\n",
            "\n",
            "Predict:  71%|███████   | 58/82 [00:16<00:06,  3.63it/s]\u001b[A\u001b[A\n",
            "\n",
            "Predict:  72%|███████▏  | 59/82 [00:16<00:06,  3.52it/s]\u001b[A\u001b[A\n",
            "\n",
            "Predict:  73%|███████▎  | 60/82 [00:16<00:06,  3.54it/s]\u001b[A\u001b[A\n",
            "\n",
            "Predict:  74%|███████▍  | 61/82 [00:17<00:05,  3.51it/s]\u001b[A\u001b[A\n",
            "\n",
            "Predict:  76%|███████▌  | 62/82 [00:17<00:05,  3.53it/s]\u001b[A\u001b[A\n",
            "\n",
            "Predict:  77%|███████▋  | 63/82 [00:17<00:05,  3.54it/s]\u001b[A\u001b[A\n",
            "\n",
            "Predict:  78%|███████▊  | 64/82 [00:17<00:04,  3.61it/s]\u001b[A\u001b[A\n",
            "\n",
            "Predict:  79%|███████▉  | 65/82 [00:18<00:04,  3.62it/s]\u001b[A\u001b[A\n",
            "\n",
            "Predict:  80%|████████  | 66/82 [00:18<00:04,  3.59it/s]\u001b[A\u001b[A\n",
            "\n",
            "Predict:  82%|████████▏ | 67/82 [00:18<00:04,  3.63it/s]\u001b[A\u001b[A\n",
            "\n",
            "Predict:  83%|████████▎ | 68/82 [00:19<00:03,  3.64it/s]\u001b[A\u001b[A\n",
            "\n",
            "Predict:  84%|████████▍ | 69/82 [00:19<00:03,  3.66it/s]\u001b[A\u001b[A\n",
            "\n",
            "Predict:  85%|████████▌ | 70/82 [00:19<00:03,  3.59it/s]\u001b[A\u001b[A\n",
            "\n",
            "Predict:  87%|████████▋ | 71/82 [00:19<00:03,  3.62it/s]\u001b[A\u001b[A\n",
            "\n",
            "Predict:  88%|████████▊ | 72/82 [00:20<00:02,  3.58it/s]\u001b[A\u001b[A\n",
            "\n",
            "Predict:  89%|████████▉ | 73/82 [00:20<00:02,  3.56it/s]\u001b[A\u001b[A\n",
            "\n",
            "Predict:  90%|█████████ | 74/82 [00:20<00:02,  3.59it/s]\u001b[A\u001b[A\n",
            "\n",
            "Predict:  91%|█████████▏| 75/82 [00:21<00:01,  3.60it/s]\u001b[A\u001b[A\n",
            "\n",
            "Predict:  93%|█████████▎| 76/82 [00:21<00:01,  3.61it/s]\u001b[A\u001b[A\n",
            "\n",
            "Predict:  94%|█████████▍| 77/82 [00:21<00:01,  3.63it/s]\u001b[A\u001b[A\n",
            "\n",
            "Predict:  95%|█████████▌| 78/82 [00:21<00:01,  3.60it/s]\u001b[A\u001b[A\n",
            "\n",
            "Predict:  96%|█████████▋| 79/82 [00:22<00:00,  3.54it/s]\u001b[A\u001b[A\n",
            "\n",
            "Predict:  98%|█████████▊| 80/82 [00:22<00:00,  3.56it/s]\u001b[A\u001b[A\n",
            "\n",
            "Predict:  99%|█████████▉| 81/82 [00:22<00:00,  3.58it/s]\u001b[A\u001b[A\n",
            "\n",
            "Predict: 100%|██████████| 82/82 [00:22<00:00,  3.59it/s]\n"
          ],
          "name": "stderr"
        },
        {
          "output_type": "execute_result",
          "data": {
            "text/plain": [
              "0.9888544891640866"
            ]
          },
          "metadata": {
            "tags": []
          },
          "execution_count": 50
        }
      ]
    },
    {
      "cell_type": "code",
      "metadata": {
        "colab": {
          "base_uri": "https://localhost:8080/",
          "height": 513
        },
        "id": "YJ3BukCLfaW7",
        "outputId": "c5baae59-9ca2-470e-c663-e7761c7d2fd8"
      },
      "source": [
        "create_spectrogram_plots(X_v, Y_v, encoder = le)"
      ],
      "execution_count": null,
      "outputs": [
        {
          "output_type": "display_data",
          "data": {
            "image/png": "[encoded data removed]",
            "text/plain": [
              "<Figure size 792x504 with 10 Axes>"
            ]
          },
          "metadata": {
            "tags": []
          }
        }
      ]
    },
    {
      "cell_type": "code",
      "metadata": {
        "colab": {
          "base_uri": "https://localhost:8080/",
          "height": 441
        },
        "id": "E6w7jHjKj8On",
        "outputId": "3513c592-f452-4394-a314-a2dd0ae4ecb6"
      },
      "source": [
        "cm = confusion_matrix(targets, preds)\n",
        "plot_confusion_matrix(cm,le.classes_,title='Confusion matrix')"
      ],
      "execution_count": null,
      "outputs": [
        {
          "output_type": "display_data",
          "data": {
            "image/png": "[encoded data removed]",
            "text/plain": [
              "<Figure size 576x432 with 2 Axes>"
            ]
          },
          "metadata": {
            "tags": [],
            "needs_background": "light"
          }
        }
      ]
    },
    {
      "cell_type": "markdown",
      "metadata": {
        "id": "UDvlGDYa_8Yw"
      },
      "source": [
        "## **ALGORITHM APPLICATION FOR REAL CASE SCENARIOS**"
      ]
    },
    {
      "cell_type": "code",
      "metadata": {
        "colab": {
          "base_uri": "https://localhost:8080/"
        },
        "id": "kEeGI8zdXBBG",
        "outputId": "2166a936-1af4-43f1-f9c8-f19e22a18215"
      },
      "source": [
        "predict_yt('https://www.youtube.com/watch?v=Obim8BYGnOE', network = crnn, encoder = le, slice_len=32)"
      ],
      "execution_count": null,
      "outputs": [
        {
          "output_type": "stream",
          "text": [
            "/usr/local/lib/python3.7/dist-packages/librosa/core/audio.py:165: UserWarning: PySoundFile failed. Trying audioread instead.\n",
            "  warnings.warn(\"PySoundFile failed. Trying audioread instead.\")\n"
          ],
          "name": "stderr"
        },
        {
          "output_type": "stream",
          "text": [
            "The genre of the song \"Till I Collapse\" is: hiphop.\n"
          ],
          "name": "stdout"
        }
      ]
    },
    {
      "cell_type": "code",
      "metadata": {
        "colab": {
          "base_uri": "https://localhost:8080/"
        },
        "id": "XC37qJ5IqoiN",
        "outputId": "1d7554cd-cafd-4716-f453-6baa6bce06ec"
      },
      "source": [
        "predict_yt('https://www.youtube.com/watch?v=zVim3go8kso', network = crnn, encoder = le, slice_len=32)"
      ],
      "execution_count": null,
      "outputs": [
        {
          "output_type": "stream",
          "text": [
            "/usr/local/lib/python3.7/dist-packages/librosa/core/audio.py:165: UserWarning: PySoundFile failed. Trying audioread instead.\n",
            "  warnings.warn(\"PySoundFile failed. Trying audioread instead.\")\n"
          ],
          "name": "stderr"
        },
        {
          "output_type": "stream",
          "text": [
            "The genre of the song \"Mellow Mood - Dance Inna Babylon (Official Video)\" is: reggae.\n"
          ],
          "name": "stdout"
        }
      ]
    }
  ]
}